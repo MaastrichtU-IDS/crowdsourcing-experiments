{
 "cells": [
  {
   "cell_type": "markdown",
   "metadata": {},
   "source": [
    "## Gold Standard Datasets "
   ]
  },
  {
   "cell_type": "code",
   "execution_count": 1,
   "metadata": {},
   "outputs": [],
   "source": [
    "import pandas as pd\n",
    "from pycm import *"
   ]
  },
  {
   "cell_type": "code",
   "execution_count": 2,
   "metadata": {},
   "outputs": [],
   "source": [
    "datasets = !ls ../datasets"
   ]
  },
  {
   "cell_type": "code",
   "execution_count": 3,
   "metadata": {},
   "outputs": [
    {
     "data": {
      "text/plain": [
       "['10DBpedia_interlinking_GS.csv',\n",
       " '10DBpedia_interlinking_MTurk.csv',\n",
       " '11DBpedia_objects_GS.csv',\n",
       " '11DBpedia_objects_MTurk.csv',\n",
       " '1Fashion_GS.csv',\n",
       " '2SentimentPopularity_GS.csv',\n",
       " '3WeatherSentiment_amt_GS.csv',\n",
       " '4QueryDocRelevance_GS.csv',\n",
       " '5Wiki-gender-image-categorization-DFE_GS.csv',\n",
       " '6claritin_october_twitter_side_effects-1_GS.csv',\n",
       " '7Company-Categorization-DFE_GS.csv',\n",
       " '8Hate-speech-identification_GS.csv',\n",
       " '9DBpedia_datatypes_GS.csv',\n",
       " '9DBpedia_datatypes_MTurk.csv',\n",
       " 'datatypes.xlsx',\n",
       " 'journal_GT_datatypes.xlsx']"
      ]
     },
     "execution_count": 3,
     "metadata": {},
     "output_type": "execute_result"
    }
   ],
   "source": [
    "datasets"
   ]
  },
  {
   "cell_type": "markdown",
   "metadata": {},
   "source": [
    "## Fashion 10000: An Enriched Social Image Dataset for Fashion and Clothing"
   ]
  },
  {
   "cell_type": "code",
   "execution_count": 4,
   "metadata": {},
   "outputs": [],
   "source": [
    "#pd.read_csv(datasets[3])\n",
    "Fashion_GS = pd.read_csv('../datasets/1Fashion_GS.csv', encoding='Latin-1')"
   ]
  },
  {
   "cell_type": "code",
   "execution_count": 5,
   "metadata": {},
   "outputs": [],
   "source": [
    "Fashion_GS = Fashion_GS[~Fashion_GS.isnull()]"
   ]
  },
  {
   "cell_type": "code",
   "execution_count": 6,
   "metadata": {},
   "outputs": [
    {
     "data": {
      "text/html": [
       "<div>\n",
       "<style scoped>\n",
       "    .dataframe tbody tr th:only-of-type {\n",
       "        vertical-align: middle;\n",
       "    }\n",
       "\n",
       "    .dataframe tbody tr th {\n",
       "        vertical-align: top;\n",
       "    }\n",
       "\n",
       "    .dataframe thead th {\n",
       "        text-align: right;\n",
       "    }\n",
       "</style>\n",
       "<table border=\"1\" class=\"dataframe\">\n",
       "  <thead>\n",
       "    <tr style=\"text-align: right;\">\n",
       "      <th></th>\n",
       "      <th>HITId</th>\n",
       "      <th>AssignmentId</th>\n",
       "      <th>WorkerIndex</th>\n",
       "      <th>AssignmentStatus</th>\n",
       "      <th>LifetimeApprovalRate</th>\n",
       "      <th>Input.Category</th>\n",
       "      <th>Answer.ID</th>\n",
       "      <th>Answer.numpeople1</th>\n",
       "      <th>Answer.prof1</th>\n",
       "      <th>Answer.related1</th>\n",
       "    </tr>\n",
       "  </thead>\n",
       "  <tbody>\n",
       "    <tr>\n",
       "      <th>0</th>\n",
       "      <td>2BUF806UFBNFSU6QHDU9BSW83V41F0</td>\n",
       "      <td>2NUAC9KSSZVXX1G01SLKWOYKLOSK2V</td>\n",
       "      <td>1</td>\n",
       "      <td>Approved</td>\n",
       "      <td>94% (100/106)</td>\n",
       "      <td>Surtout</td>\n",
       "      <td>3362</td>\n",
       "      <td>nopeople</td>\n",
       "      <td>no</td>\n",
       "      <td>No</td>\n",
       "    </tr>\n",
       "    <tr>\n",
       "      <th>1</th>\n",
       "      <td>2BUF806UFBNFSU6QHDU9BSW83V41F0</td>\n",
       "      <td>2TS11K274J79KPM2X6E4CUXJAJMDFH</td>\n",
       "      <td>2</td>\n",
       "      <td>Approved</td>\n",
       "      <td>100% (48/48)</td>\n",
       "      <td>Surtout</td>\n",
       "      <td>3362</td>\n",
       "      <td>nopeople</td>\n",
       "      <td>notapp</td>\n",
       "      <td>No</td>\n",
       "    </tr>\n",
       "    <tr>\n",
       "      <th>2</th>\n",
       "      <td>2BUF806UFBNFSU6QHDU9BSW83V41F0</td>\n",
       "      <td>2YM3K4F0OHOVR0UETIF2R92LCIR128</td>\n",
       "      <td>3</td>\n",
       "      <td>Approved</td>\n",
       "      <td>71% (5/7)</td>\n",
       "      <td>Surtout</td>\n",
       "      <td>3362</td>\n",
       "      <td>nopeople</td>\n",
       "      <td>no</td>\n",
       "      <td>No</td>\n",
       "    </tr>\n",
       "    <tr>\n",
       "      <th>3</th>\n",
       "      <td>2I3Y58B727M0IF5GDBS64FSXVJZAVM</td>\n",
       "      <td>2PKVGULF395SW5DCXDJ3TYNN94SPBK</td>\n",
       "      <td>1</td>\n",
       "      <td>Approved</td>\n",
       "      <td>94% (100/106)</td>\n",
       "      <td>Morning coat</td>\n",
       "      <td>2274</td>\n",
       "      <td>nopeople</td>\n",
       "      <td>no</td>\n",
       "      <td>No</td>\n",
       "    </tr>\n",
       "    <tr>\n",
       "      <th>4</th>\n",
       "      <td>2I3Y58B727M0IF5GDBS64FSXVJZAVM</td>\n",
       "      <td>2S0IUB2YU98JHRJH71C0LBJDGTAL9S</td>\n",
       "      <td>4</td>\n",
       "      <td>Approved</td>\n",
       "      <td>98% (47/48)</td>\n",
       "      <td>Morning coat</td>\n",
       "      <td>2274</td>\n",
       "      <td>nopeople</td>\n",
       "      <td>notapp</td>\n",
       "      <td>No</td>\n",
       "    </tr>\n",
       "  </tbody>\n",
       "</table>\n",
       "</div>"
      ],
      "text/plain": [
       "                            HITId                    AssignmentId  \\\n",
       "0  2BUF806UFBNFSU6QHDU9BSW83V41F0  2NUAC9KSSZVXX1G01SLKWOYKLOSK2V   \n",
       "1  2BUF806UFBNFSU6QHDU9BSW83V41F0  2TS11K274J79KPM2X6E4CUXJAJMDFH   \n",
       "2  2BUF806UFBNFSU6QHDU9BSW83V41F0  2YM3K4F0OHOVR0UETIF2R92LCIR128   \n",
       "3  2I3Y58B727M0IF5GDBS64FSXVJZAVM  2PKVGULF395SW5DCXDJ3TYNN94SPBK   \n",
       "4  2I3Y58B727M0IF5GDBS64FSXVJZAVM  2S0IUB2YU98JHRJH71C0LBJDGTAL9S   \n",
       "\n",
       "   WorkerIndex AssignmentStatus LifetimeApprovalRate Input.Category  \\\n",
       "0            1         Approved        94% (100/106)        Surtout   \n",
       "1            2         Approved         100% (48/48)        Surtout   \n",
       "2            3         Approved            71% (5/7)        Surtout   \n",
       "3            1         Approved        94% (100/106)   Morning coat   \n",
       "4            4         Approved          98% (47/48)   Morning coat   \n",
       "\n",
       "   Answer.ID Answer.numpeople1 Answer.prof1 Answer.related1  \n",
       "0       3362          nopeople           no              No  \n",
       "1       3362          nopeople       notapp              No  \n",
       "2       3362          nopeople           no              No  \n",
       "3       2274          nopeople           no              No  \n",
       "4       2274          nopeople       notapp              No  "
      ]
     },
     "execution_count": 6,
     "metadata": {},
     "output_type": "execute_result"
    }
   ],
   "source": [
    "Fashion_GS.head()\n",
    "#slection of Answer.numpeople1\t column as a worker answer\n",
    "# approved can work as a percentage of accuracy"
   ]
  },
  {
   "cell_type": "code",
   "execution_count": 7,
   "metadata": {},
   "outputs": [],
   "source": [
    "#Fashion_GS#['Answer.numpeople1'].unique()"
   ]
  },
  {
   "cell_type": "code",
   "execution_count": 8,
   "metadata": {},
   "outputs": [],
   "source": [
    "grouped = Fashion_GS.groupby('AssignmentStatus').count()['HITId']"
   ]
  },
  {
   "cell_type": "code",
   "execution_count": 9,
   "metadata": {},
   "outputs": [],
   "source": [
    "acc1 = grouped.loc['Approved'] / grouped.sum()"
   ]
  },
  {
   "cell_type": "code",
   "execution_count": 10,
   "metadata": {},
   "outputs": [
    {
     "name": "stdout",
     "output_type": "stream",
     "text": [
      "Accuracy :0.942\n"
     ]
    }
   ],
   "source": [
    "print('Accuracy :{}'.format(round(acc1,3)))"
   ]
  },
  {
   "cell_type": "markdown",
   "metadata": {},
   "source": [
    "## Sentiment popularity"
   ]
  },
  {
   "cell_type": "code",
   "execution_count": 11,
   "metadata": {},
   "outputs": [],
   "source": [
    "SentimentPopularity_GS = pd.read_csv('../datasets/2SentimentPopularity_GS.csv', encoding='Latin-1')"
   ]
  },
  {
   "cell_type": "code",
   "execution_count": 12,
   "metadata": {},
   "outputs": [
    {
     "data": {
      "text/html": [
       "<div>\n",
       "<style scoped>\n",
       "    .dataframe tbody tr th:only-of-type {\n",
       "        vertical-align: middle;\n",
       "    }\n",
       "\n",
       "    .dataframe tbody tr th {\n",
       "        vertical-align: top;\n",
       "    }\n",
       "\n",
       "    .dataframe thead th {\n",
       "        text-align: right;\n",
       "    }\n",
       "</style>\n",
       "<table border=\"1\" class=\"dataframe\">\n",
       "  <thead>\n",
       "    <tr style=\"text-align: right;\">\n",
       "      <th></th>\n",
       "      <th>worker ID</th>\n",
       "      <th>task ID</th>\n",
       "      <th>Worker label</th>\n",
       "      <th>Gold label</th>\n",
       "      <th>Time in seconds</th>\n",
       "    </tr>\n",
       "  </thead>\n",
       "  <tbody>\n",
       "    <tr>\n",
       "      <th>0</th>\n",
       "      <td>A1LZWU72K42V92</td>\n",
       "      <td>23</td>\n",
       "      <td>0</td>\n",
       "      <td>1</td>\n",
       "      <td>298</td>\n",
       "    </tr>\n",
       "    <tr>\n",
       "      <th>1</th>\n",
       "      <td>ASS4LIVDW452F</td>\n",
       "      <td>23</td>\n",
       "      <td>1</td>\n",
       "      <td>1</td>\n",
       "      <td>6</td>\n",
       "    </tr>\n",
       "    <tr>\n",
       "      <th>2</th>\n",
       "      <td>A2QAIIROYI52KO</td>\n",
       "      <td>23</td>\n",
       "      <td>1</td>\n",
       "      <td>1</td>\n",
       "      <td>96</td>\n",
       "    </tr>\n",
       "    <tr>\n",
       "      <th>3</th>\n",
       "      <td>A3PRX6CU0P34NE</td>\n",
       "      <td>23</td>\n",
       "      <td>1</td>\n",
       "      <td>1</td>\n",
       "      <td>175</td>\n",
       "    </tr>\n",
       "    <tr>\n",
       "      <th>4</th>\n",
       "      <td>A9KPCMO1J1LQF</td>\n",
       "      <td>23</td>\n",
       "      <td>1</td>\n",
       "      <td>1</td>\n",
       "      <td>7</td>\n",
       "    </tr>\n",
       "  </tbody>\n",
       "</table>\n",
       "</div>"
      ],
      "text/plain": [
       "        worker ID  task ID  Worker label  Gold label  Time in seconds\n",
       "0  A1LZWU72K42V92       23             0           1              298\n",
       "1   ASS4LIVDW452F       23             1           1                6\n",
       "2  A2QAIIROYI52KO       23             1           1               96\n",
       "3  A3PRX6CU0P34NE       23             1           1              175\n",
       "4   A9KPCMO1J1LQF       23             1           1                7"
      ]
     },
     "execution_count": 12,
     "metadata": {},
     "output_type": "execute_result"
    }
   ],
   "source": [
    "SentimentPopularity_GS.head()"
   ]
  },
  {
   "cell_type": "code",
   "execution_count": 13,
   "metadata": {},
   "outputs": [],
   "source": [
    "cm = ConfusionMatrix(actual_vector=list(SentimentPopularity_GS['Gold label']),\n",
    "                     predict_vector=list(SentimentPopularity_GS['Worker label'])) #.values()"
   ]
  },
  {
   "cell_type": "code",
   "execution_count": 14,
   "metadata": {},
   "outputs": [
    {
     "data": {
      "text/plain": [
       "[0, 1]"
      ]
     },
     "execution_count": 14,
     "metadata": {},
     "output_type": "execute_result"
    }
   ],
   "source": [
    "cm.classes"
   ]
  },
  {
   "cell_type": "code",
   "execution_count": 15,
   "metadata": {},
   "outputs": [
    {
     "data": {
      "text/plain": [
       "{0: {0: 4412, 1: 488}, 1: {0: 577, 1: 4523}}"
      ]
     },
     "execution_count": 15,
     "metadata": {},
     "output_type": "execute_result"
    }
   ],
   "source": [
    "cm.table"
   ]
  },
  {
   "cell_type": "code",
   "execution_count": 16,
   "metadata": {},
   "outputs": [],
   "source": [
    "acc2 = cm.Overall_ACC"
   ]
  },
  {
   "cell_type": "code",
   "execution_count": 17,
   "metadata": {},
   "outputs": [
    {
     "name": "stdout",
     "output_type": "stream",
     "text": [
      "Accuracy :0.893\n"
     ]
    }
   ],
   "source": [
    "print('Accuracy :{}'.format(round(acc2,3)))"
   ]
  },
  {
   "cell_type": "markdown",
   "metadata": {},
   "source": [
    "## Weather Sentiment"
   ]
  },
  {
   "cell_type": "code",
   "execution_count": 18,
   "metadata": {},
   "outputs": [],
   "source": [
    "WeatherSentiment_amt_GS = pd.read_csv('../datasets/3WeatherSentiment_amt_GS.csv', encoding='Latin-1')"
   ]
  },
  {
   "cell_type": "code",
   "execution_count": 19,
   "metadata": {},
   "outputs": [
    {
     "data": {
      "text/html": [
       "<div>\n",
       "<style scoped>\n",
       "    .dataframe tbody tr th:only-of-type {\n",
       "        vertical-align: middle;\n",
       "    }\n",
       "\n",
       "    .dataframe tbody tr th {\n",
       "        vertical-align: top;\n",
       "    }\n",
       "\n",
       "    .dataframe thead th {\n",
       "        text-align: right;\n",
       "    }\n",
       "</style>\n",
       "<table border=\"1\" class=\"dataframe\">\n",
       "  <thead>\n",
       "    <tr style=\"text-align: right;\">\n",
       "      <th></th>\n",
       "      <th>Worker ID</th>\n",
       "      <th>Task ID</th>\n",
       "      <th>Worker label</th>\n",
       "      <th>Gold label</th>\n",
       "      <th>Time in seconds</th>\n",
       "    </tr>\n",
       "  </thead>\n",
       "  <tbody>\n",
       "    <tr>\n",
       "      <th>0</th>\n",
       "      <td>A2N7I0331X72Z7</td>\n",
       "      <td>81991168</td>\n",
       "      <td>0</td>\n",
       "      <td>0</td>\n",
       "      <td>14</td>\n",
       "    </tr>\n",
       "    <tr>\n",
       "      <th>1</th>\n",
       "      <td>A4T1X0PO5N1G9</td>\n",
       "      <td>81991168</td>\n",
       "      <td>0</td>\n",
       "      <td>0</td>\n",
       "      <td>5</td>\n",
       "    </tr>\n",
       "    <tr>\n",
       "      <th>2</th>\n",
       "      <td>A1R0689JPSQ3OF</td>\n",
       "      <td>81991168</td>\n",
       "      <td>0</td>\n",
       "      <td>0</td>\n",
       "      <td>19</td>\n",
       "    </tr>\n",
       "    <tr>\n",
       "      <th>3</th>\n",
       "      <td>A3F7TD3W9043EO</td>\n",
       "      <td>81991168</td>\n",
       "      <td>1</td>\n",
       "      <td>0</td>\n",
       "      <td>8</td>\n",
       "    </tr>\n",
       "    <tr>\n",
       "      <th>4</th>\n",
       "      <td>A1IWCAELIKUG2S</td>\n",
       "      <td>81991168</td>\n",
       "      <td>0</td>\n",
       "      <td>0</td>\n",
       "      <td>5</td>\n",
       "    </tr>\n",
       "  </tbody>\n",
       "</table>\n",
       "</div>"
      ],
      "text/plain": [
       "        Worker ID   Task ID  Worker label  Gold label  Time in seconds\n",
       "0  A2N7I0331X72Z7  81991168             0           0               14\n",
       "1   A4T1X0PO5N1G9  81991168             0           0                5\n",
       "2  A1R0689JPSQ3OF  81991168             0           0               19\n",
       "3  A3F7TD3W9043EO  81991168             1           0                8\n",
       "4  A1IWCAELIKUG2S  81991168             0           0                5"
      ]
     },
     "execution_count": 19,
     "metadata": {},
     "output_type": "execute_result"
    }
   ],
   "source": [
    "WeatherSentiment_amt_GS.head()"
   ]
  },
  {
   "cell_type": "code",
   "execution_count": 20,
   "metadata": {},
   "outputs": [],
   "source": [
    "cm = ConfusionMatrix(actual_vector=list(WeatherSentiment_amt_GS['Gold label']),\n",
    "                     predict_vector=list(WeatherSentiment_amt_GS['Worker label'])) #.values()"
   ]
  },
  {
   "cell_type": "code",
   "execution_count": 21,
   "metadata": {},
   "outputs": [
    {
     "data": {
      "text/plain": [
       "[0, 1, 2, 3, 4]"
      ]
     },
     "execution_count": 21,
     "metadata": {},
     "output_type": "execute_result"
    }
   ],
   "source": [
    "cm.classes"
   ]
  },
  {
   "cell_type": "code",
   "execution_count": 22,
   "metadata": {},
   "outputs": [
    {
     "data": {
      "text/plain": [
       "{0: {0: 843, 1: 133, 2: 92, 3: 26, 4: 46},\n",
       " 1: {0: 119, 1: 964, 2: 170, 3: 58, 4: 89},\n",
       " 2: {0: 47, 1: 87, 2: 1226, 3: 55, 4: 25},\n",
       " 3: {0: 118, 1: 285, 2: 172, 3: 1166, 4: 99},\n",
       " 4: {0: 36, 1: 55, 2: 55, 3: 9, 4: 25}}"
      ]
     },
     "execution_count": 22,
     "metadata": {},
     "output_type": "execute_result"
    }
   ],
   "source": [
    "cm.table"
   ]
  },
  {
   "cell_type": "code",
   "execution_count": 23,
   "metadata": {},
   "outputs": [],
   "source": [
    "acc3 = cm.Overall_ACC"
   ]
  },
  {
   "cell_type": "code",
   "execution_count": 24,
   "metadata": {},
   "outputs": [
    {
     "name": "stdout",
     "output_type": "stream",
     "text": [
      "Accuracy :0.704\n"
     ]
    }
   ],
   "source": [
    "print('Accuracy :{}'.format(round(acc3,3)))"
   ]
  },
  {
   "cell_type": "markdown",
   "metadata": {},
   "source": [
    "## Query Document Relevance"
   ]
  },
  {
   "cell_type": "code",
   "execution_count": 25,
   "metadata": {},
   "outputs": [],
   "source": [
    "QueryDocRelevance_GS = pd.read_csv('../datasets/4QueryDocRelevance_GS.csv', encoding='Latin-1')"
   ]
  },
  {
   "cell_type": "code",
   "execution_count": 26,
   "metadata": {},
   "outputs": [
    {
     "data": {
      "text/plain": [
       "array([-1,  2, -2,  0,  1])"
      ]
     },
     "execution_count": 26,
     "metadata": {},
     "output_type": "execute_result"
    }
   ],
   "source": [
    "QueryDocRelevance_GS[' gold '].unique()"
   ]
  },
  {
   "cell_type": "code",
   "execution_count": 27,
   "metadata": {},
   "outputs": [
    {
     "data": {
      "text/plain": [
       "Index(['topicID ', ' workerID ', ' docID ', ' gold ', ' label'], dtype='object')"
      ]
     },
     "execution_count": 27,
     "metadata": {},
     "output_type": "execute_result"
    }
   ],
   "source": [
    "QueryDocRelevance_GS.columns"
   ]
  },
  {
   "cell_type": "code",
   "execution_count": 28,
   "metadata": {},
   "outputs": [
    {
     "data": {
      "text/plain": [
       "array([ 0,  2,  1, -2])"
      ]
     },
     "execution_count": 28,
     "metadata": {},
     "output_type": "execute_result"
    }
   ],
   "source": [
    "QueryDocRelevance_GS[' label'].unique()"
   ]
  },
  {
   "cell_type": "code",
   "execution_count": 29,
   "metadata": {},
   "outputs": [
    {
     "data": {
      "text/html": [
       "<div>\n",
       "<style scoped>\n",
       "    .dataframe tbody tr th:only-of-type {\n",
       "        vertical-align: middle;\n",
       "    }\n",
       "\n",
       "    .dataframe tbody tr th {\n",
       "        vertical-align: top;\n",
       "    }\n",
       "\n",
       "    .dataframe thead th {\n",
       "        text-align: right;\n",
       "    }\n",
       "</style>\n",
       "<table border=\"1\" class=\"dataframe\">\n",
       "  <thead>\n",
       "    <tr style=\"text-align: right;\">\n",
       "      <th></th>\n",
       "      <th>topicID</th>\n",
       "      <th>workerID</th>\n",
       "      <th>docID</th>\n",
       "      <th>gold</th>\n",
       "      <th>label</th>\n",
       "    </tr>\n",
       "  </thead>\n",
       "  <tbody>\n",
       "    <tr>\n",
       "      <th>0</th>\n",
       "      <td>20002</td>\n",
       "      <td>w1</td>\n",
       "      <td>clueweb09-en0000-66-24091</td>\n",
       "      <td>-1</td>\n",
       "      <td>0</td>\n",
       "    </tr>\n",
       "    <tr>\n",
       "      <th>1</th>\n",
       "      <td>20002</td>\n",
       "      <td>w1</td>\n",
       "      <td>clueweb09-en0001-31-15410</td>\n",
       "      <td>-1</td>\n",
       "      <td>0</td>\n",
       "    </tr>\n",
       "    <tr>\n",
       "      <th>2</th>\n",
       "      <td>20002</td>\n",
       "      <td>w1</td>\n",
       "      <td>clueweb09-en0000-05-22942</td>\n",
       "      <td>-1</td>\n",
       "      <td>0</td>\n",
       "    </tr>\n",
       "    <tr>\n",
       "      <th>3</th>\n",
       "      <td>20002</td>\n",
       "      <td>w1</td>\n",
       "      <td>clueweb09-en0000-05-22943</td>\n",
       "      <td>-1</td>\n",
       "      <td>0</td>\n",
       "    </tr>\n",
       "    <tr>\n",
       "      <th>4</th>\n",
       "      <td>20002</td>\n",
       "      <td>w1</td>\n",
       "      <td>clueweb09-en0006-85-33191</td>\n",
       "      <td>2</td>\n",
       "      <td>2</td>\n",
       "    </tr>\n",
       "  </tbody>\n",
       "</table>\n",
       "</div>"
      ],
      "text/plain": [
       "   topicID   workerID                        docID    gold    label\n",
       "0     20002        w1    clueweb09-en0000-66-24091       -1       0\n",
       "1     20002        w1    clueweb09-en0001-31-15410       -1       0\n",
       "2     20002        w1    clueweb09-en0000-05-22942       -1       0\n",
       "3     20002        w1    clueweb09-en0000-05-22943       -1       0\n",
       "4     20002        w1    clueweb09-en0006-85-33191        2       2"
      ]
     },
     "execution_count": 29,
     "metadata": {},
     "output_type": "execute_result"
    }
   ],
   "source": [
    "QueryDocRelevance_GS.head()"
   ]
  },
  {
   "cell_type": "code",
   "execution_count": 30,
   "metadata": {},
   "outputs": [
    {
     "data": {
      "text/plain": [
       "'\\nJudgment categories:\\n\\n2: highly relevant\\n1: relevant\\n0: non-relevant\\n-1: unknown (no gold label)\\n-2: broken link\\n'"
      ]
     },
     "execution_count": 30,
     "metadata": {},
     "output_type": "execute_result"
    }
   ],
   "source": [
    "\"\"\"\n",
    "Judgment categories:\n",
    "\n",
    "2: highly relevant\n",
    "1: relevant\n",
    "0: non-relevant\n",
    "-1: unknown (no gold label)\n",
    "-2: broken link\n",
    "\"\"\""
   ]
  },
  {
   "cell_type": "code",
   "execution_count": 31,
   "metadata": {},
   "outputs": [],
   "source": [
    "QueryDocRelevance_GS1 = QueryDocRelevance_GS[(QueryDocRelevance_GS[' label'] == 1) |\n",
    "                     (QueryDocRelevance_GS[' label'] == 2) |\n",
    "                    (QueryDocRelevance_GS[' label'] == 0)]"
   ]
  },
  {
   "cell_type": "code",
   "execution_count": 32,
   "metadata": {},
   "outputs": [],
   "source": [
    "QueryDocRelevance_GS2 = QueryDocRelevance_GS1[~QueryDocRelevance_GS1[' gold ']== -1 ]"
   ]
  },
  {
   "cell_type": "code",
   "execution_count": 33,
   "metadata": {},
   "outputs": [
    {
     "data": {
      "text/plain": [
       "8767"
      ]
     },
     "execution_count": 33,
     "metadata": {},
     "output_type": "execute_result"
    }
   ],
   "source": [
    "len(QueryDocRelevance_GS2)"
   ]
  },
  {
   "cell_type": "code",
   "execution_count": 34,
   "metadata": {},
   "outputs": [],
   "source": [
    "cm = ConfusionMatrix(actual_vector=list(QueryDocRelevance_GS2[' gold ']),\n",
    "                     predict_vector=list(QueryDocRelevance_GS2[' label'])) #.values()"
   ]
  },
  {
   "cell_type": "code",
   "execution_count": 35,
   "metadata": {},
   "outputs": [
    {
     "data": {
      "text/plain": [
       "[0, 1, 2]"
      ]
     },
     "execution_count": 35,
     "metadata": {},
     "output_type": "execute_result"
    }
   ],
   "source": [
    "cm.classes"
   ]
  },
  {
   "cell_type": "code",
   "execution_count": 36,
   "metadata": {},
   "outputs": [
    {
     "data": {
      "text/plain": [
       "{0: {0: 3578, 1: 3278, 2: 1911}, 1: {0: 0, 1: 0, 2: 0}, 2: {0: 0, 1: 0, 2: 0}}"
      ]
     },
     "execution_count": 36,
     "metadata": {},
     "output_type": "execute_result"
    }
   ],
   "source": [
    "cm.table"
   ]
  },
  {
   "cell_type": "code",
   "execution_count": 37,
   "metadata": {},
   "outputs": [],
   "source": [
    "acc4 = cm.Overall_ACC"
   ]
  },
  {
   "cell_type": "code",
   "execution_count": 38,
   "metadata": {},
   "outputs": [
    {
     "name": "stdout",
     "output_type": "stream",
     "text": [
      "Accuracy :0.408\n"
     ]
    }
   ],
   "source": [
    "print('Accuracy :{}'.format(round(acc4,3)))"
   ]
  },
  {
   "cell_type": "markdown",
   "metadata": {},
   "source": [
    "## Wikipedia image categorization"
   ]
  },
  {
   "cell_type": "code",
   "execution_count": 39,
   "metadata": {},
   "outputs": [],
   "source": [
    "Wiki_gende = pd.read_csv('../datasets/5Wiki-gender-image-categorization-DFE_GS.csv', encoding='Latin-1')"
   ]
  },
  {
   "cell_type": "code",
   "execution_count": 40,
   "metadata": {},
   "outputs": [
    {
     "data": {
      "text/html": [
       "<div>\n",
       "<style scoped>\n",
       "    .dataframe tbody tr th:only-of-type {\n",
       "        vertical-align: middle;\n",
       "    }\n",
       "\n",
       "    .dataframe tbody tr th {\n",
       "        vertical-align: top;\n",
       "    }\n",
       "\n",
       "    .dataframe thead th {\n",
       "        text-align: right;\n",
       "    }\n",
       "</style>\n",
       "<table border=\"1\" class=\"dataframe\">\n",
       "  <thead>\n",
       "    <tr style=\"text-align: right;\">\n",
       "      <th></th>\n",
       "      <th>_unit_id</th>\n",
       "      <th>_golden</th>\n",
       "      <th>_unit_state</th>\n",
       "      <th>_trusted_judgments</th>\n",
       "      <th>no_of_persons</th>\n",
       "      <th>no_of_persons:confidence</th>\n",
       "      <th>no_of_persons_gold</th>\n",
       "    </tr>\n",
       "  </thead>\n",
       "  <tbody>\n",
       "    <tr>\n",
       "      <th>0</th>\n",
       "      <td>721195362</td>\n",
       "      <td>True</td>\n",
       "      <td>golden</td>\n",
       "      <td>107</td>\n",
       "      <td>One Person</td>\n",
       "      <td>1.0000</td>\n",
       "      <td>One Person</td>\n",
       "    </tr>\n",
       "    <tr>\n",
       "      <th>1</th>\n",
       "      <td>721195363</td>\n",
       "      <td>True</td>\n",
       "      <td>golden</td>\n",
       "      <td>97</td>\n",
       "      <td>One Person</td>\n",
       "      <td>1.0000</td>\n",
       "      <td>One Person</td>\n",
       "    </tr>\n",
       "    <tr>\n",
       "      <th>2</th>\n",
       "      <td>721195364</td>\n",
       "      <td>True</td>\n",
       "      <td>golden</td>\n",
       "      <td>92</td>\n",
       "      <td>One Person</td>\n",
       "      <td>1.0000</td>\n",
       "      <td>One Person</td>\n",
       "    </tr>\n",
       "    <tr>\n",
       "      <th>3</th>\n",
       "      <td>721195365</td>\n",
       "      <td>True</td>\n",
       "      <td>golden</td>\n",
       "      <td>82</td>\n",
       "      <td>One Person</td>\n",
       "      <td>0.7175</td>\n",
       "      <td>One Person\\rSeveral Persons, *but one* person'...</td>\n",
       "    </tr>\n",
       "    <tr>\n",
       "      <th>4</th>\n",
       "      <td>721195467</td>\n",
       "      <td>True</td>\n",
       "      <td>golden</td>\n",
       "      <td>93</td>\n",
       "      <td>One Person</td>\n",
       "      <td>1.0000</td>\n",
       "      <td>One Person</td>\n",
       "    </tr>\n",
       "  </tbody>\n",
       "</table>\n",
       "</div>"
      ],
      "text/plain": [
       "    _unit_id  _golden _unit_state  _trusted_judgments no_of_persons  \\\n",
       "0  721195362     True      golden                 107    One Person   \n",
       "1  721195363     True      golden                  97    One Person   \n",
       "2  721195364     True      golden                  92    One Person   \n",
       "3  721195365     True      golden                  82    One Person   \n",
       "4  721195467     True      golden                  93    One Person   \n",
       "\n",
       "   no_of_persons:confidence                                 no_of_persons_gold  \n",
       "0                    1.0000                                         One Person  \n",
       "1                    1.0000                                         One Person  \n",
       "2                    1.0000                                         One Person  \n",
       "3                    0.7175  One Person\\rSeveral Persons, *but one* person'...  \n",
       "4                    1.0000                                         One Person  "
      ]
     },
     "execution_count": 40,
     "metadata": {},
     "output_type": "execute_result"
    }
   ],
   "source": [
    "Wiki_gende.head()"
   ]
  },
  {
   "cell_type": "code",
   "execution_count": 41,
   "metadata": {},
   "outputs": [
    {
     "data": {
      "text/plain": [
       "Index(['_unit_id', '_golden', '_unit_state', '_trusted_judgments',\n",
       "       'no_of_persons', 'no_of_persons:confidence', 'no_of_persons_gold'],\n",
       "      dtype='object')"
      ]
     },
     "execution_count": 41,
     "metadata": {},
     "output_type": "execute_result"
    }
   ],
   "source": [
    "Wiki_gende.columns"
   ]
  },
  {
   "cell_type": "code",
   "execution_count": 42,
   "metadata": {},
   "outputs": [
    {
     "data": {
      "text/plain": [
       "984"
      ]
     },
     "execution_count": 42,
     "metadata": {},
     "output_type": "execute_result"
    }
   ],
   "source": [
    "len(Wiki_gende)"
   ]
  },
  {
   "cell_type": "code",
   "execution_count": 43,
   "metadata": {},
   "outputs": [],
   "source": [
    "acc5 = Wiki_gende['no_of_persons:confidence'].mean()"
   ]
  },
  {
   "cell_type": "code",
   "execution_count": 44,
   "metadata": {},
   "outputs": [
    {
     "name": "stdout",
     "output_type": "stream",
     "text": [
      "Accuracy :0.897\n"
     ]
    }
   ],
   "source": [
    "print('Accuracy :{}'.format(round(acc5,3)))"
   ]
  },
  {
   "cell_type": "markdown",
   "metadata": {},
   "source": [
    "## Claritin Twitter"
   ]
  },
  {
   "cell_type": "code",
   "execution_count": 45,
   "metadata": {},
   "outputs": [],
   "source": [
    "twitter = pd.read_csv('../datasets/6claritin_october_twitter_side_effects-1_GS.csv', encoding='Latin-1')"
   ]
  },
  {
   "cell_type": "markdown",
   "metadata": {},
   "source": [
    "gold standard column"
   ]
  },
  {
   "cell_type": "code",
   "execution_count": 46,
   "metadata": {},
   "outputs": [
    {
     "data": {
      "text/plain": [
       "array(['female', 'bad_link_or_company', 'unknown', nan, 'male'],\n",
       "      dtype=object)"
      ]
     },
     "execution_count": 46,
     "metadata": {},
     "output_type": "execute_result"
    }
   ],
   "source": [
    "twitter.gender.unique()"
   ]
  },
  {
   "cell_type": "markdown",
   "metadata": {},
   "source": [
    "worker answer"
   ]
  },
  {
   "cell_type": "code",
   "execution_count": 47,
   "metadata": {},
   "outputs": [
    {
     "data": {
      "text/plain": [
       "gender\n",
       "bad_link_or_company    0.055714\n",
       "female                 0.521429\n",
       "male                   0.317551\n",
       "unknown                0.056939\n",
       "Name: relevant, dtype: float64"
      ]
     },
     "execution_count": 47,
     "metadata": {},
     "output_type": "execute_result"
    }
   ],
   "source": [
    "twitter.groupby('gender').count()['relevant'] / 4900"
   ]
  },
  {
   "cell_type": "markdown",
   "metadata": {},
   "source": [
    "gold"
   ]
  },
  {
   "cell_type": "code",
   "execution_count": 48,
   "metadata": {},
   "outputs": [],
   "source": [
    "label = []\n",
    "for i in twitter['gender']:\n",
    "    if (i == 'female') | (i == 'male'):\n",
    "        label.append('yes')\n",
    "    else:\n",
    "        label.append('no')\n",
    "twitter['label'] = label"
   ]
  },
  {
   "cell_type": "code",
   "execution_count": 49,
   "metadata": {},
   "outputs": [
    {
     "data": {
      "text/plain": [
       "4900"
      ]
     },
     "execution_count": 49,
     "metadata": {},
     "output_type": "execute_result"
    }
   ],
   "source": [
    "len(twitter)"
   ]
  },
  {
   "cell_type": "code",
   "execution_count": 50,
   "metadata": {},
   "outputs": [],
   "source": [
    "twitter1 = twitter[twitter['relevant'] != 'non_english']"
   ]
  },
  {
   "cell_type": "code",
   "execution_count": 51,
   "metadata": {},
   "outputs": [
    {
     "data": {
      "text/html": [
       "<div>\n",
       "<style scoped>\n",
       "    .dataframe tbody tr th:only-of-type {\n",
       "        vertical-align: middle;\n",
       "    }\n",
       "\n",
       "    .dataframe tbody tr th {\n",
       "        vertical-align: top;\n",
       "    }\n",
       "\n",
       "    .dataframe thead th {\n",
       "        text-align: right;\n",
       "    }\n",
       "</style>\n",
       "<table border=\"1\" class=\"dataframe\">\n",
       "  <thead>\n",
       "    <tr style=\"text-align: right;\">\n",
       "      <th></th>\n",
       "      <th>interaction.id</th>\n",
       "      <th>relevant</th>\n",
       "      <th>gender</th>\n",
       "      <th>label</th>\n",
       "    </tr>\n",
       "  </thead>\n",
       "  <tbody>\n",
       "    <tr>\n",
       "      <th>0</th>\n",
       "      <td>1e216d4078b8ac80e074b6aefd0b8ecc</td>\n",
       "      <td>yes</td>\n",
       "      <td>female</td>\n",
       "      <td>yes</td>\n",
       "    </tr>\n",
       "    <tr>\n",
       "      <th>1</th>\n",
       "      <td>1e21bdba2f09a600e07449388a202dd0</td>\n",
       "      <td>yes</td>\n",
       "      <td>female</td>\n",
       "      <td>yes</td>\n",
       "    </tr>\n",
       "    <tr>\n",
       "      <th>2</th>\n",
       "      <td>1e21e6045b94a680e074cc3af1e9826c</td>\n",
       "      <td>yes</td>\n",
       "      <td>female</td>\n",
       "      <td>yes</td>\n",
       "    </tr>\n",
       "    <tr>\n",
       "      <th>3</th>\n",
       "      <td>1e21ae673139a680e074c613e3dc017a</td>\n",
       "      <td>yes</td>\n",
       "      <td>bad_link_or_company</td>\n",
       "      <td>no</td>\n",
       "    </tr>\n",
       "    <tr>\n",
       "      <th>4</th>\n",
       "      <td>1e218d1b517baf00e0740caa3005b42c</td>\n",
       "      <td>yes</td>\n",
       "      <td>unknown</td>\n",
       "      <td>no</td>\n",
       "    </tr>\n",
       "  </tbody>\n",
       "</table>\n",
       "</div>"
      ],
      "text/plain": [
       "                     interaction.id relevant               gender label\n",
       "0  1e216d4078b8ac80e074b6aefd0b8ecc      yes               female   yes\n",
       "1  1e21bdba2f09a600e07449388a202dd0      yes               female   yes\n",
       "2  1e21e6045b94a680e074cc3af1e9826c      yes               female   yes\n",
       "3  1e21ae673139a680e074c613e3dc017a      yes  bad_link_or_company    no\n",
       "4  1e218d1b517baf00e0740caa3005b42c      yes              unknown    no"
      ]
     },
     "execution_count": 51,
     "metadata": {},
     "output_type": "execute_result"
    }
   ],
   "source": [
    "twitter1.head()"
   ]
  },
  {
   "cell_type": "code",
   "execution_count": 52,
   "metadata": {},
   "outputs": [
    {
     "data": {
      "text/plain": [
       "4675"
      ]
     },
     "execution_count": 52,
     "metadata": {},
     "output_type": "execute_result"
    }
   ],
   "source": [
    "len(twitter1)"
   ]
  },
  {
   "cell_type": "code",
   "execution_count": 53,
   "metadata": {},
   "outputs": [],
   "source": [
    "#twitter1"
   ]
  },
  {
   "cell_type": "code",
   "execution_count": 54,
   "metadata": {},
   "outputs": [],
   "source": [
    "cm = ConfusionMatrix(actual_vector=list(twitter1['relevant']),\n",
    "                     predict_vector=list(twitter1['label'])) #.values()"
   ]
  },
  {
   "cell_type": "code",
   "execution_count": 55,
   "metadata": {},
   "outputs": [
    {
     "data": {
      "text/plain": [
       "['no', 'yes']"
      ]
     },
     "execution_count": 55,
     "metadata": {},
     "output_type": "execute_result"
    }
   ],
   "source": [
    "cm.classes"
   ]
  },
  {
   "cell_type": "code",
   "execution_count": 56,
   "metadata": {},
   "outputs": [
    {
     "data": {
      "text/plain": [
       "{'no': {'no': 12, 'yes': 0}, 'yes': {'no': 552, 'yes': 4111}}"
      ]
     },
     "execution_count": 56,
     "metadata": {},
     "output_type": "execute_result"
    }
   ],
   "source": [
    "cm.table"
   ]
  },
  {
   "cell_type": "code",
   "execution_count": 57,
   "metadata": {},
   "outputs": [],
   "source": [
    "acc6 = cm.Overall_ACC"
   ]
  },
  {
   "cell_type": "code",
   "execution_count": 58,
   "metadata": {},
   "outputs": [
    {
     "name": "stdout",
     "output_type": "stream",
     "text": [
      "Accuracy :0.882\n"
     ]
    }
   ],
   "source": [
    "print('Accuracy :{}'.format(round(acc6,3)))"
   ]
  },
  {
   "cell_type": "markdown",
   "metadata": {},
   "source": [
    "## Company categorizations (with URLs)"
   ]
  },
  {
   "cell_type": "code",
   "execution_count": 59,
   "metadata": {},
   "outputs": [],
   "source": [
    "CompanyC = pd.read_csv('../datasets/7Company-Categorization-DFE_GS.csv', encoding='Latin-1')"
   ]
  },
  {
   "cell_type": "code",
   "execution_count": 60,
   "metadata": {},
   "outputs": [
    {
     "data": {
      "text/plain": [
       "Index(['_unit_id', '_golden', 'business_category',\n",
       "       'business_category:confidence', 'business_category_gold'],\n",
       "      dtype='object')"
      ]
     },
     "execution_count": 60,
     "metadata": {},
     "output_type": "execute_result"
    }
   ],
   "source": [
    "CompanyC.columns"
   ]
  },
  {
   "cell_type": "code",
   "execution_count": 61,
   "metadata": {},
   "outputs": [
    {
     "data": {
      "text/html": [
       "<div>\n",
       "<style scoped>\n",
       "    .dataframe tbody tr th:only-of-type {\n",
       "        vertical-align: middle;\n",
       "    }\n",
       "\n",
       "    .dataframe tbody tr th {\n",
       "        vertical-align: top;\n",
       "    }\n",
       "\n",
       "    .dataframe thead th {\n",
       "        text-align: right;\n",
       "    }\n",
       "</style>\n",
       "<table border=\"1\" class=\"dataframe\">\n",
       "  <thead>\n",
       "    <tr style=\"text-align: right;\">\n",
       "      <th></th>\n",
       "      <th>_unit_id</th>\n",
       "      <th>_golden</th>\n",
       "      <th>business_category</th>\n",
       "      <th>business_category:confidence</th>\n",
       "      <th>business_category_gold</th>\n",
       "    </tr>\n",
       "  </thead>\n",
       "  <tbody>\n",
       "    <tr>\n",
       "      <th>0</th>\n",
       "      <td>474823173</td>\n",
       "      <td>False</td>\n",
       "      <td>Financial Services</td>\n",
       "      <td>1.0000</td>\n",
       "      <td>NaN</td>\n",
       "    </tr>\n",
       "    <tr>\n",
       "      <th>1</th>\n",
       "      <td>474823174</td>\n",
       "      <td>False</td>\n",
       "      <td>Financial Services</td>\n",
       "      <td>0.3510</td>\n",
       "      <td>NaN</td>\n",
       "    </tr>\n",
       "    <tr>\n",
       "      <th>2</th>\n",
       "      <td>474823175</td>\n",
       "      <td>False</td>\n",
       "      <td>Other</td>\n",
       "      <td>1.0000</td>\n",
       "      <td>NaN</td>\n",
       "    </tr>\n",
       "    <tr>\n",
       "      <th>3</th>\n",
       "      <td>474823176</td>\n",
       "      <td>False</td>\n",
       "      <td>Retail</td>\n",
       "      <td>0.6852</td>\n",
       "      <td>NaN</td>\n",
       "    </tr>\n",
       "    <tr>\n",
       "      <th>4</th>\n",
       "      <td>474823177</td>\n",
       "      <td>False</td>\n",
       "      <td>Other</td>\n",
       "      <td>0.6738</td>\n",
       "      <td>NaN</td>\n",
       "    </tr>\n",
       "  </tbody>\n",
       "</table>\n",
       "</div>"
      ],
      "text/plain": [
       "    _unit_id  _golden   business_category  business_category:confidence  \\\n",
       "0  474823173    False  Financial Services                        1.0000   \n",
       "1  474823174    False  Financial Services                        0.3510   \n",
       "2  474823175    False               Other                        1.0000   \n",
       "3  474823176    False              Retail                        0.6852   \n",
       "4  474823177    False               Other                        0.6738   \n",
       "\n",
       "  business_category_gold  \n",
       "0                    NaN  \n",
       "1                    NaN  \n",
       "2                    NaN  \n",
       "3                    NaN  \n",
       "4                    NaN  "
      ]
     },
     "execution_count": 61,
     "metadata": {},
     "output_type": "execute_result"
    }
   ],
   "source": [
    "CompanyC.head()"
   ]
  },
  {
   "cell_type": "code",
   "execution_count": 62,
   "metadata": {},
   "outputs": [
    {
     "data": {
      "text/plain": [
       "7335"
      ]
     },
     "execution_count": 62,
     "metadata": {},
     "output_type": "execute_result"
    }
   ],
   "source": [
    "len(CompanyC)"
   ]
  },
  {
   "cell_type": "code",
   "execution_count": 63,
   "metadata": {},
   "outputs": [],
   "source": [
    "acc7 = CompanyC['business_category:confidence'].mean()"
   ]
  },
  {
   "cell_type": "code",
   "execution_count": 64,
   "metadata": {},
   "outputs": [
    {
     "name": "stdout",
     "output_type": "stream",
     "text": [
      "Accuracy :0.819\n"
     ]
    }
   ],
   "source": [
    "print('Accuracy :{}'.format(round(acc7,3)))"
   ]
  },
  {
   "cell_type": "markdown",
   "metadata": {},
   "source": [
    "## Hate speech identification"
   ]
  },
  {
   "cell_type": "code",
   "execution_count": 65,
   "metadata": {},
   "outputs": [],
   "source": [
    "hate_speech = pd.read_csv('../datasets/8Hate-speech-identification_GS.csv', encoding='Latin-1')"
   ]
  },
  {
   "cell_type": "code",
   "execution_count": 66,
   "metadata": {},
   "outputs": [
    {
     "data": {
      "text/plain": [
       "array([False,  True])"
      ]
     },
     "execution_count": 66,
     "metadata": {},
     "output_type": "execute_result"
    }
   ],
   "source": [
    "hate_speech['_golden'].unique()"
   ]
  },
  {
   "cell_type": "code",
   "execution_count": 67,
   "metadata": {},
   "outputs": [
    {
     "data": {
      "text/plain": [
       "Index(['_unit_id', '_golden', 'emotion', 'emotion:confidence', 'emotion_gold'], dtype='object')"
      ]
     },
     "execution_count": 67,
     "metadata": {},
     "output_type": "execute_result"
    }
   ],
   "source": [
    "hate_speech.columns"
   ]
  },
  {
   "cell_type": "code",
   "execution_count": 68,
   "metadata": {},
   "outputs": [
    {
     "data": {
      "text/plain": [
       "2524"
      ]
     },
     "execution_count": 68,
     "metadata": {},
     "output_type": "execute_result"
    }
   ],
   "source": [
    "len(hate_speech)"
   ]
  },
  {
   "cell_type": "code",
   "execution_count": 69,
   "metadata": {},
   "outputs": [
    {
     "data": {
      "text/html": [
       "<div>\n",
       "<style scoped>\n",
       "    .dataframe tbody tr th:only-of-type {\n",
       "        vertical-align: middle;\n",
       "    }\n",
       "\n",
       "    .dataframe tbody tr th {\n",
       "        vertical-align: top;\n",
       "    }\n",
       "\n",
       "    .dataframe thead th {\n",
       "        text-align: right;\n",
       "    }\n",
       "</style>\n",
       "<table border=\"1\" class=\"dataframe\">\n",
       "  <thead>\n",
       "    <tr style=\"text-align: right;\">\n",
       "      <th></th>\n",
       "      <th>_unit_id</th>\n",
       "      <th>_golden</th>\n",
       "      <th>emotion</th>\n",
       "      <th>emotion:confidence</th>\n",
       "      <th>emotion_gold</th>\n",
       "    </tr>\n",
       "  </thead>\n",
       "  <tbody>\n",
       "    <tr>\n",
       "      <th>0</th>\n",
       "      <td>731671736</td>\n",
       "      <td>False</td>\n",
       "      <td>Neutral</td>\n",
       "      <td>0.3333</td>\n",
       "      <td>NaN</td>\n",
       "    </tr>\n",
       "    <tr>\n",
       "      <th>1</th>\n",
       "      <td>731671737</td>\n",
       "      <td>False</td>\n",
       "      <td>Neutral</td>\n",
       "      <td>0.3885</td>\n",
       "      <td>NaN</td>\n",
       "    </tr>\n",
       "    <tr>\n",
       "      <th>2</th>\n",
       "      <td>731671738</td>\n",
       "      <td>False</td>\n",
       "      <td>Neutral</td>\n",
       "      <td>0.3333</td>\n",
       "      <td>NaN</td>\n",
       "    </tr>\n",
       "    <tr>\n",
       "      <th>3</th>\n",
       "      <td>731671739</td>\n",
       "      <td>False</td>\n",
       "      <td>Neutral</td>\n",
       "      <td>0.3690</td>\n",
       "      <td>NaN</td>\n",
       "    </tr>\n",
       "    <tr>\n",
       "      <th>4</th>\n",
       "      <td>731671740</td>\n",
       "      <td>False</td>\n",
       "      <td>Neutral</td>\n",
       "      <td>0.5572</td>\n",
       "      <td>NaN</td>\n",
       "    </tr>\n",
       "    <tr>\n",
       "      <th>5</th>\n",
       "      <td>731671741</td>\n",
       "      <td>False</td>\n",
       "      <td>Anger</td>\n",
       "      <td>0.6250</td>\n",
       "      <td>NaN</td>\n",
       "    </tr>\n",
       "    <tr>\n",
       "      <th>6</th>\n",
       "      <td>731671742</td>\n",
       "      <td>False</td>\n",
       "      <td>Neutral</td>\n",
       "      <td>0.3358</td>\n",
       "      <td>NaN</td>\n",
       "    </tr>\n",
       "    <tr>\n",
       "      <th>7</th>\n",
       "      <td>731671743</td>\n",
       "      <td>False</td>\n",
       "      <td>Neutral</td>\n",
       "      <td>0.3571</td>\n",
       "      <td>NaN</td>\n",
       "    </tr>\n",
       "    <tr>\n",
       "      <th>8</th>\n",
       "      <td>731671744</td>\n",
       "      <td>False</td>\n",
       "      <td>Optimism</td>\n",
       "      <td>0.6115</td>\n",
       "      <td>NaN</td>\n",
       "    </tr>\n",
       "    <tr>\n",
       "      <th>9</th>\n",
       "      <td>731671745</td>\n",
       "      <td>False</td>\n",
       "      <td>Neutral</td>\n",
       "      <td>0.2083</td>\n",
       "      <td>NaN</td>\n",
       "    </tr>\n",
       "  </tbody>\n",
       "</table>\n",
       "</div>"
      ],
      "text/plain": [
       "    _unit_id  _golden   emotion  emotion:confidence emotion_gold\n",
       "0  731671736    False   Neutral              0.3333          NaN\n",
       "1  731671737    False   Neutral              0.3885          NaN\n",
       "2  731671738    False   Neutral              0.3333          NaN\n",
       "3  731671739    False   Neutral              0.3690          NaN\n",
       "4  731671740    False   Neutral              0.5572          NaN\n",
       "5  731671741    False     Anger              0.6250          NaN\n",
       "6  731671742    False   Neutral              0.3358          NaN\n",
       "7  731671743    False   Neutral              0.3571          NaN\n",
       "8  731671744    False  Optimism              0.6115          NaN\n",
       "9  731671745    False   Neutral              0.2083          NaN"
      ]
     },
     "execution_count": 69,
     "metadata": {},
     "output_type": "execute_result"
    }
   ],
   "source": [
    "hate_speech.head(10)"
   ]
  },
  {
   "cell_type": "code",
   "execution_count": 70,
   "metadata": {},
   "outputs": [],
   "source": [
    "hate_speech1 = hate_speech[hate_speech['_golden'] == True]"
   ]
  },
  {
   "cell_type": "code",
   "execution_count": 71,
   "metadata": {},
   "outputs": [
    {
     "data": {
      "text/plain": [
       "54"
      ]
     },
     "execution_count": 71,
     "metadata": {},
     "output_type": "execute_result"
    }
   ],
   "source": [
    "len(hate_speech1)"
   ]
  },
  {
   "cell_type": "code",
   "execution_count": 72,
   "metadata": {},
   "outputs": [],
   "source": [
    "acc8 = hate_speech1['emotion:confidence'].mean()"
   ]
  },
  {
   "cell_type": "code",
   "execution_count": 73,
   "metadata": {},
   "outputs": [
    {
     "name": "stdout",
     "output_type": "stream",
     "text": [
      "Accuracy :0.564\n"
     ]
    }
   ],
   "source": [
    "print('Accuracy :{}'.format(round(acc8,3)))"
   ]
  },
  {
   "cell_type": "markdown",
   "metadata": {},
   "source": [
    "## DBpedia quality assessment- datatypes"
   ]
  },
  {
   "cell_type": "code",
   "execution_count": 74,
   "metadata": {},
   "outputs": [],
   "source": [
    "#DBpedia_interlinking_GS = pd.read_csv('10DBpedia_interlinking_GS.csv', encoding='Latin-1')"
   ]
  },
  {
   "cell_type": "code",
   "execution_count": 75,
   "metadata": {},
   "outputs": [
    {
     "name": "stdout",
     "output_type": "stream",
     "text": [
      "Accuracy :0.47\n"
     ]
    }
   ],
   "source": [
    "acc9 = 0.47\n",
    "print('Accuracy :{}'.format(round(acc9,3)))"
   ]
  },
  {
   "cell_type": "markdown",
   "metadata": {},
   "source": [
    "## DBpedia quality assessment - object values"
   ]
  },
  {
   "cell_type": "code",
   "execution_count": 76,
   "metadata": {},
   "outputs": [],
   "source": [
    "#DBpedia_objects_GS = \n",
    "#pd.read_csv('11DBpedia_objects_GS.csv')#, encoding='Latin-1')"
   ]
  },
  {
   "cell_type": "code",
   "execution_count": 77,
   "metadata": {},
   "outputs": [
    {
     "name": "stdout",
     "output_type": "stream",
     "text": [
      "Accuracy :0.89\n"
     ]
    }
   ],
   "source": [
    "acc10 = 0.89\n",
    "print('Accuracy :{}'.format(round(acc10,3)))"
   ]
  },
  {
   "cell_type": "markdown",
   "metadata": {},
   "source": [
    "## DBpedia quality assessment - interlinks "
   ]
  },
  {
   "cell_type": "code",
   "execution_count": 78,
   "metadata": {},
   "outputs": [],
   "source": [
    "#DBpedia_objects_GS = \n",
    "#pd.read_csv('11DBpedia_objects_GS.csv')#, encoding='Latin-1')"
   ]
  },
  {
   "cell_type": "code",
   "execution_count": 79,
   "metadata": {},
   "outputs": [
    {
     "name": "stdout",
     "output_type": "stream",
     "text": [
      "Accuracy :0.94\n"
     ]
    }
   ],
   "source": [
    "acc11 = 0.94\n",
    "print('Accuracy :{}'.format(round(acc11,3)))"
   ]
  },
  {
   "cell_type": "markdown",
   "metadata": {},
   "source": [
    "---\n",
    "# Gathering accuracies"
   ]
  },
  {
   "cell_type": "code",
   "execution_count": 82,
   "metadata": {},
   "outputs": [],
   "source": [
    "#aggregated_accuracy = pd.Series([acc1, acc2, acc3, acc4, acc5, acc6, acc7, acc8, acc9, acc10, acc11])\n",
    "aggregated_accuracy = pd.Series([acc1, acc2, acc3, acc4, acc5, acc7, acc8, acc9, acc10, acc11])"
   ]
  },
  {
   "cell_type": "code",
   "execution_count": 83,
   "metadata": {},
   "outputs": [
    {
     "data": {
      "text/plain": [
       "count    10.000000\n",
       "mean      0.752746\n",
       "std       0.203203\n",
       "min       0.408121\n",
       "25%       0.598836\n",
       "50%       0.854355\n",
       "75%       0.896095\n",
       "max       0.942389\n",
       "dtype: float64"
      ]
     },
     "execution_count": 83,
     "metadata": {},
     "output_type": "execute_result"
    }
   ],
   "source": [
    "aggregated_accuracy.describe()"
   ]
  },
  {
   "cell_type": "code",
   "execution_count": null,
   "metadata": {},
   "outputs": [],
   "source": []
  }
 ],
 "metadata": {
  "kernelspec": {
   "display_name": "Python 3",
   "language": "python",
   "name": "python3"
  },
  "language_info": {
   "codemirror_mode": {
    "name": "ipython",
    "version": 3
   },
   "file_extension": ".py",
   "mimetype": "text/x-python",
   "name": "python",
   "nbconvert_exporter": "python",
   "pygments_lexer": "ipython3",
   "version": "3.7.3"
  }
 },
 "nbformat": 4,
 "nbformat_minor": 2
}
