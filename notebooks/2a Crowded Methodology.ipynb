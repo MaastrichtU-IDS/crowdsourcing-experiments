{
 "cells": [
  {
   "cell_type": "markdown",
   "metadata": {},
   "source": [
    "## CrowdED: Crowdsourcing task optimization\n",
    "---\n",
    "The research question we aim to answer is: \"Can we a-priori estimate optimal workers and tasks' assignment to obtain maximum accuracy on all tasks?\"\n",
    "\n",
    "*This notebook takes step by step the construction of the crowdED module*"
   ]
  },
  {
   "cell_type": "code",
   "execution_count": 1,
   "metadata": {},
   "outputs": [],
   "source": [
    "import matplotlib.pyplot as plt\n",
    "import seaborn as sns\n",
    "import warnings\n",
    "warnings.filterwarnings('ignore')\n",
    "%matplotlib inline"
   ]
  },
  {
   "cell_type": "markdown",
   "metadata": {},
   "source": [
    "---"
   ]
  },
  {
   "cell_type": "markdown",
   "metadata": {},
   "source": [
    "### Tasks Generator Module"
   ]
  },
  {
   "cell_type": "markdown",
   "metadata": {},
   "source": [
    "In our simulation, the task is that the worker has to choose one out of the five given answers. Here, we simulate the true answer for each worker-task pair."
   ]
  },
  {
   "cell_type": "markdown",
   "metadata": {},
   "source": [
    "It is needed one of the keys for the answer"
   ]
  },
  {
   "cell_type": "code",
   "execution_count": 2,
   "metadata": {},
   "outputs": [],
   "source": [
    "import sys\n",
    "import numpy as np\n",
    "import pandas as pd\n",
    "import shortuuid as uid\n",
    "import crowded.key_words as kw\n",
    "\n",
    "KEYS = 7\n",
    "HARD = 0.3\n",
    "LEN = 12\n",
    "N = 10\n",
    "\n",
    "class Tasks(object):\n",
    "    def __init__(self, keys=KEYS, length=LEN):\n",
    "        \"\"\"\n",
    "        :param keys: number of valid answers expected to be assessed\n",
    "        :type keys: python list or numpy array of any stringable objects\n",
    "        :param length: length of the identifier\n",
    "        :type length: int\n",
    "        \"\"\"\n",
    "        self.length = length\n",
    "        self.keys = keys\n",
    "\n",
    "    def _generate_tasks(self, n=N):\n",
    "        \"\"\"\n",
    "        :param n: number of tasks to be generated (default value: 10)\n",
    "        :type n: int\n",
    "        \"\"\"\n",
    "        return ['task_' + uid.ShortUUID().random(length=self.length) for i in range(n)]\n",
    "\n",
    "    def _random_words(self):\n",
    "        return [i for i in np.random.choice(kw.words(), self.keys, replace=False)]\n",
    "\n",
    "    def _true_answer(self, n=N):\n",
    "        \"\"\"\n",
    "        :param n: number of true answers to be generated (default value: 10)\n",
    "        :type n: int\n",
    "        \"\"\"\n",
    "        return [answer for answer in np.random.choice(self._random_words(), n)]\n",
    "\n",
    "    def create(self, n=N, h=HARD):\n",
    "        \"\"\"\n",
    "        :param n: number of tasks to be generated (default value: 10)\n",
    "        :type n: int\n",
    "        :param h: proportion of hard tasks a priori selected for the experiment (default value: 0.2)\n",
    "        :type h: float\n",
    "        \"\"\"\n",
    "        e = 1 - h\n",
    "        cut_tasks = 0.5\n",
    "        tasks = self._generate_tasks(n)\n",
    "        probs_tasks = []\n",
    "        easy_tasks = [task for task in np.random.choice(\n",
    "            tasks, int(round(e * n, 0)), replace=False)]\n",
    "        hard_tasks = [task for task in set(tasks) - set(easy_tasks)]\n",
    "        df = pd.DataFrame()\n",
    "        df['task_id'] = tasks\n",
    "        df['true_answers'] = self._true_answer(n)\n",
    "        df['label_task'] = ['hard_task' if tasks[i]\n",
    "                            in hard_tasks else 'easy_task' for i in range(n)]\n",
    "        for i in df['label_task']:\n",
    "            if i == 'easy_task':  # uniform from .75 to 1\n",
    "                probs_tasks.append(np.random.choice(\n",
    "                    (np.arange(cut_tasks, 1, 0.01)), 1))\n",
    "            elif i == 'hard_task':  # uniform from .5 to .75\n",
    "                probs_tasks.append(np.random.choice(\n",
    "                    (np.arange(0.01, cut_tasks, 0.01)), 1))\n",
    "            else:\n",
    "                probs_tasks.append(1)\n",
    "\n",
    "        df['prob_task'] = [item for prob in probs_tasks for item in prob]\n",
    "        return df"
   ]
  },
  {
   "cell_type": "markdown",
   "metadata": {},
   "source": [
    "### Tasks Generation Module"
   ]
  },
  {
   "cell_type": "code",
   "execution_count": 3,
   "metadata": {},
   "outputs": [],
   "source": [
    "total_tasks = 415\n",
    "p_hard_tasks = 0.4\n",
    "number_of_valid_answers = 5"
   ]
  },
  {
   "cell_type": "code",
   "execution_count": 4,
   "metadata": {},
   "outputs": [
    {
     "data": {
      "text/html": [
       "<div>\n",
       "<style scoped>\n",
       "    .dataframe tbody tr th:only-of-type {\n",
       "        vertical-align: middle;\n",
       "    }\n",
       "\n",
       "    .dataframe tbody tr th {\n",
       "        vertical-align: top;\n",
       "    }\n",
       "\n",
       "    .dataframe thead th {\n",
       "        text-align: right;\n",
       "    }\n",
       "</style>\n",
       "<table border=\"1\" class=\"dataframe\">\n",
       "  <thead>\n",
       "    <tr style=\"text-align: right;\">\n",
       "      <th></th>\n",
       "      <th>task_id</th>\n",
       "      <th>true_answers</th>\n",
       "      <th>label_task</th>\n",
       "      <th>prob_task</th>\n",
       "    </tr>\n",
       "  </thead>\n",
       "  <tbody>\n",
       "    <tr>\n",
       "      <th>0</th>\n",
       "      <td>task_XafRVCDgH83P</td>\n",
       "      <td>boil</td>\n",
       "      <td>easy_task</td>\n",
       "      <td>0.85</td>\n",
       "    </tr>\n",
       "    <tr>\n",
       "      <th>1</th>\n",
       "      <td>task_fGtQqvAcrnx2</td>\n",
       "      <td>boil</td>\n",
       "      <td>hard_task</td>\n",
       "      <td>0.30</td>\n",
       "    </tr>\n",
       "    <tr>\n",
       "      <th>2</th>\n",
       "      <td>task_JMcewLLXqUAn</td>\n",
       "      <td>retrieval</td>\n",
       "      <td>easy_task</td>\n",
       "      <td>0.75</td>\n",
       "    </tr>\n",
       "    <tr>\n",
       "      <th>3</th>\n",
       "      <td>task_7PVkZFTYsoV9</td>\n",
       "      <td>lockers</td>\n",
       "      <td>hard_task</td>\n",
       "      <td>0.35</td>\n",
       "    </tr>\n",
       "    <tr>\n",
       "      <th>4</th>\n",
       "      <td>task_LS6AGsQeW63B</td>\n",
       "      <td>boil</td>\n",
       "      <td>hard_task</td>\n",
       "      <td>0.01</td>\n",
       "    </tr>\n",
       "  </tbody>\n",
       "</table>\n",
       "</div>"
      ],
      "text/plain": [
       "             task_id true_answers label_task  prob_task\n",
       "0  task_XafRVCDgH83P         boil  easy_task       0.85\n",
       "1  task_fGtQqvAcrnx2         boil  hard_task       0.30\n",
       "2  task_JMcewLLXqUAn    retrieval  easy_task       0.75\n",
       "3  task_7PVkZFTYsoV9      lockers  hard_task       0.35\n",
       "4  task_LS6AGsQeW63B         boil  hard_task       0.01"
      ]
     },
     "execution_count": 4,
     "metadata": {},
     "output_type": "execute_result"
    }
   ],
   "source": [
    "df_tasks = Tasks(number_of_valid_answers).create(total_tasks, p_hard_tasks)\n",
    "df_tasks.head()"
   ]
  },
  {
   "cell_type": "markdown",
   "metadata": {},
   "source": [
    "### Workers and Distribution Module"
   ]
  },
  {
   "cell_type": "code",
   "execution_count": 5,
   "metadata": {},
   "outputs": [],
   "source": [
    "import sys\n",
    "import pandas as pd\n",
    "import shortuuid as uid\n",
    "from scipy.stats import beta\n",
    "\n",
    "LEN = 12\n",
    "N = 10\n",
    "a = 7.6\n",
    "b = 2.3\n",
    "\n",
    "class Workers(object):\n",
    "    def __init__(self, alpha=a, beta=b, length=LEN):\n",
    "        \"\"\"\n",
    "        :param alpha: parameter alpha of a beta distribution (default value: 28)\n",
    "        :type alpha: float\n",
    "        :param beta: parameter beta of a beta distribution (default value: 3)\n",
    "        :type beta: float\n",
    "        :param length: number of workers to be created (default value:10)\n",
    "        :type length: type\n",
    "        \"\"\"\n",
    "        self.length = length\n",
    "        self.alpha = alpha\n",
    "        self.beta = beta\n",
    "\n",
    "    def create(self, n=N):\n",
    "        df = pd.DataFrame(\n",
    "            {'worker_id': [uid.ShortUUID().random(self.length) for i in range(n)],\n",
    "             'prob_worker': beta.rvs(self.alpha, self.beta, size=n)})\n",
    "        return df"
   ]
  },
  {
   "cell_type": "markdown",
   "metadata": {},
   "source": [
    "### Workers Generation"
   ]
  },
  {
   "cell_type": "code",
   "execution_count": 6,
   "metadata": {},
   "outputs": [],
   "source": [
    "total_workers = 40"
   ]
  },
  {
   "cell_type": "code",
   "execution_count": 7,
   "metadata": {},
   "outputs": [
    {
     "data": {
      "text/html": [
       "<div>\n",
       "<style scoped>\n",
       "    .dataframe tbody tr th:only-of-type {\n",
       "        vertical-align: middle;\n",
       "    }\n",
       "\n",
       "    .dataframe tbody tr th {\n",
       "        vertical-align: top;\n",
       "    }\n",
       "\n",
       "    .dataframe thead th {\n",
       "        text-align: right;\n",
       "    }\n",
       "</style>\n",
       "<table border=\"1\" class=\"dataframe\">\n",
       "  <thead>\n",
       "    <tr style=\"text-align: right;\">\n",
       "      <th></th>\n",
       "      <th>worker_id</th>\n",
       "      <th>prob_worker</th>\n",
       "    </tr>\n",
       "  </thead>\n",
       "  <tbody>\n",
       "    <tr>\n",
       "      <th>0</th>\n",
       "      <td>ASf6wTaCyTSG</td>\n",
       "      <td>0.687411</td>\n",
       "    </tr>\n",
       "    <tr>\n",
       "      <th>1</th>\n",
       "      <td>BWTNfpwqmcza</td>\n",
       "      <td>0.610760</td>\n",
       "    </tr>\n",
       "    <tr>\n",
       "      <th>2</th>\n",
       "      <td>9nHkGLC4Ne9V</td>\n",
       "      <td>0.585938</td>\n",
       "    </tr>\n",
       "    <tr>\n",
       "      <th>3</th>\n",
       "      <td>jnfLbMfzgvmx</td>\n",
       "      <td>0.914051</td>\n",
       "    </tr>\n",
       "    <tr>\n",
       "      <th>4</th>\n",
       "      <td>HiBeKDPGbPRa</td>\n",
       "      <td>0.645018</td>\n",
       "    </tr>\n",
       "  </tbody>\n",
       "</table>\n",
       "</div>"
      ],
      "text/plain": [
       "      worker_id  prob_worker\n",
       "0  ASf6wTaCyTSG     0.687411\n",
       "1  BWTNfpwqmcza     0.610760\n",
       "2  9nHkGLC4Ne9V     0.585938\n",
       "3  jnfLbMfzgvmx     0.914051\n",
       "4  HiBeKDPGbPRa     0.645018"
      ]
     },
     "execution_count": 7,
     "metadata": {},
     "output_type": "execute_result"
    }
   ],
   "source": [
    "df_workers = Workers().create(total_workers)\n",
    "df_workers.head()"
   ]
  },
  {
   "cell_type": "markdown",
   "metadata": {},
   "source": [
    "---\n",
    "In this step, we first calculate the exact probabilities of getting the answer right for each worker and each task."
   ]
  },
  {
   "cell_type": "markdown",
   "metadata": {},
   "source": [
    "Since the ability is unknown before the task is undertaken, we use a beta distribution to model the distribution of worker ability. Its probability density function $f(x|a, v)$ is given by "
   ]
  },
  {
   "cell_type": "markdown",
   "metadata": {},
   "source": [
    "$$\n",
    "f(x|a,v) = Beta (\\frac{a}{\\min(a,1-a)v}, \\frac{(1-a)}{\\min(a,1-a)v})\n",
    "$$"
   ]
  },
  {
   "cell_type": "markdown",
   "metadata": {},
   "source": [
    "Here a ∈ (0, 1) is the normalized value of the average ability of the workers in the crowdsourcing platform.  \n",
    "v ∈ (0, 1) is a parameter that determines the variance in worker ability  \n",
    "[Paper](https://aaai.org/ocs/index.php/HCOMP/HCOMP16/paper/viewFile/14047/13632)  "
   ]
  },
  {
   "cell_type": "code",
   "execution_count": 8,
   "metadata": {},
   "outputs": [
    {
     "name": "stdout",
     "output_type": "stream",
     "text": [
      "Mean probability 0.9028631061727647\n"
     ]
    },
    {
     "data": {
      "image/png": "[encoded data removed]",
      "text/plain": [
       "<Figure size 432x288 with 1 Axes>"
      ]
     },
     "metadata": {
      "needs_background": "light"
     },
     "output_type": "display_data"
    }
   ],
   "source": [
    "data_beta = beta.rvs(28, 3, size=10000)\n",
    "sns.distplot(data_beta, kde=False, bins=100)\n",
    "print('Mean probability {}'.format(np.mean(data_beta)))"
   ]
  },
  {
   "cell_type": "markdown",
   "metadata": {},
   "source": [
    "In general we have good workers, on average the 90% of chances to getting the answer right"
   ]
  },
  {
   "cell_type": "markdown",
   "metadata": {},
   "source": [
    "---"
   ]
  },
  {
   "cell_type": "markdown",
   "metadata": {},
   "source": [
    "#### Summary of aggregated probabilities"
   ]
  },
  {
   "cell_type": "code",
   "execution_count": 9,
   "metadata": {},
   "outputs": [
    {
     "data": {
      "text/html": [
       "<div>\n",
       "<style scoped>\n",
       "    .dataframe tbody tr th:only-of-type {\n",
       "        vertical-align: middle;\n",
       "    }\n",
       "\n",
       "    .dataframe tbody tr th {\n",
       "        vertical-align: top;\n",
       "    }\n",
       "\n",
       "    .dataframe thead tr th {\n",
       "        text-align: left;\n",
       "    }\n",
       "\n",
       "    .dataframe thead tr:last-of-type th {\n",
       "        text-align: right;\n",
       "    }\n",
       "</style>\n",
       "<table border=\"1\" class=\"dataframe\">\n",
       "  <thead>\n",
       "    <tr>\n",
       "      <th></th>\n",
       "      <th colspan=\"2\" halign=\"left\">prob_task</th>\n",
       "    </tr>\n",
       "    <tr>\n",
       "      <th></th>\n",
       "      <th>mean</th>\n",
       "      <th>count</th>\n",
       "    </tr>\n",
       "    <tr>\n",
       "      <th>label_task</th>\n",
       "      <th></th>\n",
       "      <th></th>\n",
       "    </tr>\n",
       "  </thead>\n",
       "  <tbody>\n",
       "    <tr>\n",
       "      <th>easy_task</th>\n",
       "      <td>0.738032</td>\n",
       "      <td>249</td>\n",
       "    </tr>\n",
       "    <tr>\n",
       "      <th>hard_task</th>\n",
       "      <td>0.249277</td>\n",
       "      <td>166</td>\n",
       "    </tr>\n",
       "  </tbody>\n",
       "</table>\n",
       "</div>"
      ],
      "text/plain": [
       "           prob_task      \n",
       "                mean count\n",
       "label_task                \n",
       "easy_task   0.738032   249\n",
       "hard_task   0.249277   166"
      ]
     },
     "execution_count": 9,
     "metadata": {},
     "output_type": "execute_result"
    }
   ],
   "source": [
    "df_tasks.groupby('label_task').agg(['mean','count'])"
   ]
  },
  {
   "cell_type": "code",
   "execution_count": 10,
   "metadata": {},
   "outputs": [
    {
     "data": {
      "text/html": [
       "<div>\n",
       "<style scoped>\n",
       "    .dataframe tbody tr th:only-of-type {\n",
       "        vertical-align: middle;\n",
       "    }\n",
       "\n",
       "    .dataframe tbody tr th {\n",
       "        vertical-align: top;\n",
       "    }\n",
       "\n",
       "    .dataframe thead th {\n",
       "        text-align: right;\n",
       "    }\n",
       "</style>\n",
       "<table border=\"1\" class=\"dataframe\">\n",
       "  <thead>\n",
       "    <tr style=\"text-align: right;\">\n",
       "      <th></th>\n",
       "      <th>prob_worker</th>\n",
       "    </tr>\n",
       "  </thead>\n",
       "  <tbody>\n",
       "    <tr>\n",
       "      <th>count</th>\n",
       "      <td>40.000000</td>\n",
       "    </tr>\n",
       "    <tr>\n",
       "      <th>mean</th>\n",
       "      <td>0.764430</td>\n",
       "    </tr>\n",
       "    <tr>\n",
       "      <th>std</th>\n",
       "      <td>0.129008</td>\n",
       "    </tr>\n",
       "    <tr>\n",
       "      <th>min</th>\n",
       "      <td>0.430052</td>\n",
       "    </tr>\n",
       "    <tr>\n",
       "      <th>25%</th>\n",
       "      <td>0.680524</td>\n",
       "    </tr>\n",
       "    <tr>\n",
       "      <th>50%</th>\n",
       "      <td>0.818528</td>\n",
       "    </tr>\n",
       "    <tr>\n",
       "      <th>75%</th>\n",
       "      <td>0.858296</td>\n",
       "    </tr>\n",
       "    <tr>\n",
       "      <th>max</th>\n",
       "      <td>0.932302</td>\n",
       "    </tr>\n",
       "  </tbody>\n",
       "</table>\n",
       "</div>"
      ],
      "text/plain": [
       "       prob_worker\n",
       "count    40.000000\n",
       "mean      0.764430\n",
       "std       0.129008\n",
       "min       0.430052\n",
       "25%       0.680524\n",
       "50%       0.818528\n",
       "75%       0.858296\n",
       "max       0.932302"
      ]
     },
     "execution_count": 10,
     "metadata": {},
     "output_type": "execute_result"
    }
   ],
   "source": [
    "df_workers.describe()"
   ]
  },
  {
   "cell_type": "markdown",
   "metadata": {},
   "source": [
    "--- "
   ]
  },
  {
   "cell_type": "markdown",
   "metadata": {},
   "source": [
    "### Creating a task-worker assignation"
   ]
  },
  {
   "cell_type": "markdown",
   "metadata": {},
   "source": [
    "this function has to eat btw the 2 df result from the previous functions"
   ]
  },
  {
   "cell_type": "code",
   "execution_count": 11,
   "metadata": {},
   "outputs": [],
   "source": [
    "import pandas as pd\n",
    "import numpy as np\n",
    "\n",
    "WPT = 3\n",
    "\n",
    "class AssignTasks(object):\n",
    "    def __init__(self, tasks, workers, wpt=WPT):\n",
    "        \"\"\"\n",
    "        :param tasks: table created usings Tasks().create() object\n",
    "        :type tasks: pandas dataframe\n",
    "        :param workers: table created using Workers().create object\n",
    "        :type workers: pandas dataframe\n",
    "        :param wpt: number of workers per task for the simulation\n",
    "        \"param type: integer\n",
    "        \"\"\"\n",
    "        self.wpt = wpt\n",
    "        self.tasks = tasks\n",
    "        self.workers = workers\n",
    "\n",
    "    def _worker_assign(self):\n",
    "        if self.wpt > len(self.workers):\n",
    "            raise Exception(\n",
    "                'Number of workers per task must be smaller than the number of workers!')\n",
    "        return [worker for i in [np.random.choice(self.workers.worker_id, self.wpt, replace=False) for task in self.tasks.task_id] for worker in i]\n",
    "\n",
    "    def _task_asssign(self):\n",
    "        if self.wpt % 2 == 0:\n",
    "            raise Exception('Number of workers per task must be odd!')\n",
    "        return [item for k in [[self.tasks.task_id[i]] * self.wpt for i in range(len(self.tasks.task_id))] for item in k]\n",
    "    \n",
    "    def create(self):\n",
    "        df = pd.DataFrame({'task_id': self._task_asssign(),\n",
    "                           'worker_id': self._worker_assign()})\n",
    "        df = pd.merge(df, self.tasks, on='task_id', how='left')\n",
    "        df = pd.merge(df, self.workers, on='worker_id', how='left')\n",
    "        return df"
   ]
  },
  {
   "cell_type": "code",
   "execution_count": 12,
   "metadata": {},
   "outputs": [],
   "source": [
    "wpt = 5 #workers per task always smaller than the number of workers"
   ]
  },
  {
   "cell_type": "code",
   "execution_count": 13,
   "metadata": {},
   "outputs": [
    {
     "data": {
      "text/html": [
       "<div>\n",
       "<style scoped>\n",
       "    .dataframe tbody tr th:only-of-type {\n",
       "        vertical-align: middle;\n",
       "    }\n",
       "\n",
       "    .dataframe tbody tr th {\n",
       "        vertical-align: top;\n",
       "    }\n",
       "\n",
       "    .dataframe thead th {\n",
       "        text-align: right;\n",
       "    }\n",
       "</style>\n",
       "<table border=\"1\" class=\"dataframe\">\n",
       "  <thead>\n",
       "    <tr style=\"text-align: right;\">\n",
       "      <th></th>\n",
       "      <th>task_id</th>\n",
       "      <th>worker_id</th>\n",
       "      <th>true_answers</th>\n",
       "      <th>label_task</th>\n",
       "      <th>prob_task</th>\n",
       "      <th>prob_worker</th>\n",
       "    </tr>\n",
       "  </thead>\n",
       "  <tbody>\n",
       "    <tr>\n",
       "      <th>0</th>\n",
       "      <td>task_XafRVCDgH83P</td>\n",
       "      <td>qqzCZV9zCPWd</td>\n",
       "      <td>boil</td>\n",
       "      <td>easy_task</td>\n",
       "      <td>0.85</td>\n",
       "      <td>0.721034</td>\n",
       "    </tr>\n",
       "    <tr>\n",
       "      <th>1</th>\n",
       "      <td>task_XafRVCDgH83P</td>\n",
       "      <td>uKhYntfoMCn7</td>\n",
       "      <td>boil</td>\n",
       "      <td>easy_task</td>\n",
       "      <td>0.85</td>\n",
       "      <td>0.864156</td>\n",
       "    </tr>\n",
       "    <tr>\n",
       "      <th>2</th>\n",
       "      <td>task_XafRVCDgH83P</td>\n",
       "      <td>jnfLbMfzgvmx</td>\n",
       "      <td>boil</td>\n",
       "      <td>easy_task</td>\n",
       "      <td>0.85</td>\n",
       "      <td>0.914051</td>\n",
       "    </tr>\n",
       "    <tr>\n",
       "      <th>3</th>\n",
       "      <td>task_XafRVCDgH83P</td>\n",
       "      <td>pbR97p7Zi5VR</td>\n",
       "      <td>boil</td>\n",
       "      <td>easy_task</td>\n",
       "      <td>0.85</td>\n",
       "      <td>0.855669</td>\n",
       "    </tr>\n",
       "    <tr>\n",
       "      <th>4</th>\n",
       "      <td>task_XafRVCDgH83P</td>\n",
       "      <td>3vReZAC29xQC</td>\n",
       "      <td>boil</td>\n",
       "      <td>easy_task</td>\n",
       "      <td>0.85</td>\n",
       "      <td>0.781081</td>\n",
       "    </tr>\n",
       "  </tbody>\n",
       "</table>\n",
       "</div>"
      ],
      "text/plain": [
       "             task_id     worker_id true_answers label_task  prob_task  \\\n",
       "0  task_XafRVCDgH83P  qqzCZV9zCPWd         boil  easy_task       0.85   \n",
       "1  task_XafRVCDgH83P  uKhYntfoMCn7         boil  easy_task       0.85   \n",
       "2  task_XafRVCDgH83P  jnfLbMfzgvmx         boil  easy_task       0.85   \n",
       "3  task_XafRVCDgH83P  pbR97p7Zi5VR         boil  easy_task       0.85   \n",
       "4  task_XafRVCDgH83P  3vReZAC29xQC         boil  easy_task       0.85   \n",
       "\n",
       "   prob_worker  \n",
       "0     0.721034  \n",
       "1     0.864156  \n",
       "2     0.914051  \n",
       "3     0.855669  \n",
       "4     0.781081  "
      ]
     },
     "execution_count": 13,
     "metadata": {},
     "output_type": "execute_result"
    }
   ],
   "source": [
    "df_tw = AssignTasks(df_tasks, df_workers, wpt).create()\n",
    "df_tw.head()"
   ]
  },
  {
   "cell_type": "code",
   "execution_count": 14,
   "metadata": {},
   "outputs": [
    {
     "data": {
      "text/plain": [
       "worker_id\n",
       "jnfLbMfzgvmx    71\n",
       "9XsNarCU8dKs    64\n",
       "PyncgcN69x8a    63\n",
       "cFCS5HvaTwBZ    61\n",
       "mMTfRSyANmnd    61\n",
       "Name: tasks, dtype: int64"
      ]
     },
     "execution_count": 14,
     "metadata": {},
     "output_type": "execute_result"
    }
   ],
   "source": [
    "#aggregation of the tasks\n",
    "_agg = df_tw.groupby('worker_id').agg('count')['task_id']\n",
    "_agg.name = 'tasks'\n",
    "_agg.sort_values(ascending=False).head()"
   ]
  },
  {
   "cell_type": "markdown",
   "metadata": {},
   "source": [
    "---\n",
    "### Probabilities of getting the answer right"
   ]
  },
  {
   "cell_type": "markdown",
   "metadata": {},
   "source": [
    "w = worker answer correct  \n",
    "T = Having knowledge to do the task\n",
    "\n",
    "\n",
    "$$\n",
    "P(w~|~T) = \\frac{P(T~|~w) P(w)}{P(T~|~w) P(w) + P(T~|~w^c) P(w^c)}\n",
    "$$\n",
    "\n",
    "[Bayes for conditional probability example](http://www.stat.yale.edu/Courses/1997-98/101/condprob.htm)"
   ]
  },
  {
   "cell_type": "markdown",
   "metadata": {},
   "source": [
    "Class propuse:  \n",
    "Based on two vectors (pandas series same lenght) of probabilities create a conditional probability  \n",
    "one vector for person, another for activity in this case workers and tasks\n",
    "This new conditional prob is the prior probability for a Bernoulli likelihood  \n",
    "Then the predicion will tell if the answer was right or not  "
   ]
  },
  {
   "cell_type": "markdown",
   "metadata": {},
   "source": [
    "The Bernoulli is the posterior function to modelate the action"
   ]
  },
  {
   "cell_type": "code",
   "execution_count": 15,
   "metadata": {},
   "outputs": [],
   "source": [
    "keys = df_tasks['true_answers'].unique()"
   ]
  },
  {
   "cell_type": "code",
   "execution_count": 16,
   "metadata": {},
   "outputs": [
    {
     "data": {
      "text/plain": [
       "array(['boil', 'retrieval', 'lockers', 'battle', 'stop'], dtype=object)"
      ]
     },
     "execution_count": 16,
     "metadata": {},
     "output_type": "execute_result"
    }
   ],
   "source": [
    "keys"
   ]
  },
  {
   "cell_type": "code",
   "execution_count": 17,
   "metadata": {},
   "outputs": [],
   "source": [
    "import pandas as pd\n",
    "from scipy.stats import bernoulli\n",
    "\n",
    "class ComputeProbability(object):\n",
    "    def __init__(self, series1, series2, keys, size=1):\n",
    "        self.size = size\n",
    "        self.series1 = series1\n",
    "        self.series2 = series2\n",
    "        self.keys = keys\n",
    "        \n",
    "    def _random_selection(self):\n",
    "        return 1/len(self.keys)\n",
    "    \n",
    "    def _bayes_prob(self):\n",
    "        if len(self.series1) != len(self.series2):\n",
    "            raise Exception(\"Probability series expected to be the same size\")\n",
    "        return (self.series1 * self.series2) / (self.series1 * self.series2 + self._random_selection() * (1 - self.series2))\n",
    "    \n",
    "    def predict(self):\n",
    "        return self._bayes_prob().apply(lambda prob: bernoulli.rvs(size=self.size, p=prob)[0])"
   ]
  },
  {
   "cell_type": "code",
   "execution_count": 18,
   "metadata": {},
   "outputs": [],
   "source": [
    "cp = ComputeProbability(df_tw['prob_task'], df_tw['prob_worker'], keys)"
   ]
  },
  {
   "cell_type": "code",
   "execution_count": 19,
   "metadata": {},
   "outputs": [],
   "source": [
    "import numpy as np\n",
    "\n",
    "class WorkerAnswer(object):\n",
    "    def __init__(self, series1, series2, keys):\n",
    "        \"\"\"\n",
    "        series1 = vector of true answers\n",
    "        series2 = vector of 1 and 0\n",
    "        key = vector of odd number of strings\n",
    "        \"\"\"\n",
    "        self.series1 = series1\n",
    "        self.series2 = series2\n",
    "        self.keys = keys\n",
    "    \n",
    "    def match(self):\n",
    "        answers = []\n",
    "        for idx, i in enumerate(self.series2):\n",
    "            if i == 1:\n",
    "                answers.append(self.series1.loc[idx])\n",
    "            else:\n",
    "                answers.append(np.random.choice([i for i in set(self.keys)-set(self.series1.loc[idx])], 1)[0])\n",
    "\n",
    "        return answers "
   ]
  },
  {
   "cell_type": "code",
   "execution_count": 20,
   "metadata": {},
   "outputs": [],
   "source": [
    "worker_answer = WorkerAnswer(df_tw['true_answers'], cp.predict(), keys)"
   ]
  },
  {
   "cell_type": "code",
   "execution_count": 21,
   "metadata": {},
   "outputs": [],
   "source": [
    "df_tw['worker_answers'] = worker_answer.match()"
   ]
  },
  {
   "cell_type": "code",
   "execution_count": 22,
   "metadata": {},
   "outputs": [
    {
     "data": {
      "text/html": [
       "<div>\n",
       "<style scoped>\n",
       "    .dataframe tbody tr th:only-of-type {\n",
       "        vertical-align: middle;\n",
       "    }\n",
       "\n",
       "    .dataframe tbody tr th {\n",
       "        vertical-align: top;\n",
       "    }\n",
       "\n",
       "    .dataframe thead th {\n",
       "        text-align: right;\n",
       "    }\n",
       "</style>\n",
       "<table border=\"1\" class=\"dataframe\">\n",
       "  <thead>\n",
       "    <tr style=\"text-align: right;\">\n",
       "      <th></th>\n",
       "      <th>task_id</th>\n",
       "      <th>worker_id</th>\n",
       "      <th>true_answers</th>\n",
       "      <th>label_task</th>\n",
       "      <th>prob_task</th>\n",
       "      <th>prob_worker</th>\n",
       "      <th>worker_answers</th>\n",
       "    </tr>\n",
       "  </thead>\n",
       "  <tbody>\n",
       "    <tr>\n",
       "      <th>0</th>\n",
       "      <td>task_XafRVCDgH83P</td>\n",
       "      <td>qqzCZV9zCPWd</td>\n",
       "      <td>boil</td>\n",
       "      <td>easy_task</td>\n",
       "      <td>0.85</td>\n",
       "      <td>0.721034</td>\n",
       "      <td>boil</td>\n",
       "    </tr>\n",
       "    <tr>\n",
       "      <th>1</th>\n",
       "      <td>task_XafRVCDgH83P</td>\n",
       "      <td>uKhYntfoMCn7</td>\n",
       "      <td>boil</td>\n",
       "      <td>easy_task</td>\n",
       "      <td>0.85</td>\n",
       "      <td>0.864156</td>\n",
       "      <td>boil</td>\n",
       "    </tr>\n",
       "    <tr>\n",
       "      <th>2</th>\n",
       "      <td>task_XafRVCDgH83P</td>\n",
       "      <td>jnfLbMfzgvmx</td>\n",
       "      <td>boil</td>\n",
       "      <td>easy_task</td>\n",
       "      <td>0.85</td>\n",
       "      <td>0.914051</td>\n",
       "      <td>boil</td>\n",
       "    </tr>\n",
       "    <tr>\n",
       "      <th>3</th>\n",
       "      <td>task_XafRVCDgH83P</td>\n",
       "      <td>pbR97p7Zi5VR</td>\n",
       "      <td>boil</td>\n",
       "      <td>easy_task</td>\n",
       "      <td>0.85</td>\n",
       "      <td>0.855669</td>\n",
       "      <td>boil</td>\n",
       "    </tr>\n",
       "    <tr>\n",
       "      <th>4</th>\n",
       "      <td>task_XafRVCDgH83P</td>\n",
       "      <td>3vReZAC29xQC</td>\n",
       "      <td>boil</td>\n",
       "      <td>easy_task</td>\n",
       "      <td>0.85</td>\n",
       "      <td>0.781081</td>\n",
       "      <td>boil</td>\n",
       "    </tr>\n",
       "  </tbody>\n",
       "</table>\n",
       "</div>"
      ],
      "text/plain": [
       "             task_id     worker_id true_answers label_task  prob_task  \\\n",
       "0  task_XafRVCDgH83P  qqzCZV9zCPWd         boil  easy_task       0.85   \n",
       "1  task_XafRVCDgH83P  uKhYntfoMCn7         boil  easy_task       0.85   \n",
       "2  task_XafRVCDgH83P  jnfLbMfzgvmx         boil  easy_task       0.85   \n",
       "3  task_XafRVCDgH83P  pbR97p7Zi5VR         boil  easy_task       0.85   \n",
       "4  task_XafRVCDgH83P  3vReZAC29xQC         boil  easy_task       0.85   \n",
       "\n",
       "   prob_worker worker_answers  \n",
       "0     0.721034           boil  \n",
       "1     0.864156           boil  \n",
       "2     0.914051           boil  \n",
       "3     0.855669           boil  \n",
       "4     0.781081           boil  "
      ]
     },
     "execution_count": 22,
     "metadata": {},
     "output_type": "execute_result"
    }
   ],
   "source": [
    "df_tw.head()"
   ]
  },
  {
   "cell_type": "markdown",
   "metadata": {},
   "source": [
    "---\n",
    "### Confusion Matrix for the answers\n",
    "\n",
    "Based on [pycm](https://github.com/sepandhaghighi/pycm) analysis"
   ]
  },
  {
   "cell_type": "code",
   "execution_count": 23,
   "metadata": {},
   "outputs": [],
   "source": [
    "from pycm import *"
   ]
  },
  {
   "cell_type": "code",
   "execution_count": 24,
   "metadata": {},
   "outputs": [],
   "source": [
    "cm = ConfusionMatrix(df_tw['true_answers'].tolist(), df_tw['worker_answers'].tolist())"
   ]
  },
  {
   "cell_type": "code",
   "execution_count": 27,
   "metadata": {},
   "outputs": [
    {
     "data": {
      "text/html": [
       "<div>\n",
       "<style scoped>\n",
       "    .dataframe tbody tr th:only-of-type {\n",
       "        vertical-align: middle;\n",
       "    }\n",
       "\n",
       "    .dataframe tbody tr th {\n",
       "        vertical-align: top;\n",
       "    }\n",
       "\n",
       "    .dataframe thead th {\n",
       "        text-align: right;\n",
       "    }\n",
       "</style>\n",
       "<table border=\"1\" class=\"dataframe\">\n",
       "  <thead>\n",
       "    <tr style=\"text-align: right;\">\n",
       "      <th></th>\n",
       "      <th>battle</th>\n",
       "      <th>boil</th>\n",
       "      <th>lockers</th>\n",
       "      <th>retrieval</th>\n",
       "      <th>stop</th>\n",
       "    </tr>\n",
       "  </thead>\n",
       "  <tbody>\n",
       "    <tr>\n",
       "      <th>battle</th>\n",
       "      <td>409</td>\n",
       "      <td>16</td>\n",
       "      <td>13</td>\n",
       "      <td>17</td>\n",
       "      <td>11</td>\n",
       "    </tr>\n",
       "    <tr>\n",
       "      <th>boil</th>\n",
       "      <td>6</td>\n",
       "      <td>378</td>\n",
       "      <td>13</td>\n",
       "      <td>16</td>\n",
       "      <td>12</td>\n",
       "    </tr>\n",
       "    <tr>\n",
       "      <th>lockers</th>\n",
       "      <td>9</td>\n",
       "      <td>12</td>\n",
       "      <td>373</td>\n",
       "      <td>10</td>\n",
       "      <td>9</td>\n",
       "    </tr>\n",
       "    <tr>\n",
       "      <th>retrieval</th>\n",
       "      <td>10</td>\n",
       "      <td>8</td>\n",
       "      <td>12</td>\n",
       "      <td>376</td>\n",
       "      <td>10</td>\n",
       "    </tr>\n",
       "    <tr>\n",
       "      <th>stop</th>\n",
       "      <td>11</td>\n",
       "      <td>16</td>\n",
       "      <td>9</td>\n",
       "      <td>11</td>\n",
       "      <td>308</td>\n",
       "    </tr>\n",
       "  </tbody>\n",
       "</table>\n",
       "</div>"
      ],
      "text/plain": [
       "           battle  boil  lockers  retrieval  stop\n",
       "battle        409    16       13         17    11\n",
       "boil            6   378       13         16    12\n",
       "lockers         9    12      373         10     9\n",
       "retrieval      10     8       12        376    10\n",
       "stop           11    16        9         11   308"
      ]
     },
     "execution_count": 27,
     "metadata": {},
     "output_type": "execute_result"
    }
   ],
   "source": [
    "pd.DataFrame(cm.matrix)"
   ]
  },
  {
   "cell_type": "code",
   "execution_count": 28,
   "metadata": {},
   "outputs": [
    {
     "data": {
      "text/plain": [
       "0.8886746987951807"
      ]
     },
     "execution_count": 28,
     "metadata": {},
     "output_type": "execute_result"
    }
   ],
   "source": [
    "cm.Overall_ACC"
   ]
  },
  {
   "cell_type": "code",
   "execution_count": 29,
   "metadata": {},
   "outputs": [
    {
     "data": {
      "text/plain": [
       "2.317640406882621"
      ]
     },
     "execution_count": 29,
     "metadata": {},
     "output_type": "execute_result"
    }
   ],
   "source": [
    "cm.CrossEntropy"
   ]
  },
  {
   "cell_type": "code",
   "execution_count": 30,
   "metadata": {},
   "outputs": [
    {
     "data": {
      "text/plain": [
       "{'battle': 0.9551807228915663,\n",
       " 'boil': 0.952289156626506,\n",
       " 'lockers': 0.9580722891566265,\n",
       " 'retrieval': 0.9546987951807229,\n",
       " 'stop': 0.9571084337349398}"
      ]
     },
     "execution_count": 30,
     "metadata": {},
     "output_type": "execute_result"
    }
   ],
   "source": [
    "cm.ACC"
   ]
  },
  {
   "cell_type": "code",
   "execution_count": 31,
   "metadata": {},
   "outputs": [
    {
     "data": {
      "text/plain": [
       "{'battle': 0.03496932515337425,\n",
       " 'boil': 0.02857142857142858,\n",
       " 'lockers': 0.024169184290030232,\n",
       " 'retrieval': 0.024316109422492405,\n",
       " 'stop': 0.027246376811594253}"
      ]
     },
     "execution_count": 31,
     "metadata": {},
     "output_type": "execute_result"
    }
   ],
   "source": [
    "cm.FPR #False positive rate (FPR), Fall-out, probability of false alarm "
   ]
  },
  {
   "cell_type": "code",
   "execution_count": 32,
   "metadata": {},
   "outputs": [
    {
     "data": {
      "text/plain": [
       "{'battle': 0.9191011235955057,\n",
       " 'boil': 0.8790697674418605,\n",
       " 'lockers': 0.888095238095238,\n",
       " 'retrieval': 0.8744186046511628,\n",
       " 'stop': 0.88}"
      ]
     },
     "execution_count": 32,
     "metadata": {},
     "output_type": "execute_result"
    }
   ],
   "source": [
    "cm.TPR #True positive rate (TPR), Recall, Sensitivity, probability of detection "
   ]
  },
  {
   "cell_type": "code",
   "execution_count": 33,
   "metadata": {},
   "outputs": [
    {
     "data": {
      "text/plain": [
       "0.8881369467567535"
      ]
     },
     "execution_count": 33,
     "metadata": {},
     "output_type": "execute_result"
    }
   ],
   "source": [
    "np.mean([i for i in cm.TPR.values()])"
   ]
  },
  {
   "cell_type": "code",
   "execution_count": 34,
   "metadata": {},
   "outputs": [
    {
     "data": {
      "text/plain": [
       "{'battle': 0.9650306748466257,\n",
       " 'boil': 0.9714285714285714,\n",
       " 'lockers': 0.9758308157099698,\n",
       " 'retrieval': 0.9756838905775076,\n",
       " 'stop': 0.9727536231884057}"
      ]
     },
     "execution_count": 34,
     "metadata": {},
     "output_type": "execute_result"
    }
   ],
   "source": [
    "cm.TNR #Specificity (SPC), Selectivity, True negative rate (TNR) "
   ]
  },
  {
   "cell_type": "code",
   "execution_count": 35,
   "metadata": {},
   "outputs": [
    {
     "data": {
      "text/plain": [
       "{'battle': 0.8776824034334764,\n",
       " 'boil': 0.8894117647058823,\n",
       " 'lockers': 0.9031476997578692,\n",
       " 'retrieval': 0.9038461538461539,\n",
       " 'stop': 0.8676056338028169}"
      ]
     },
     "execution_count": 35,
     "metadata": {},
     "output_type": "execute_result"
    }
   ],
   "source": [
    "cm.PPV #PPV(Precision or positive predictive value)   "
   ]
  },
  {
   "cell_type": "code",
   "execution_count": 36,
   "metadata": {},
   "outputs": [
    {
     "data": {
      "text/plain": [
       "0.8883387311092397"
      ]
     },
     "execution_count": 36,
     "metadata": {},
     "output_type": "execute_result"
    }
   ],
   "source": [
    "np.mean([i for i in cm.PPV.values()])"
   ]
  },
  {
   "cell_type": "code",
   "execution_count": 37,
   "metadata": {},
   "outputs": [
    {
     "data": {
      "text/plain": [
       "{'battle': 0.02237414543194527,\n",
       " 'boil': 0.031515151515151496,\n",
       " 'lockers': 0.02827918170878463,\n",
       " 'retrieval': 0.032549728752260365,\n",
       " 'stop': 0.024418604651162745}"
      ]
     },
     "execution_count": 37,
     "metadata": {},
     "output_type": "execute_result"
    }
   ],
   "source": [
    "cm.FOR"
   ]
  },
  {
   "cell_type": "code",
   "execution_count": 38,
   "metadata": {},
   "outputs": [
    {
     "data": {
      "text/plain": [
       "{'battle': 0.897914379802415,\n",
       " 'boil': 0.8842105263157894,\n",
       " 'lockers': 0.8955582232893158,\n",
       " 'retrieval': 0.8888888888888888,\n",
       " 'stop': 0.873758865248227}"
      ]
     },
     "execution_count": 38,
     "metadata": {},
     "output_type": "execute_result"
    }
   ],
   "source": [
    "cm.F1"
   ]
  },
  {
   "cell_type": "code",
   "execution_count": 39,
   "metadata": {},
   "outputs": [
    {
     "data": {
      "text/plain": [
       "0.8880661767089272"
      ]
     },
     "execution_count": 39,
     "metadata": {},
     "output_type": "execute_result"
    }
   ],
   "source": [
    "sum([i for i in cm.F1.values()])/len([i for i in cm.F1.values()])"
   ]
  },
  {
   "cell_type": "markdown",
   "metadata": {},
   "source": [
    "---\n",
    "### Measuring Performance and split the good workers from the rest"
   ]
  },
  {
   "cell_type": "markdown",
   "metadata": {},
   "source": [
    "Next we measure the performance of the worker. The performance is calculate as the number of times a worker answers right (in comparison with the true answer) over the total number of workers per task.  \n",
    "\n",
    "The range of the performance value spans from 0 to 1. The values close to 1 indicate that the majority of the workers had consensus. The values close to 0 indicate that there was no consensus."
   ]
  },
  {
   "cell_type": "code",
   "execution_count": 47,
   "metadata": {},
   "outputs": [],
   "source": [
    "df_tw['performance'] = cp.predict()"
   ]
  },
  {
   "cell_type": "code",
   "execution_count": 48,
   "metadata": {},
   "outputs": [],
   "source": [
    "import pandas as pd\n",
    "\n",
    "IDX = 'worker_id'\n",
    "\n",
    "class Performance(object):\n",
    "    def __init__ (self, df_tw):\n",
    "        \"\"\"\n",
    "        :df_tw: dataframe of assigned tasks to workers\n",
    "        \"\"\"\n",
    "        self.df_tw = df_tw\n",
    "        \n",
    "    def _agg(self):\n",
    "        df = self.df_tw.groupby(IDX).agg('count')['task_id']\n",
    "        df.index.name = 'tasks'\n",
    "        return df\n",
    "    \n",
    "    def _workers(self):\n",
    "        df = self.df_tw.groupby(self.df_tw[IDX]).mean().sort_values('performance', ascending=False)\n",
    "        df['worker_ability'] = ['good_worker' if i >= df['performance'].mean() else 'poor_worker' for i in df['performance']]\n",
    "        return df.reset_index().join(self._agg(), on=IDX, how='left')\n",
    "    \n",
    "    def good_workers(self):\n",
    "        _good = self._workers()[(self._workers()['worker_ability'] == 'good_worker') & ((self._workers()['prob_task'] < self._workers()['prob_task'].median()))]\n",
    "        return [i for i in _good[IDX]]\n",
    "    \n",
    "    def trained_workers(self):\n",
    "        _w = self._workers()\n",
    "        _w.index = _w['worker_id']\n",
    "        dfw = _w.loc[self.good_workers()]\n",
    "        dfw['alpha'] = round(dfw['performance']*dfw['task_id'],0)\n",
    "        dfw['beta'] = dfw['task_id'] - dfw['alpha']\n",
    "        dfw['alpha'] = [int(i + 28) for i in dfw['alpha']]\n",
    "        dfw['beta'] = 1#[int(i + 1) for i in dfw['beta']]\n",
    "        df = pd.DataFrame(\n",
    "            {'worker_id': self.good_workers(),\n",
    "             'prob_worker': [beta.rvs(a, b, size=1)[0] for a, b in zip(dfw['alpha'], dfw['beta'])]})\n",
    "        df.index = df['worker_id']\n",
    "        df.index.name = 'id'\n",
    "        return df"
   ]
  },
  {
   "cell_type": "code",
   "execution_count": 49,
   "metadata": {},
   "outputs": [],
   "source": [
    "perf = Performance(df_tw)"
   ]
  },
  {
   "cell_type": "code",
   "execution_count": 50,
   "metadata": {},
   "outputs": [
    {
     "data": {
      "text/html": [
       "<div>\n",
       "<style scoped>\n",
       "    .dataframe tbody tr th:only-of-type {\n",
       "        vertical-align: middle;\n",
       "    }\n",
       "\n",
       "    .dataframe tbody tr th {\n",
       "        vertical-align: top;\n",
       "    }\n",
       "\n",
       "    .dataframe thead th {\n",
       "        text-align: right;\n",
       "    }\n",
       "</style>\n",
       "<table border=\"1\" class=\"dataframe\">\n",
       "  <thead>\n",
       "    <tr style=\"text-align: right;\">\n",
       "      <th></th>\n",
       "      <th>worker_id</th>\n",
       "      <th>prob_worker</th>\n",
       "    </tr>\n",
       "    <tr>\n",
       "      <th>id</th>\n",
       "      <th></th>\n",
       "      <th></th>\n",
       "    </tr>\n",
       "  </thead>\n",
       "  <tbody>\n",
       "    <tr>\n",
       "      <th>QQFDfqzDBBYo</th>\n",
       "      <td>QQFDfqzDBBYo</td>\n",
       "      <td>0.999519</td>\n",
       "    </tr>\n",
       "    <tr>\n",
       "      <th>V4HVDMZJwYXC</th>\n",
       "      <td>V4HVDMZJwYXC</td>\n",
       "      <td>0.982941</td>\n",
       "    </tr>\n",
       "    <tr>\n",
       "      <th>F23fvnbEiHA6</th>\n",
       "      <td>F23fvnbEiHA6</td>\n",
       "      <td>0.998466</td>\n",
       "    </tr>\n",
       "    <tr>\n",
       "      <th>wEEkZtR3ciCR</th>\n",
       "      <td>wEEkZtR3ciCR</td>\n",
       "      <td>0.997439</td>\n",
       "    </tr>\n",
       "    <tr>\n",
       "      <th>pbR97p7Zi5VR</th>\n",
       "      <td>pbR97p7Zi5VR</td>\n",
       "      <td>0.971980</td>\n",
       "    </tr>\n",
       "    <tr>\n",
       "      <th>cFCS5HvaTwBZ</th>\n",
       "      <td>cFCS5HvaTwBZ</td>\n",
       "      <td>0.995748</td>\n",
       "    </tr>\n",
       "    <tr>\n",
       "      <th>KxQHnvXcA98y</th>\n",
       "      <td>KxQHnvXcA98y</td>\n",
       "      <td>0.986551</td>\n",
       "    </tr>\n",
       "    <tr>\n",
       "      <th>69bBLqBDKKgP</th>\n",
       "      <td>69bBLqBDKKgP</td>\n",
       "      <td>0.978729</td>\n",
       "    </tr>\n",
       "    <tr>\n",
       "      <th>bgmwT5h2oir7</th>\n",
       "      <td>bgmwT5h2oir7</td>\n",
       "      <td>0.989943</td>\n",
       "    </tr>\n",
       "    <tr>\n",
       "      <th>PyncgcN69x8a</th>\n",
       "      <td>PyncgcN69x8a</td>\n",
       "      <td>0.993406</td>\n",
       "    </tr>\n",
       "    <tr>\n",
       "      <th>ARtBmgvbVNoH</th>\n",
       "      <td>ARtBmgvbVNoH</td>\n",
       "      <td>0.993432</td>\n",
       "    </tr>\n",
       "    <tr>\n",
       "      <th>pwTeSLweJcos</th>\n",
       "      <td>pwTeSLweJcos</td>\n",
       "      <td>0.977295</td>\n",
       "    </tr>\n",
       "    <tr>\n",
       "      <th>AmjW9aNdCLxM</th>\n",
       "      <td>AmjW9aNdCLxM</td>\n",
       "      <td>0.985974</td>\n",
       "    </tr>\n",
       "  </tbody>\n",
       "</table>\n",
       "</div>"
      ],
      "text/plain": [
       "                 worker_id  prob_worker\n",
       "id                                     \n",
       "QQFDfqzDBBYo  QQFDfqzDBBYo     0.999519\n",
       "V4HVDMZJwYXC  V4HVDMZJwYXC     0.982941\n",
       "F23fvnbEiHA6  F23fvnbEiHA6     0.998466\n",
       "wEEkZtR3ciCR  wEEkZtR3ciCR     0.997439\n",
       "pbR97p7Zi5VR  pbR97p7Zi5VR     0.971980\n",
       "cFCS5HvaTwBZ  cFCS5HvaTwBZ     0.995748\n",
       "KxQHnvXcA98y  KxQHnvXcA98y     0.986551\n",
       "69bBLqBDKKgP  69bBLqBDKKgP     0.978729\n",
       "bgmwT5h2oir7  bgmwT5h2oir7     0.989943\n",
       "PyncgcN69x8a  PyncgcN69x8a     0.993406\n",
       "ARtBmgvbVNoH  ARtBmgvbVNoH     0.993432\n",
       "pwTeSLweJcos  pwTeSLweJcos     0.977295\n",
       "AmjW9aNdCLxM  AmjW9aNdCLxM     0.985974"
      ]
     },
     "execution_count": 50,
     "metadata": {},
     "output_type": "execute_result"
    }
   ],
   "source": [
    "perf.trained_workers()"
   ]
  },
  {
   "cell_type": "code",
   "execution_count": 51,
   "metadata": {
    "scrolled": true
   },
   "outputs": [
    {
     "name": "stdout",
     "output_type": "stream",
     "text": [
      "Prediction Correct 1751 of 2075\n"
     ]
    },
    {
     "data": {
      "image/png": "[encoded data removed]",
      "text/plain": [
       "<Figure size 1296x288 with 1 Axes>"
      ]
     },
     "metadata": {
      "needs_background": "light"
     },
     "output_type": "display_data"
    }
   ],
   "source": [
    "#Distribution performance\n",
    "plt.figure(figsize=[18, 4])\n",
    "sns.distplot(df_tw['performance'], kde=False, vertical=True, color=\"red\")\n",
    "print('Prediction Correct {} of {}'.format(df_tw['performance'].sum(), df_tw['performance'].count()))"
   ]
  },
  {
   "cell_type": "code",
   "execution_count": 52,
   "metadata": {
    "scrolled": false
   },
   "outputs": [
    {
     "data": {
      "text/plain": [
       "<matplotlib.axes._subplots.AxesSubplot at 0x12264beb8>"
      ]
     },
     "execution_count": 52,
     "metadata": {},
     "output_type": "execute_result"
    },
    {
     "data": {
      "image/png": "[encoded data removed]",
      "text/plain": [
       "<Figure size 720x720 with 1 Axes>"
      ]
     },
     "metadata": {
      "needs_background": "light"
     },
     "output_type": "display_data"
    }
   ],
   "source": [
    "plt.figure(figsize=[10, 10])\n",
    "sns.kdeplot(perf._workers()['performance'], perf._workers()['prob_worker'], cmap=\"Blues\", shade=True, shade_lowest=False)"
   ]
  },
  {
   "cell_type": "code",
   "execution_count": 53,
   "metadata": {},
   "outputs": [
    {
     "data": {
      "image/png": "[encoded data removed]",
      "text/plain": [
       "<Figure size 1296x288 with 1 Axes>"
      ]
     },
     "metadata": {
      "needs_background": "light"
     },
     "output_type": "display_data"
    }
   ],
   "source": [
    "plt.figure(figsize=[18, 4])\n",
    "axis = range(len(perf._workers()))\n",
    "plt.bar(axis, perf._workers()['performance'], align='center', alpha=0.8, color='blue', label='Probability of Answer correct')\n",
    "plt.xticks(axis, perf._workers()['worker_id'], rotation=90)\n",
    "plt.title('Workers Performance')\n",
    "plt.legend(loc='best')\n",
    "plt.show()"
   ]
  },
  {
   "cell_type": "code",
   "execution_count": 54,
   "metadata": {},
   "outputs": [
    {
     "data": {
      "text/html": [
       "<div>\n",
       "<style scoped>\n",
       "    .dataframe tbody tr th:only-of-type {\n",
       "        vertical-align: middle;\n",
       "    }\n",
       "\n",
       "    .dataframe tbody tr th {\n",
       "        vertical-align: top;\n",
       "    }\n",
       "\n",
       "    .dataframe thead th {\n",
       "        text-align: right;\n",
       "    }\n",
       "</style>\n",
       "<table border=\"1\" class=\"dataframe\">\n",
       "  <thead>\n",
       "    <tr style=\"text-align: right;\">\n",
       "      <th></th>\n",
       "      <th>prob_task</th>\n",
       "      <th>prob_worker</th>\n",
       "      <th>performance</th>\n",
       "      <th>task_id</th>\n",
       "    </tr>\n",
       "  </thead>\n",
       "  <tbody>\n",
       "    <tr>\n",
       "      <th>count</th>\n",
       "      <td>40.000000</td>\n",
       "      <td>40.000000</td>\n",
       "      <td>40.000000</td>\n",
       "      <td>40.000000</td>\n",
       "    </tr>\n",
       "    <tr>\n",
       "      <th>mean</th>\n",
       "      <td>0.543562</td>\n",
       "      <td>0.764430</td>\n",
       "      <td>0.843340</td>\n",
       "      <td>51.875000</td>\n",
       "    </tr>\n",
       "    <tr>\n",
       "      <th>std</th>\n",
       "      <td>0.035410</td>\n",
       "      <td>0.129008</td>\n",
       "      <td>0.102345</td>\n",
       "      <td>6.783039</td>\n",
       "    </tr>\n",
       "    <tr>\n",
       "      <th>min</th>\n",
       "      <td>0.469508</td>\n",
       "      <td>0.430052</td>\n",
       "      <td>0.543478</td>\n",
       "      <td>38.000000</td>\n",
       "    </tr>\n",
       "    <tr>\n",
       "      <th>25%</th>\n",
       "      <td>0.520303</td>\n",
       "      <td>0.680524</td>\n",
       "      <td>0.791256</td>\n",
       "      <td>47.750000</td>\n",
       "    </tr>\n",
       "    <tr>\n",
       "      <th>50%</th>\n",
       "      <td>0.545922</td>\n",
       "      <td>0.818528</td>\n",
       "      <td>0.870718</td>\n",
       "      <td>50.000000</td>\n",
       "    </tr>\n",
       "    <tr>\n",
       "      <th>75%</th>\n",
       "      <td>0.569515</td>\n",
       "      <td>0.858296</td>\n",
       "      <td>0.920000</td>\n",
       "      <td>56.000000</td>\n",
       "    </tr>\n",
       "    <tr>\n",
       "      <th>max</th>\n",
       "      <td>0.628421</td>\n",
       "      <td>0.932302</td>\n",
       "      <td>0.980000</td>\n",
       "      <td>71.000000</td>\n",
       "    </tr>\n",
       "  </tbody>\n",
       "</table>\n",
       "</div>"
      ],
      "text/plain": [
       "       prob_task  prob_worker  performance    task_id\n",
       "count  40.000000    40.000000    40.000000  40.000000\n",
       "mean    0.543562     0.764430     0.843340  51.875000\n",
       "std     0.035410     0.129008     0.102345   6.783039\n",
       "min     0.469508     0.430052     0.543478  38.000000\n",
       "25%     0.520303     0.680524     0.791256  47.750000\n",
       "50%     0.545922     0.818528     0.870718  50.000000\n",
       "75%     0.569515     0.858296     0.920000  56.000000\n",
       "max     0.628421     0.932302     0.980000  71.000000"
      ]
     },
     "execution_count": 54,
     "metadata": {},
     "output_type": "execute_result"
    }
   ],
   "source": [
    "perf._workers().describe()"
   ]
  },
  {
   "cell_type": "markdown",
   "metadata": {},
   "source": [
    "---\n",
    "### Get Accuracy (Make Module)"
   ]
  },
  {
   "cell_type": "code",
   "execution_count": 55,
   "metadata": {},
   "outputs": [],
   "source": [
    "import sys\n",
    "sys.path.insert(0, '/Users/pedrohserrano/crowdED/crowded')\n",
    "import simulate as cs\n",
    "import method as cm\n",
    "import make as mk\n",
    "\n",
    "PTT = .3\n",
    "\n",
    "def tasks_split(df, p=PTT):\n",
    "    _train = df.sample(frac=p, random_state=23)\n",
    "    _rest = df.loc[df.index.difference(_train.index)]\n",
    "    return _train, _rest\n",
    "\n",
    "\n",
    "def _update_progress(job_title, progress):\n",
    "    length = 20\n",
    "    block = int(round(length * progress))\n",
    "    msg = \"\\r{0}: [{1}] {2}%\".format(\n",
    "        job_title, \"#\" * block + \"-\" * (length - block), round(progress * 100, 2))\n",
    "    if progress >= 1:\n",
    "        msg += \" DONE\\r\\n\"\n",
    "    sys.stdout.write(msg)\n",
    "    sys.stdout.flush()\n",
    "\n",
    "def crowd_table(total_tasks=100, total_workers=30, p_hard_tasks=0.4, ptt=.3, wpt=5, nk=5, a=7.6, b=2.3):\n",
    "    #Defining the experiment parameters\n",
    "    df_tasks = cs.Tasks(nk).create(total_tasks, p_hard_tasks)\n",
    "    workers = cs.Workers(a,b).create(total_workers)\n",
    "    keys = df_tasks['true_answers'].unique()\n",
    "    tasks_train, tasks_rest = tasks_split(df_tasks, ptt)\n",
    "    #Compute Method for Training set\n",
    "    df_tw = cs.AssignTasks(tasks_train, workers, wpt).create()\n",
    "    cp = cm.ComputeProbability(df_tw['prob_task'], df_tw['prob_worker'], keys)\n",
    "    df_tw['worker_answers'] = cm.WorkerAnswer(df_tw['true_answers'], cp.predict(), keys).match()\n",
    "    df_tw['performance'] = cp.predict()\n",
    "    #Select the good workers from training phase\n",
    "    perf = cm.Performance(df_tw)\n",
    "    trained_workers = perf.trained_workers()\n",
    "    #Compute Method for the rest of the set\n",
    "    df_tw_2 = cs.AssignTasks(tasks_rest, trained_workers, wpt).create()\n",
    "    cp2 = cm.ComputeProbability(df_tw_2['prob_task'], df_tw_2['prob_worker'], keys)\n",
    "    df_tw_2['worker_answers'] = cm.WorkerAnswer(df_tw_2['true_answers'], cp2.predict(), keys).match()\n",
    "    df_tw_2['performance'] = cp2.predict()\n",
    "    #Append two sets in one final set\n",
    "    df = df_tw.append(df_tw_2)\n",
    "    return df\n",
    "\n",
    "def crowd_table_one_stage(total_tasks=100, total_workers=30, p_hard_tasks=0.4, ptt=.3, wpt=5, nk=5, a=7.6, b=2.3):\n",
    "    #Defining the experiment parameters\n",
    "    df_tasks = cs.Tasks(nk).create(total_tasks, p_hard_tasks)\n",
    "    workers = cs.Workers(a,b).create(total_workers)\n",
    "    keys = df_tasks['true_answers'].unique()\n",
    "    #Compute Method\n",
    "    df_tw = cs.AssignTasks(df_tasks, workers, wpt).create()\n",
    "    cp = cm.ComputeProbability(df_tw['prob_task'], df_tw['prob_worker'], keys)\n",
    "    df_tw['worker_answers'] = cm.WorkerAnswer(df_tw['true_answers'], cp.predict(), keys).match()\n",
    "    df_tw['performance'] = cp.predict()\n",
    "    return df_tw"
   ]
  },
  {
   "cell_type": "code",
   "execution_count": 56,
   "metadata": {},
   "outputs": [],
   "source": [
    "from pycm import *"
   ]
  },
  {
   "cell_type": "code",
   "execution_count": 66,
   "metadata": {},
   "outputs": [
    {
     "data": {
      "text/plain": [
       "0.9412048192771084"
      ]
     },
     "execution_count": 66,
     "metadata": {},
     "output_type": "execute_result"
    }
   ],
   "source": [
    "df = crowd_table(total_tasks=415, total_workers=40, p_hard_tasks=0.4, ptt=0.3, wpt=5, nk=5, a=7.6, b=2.3)\n",
    "cm2 = ConfusionMatrix(df['true_answers'].tolist(), df['worker_answers'].tolist())\n",
    "cm2.Overall_ACC"
   ]
  },
  {
   "cell_type": "code",
   "execution_count": 67,
   "metadata": {},
   "outputs": [
    {
     "data": {
      "text/html": [
       "<div>\n",
       "<style scoped>\n",
       "    .dataframe tbody tr th:only-of-type {\n",
       "        vertical-align: middle;\n",
       "    }\n",
       "\n",
       "    .dataframe tbody tr th {\n",
       "        vertical-align: top;\n",
       "    }\n",
       "\n",
       "    .dataframe thead th {\n",
       "        text-align: right;\n",
       "    }\n",
       "</style>\n",
       "<table border=\"1\" class=\"dataframe\">\n",
       "  <thead>\n",
       "    <tr style=\"text-align: right;\">\n",
       "      <th></th>\n",
       "      <th>millimeters</th>\n",
       "      <th>paws</th>\n",
       "      <th>radian</th>\n",
       "      <th>takeoffs</th>\n",
       "      <th>unions</th>\n",
       "    </tr>\n",
       "  </thead>\n",
       "  <tbody>\n",
       "    <tr>\n",
       "      <th>millimeters</th>\n",
       "      <td>419</td>\n",
       "      <td>4</td>\n",
       "      <td>2</td>\n",
       "      <td>5</td>\n",
       "      <td>5</td>\n",
       "    </tr>\n",
       "    <tr>\n",
       "      <th>paws</th>\n",
       "      <td>4</td>\n",
       "      <td>440</td>\n",
       "      <td>8</td>\n",
       "      <td>4</td>\n",
       "      <td>6</td>\n",
       "    </tr>\n",
       "    <tr>\n",
       "      <th>radian</th>\n",
       "      <td>4</td>\n",
       "      <td>13</td>\n",
       "      <td>338</td>\n",
       "      <td>10</td>\n",
       "      <td>5</td>\n",
       "    </tr>\n",
       "    <tr>\n",
       "      <th>takeoffs</th>\n",
       "      <td>9</td>\n",
       "      <td>8</td>\n",
       "      <td>6</td>\n",
       "      <td>328</td>\n",
       "      <td>1</td>\n",
       "    </tr>\n",
       "    <tr>\n",
       "      <th>unions</th>\n",
       "      <td>9</td>\n",
       "      <td>10</td>\n",
       "      <td>6</td>\n",
       "      <td>3</td>\n",
       "      <td>428</td>\n",
       "    </tr>\n",
       "  </tbody>\n",
       "</table>\n",
       "</div>"
      ],
      "text/plain": [
       "             millimeters  paws  radian  takeoffs  unions\n",
       "millimeters          419     4       2         5       5\n",
       "paws                   4   440       8         4       6\n",
       "radian                 4    13     338        10       5\n",
       "takeoffs               9     8       6       328       1\n",
       "unions                 9    10       6         3     428"
      ]
     },
     "execution_count": 67,
     "metadata": {},
     "output_type": "execute_result"
    }
   ],
   "source": [
    "pd.DataFrame(cm2.matrix)"
   ]
  },
  {
   "cell_type": "code",
   "execution_count": 68,
   "metadata": {},
   "outputs": [
    {
     "data": {
      "text/plain": [
       "0.8428915662650602"
      ]
     },
     "execution_count": 68,
     "metadata": {},
     "output_type": "execute_result"
    }
   ],
   "source": [
    "df1 = crowd_table_one_stage(total_tasks=415, total_workers=40, p_hard_tasks=0.4, ptt=0.3, wpt=5, nk=5, a=7.6, b=3.3)\n",
    "cm1 = ConfusionMatrix(df1['true_answers'].tolist(), df1['worker_answers'].tolist())\n",
    "cm1.Overall_ACC"
   ]
  },
  {
   "cell_type": "code",
   "execution_count": 69,
   "metadata": {},
   "outputs": [
    {
     "data": {
      "text/html": [
       "<div>\n",
       "<style scoped>\n",
       "    .dataframe tbody tr th:only-of-type {\n",
       "        vertical-align: middle;\n",
       "    }\n",
       "\n",
       "    .dataframe tbody tr th {\n",
       "        vertical-align: top;\n",
       "    }\n",
       "\n",
       "    .dataframe thead th {\n",
       "        text-align: right;\n",
       "    }\n",
       "</style>\n",
       "<table border=\"1\" class=\"dataframe\">\n",
       "  <thead>\n",
       "    <tr style=\"text-align: right;\">\n",
       "      <th></th>\n",
       "      <th>church</th>\n",
       "      <th>contract</th>\n",
       "      <th>failure</th>\n",
       "      <th>giants</th>\n",
       "      <th>rocket</th>\n",
       "    </tr>\n",
       "  </thead>\n",
       "  <tbody>\n",
       "    <tr>\n",
       "      <th>church</th>\n",
       "      <td>338</td>\n",
       "      <td>14</td>\n",
       "      <td>20</td>\n",
       "      <td>16</td>\n",
       "      <td>16</td>\n",
       "    </tr>\n",
       "    <tr>\n",
       "      <th>contract</th>\n",
       "      <td>16</td>\n",
       "      <td>323</td>\n",
       "      <td>21</td>\n",
       "      <td>14</td>\n",
       "      <td>10</td>\n",
       "    </tr>\n",
       "    <tr>\n",
       "      <th>failure</th>\n",
       "      <td>20</td>\n",
       "      <td>17</td>\n",
       "      <td>399</td>\n",
       "      <td>14</td>\n",
       "      <td>15</td>\n",
       "    </tr>\n",
       "    <tr>\n",
       "      <th>giants</th>\n",
       "      <td>12</td>\n",
       "      <td>20</td>\n",
       "      <td>14</td>\n",
       "      <td>349</td>\n",
       "      <td>24</td>\n",
       "    </tr>\n",
       "    <tr>\n",
       "      <th>rocket</th>\n",
       "      <td>4</td>\n",
       "      <td>21</td>\n",
       "      <td>16</td>\n",
       "      <td>22</td>\n",
       "      <td>340</td>\n",
       "    </tr>\n",
       "  </tbody>\n",
       "</table>\n",
       "</div>"
      ],
      "text/plain": [
       "          church  contract  failure  giants  rocket\n",
       "church       338        14       20      16      16\n",
       "contract      16       323       21      14      10\n",
       "failure       20        17      399      14      15\n",
       "giants        12        20       14     349      24\n",
       "rocket         4        21       16      22     340"
      ]
     },
     "execution_count": 69,
     "metadata": {},
     "output_type": "execute_result"
    }
   ],
   "source": [
    "pd.DataFrame(cm1.matrix)"
   ]
  },
  {
   "cell_type": "markdown",
   "metadata": {},
   "source": [
    "---"
   ]
  },
  {
   "cell_type": "markdown",
   "metadata": {},
   "source": [
    "### Comparison"
   ]
  },
  {
   "cell_type": "code",
   "execution_count": 71,
   "metadata": {},
   "outputs": [
    {
     "data": {
      "text/plain": [
       "0.9429474860639763"
      ]
     },
     "execution_count": 71,
     "metadata": {},
     "output_type": "execute_result"
    }
   ],
   "source": [
    "df = crowd_table(total_tasks=24457, total_workers=1470, ptt=0.3, wpt=3, nk=3)\n",
    "cm2 = ConfusionMatrix(df['true_answers'].tolist(), df['worker_answers'].tolist())\n",
    "cm2.Overall_ACC"
   ]
  },
  {
   "cell_type": "code",
   "execution_count": 91,
   "metadata": {},
   "outputs": [
    {
     "data": {
      "text/plain": [
       "0.9538238095238095"
      ]
     },
     "execution_count": 91,
     "metadata": {},
     "output_type": "execute_result"
    }
   ],
   "source": [
    "df = crowd_table(total_tasks=10000, total_workers=500, ptt=0.3, wpt=21, nk=2) #20\n",
    "cm2 = ConfusionMatrix(df['true_answers'].tolist(), df['worker_answers'].tolist())\n",
    "cm2.Overall_ACC"
   ]
  },
  {
   "cell_type": "code",
   "execution_count": 90,
   "metadata": {},
   "outputs": [
    {
     "data": {
      "text/plain": [
       "0.9527333333333333"
      ]
     },
     "execution_count": 90,
     "metadata": {},
     "output_type": "execute_result"
    }
   ],
   "source": [
    "df = crowd_table(total_tasks=6000, total_workers=300, ptt=0.3, wpt=5, nk=5)\n",
    "cm2 = ConfusionMatrix(df['true_answers'].tolist(), df['worker_answers'].tolist())\n",
    "cm2.Overall_ACC"
   ]
  },
  {
   "cell_type": "code",
   "execution_count": 92,
   "metadata": {},
   "outputs": [
    {
     "data": {
      "text/plain": [
       "0.9556275583273237"
      ]
     },
     "execution_count": 92,
     "metadata": {},
     "output_type": "execute_result"
    }
   ],
   "source": [
    "df = crowd_table(total_tasks=98453, total_workers=766, ptt=0.3, wpt=5, nk=2)\n",
    "cm2 = ConfusionMatrix(df['true_answers'].tolist(), df['worker_answers'].tolist())\n",
    "cm2.Overall_ACC"
   ]
  },
  {
   "cell_type": "code",
   "execution_count": 93,
   "metadata": {},
   "outputs": [
    {
     "data": {
      "text/plain": [
       "0.9470588235294117"
      ]
     },
     "execution_count": 93,
     "metadata": {},
     "output_type": "execute_result"
    }
   ],
   "source": [
    "df = crowd_table(total_tasks=850, total_workers=31, ptt=0.3, wpt=5, nk=2)\n",
    "cm2 = ConfusionMatrix(df['true_answers'].tolist(), df['worker_answers'].tolist())\n",
    "cm2.Overall_ACC"
   ]
  },
  {
   "cell_type": "code",
   "execution_count": 94,
   "metadata": {},
   "outputs": [
    {
     "data": {
      "text/plain": [
       "0.9477406679764243"
      ]
     },
     "execution_count": 94,
     "metadata": {},
     "output_type": "execute_result"
    }
   ],
   "source": [
    "df = crowd_table(total_tasks=509, total_workers=35, ptt=0.3, wpt=5, nk=2)\n",
    "cm2 = ConfusionMatrix(df['true_answers'].tolist(), df['worker_answers'].tolist())\n",
    "cm2.Overall_ACC"
   ]
  },
  {
   "cell_type": "code",
   "execution_count": 95,
   "metadata": {},
   "outputs": [
    {
     "data": {
      "text/plain": [
       "0.9488789237668162"
      ]
     },
     "execution_count": 95,
     "metadata": {},
     "output_type": "execute_result"
    }
   ],
   "source": [
    "df = crowd_table(total_tasks=223, total_workers=31, ptt=0.3, wpt=5, nk=2)\n",
    "cm2 = ConfusionMatrix(df['true_answers'].tolist(), df['worker_answers'].tolist())\n",
    "cm2.Overall_ACC"
   ]
  }
 ],
 "metadata": {
  "kernelspec": {
   "display_name": "Python 3",
   "language": "python",
   "name": "python3"
  },
  "language_info": {
   "codemirror_mode": {
    "name": "ipython",
    "version": 3
   },
   "file_extension": ".py",
   "mimetype": "text/x-python",
   "name": "python",
   "nbconvert_exporter": "python",
   "pygments_lexer": "ipython3",
   "version": "3.7.3"
  }
 },
 "nbformat": 4,
 "nbformat_minor": 2
}
