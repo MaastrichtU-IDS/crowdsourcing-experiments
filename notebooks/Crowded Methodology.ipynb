{
 "cells": [
  {
   "cell_type": "markdown",
   "metadata": {},
   "source": [
    "## CrowdED: Crowdsourcing task optimization\n",
    "---\n",
    "The research question we aim to answer is: \"Can we a-priori estimate optimal workers and tasks' assignment to obtain maximum accuracy on all tasks?\"\n",
    "\n",
    "*This notebook takes step by step the construction of the crowdED module*"
   ]
  },
  {
   "cell_type": "code",
   "execution_count": 1,
   "metadata": {},
   "outputs": [],
   "source": [
    "import matplotlib.pyplot as plt\n",
    "import seaborn as sns\n",
    "import warnings\n",
    "warnings.filterwarnings('ignore')\n",
    "%matplotlib inline"
   ]
  },
  {
   "cell_type": "markdown",
   "metadata": {},
   "source": [
    "---"
   ]
  },
  {
   "cell_type": "markdown",
   "metadata": {},
   "source": [
    "### Tasks Generator Module"
   ]
  },
  {
   "cell_type": "markdown",
   "metadata": {},
   "source": [
    "In our simulation, the task is that the worker has to choose one out of the five given answers. Here, we simulate the true answer for each worker-task pair."
   ]
  },
  {
   "cell_type": "markdown",
   "metadata": {},
   "source": [
    "It is needed one of the keys for the answer"
   ]
  },
  {
   "cell_type": "code",
   "execution_count": 2,
   "metadata": {},
   "outputs": [],
   "source": [
    "import sys\n",
    "import numpy as np\n",
    "import pandas as pd\n",
    "import shortuuid as uid\n",
    "import crowded.key_words as kw\n",
    "\n",
    "KEYS = 7\n",
    "HARD = 0.3\n",
    "LEN = 12\n",
    "N = 10\n",
    "\n",
    "class Tasks(object):\n",
    "    def __init__(self, keys=KEYS, length=LEN):\n",
    "        \"\"\"\n",
    "        :param keys: number of key words for the assessment\n",
    "        :type keys: python list or numpy array of any stringable objects\n",
    "        :param length: length of the identifier\n",
    "        :type length: int\n",
    "        \"\"\"\n",
    "        self.length = length\n",
    "        self.keys = keys\n",
    "\n",
    "    def _generate_tasks(self, n=N):\n",
    "        \"\"\"\n",
    "        :param n: number of tasks to be generated (default value: 10)\n",
    "        :type n: int\n",
    "        \"\"\"\n",
    "        return ['task_' + uid.ShortUUID().random(length=self.length) for i in range(n)]\n",
    "\n",
    "    def _random_words(self):\n",
    "        return [i for i in np.random.choice(kw.words(), self.keys, replace=False)]\n",
    "\n",
    "    def _true_answer(self, n=N):\n",
    "        \"\"\"\n",
    "        :param n: number of true answers to be generated (default value: 10)\n",
    "        :type n: int\n",
    "        \"\"\"\n",
    "        return [answer for answer in np.random.choice(self._random_words(), n)]\n",
    "\n",
    "    def create(self, n=N, h=HARD):\n",
    "        \"\"\"\n",
    "        :param n: number of tasks to be generated (default value: 10)\n",
    "        :type n: int\n",
    "        :param h: proportion of hard tasks a priori selected for the experiment (default value: 0.2)\n",
    "        :type h: float\n",
    "        \"\"\"\n",
    "        e = 1 - h\n",
    "        cut_tasks = 0.5\n",
    "        tasks = self._generate_tasks(n)\n",
    "        probs_tasks = []\n",
    "        easy_tasks = [task for task in np.random.choice(\n",
    "            tasks, int(round(e * n, 0)), replace=False)]\n",
    "        hard_tasks = [task for task in set(tasks) - set(easy_tasks)]\n",
    "        df = pd.DataFrame()\n",
    "        df['task_id'] = tasks\n",
    "        df['true_answers'] = self._true_answer(n)\n",
    "        df['label_task'] = ['hard_task' if tasks[i]\n",
    "                            in hard_tasks else 'easy_task' for i in range(n)]\n",
    "        for i in df['label_task']:\n",
    "            if i == 'easy_task':  # uniform from .75 to 1\n",
    "                probs_tasks.append(np.random.choice(\n",
    "                    (np.arange(cut_tasks, 1, 0.01)), 1))\n",
    "            elif i == 'hard_task':  # uniform from .5 to .75\n",
    "                probs_tasks.append(np.random.choice(\n",
    "                    (np.arange(0, cut_tasks, 0.01)), 1))\n",
    "            else:\n",
    "                probs_tasks.append(1)\n",
    "\n",
    "        df['prob_task'] = [item for prob in probs_tasks for item in prob]\n",
    "        return df"
   ]
  },
  {
   "cell_type": "markdown",
   "metadata": {},
   "source": [
    "### Tasks Generation"
   ]
  },
  {
   "cell_type": "code",
   "execution_count": 3,
   "metadata": {},
   "outputs": [],
   "source": [
    "total_tasks = 415 #342 #100\n",
    "total_workers = 40 #50 #30\n",
    "p_hard_tasks = 0.4\n",
    "number_of_keys = 5"
   ]
  },
  {
   "cell_type": "code",
   "execution_count": 4,
   "metadata": {},
   "outputs": [
    {
     "data": {
      "text/html": [
       "<div>\n",
       "<style scoped>\n",
       "    .dataframe tbody tr th:only-of-type {\n",
       "        vertical-align: middle;\n",
       "    }\n",
       "\n",
       "    .dataframe tbody tr th {\n",
       "        vertical-align: top;\n",
       "    }\n",
       "\n",
       "    .dataframe thead th {\n",
       "        text-align: right;\n",
       "    }\n",
       "</style>\n",
       "<table border=\"1\" class=\"dataframe\">\n",
       "  <thead>\n",
       "    <tr style=\"text-align: right;\">\n",
       "      <th></th>\n",
       "      <th>task_id</th>\n",
       "      <th>true_answers</th>\n",
       "      <th>label_task</th>\n",
       "      <th>prob_task</th>\n",
       "    </tr>\n",
       "  </thead>\n",
       "  <tbody>\n",
       "    <tr>\n",
       "      <th>0</th>\n",
       "      <td>task_EdKRYZFwuYmv</td>\n",
       "      <td>twine</td>\n",
       "      <td>easy_task</td>\n",
       "      <td>0.68</td>\n",
       "    </tr>\n",
       "    <tr>\n",
       "      <th>1</th>\n",
       "      <td>task_tcg5ukEXCXzA</td>\n",
       "      <td>directories</td>\n",
       "      <td>hard_task</td>\n",
       "      <td>0.44</td>\n",
       "    </tr>\n",
       "    <tr>\n",
       "      <th>2</th>\n",
       "      <td>task_aUFWvXKfCL9p</td>\n",
       "      <td>directories</td>\n",
       "      <td>hard_task</td>\n",
       "      <td>0.11</td>\n",
       "    </tr>\n",
       "    <tr>\n",
       "      <th>3</th>\n",
       "      <td>task_VZ6UPFjU3ySr</td>\n",
       "      <td>diagram</td>\n",
       "      <td>hard_task</td>\n",
       "      <td>0.49</td>\n",
       "    </tr>\n",
       "    <tr>\n",
       "      <th>4</th>\n",
       "      <td>task_2WRgGffo23Fa</td>\n",
       "      <td>twine</td>\n",
       "      <td>easy_task</td>\n",
       "      <td>0.87</td>\n",
       "    </tr>\n",
       "  </tbody>\n",
       "</table>\n",
       "</div>"
      ],
      "text/plain": [
       "             task_id true_answers label_task  prob_task\n",
       "0  task_EdKRYZFwuYmv        twine  easy_task       0.68\n",
       "1  task_tcg5ukEXCXzA  directories  hard_task       0.44\n",
       "2  task_aUFWvXKfCL9p  directories  hard_task       0.11\n",
       "3  task_VZ6UPFjU3ySr      diagram  hard_task       0.49\n",
       "4  task_2WRgGffo23Fa        twine  easy_task       0.87"
      ]
     },
     "execution_count": 4,
     "metadata": {},
     "output_type": "execute_result"
    }
   ],
   "source": [
    "df_tasks = Tasks(number_of_keys).create(total_tasks, p_hard_tasks)\n",
    "df_tasks.head()"
   ]
  },
  {
   "cell_type": "markdown",
   "metadata": {},
   "source": [
    "### Workers and Distribution Module"
   ]
  },
  {
   "cell_type": "code",
   "execution_count": 5,
   "metadata": {},
   "outputs": [],
   "source": [
    "import sys\n",
    "import pandas as pd\n",
    "import shortuuid as uid\n",
    "from scipy.stats import beta\n",
    "\n",
    "LEN = 12\n",
    "N = 10\n",
    "a = 28\n",
    "b = 3\n",
    "\n",
    "class Workers(object):\n",
    "    def __init__(self, alpha=a, beta=b, length=LEN):\n",
    "        \"\"\"\n",
    "        :param alpha: parameter alpha of a beta distribution (default value: 28)\n",
    "        :type alpha: float\n",
    "        :param beta: parameter beta of a beta distribution (default value: 3)\n",
    "        :type beta: float\n",
    "        :param length: number of workers to be created (default value:10)\n",
    "        :type length: type\n",
    "        \"\"\"\n",
    "        self.length = length\n",
    "        self.alpha = alpha\n",
    "        self.beta = beta\n",
    "\n",
    "    def create(self, n=N):\n",
    "        df = pd.DataFrame(\n",
    "            {'worker_id': [uid.ShortUUID().random(self.length) for i in range(n)],\n",
    "             'prob_worker': beta.rvs(self.alpha, self.beta, size=n)})\n",
    "        return df"
   ]
  },
  {
   "cell_type": "markdown",
   "metadata": {},
   "source": [
    "### Workers Generation"
   ]
  },
  {
   "cell_type": "code",
   "execution_count": 6,
   "metadata": {},
   "outputs": [
    {
     "data": {
      "text/html": [
       "<div>\n",
       "<style scoped>\n",
       "    .dataframe tbody tr th:only-of-type {\n",
       "        vertical-align: middle;\n",
       "    }\n",
       "\n",
       "    .dataframe tbody tr th {\n",
       "        vertical-align: top;\n",
       "    }\n",
       "\n",
       "    .dataframe thead th {\n",
       "        text-align: right;\n",
       "    }\n",
       "</style>\n",
       "<table border=\"1\" class=\"dataframe\">\n",
       "  <thead>\n",
       "    <tr style=\"text-align: right;\">\n",
       "      <th></th>\n",
       "      <th>prob_worker</th>\n",
       "      <th>worker_id</th>\n",
       "    </tr>\n",
       "  </thead>\n",
       "  <tbody>\n",
       "    <tr>\n",
       "      <th>0</th>\n",
       "      <td>0.876318</td>\n",
       "      <td>VYeCx9NUPFZA</td>\n",
       "    </tr>\n",
       "    <tr>\n",
       "      <th>1</th>\n",
       "      <td>0.838609</td>\n",
       "      <td>TynAmfDdvEFA</td>\n",
       "    </tr>\n",
       "    <tr>\n",
       "      <th>2</th>\n",
       "      <td>0.922775</td>\n",
       "      <td>uSkRo4YZq9DR</td>\n",
       "    </tr>\n",
       "    <tr>\n",
       "      <th>3</th>\n",
       "      <td>0.931893</td>\n",
       "      <td>sPz8yLA5hB3y</td>\n",
       "    </tr>\n",
       "    <tr>\n",
       "      <th>4</th>\n",
       "      <td>0.934112</td>\n",
       "      <td>jVozModDMPCT</td>\n",
       "    </tr>\n",
       "  </tbody>\n",
       "</table>\n",
       "</div>"
      ],
      "text/plain": [
       "   prob_worker     worker_id\n",
       "0     0.876318  VYeCx9NUPFZA\n",
       "1     0.838609  TynAmfDdvEFA\n",
       "2     0.922775  uSkRo4YZq9DR\n",
       "3     0.931893  sPz8yLA5hB3y\n",
       "4     0.934112  jVozModDMPCT"
      ]
     },
     "execution_count": 6,
     "metadata": {},
     "output_type": "execute_result"
    }
   ],
   "source": [
    "df_workers = Workers().create(total_workers)\n",
    "df_workers.head()"
   ]
  },
  {
   "cell_type": "markdown",
   "metadata": {},
   "source": [
    "---\n",
    "In this step, we first calculate the exact probabilities of getting the answer right for each worker and each task."
   ]
  },
  {
   "cell_type": "markdown",
   "metadata": {},
   "source": [
    "Since the ability is unknown before the task is undertaken, we use a beta distribution to model the distribution of worker ability. Its probability density function $f(x|a, v)$ is given by "
   ]
  },
  {
   "cell_type": "markdown",
   "metadata": {},
   "source": [
    "$$\n",
    "f(x|a,v) = Beta (\\frac{a}{\\min(a,1-a)v}, \\frac{(1-a)}{\\min(a,1-a)v})\n",
    "$$"
   ]
  },
  {
   "cell_type": "markdown",
   "metadata": {},
   "source": [
    "Here a ∈ (0, 1) is the normalized value of the average ability of the workers in the crowdsourcing platform.  \n",
    "v ∈ (0, 1) is a parameter that determines the variance in worker ability  \n",
    "[Paper](https://aaai.org/ocs/index.php/HCOMP/HCOMP16/paper/viewFile/14047/13632)  "
   ]
  },
  {
   "cell_type": "code",
   "execution_count": 7,
   "metadata": {},
   "outputs": [
    {
     "name": "stdout",
     "output_type": "stream",
     "text": [
      "Mean probability 0.9033984344528895\n"
     ]
    },
    {
     "data": {
      "image/png": "[encoded data removed]",
      "text/plain": [
       "<Figure size 432x288 with 1 Axes>"
      ]
     },
     "metadata": {},
     "output_type": "display_data"
    }
   ],
   "source": [
    "data_beta = beta.rvs(28, 3, size=10000)\n",
    "sns.distplot(data_beta, kde=False, bins=100)\n",
    "print('Mean probability {}'.format(np.mean(data_beta)))"
   ]
  },
  {
   "cell_type": "markdown",
   "metadata": {},
   "source": [
    "In general we have good workers, on average the 90% of chances to getting the answer right"
   ]
  },
  {
   "cell_type": "markdown",
   "metadata": {},
   "source": [
    "---"
   ]
  },
  {
   "cell_type": "markdown",
   "metadata": {},
   "source": [
    "#### Summary of aggregated probabilities"
   ]
  },
  {
   "cell_type": "code",
   "execution_count": 8,
   "metadata": {},
   "outputs": [
    {
     "data": {
      "text/html": [
       "<div>\n",
       "<style scoped>\n",
       "    .dataframe tbody tr th:only-of-type {\n",
       "        vertical-align: middle;\n",
       "    }\n",
       "\n",
       "    .dataframe tbody tr th {\n",
       "        vertical-align: top;\n",
       "    }\n",
       "\n",
       "    .dataframe thead tr th {\n",
       "        text-align: left;\n",
       "    }\n",
       "\n",
       "    .dataframe thead tr:last-of-type th {\n",
       "        text-align: right;\n",
       "    }\n",
       "</style>\n",
       "<table border=\"1\" class=\"dataframe\">\n",
       "  <thead>\n",
       "    <tr>\n",
       "      <th></th>\n",
       "      <th colspan=\"2\" halign=\"left\">prob_task</th>\n",
       "    </tr>\n",
       "    <tr>\n",
       "      <th></th>\n",
       "      <th>mean</th>\n",
       "      <th>count</th>\n",
       "    </tr>\n",
       "    <tr>\n",
       "      <th>label_task</th>\n",
       "      <th></th>\n",
       "      <th></th>\n",
       "    </tr>\n",
       "  </thead>\n",
       "  <tbody>\n",
       "    <tr>\n",
       "      <th>easy_task</th>\n",
       "      <td>0.744056</td>\n",
       "      <td>249</td>\n",
       "    </tr>\n",
       "    <tr>\n",
       "      <th>hard_task</th>\n",
       "      <td>0.229096</td>\n",
       "      <td>166</td>\n",
       "    </tr>\n",
       "  </tbody>\n",
       "</table>\n",
       "</div>"
      ],
      "text/plain": [
       "           prob_task      \n",
       "                mean count\n",
       "label_task                \n",
       "easy_task   0.744056   249\n",
       "hard_task   0.229096   166"
      ]
     },
     "execution_count": 8,
     "metadata": {},
     "output_type": "execute_result"
    }
   ],
   "source": [
    "df_tasks.groupby('label_task').agg(['mean','count'])"
   ]
  },
  {
   "cell_type": "code",
   "execution_count": 9,
   "metadata": {},
   "outputs": [
    {
     "data": {
      "text/html": [
       "<div>\n",
       "<style scoped>\n",
       "    .dataframe tbody tr th:only-of-type {\n",
       "        vertical-align: middle;\n",
       "    }\n",
       "\n",
       "    .dataframe tbody tr th {\n",
       "        vertical-align: top;\n",
       "    }\n",
       "\n",
       "    .dataframe thead th {\n",
       "        text-align: right;\n",
       "    }\n",
       "</style>\n",
       "<table border=\"1\" class=\"dataframe\">\n",
       "  <thead>\n",
       "    <tr style=\"text-align: right;\">\n",
       "      <th></th>\n",
       "      <th>prob_worker</th>\n",
       "    </tr>\n",
       "  </thead>\n",
       "  <tbody>\n",
       "    <tr>\n",
       "      <th>count</th>\n",
       "      <td>40.000000</td>\n",
       "    </tr>\n",
       "    <tr>\n",
       "      <th>mean</th>\n",
       "      <td>0.894199</td>\n",
       "    </tr>\n",
       "    <tr>\n",
       "      <th>std</th>\n",
       "      <td>0.051595</td>\n",
       "    </tr>\n",
       "    <tr>\n",
       "      <th>min</th>\n",
       "      <td>0.787610</td>\n",
       "    </tr>\n",
       "    <tr>\n",
       "      <th>25%</th>\n",
       "      <td>0.850577</td>\n",
       "    </tr>\n",
       "    <tr>\n",
       "      <th>50%</th>\n",
       "      <td>0.910112</td>\n",
       "    </tr>\n",
       "    <tr>\n",
       "      <th>75%</th>\n",
       "      <td>0.932448</td>\n",
       "    </tr>\n",
       "    <tr>\n",
       "      <th>max</th>\n",
       "      <td>0.978764</td>\n",
       "    </tr>\n",
       "  </tbody>\n",
       "</table>\n",
       "</div>"
      ],
      "text/plain": [
       "       prob_worker\n",
       "count    40.000000\n",
       "mean      0.894199\n",
       "std       0.051595\n",
       "min       0.787610\n",
       "25%       0.850577\n",
       "50%       0.910112\n",
       "75%       0.932448\n",
       "max       0.978764"
      ]
     },
     "execution_count": 9,
     "metadata": {},
     "output_type": "execute_result"
    }
   ],
   "source": [
    "df_workers.describe()"
   ]
  },
  {
   "cell_type": "markdown",
   "metadata": {},
   "source": [
    "--- "
   ]
  },
  {
   "cell_type": "markdown",
   "metadata": {},
   "source": [
    "### Creating a task-worker assignation"
   ]
  },
  {
   "cell_type": "markdown",
   "metadata": {},
   "source": [
    "this function has to eat btw the 2 df result from the previous functions"
   ]
  },
  {
   "cell_type": "code",
   "execution_count": 10,
   "metadata": {},
   "outputs": [],
   "source": [
    "import pandas as pd\n",
    "import numpy as np\n",
    "\n",
    "WPT = 3\n",
    "\n",
    "class AssignTasks(object):\n",
    "    def __init__(self, tasks, workers, wpt=WPT):\n",
    "        \"\"\"\n",
    "        :param tasks: table created usings Tasks().create() object\n",
    "        :type tasks: pandas dataframe\n",
    "        :param workers: table created using Workers().create object\n",
    "        :type workers: pandas dataframe\n",
    "        :param wpt: number of workers per task for the simulation\n",
    "        \"param type: integer\n",
    "        \"\"\"\n",
    "        self.wpt = wpt\n",
    "        self.tasks = tasks\n",
    "        self.workers = workers\n",
    "\n",
    "    def _worker_assign(self):\n",
    "        if self.wpt > len(self.workers):\n",
    "            raise Exception(\n",
    "                'Number of workers per task must be smaller than the number of workers!')\n",
    "        return [worker for i in [np.random.choice(self.workers.worker_id, self.wpt, replace=False) for task in self.tasks.task_id] for worker in i]\n",
    "\n",
    "    def _task_asssign(self):\n",
    "        if self.wpt % 2 == 0:\n",
    "            raise Exception('Number of workers per task must be odd!')\n",
    "        return [item for k in [[self.tasks.task_id[i]] * self.wpt for i in range(len(self.tasks.task_id))] for item in k]\n",
    "    \n",
    "    def create(self):\n",
    "        df = pd.DataFrame({'task_id': self._task_asssign(),\n",
    "                           'worker_id': self._worker_assign()})\n",
    "        df = pd.merge(df, self.tasks, on='task_id', how='left')\n",
    "        df = pd.merge(df, self.workers, on='worker_id', how='left')\n",
    "        return df"
   ]
  },
  {
   "cell_type": "code",
   "execution_count": 11,
   "metadata": {},
   "outputs": [],
   "source": [
    "wpt = 5\n",
    "#workers per task always smaller than the number of workers"
   ]
  },
  {
   "cell_type": "code",
   "execution_count": 12,
   "metadata": {},
   "outputs": [
    {
     "data": {
      "text/html": [
       "<div>\n",
       "<style scoped>\n",
       "    .dataframe tbody tr th:only-of-type {\n",
       "        vertical-align: middle;\n",
       "    }\n",
       "\n",
       "    .dataframe tbody tr th {\n",
       "        vertical-align: top;\n",
       "    }\n",
       "\n",
       "    .dataframe thead th {\n",
       "        text-align: right;\n",
       "    }\n",
       "</style>\n",
       "<table border=\"1\" class=\"dataframe\">\n",
       "  <thead>\n",
       "    <tr style=\"text-align: right;\">\n",
       "      <th></th>\n",
       "      <th>task_id</th>\n",
       "      <th>worker_id</th>\n",
       "      <th>true_answers</th>\n",
       "      <th>label_task</th>\n",
       "      <th>prob_task</th>\n",
       "      <th>prob_worker</th>\n",
       "    </tr>\n",
       "  </thead>\n",
       "  <tbody>\n",
       "    <tr>\n",
       "      <th>0</th>\n",
       "      <td>task_EdKRYZFwuYmv</td>\n",
       "      <td>QefBXNSexNeo</td>\n",
       "      <td>twine</td>\n",
       "      <td>easy_task</td>\n",
       "      <td>0.68</td>\n",
       "      <td>0.921782</td>\n",
       "    </tr>\n",
       "    <tr>\n",
       "      <th>1</th>\n",
       "      <td>task_EdKRYZFwuYmv</td>\n",
       "      <td>VoTTu2CnicrH</td>\n",
       "      <td>twine</td>\n",
       "      <td>easy_task</td>\n",
       "      <td>0.68</td>\n",
       "      <td>0.926076</td>\n",
       "    </tr>\n",
       "    <tr>\n",
       "      <th>2</th>\n",
       "      <td>task_EdKRYZFwuYmv</td>\n",
       "      <td>2rqzbp4pUHtU</td>\n",
       "      <td>twine</td>\n",
       "      <td>easy_task</td>\n",
       "      <td>0.68</td>\n",
       "      <td>0.852027</td>\n",
       "    </tr>\n",
       "    <tr>\n",
       "      <th>3</th>\n",
       "      <td>task_EdKRYZFwuYmv</td>\n",
       "      <td>M7rHvXC2xU6g</td>\n",
       "      <td>twine</td>\n",
       "      <td>easy_task</td>\n",
       "      <td>0.68</td>\n",
       "      <td>0.939961</td>\n",
       "    </tr>\n",
       "    <tr>\n",
       "      <th>4</th>\n",
       "      <td>task_EdKRYZFwuYmv</td>\n",
       "      <td>TynAmfDdvEFA</td>\n",
       "      <td>twine</td>\n",
       "      <td>easy_task</td>\n",
       "      <td>0.68</td>\n",
       "      <td>0.838609</td>\n",
       "    </tr>\n",
       "  </tbody>\n",
       "</table>\n",
       "</div>"
      ],
      "text/plain": [
       "             task_id     worker_id true_answers label_task  prob_task  \\\n",
       "0  task_EdKRYZFwuYmv  QefBXNSexNeo        twine  easy_task       0.68   \n",
       "1  task_EdKRYZFwuYmv  VoTTu2CnicrH        twine  easy_task       0.68   \n",
       "2  task_EdKRYZFwuYmv  2rqzbp4pUHtU        twine  easy_task       0.68   \n",
       "3  task_EdKRYZFwuYmv  M7rHvXC2xU6g        twine  easy_task       0.68   \n",
       "4  task_EdKRYZFwuYmv  TynAmfDdvEFA        twine  easy_task       0.68   \n",
       "\n",
       "   prob_worker  \n",
       "0     0.921782  \n",
       "1     0.926076  \n",
       "2     0.852027  \n",
       "3     0.939961  \n",
       "4     0.838609  "
      ]
     },
     "execution_count": 12,
     "metadata": {},
     "output_type": "execute_result"
    }
   ],
   "source": [
    "df_tw = AssignTasks(df_tasks, df_workers, wpt).create()\n",
    "df_tw.head()"
   ]
  },
  {
   "cell_type": "code",
   "execution_count": 13,
   "metadata": {},
   "outputs": [],
   "source": [
    "#aggregation of the tasks\n",
    "_agg = df_tw.groupby('worker_id').agg('count')['task_id']\n",
    "_agg.name = 'tasks'"
   ]
  },
  {
   "cell_type": "code",
   "execution_count": 14,
   "metadata": {},
   "outputs": [
    {
     "data": {
      "text/plain": [
       "worker_id\n",
       "dxjyVQDqo6wP    67\n",
       "dKmAZdmJLvtp    64\n",
       "QefBXNSexNeo    64\n",
       "UaYNALTkqmo7    62\n",
       "S6j9faewyzAv    59\n",
       "Name: tasks, dtype: int64"
      ]
     },
     "execution_count": 14,
     "metadata": {},
     "output_type": "execute_result"
    }
   ],
   "source": [
    "# REVIEW THIS, HOW DO WE MAKE SURE ALL THE WORKERS HAVE TASK ASIGNATED\n",
    "_agg.sort_values(ascending=False).head()"
   ]
  },
  {
   "cell_type": "markdown",
   "metadata": {},
   "source": [
    "---\n",
    "### Probabilities of getting the answer right"
   ]
  },
  {
   "cell_type": "markdown",
   "metadata": {},
   "source": [
    "w = worker answer correct  \n",
    "T = Having knowledge to do the task\n",
    "\n",
    "\n",
    "$$\n",
    "P(w~|~T) = \\frac{P(T~|~w) P(w)}{P(T~|~w) P(w) + P(T~|~w^c) P(w^c)}\n",
    "$$\n",
    "\n",
    "[Bayes for conditional probability example](http://www.stat.yale.edu/Courses/1997-98/101/condprob.htm)"
   ]
  },
  {
   "cell_type": "markdown",
   "metadata": {},
   "source": [
    "Class propuse:  \n",
    "Based on two vectors (pandas series same lenght) of probabilities create a conditional probability  \n",
    "one vector for person, another for activity in this case workers and tasks\n",
    "This new conditional prob is the prior probability for a Bernoulli likelihood  \n",
    "Then the predicion will tell if the answer was right or not  "
   ]
  },
  {
   "cell_type": "markdown",
   "metadata": {},
   "source": [
    "The Bernoulli is the posterior function to modelate the action"
   ]
  },
  {
   "cell_type": "code",
   "execution_count": 15,
   "metadata": {},
   "outputs": [],
   "source": [
    "keys = df_tasks['true_answers'].unique()"
   ]
  },
  {
   "cell_type": "code",
   "execution_count": 16,
   "metadata": {},
   "outputs": [
    {
     "data": {
      "text/plain": [
       "array(['twine', 'directories', 'diagram', 'clamps', 'eve'], dtype=object)"
      ]
     },
     "execution_count": 16,
     "metadata": {},
     "output_type": "execute_result"
    }
   ],
   "source": [
    "keys"
   ]
  },
  {
   "cell_type": "code",
   "execution_count": 17,
   "metadata": {},
   "outputs": [],
   "source": [
    "import pandas as pd\n",
    "from scipy.stats import bernoulli\n",
    "\n",
    "class ComputeProbability(object):\n",
    "    def __init__(self, series1, series2, keys, size=1):\n",
    "        self.size = size\n",
    "        self.series1 = series1\n",
    "        self.series2 = series2\n",
    "        self.keys = keys\n",
    "        \n",
    "    def _random_selection(self):\n",
    "        return 1/len(self.keys)\n",
    "    \n",
    "    def _bayes_prob(self):\n",
    "        if len(self.series1) != len(self.series2):\n",
    "            raise Exception(\"Probability series expected to be the same size\")\n",
    "        return (self.series1*self.series2) / (self.series1*self.series2 + self._random_selection()*(1-self.series2))\n",
    "    \n",
    "    def predict(self):\n",
    "        return pd.Series([bernoulli.rvs(size=self.size, p=prob)[0] for prob in self._bayes_prob()])"
   ]
  },
  {
   "cell_type": "code",
   "execution_count": 18,
   "metadata": {},
   "outputs": [],
   "source": [
    "cp = ComputeProbability(df_tw['prob_task'], df_tw['prob_worker'], keys)"
   ]
  },
  {
   "cell_type": "code",
   "execution_count": 39,
   "metadata": {},
   "outputs": [],
   "source": [
    "#cp._bayes_prob()"
   ]
  },
  {
   "cell_type": "code",
   "execution_count": 42,
   "metadata": {},
   "outputs": [],
   "source": [
    "#pd.Series([bernoulli.rvs(size=1, p=prob)[0] for prob in cp._bayes_prob()])"
   ]
  },
  {
   "cell_type": "code",
   "execution_count": null,
   "metadata": {},
   "outputs": [],
   "source": []
  },
  {
   "cell_type": "code",
   "execution_count": 26,
   "metadata": {},
   "outputs": [],
   "source": [
    "import numpy as np\n",
    "\n",
    "class WorkerAnswer(object):\n",
    "    def __init__(self, series1, series2, keys):\n",
    "        \"\"\"\n",
    "        series1 = vector of true values correspondet to 1\n",
    "        series2 = vector of 1 and 0\n",
    "        key = vector of odd number of strings\n",
    "        \"\"\"\n",
    "        self.series1 = series1\n",
    "        self.series2 = series2\n",
    "        self.keys = keys\n",
    "    \n",
    "    def match(self):\n",
    "        answers = []\n",
    "        for idx, i in enumerate(self.series1):\n",
    "            if i == 1:\n",
    "                answers.append(self.series2.loc[idx])\n",
    "            else:\n",
    "                answers.append(np.random.choice([i for i in set(self.keys)-set(self.series2.loc[idx])], 1)[0])\n",
    "\n",
    "        return answers "
   ]
  },
  {
   "cell_type": "code",
   "execution_count": 27,
   "metadata": {},
   "outputs": [],
   "source": [
    "worker_answer = WorkerAnswer(cp.predict(), df_tw['true_answers'], keys)"
   ]
  },
  {
   "cell_type": "code",
   "execution_count": 29,
   "metadata": {},
   "outputs": [],
   "source": [
    "df_tw['worker_answers'] = worker_answer.match()"
   ]
  },
  {
   "cell_type": "code",
   "execution_count": 31,
   "metadata": {},
   "outputs": [
    {
     "data": {
      "text/html": [
       "<div>\n",
       "<style scoped>\n",
       "    .dataframe tbody tr th:only-of-type {\n",
       "        vertical-align: middle;\n",
       "    }\n",
       "\n",
       "    .dataframe tbody tr th {\n",
       "        vertical-align: top;\n",
       "    }\n",
       "\n",
       "    .dataframe thead th {\n",
       "        text-align: right;\n",
       "    }\n",
       "</style>\n",
       "<table border=\"1\" class=\"dataframe\">\n",
       "  <thead>\n",
       "    <tr style=\"text-align: right;\">\n",
       "      <th></th>\n",
       "      <th>task_id</th>\n",
       "      <th>worker_id</th>\n",
       "      <th>true_answers</th>\n",
       "      <th>label_task</th>\n",
       "      <th>prob_task</th>\n",
       "      <th>prob_worker</th>\n",
       "      <th>worker_answers</th>\n",
       "    </tr>\n",
       "  </thead>\n",
       "  <tbody>\n",
       "    <tr>\n",
       "      <th>0</th>\n",
       "      <td>task_EdKRYZFwuYmv</td>\n",
       "      <td>QefBXNSexNeo</td>\n",
       "      <td>twine</td>\n",
       "      <td>easy_task</td>\n",
       "      <td>0.68</td>\n",
       "      <td>0.921782</td>\n",
       "      <td>twine</td>\n",
       "    </tr>\n",
       "    <tr>\n",
       "      <th>1</th>\n",
       "      <td>task_EdKRYZFwuYmv</td>\n",
       "      <td>VoTTu2CnicrH</td>\n",
       "      <td>twine</td>\n",
       "      <td>easy_task</td>\n",
       "      <td>0.68</td>\n",
       "      <td>0.926076</td>\n",
       "      <td>twine</td>\n",
       "    </tr>\n",
       "    <tr>\n",
       "      <th>2</th>\n",
       "      <td>task_EdKRYZFwuYmv</td>\n",
       "      <td>2rqzbp4pUHtU</td>\n",
       "      <td>twine</td>\n",
       "      <td>easy_task</td>\n",
       "      <td>0.68</td>\n",
       "      <td>0.852027</td>\n",
       "      <td>twine</td>\n",
       "    </tr>\n",
       "  </tbody>\n",
       "</table>\n",
       "</div>"
      ],
      "text/plain": [
       "             task_id     worker_id true_answers label_task  prob_task  \\\n",
       "0  task_EdKRYZFwuYmv  QefBXNSexNeo        twine  easy_task       0.68   \n",
       "1  task_EdKRYZFwuYmv  VoTTu2CnicrH        twine  easy_task       0.68   \n",
       "2  task_EdKRYZFwuYmv  2rqzbp4pUHtU        twine  easy_task       0.68   \n",
       "\n",
       "   prob_worker worker_answers  \n",
       "0     0.921782          twine  \n",
       "1     0.926076          twine  \n",
       "2     0.852027          twine  "
      ]
     },
     "execution_count": 31,
     "metadata": {},
     "output_type": "execute_result"
    }
   ],
   "source": [
    "df_tw.head(3)"
   ]
  },
  {
   "cell_type": "code",
   "execution_count": 37,
   "metadata": {},
   "outputs": [],
   "source": [
    "#worker_answer.match()"
   ]
  },
  {
   "cell_type": "markdown",
   "metadata": {},
   "source": [
    "---\n",
    "### Confusion Matrix for the answers\n",
    "\n",
    "Based on [pycm](https://github.com/sepandhaghighi/pycm) analysis"
   ]
  },
  {
   "cell_type": "code",
   "execution_count": 70,
   "metadata": {},
   "outputs": [],
   "source": [
    "from pycm import *"
   ]
  },
  {
   "cell_type": "code",
   "execution_count": 71,
   "metadata": {},
   "outputs": [],
   "source": [
    "cm = ConfusionMatrix(df_tw['true_answers'].tolist(), df_tw['worker_answers'].tolist())"
   ]
  },
  {
   "cell_type": "code",
   "execution_count": 72,
   "metadata": {},
   "outputs": [
    {
     "name": "stdout",
     "output_type": "stream",
     "text": [
      "Predict          calendar cruisers departmentsspirals  thunder  \n",
      "Actual\n",
      "calendar         403      3        5        3        6        \n",
      "cruisers         1        463      7        4        5        \n",
      "departments      6        4        350      9        16       \n",
      "spirals          3        8        7        369      3        \n",
      "thunder          5        1        8        4        382      \n",
      "\n"
     ]
    }
   ],
   "source": [
    "cm.matrix()"
   ]
  },
  {
   "cell_type": "code",
   "execution_count": 73,
   "metadata": {},
   "outputs": [
    {
     "data": {
      "text/plain": [
       "0.9479518072289157"
      ]
     },
     "execution_count": 73,
     "metadata": {},
     "output_type": "execute_result"
    }
   ],
   "source": [
    "cm.Overall_ACC"
   ]
  },
  {
   "cell_type": "code",
   "execution_count": 74,
   "metadata": {},
   "outputs": [
    {
     "data": {
      "text/plain": [
       "2.3172278710234933"
      ]
     },
     "execution_count": 74,
     "metadata": {},
     "output_type": "execute_result"
    }
   ],
   "source": [
    "cm.CrossEntropy"
   ]
  },
  {
   "cell_type": "code",
   "execution_count": 75,
   "metadata": {},
   "outputs": [
    {
     "data": {
      "text/plain": [
       "{'calendar': 0.984578313253012,\n",
       " 'cruisers': 0.9840963855421687,\n",
       " 'departments': 0.9701204819277108,\n",
       " 'spirals': 0.9802409638554217,\n",
       " 'thunder': 0.9768674698795181}"
      ]
     },
     "execution_count": 75,
     "metadata": {},
     "output_type": "execute_result"
    }
   ],
   "source": [
    "cm.ACC"
   ]
  },
  {
   "cell_type": "code",
   "execution_count": 76,
   "metadata": {},
   "outputs": [
    {
     "data": {
      "text/plain": [
       "{'calendar': 0.009063444108761365,\n",
       " 'cruisers': 0.010031347962382475,\n",
       " 'departments': 0.015976331360946783,\n",
       " 'spirals': 0.011869436201780381,\n",
       " 'thunder': 0.017910447761193993}"
      ]
     },
     "execution_count": 76,
     "metadata": {},
     "output_type": "execute_result"
    }
   ],
   "source": [
    "cm.FPR #False positive rate (FPR), Fall-out, probability of false alarm "
   ]
  },
  {
   "cell_type": "code",
   "execution_count": 77,
   "metadata": {},
   "outputs": [
    {
     "data": {
      "text/plain": [
       "{'calendar': 0.9595238095238096,\n",
       " 'cruisers': 0.9645833333333333,\n",
       " 'departments': 0.9090909090909091,\n",
       " 'spirals': 0.9461538461538461,\n",
       " 'thunder': 0.955}"
      ]
     },
     "execution_count": 77,
     "metadata": {},
     "output_type": "execute_result"
    }
   ],
   "source": [
    "cm.TPR #True positive rate (TPR), Recall, Sensitivity, probability of detection "
   ]
  },
  {
   "cell_type": "code",
   "execution_count": 93,
   "metadata": {},
   "outputs": [
    {
     "data": {
      "text/plain": [
       "0.9468703796203796"
      ]
     },
     "execution_count": 93,
     "metadata": {},
     "output_type": "execute_result"
    }
   ],
   "source": [
    "np.mean([i for i in cm.TPR.values()])"
   ]
  },
  {
   "cell_type": "code",
   "execution_count": 78,
   "metadata": {},
   "outputs": [
    {
     "data": {
      "text/plain": [
       "{'calendar': 0.9909365558912386,\n",
       " 'cruisers': 0.9899686520376175,\n",
       " 'departments': 0.9840236686390532,\n",
       " 'spirals': 0.9881305637982196,\n",
       " 'thunder': 0.982089552238806}"
      ]
     },
     "execution_count": 78,
     "metadata": {},
     "output_type": "execute_result"
    }
   ],
   "source": [
    "cm.TNR #Specificity (SPC), Selectivity, True negative rate (TNR) "
   ]
  },
  {
   "cell_type": "code",
   "execution_count": 79,
   "metadata": {},
   "outputs": [
    {
     "data": {
      "text/plain": [
       "{'calendar': 0.9641148325358851,\n",
       " 'cruisers': 0.9665970772442589,\n",
       " 'departments': 0.9283819628647215,\n",
       " 'spirals': 0.9485861182519281,\n",
       " 'thunder': 0.9271844660194175}"
      ]
     },
     "execution_count": 79,
     "metadata": {},
     "output_type": "execute_result"
    }
   ],
   "source": [
    "cm.PPV #PPV(Precision or positive predictive value)   "
   ]
  },
  {
   "cell_type": "code",
   "execution_count": 94,
   "metadata": {},
   "outputs": [
    {
     "data": {
      "text/plain": [
       "0.9469728913832423"
      ]
     },
     "execution_count": 94,
     "metadata": {},
     "output_type": "execute_result"
    }
   ],
   "source": [
    "np.mean([i for i in cm.PPV.values()])"
   ]
  },
  {
   "cell_type": "code",
   "execution_count": 80,
   "metadata": {},
   "outputs": [
    {
     "data": {
      "text/plain": [
       "{'calendar': 0.0102595051297526,\n",
       " 'cruisers': 0.01065162907268169,\n",
       " 'departments': 0.020612485276796266,\n",
       " 'spirals': 0.01245551601423489,\n",
       " 'thunder': 0.010823812387251941}"
      ]
     },
     "execution_count": 80,
     "metadata": {},
     "output_type": "execute_result"
    }
   ],
   "source": [
    "cm.FOR"
   ]
  },
  {
   "cell_type": "code",
   "execution_count": 81,
   "metadata": {},
   "outputs": [
    {
     "data": {
      "text/plain": [
       "{'calendar': 0.9618138424821002,\n",
       " 'cruisers': 0.9655891553701773,\n",
       " 'departments': 0.9186351706036745,\n",
       " 'spirals': 0.9473684210526315,\n",
       " 'thunder': 0.9408866995073891}"
      ]
     },
     "execution_count": 81,
     "metadata": {},
     "output_type": "execute_result"
    }
   ],
   "source": [
    "cm.F1"
   ]
  },
  {
   "cell_type": "code",
   "execution_count": 97,
   "metadata": {},
   "outputs": [
    {
     "data": {
      "text/plain": [
       "0.9468586578031944"
      ]
     },
     "execution_count": 97,
     "metadata": {},
     "output_type": "execute_result"
    }
   ],
   "source": [
    "sum([i for i in cm.F1.values()])/len([i for i in cm.F1.values()])"
   ]
  },
  {
   "cell_type": "markdown",
   "metadata": {},
   "source": [
    "Comparing with Turicreate library"
   ]
  },
  {
   "cell_type": "code",
   "execution_count": 82,
   "metadata": {},
   "outputs": [],
   "source": [
    "import turicreate as tc\n",
    "sf_tw = tc.SFrame(data=df_tw)\n",
    "conf_matrix = tc.evaluation.confusion_matrix(sf_tw['true_answers'], sf_tw['worker_answers'])"
   ]
  },
  {
   "cell_type": "code",
   "execution_count": 83,
   "metadata": {},
   "outputs": [
    {
     "name": "stdout",
     "output_type": "stream",
     "text": [
      "+--------------+-----------------+-------+\n",
      "| target_label | predicted_label | count |\n",
      "+--------------+-----------------+-------+\n",
      "|   cruisers   |     thunder     |   5   |\n",
      "|   thunder    |     calendar    |   5   |\n",
      "|   calendar   |     thunder     |   6   |\n",
      "| departments  |     cruisers    |   4   |\n",
      "|   cruisers   |     calendar    |   1   |\n",
      "|   calendar   |     cruisers    |   3   |\n",
      "|   thunder    |     spirals     |   4   |\n",
      "| departments  |     thunder     |   16  |\n",
      "|   cruisers   |   departments   |   7   |\n",
      "|   thunder    |     thunder     |  382  |\n",
      "| departments  |     calendar    |   6   |\n",
      "|   calendar   |     spirals     |   3   |\n",
      "| departments  |     spirals     |   9   |\n",
      "|   cruisers   |     cruisers    |  463  |\n",
      "|   thunder    |     cruisers    |   1   |\n",
      "|   spirals    |     thunder     |   3   |\n",
      "|   calendar   |     calendar    |  403  |\n",
      "|   spirals    |   departments   |   7   |\n",
      "| departments  |   departments   |  350  |\n",
      "|   thunder    |   departments   |   8   |\n",
      "|   spirals    |     calendar    |   3   |\n",
      "|   spirals    |     spirals     |  369  |\n",
      "|   spirals    |     cruisers    |   8   |\n",
      "|   calendar   |   departments   |   5   |\n",
      "|   cruisers   |     spirals     |   4   |\n",
      "+--------------+-----------------+-------+\n",
      "[25 rows x 3 columns]\n",
      "\n"
     ]
    }
   ],
   "source": [
    "conf_matrix.print_rows(25,)"
   ]
  },
  {
   "cell_type": "code",
   "execution_count": 84,
   "metadata": {},
   "outputs": [],
   "source": [
    "accuracy = conf_matrix[conf_matrix['target_label'] == conf_matrix['predicted_label']]['count'].sum() / conf_matrix['count'].sum()"
   ]
  },
  {
   "cell_type": "code",
   "execution_count": 85,
   "metadata": {},
   "outputs": [
    {
     "name": "stdout",
     "output_type": "stream",
     "text": [
      "0.9479518072289157\n"
     ]
    }
   ],
   "source": [
    "print(accuracy)"
   ]
  },
  {
   "cell_type": "markdown",
   "metadata": {},
   "source": [
    "---\n",
    "### Measuring Performance and split the good workers from the rest"
   ]
  },
  {
   "cell_type": "markdown",
   "metadata": {},
   "source": [
    "Next we measure the performance of the worker. The performance is calculate as the number of times a worker answers right (in comparison with the true answer) over the total number of workers per task.  \n",
    "\n",
    "The range of the performance value spans from 0 to 1. The values close to 1 indicate that the majority of the workers had consensus. The values close to 0 indicate that there was no consensus."
   ]
  },
  {
   "cell_type": "code",
   "execution_count": 98,
   "metadata": {},
   "outputs": [],
   "source": [
    "df_tw['performance'] = cp.predict()"
   ]
  },
  {
   "cell_type": "code",
   "execution_count": 132,
   "metadata": {},
   "outputs": [],
   "source": [
    "import pandas as pd\n",
    "\n",
    "IDX = 'worker_id'\n",
    "\n",
    "class Performance(object):\n",
    "    def __init__ (self, df_tw):\n",
    "        \"\"\"\n",
    "        :df_tw: dataframe of assigned tasks to workers\n",
    "        \"\"\"\n",
    "        self.df_tw = df_tw\n",
    "        \n",
    "    def _agg(self):\n",
    "        df = self.df_tw.groupby(IDX).agg('count')['task_id']\n",
    "        df.index.name = 'tasks'\n",
    "        return df\n",
    "    \n",
    "    def _workers(self):\n",
    "        df = self.df_tw.groupby(self.df_tw[IDX]).mean().sort_values('performance', ascending=False)\n",
    "        df['worker_hability'] = ['good_worker' if i == 1 else 'poor_worker' for i in df['performance']]\n",
    "        return df.reset_index().join(self._agg(), on=IDX, how='left')\n",
    "    \n",
    "    def good_workers(self):\n",
    "        _good = self._workers()[(self._workers()['worker_hability'] == 'good_worker') & ((self._workers()['prob_task'] < self._workers()['prob_task'].median()))]\n",
    "        return [i for i in _good.index]"
   ]
  },
  {
   "cell_type": "code",
   "execution_count": 133,
   "metadata": {},
   "outputs": [],
   "source": [
    "perf = Performance(df_tw)"
   ]
  },
  {
   "cell_type": "code",
   "execution_count": 134,
   "metadata": {},
   "outputs": [
    {
     "data": {
      "text/html": [
       "<div>\n",
       "<style scoped>\n",
       "    .dataframe tbody tr th:only-of-type {\n",
       "        vertical-align: middle;\n",
       "    }\n",
       "\n",
       "    .dataframe tbody tr th {\n",
       "        vertical-align: top;\n",
       "    }\n",
       "\n",
       "    .dataframe thead th {\n",
       "        text-align: right;\n",
       "    }\n",
       "</style>\n",
       "<table border=\"1\" class=\"dataframe\">\n",
       "  <thead>\n",
       "    <tr style=\"text-align: right;\">\n",
       "      <th></th>\n",
       "      <th>worker_id</th>\n",
       "      <th>prob_task</th>\n",
       "      <th>prob_worker</th>\n",
       "      <th>performance</th>\n",
       "      <th>worker_hability</th>\n",
       "      <th>task_id</th>\n",
       "    </tr>\n",
       "  </thead>\n",
       "  <tbody>\n",
       "    <tr>\n",
       "      <th>0</th>\n",
       "      <td>AuqkqAy4RZwV</td>\n",
       "      <td>0.537391</td>\n",
       "      <td>0.918534</td>\n",
       "      <td>1.000000</td>\n",
       "      <td>good_worker</td>\n",
       "      <td>46</td>\n",
       "    </tr>\n",
       "    <tr>\n",
       "      <th>1</th>\n",
       "      <td>qY5rnzVUp9qt</td>\n",
       "      <td>0.604857</td>\n",
       "      <td>0.930933</td>\n",
       "      <td>1.000000</td>\n",
       "      <td>good_worker</td>\n",
       "      <td>35</td>\n",
       "    </tr>\n",
       "    <tr>\n",
       "      <th>2</th>\n",
       "      <td>ijAes6s53tL7</td>\n",
       "      <td>0.563448</td>\n",
       "      <td>0.911642</td>\n",
       "      <td>1.000000</td>\n",
       "      <td>good_worker</td>\n",
       "      <td>58</td>\n",
       "    </tr>\n",
       "    <tr>\n",
       "      <th>3</th>\n",
       "      <td>fB3KCrYAwjhN</td>\n",
       "      <td>0.572364</td>\n",
       "      <td>0.959231</td>\n",
       "      <td>1.000000</td>\n",
       "      <td>good_worker</td>\n",
       "      <td>55</td>\n",
       "    </tr>\n",
       "    <tr>\n",
       "      <th>4</th>\n",
       "      <td>C7JbYz7P3iRF</td>\n",
       "      <td>0.623016</td>\n",
       "      <td>0.979580</td>\n",
       "      <td>0.984127</td>\n",
       "      <td>poor_worker</td>\n",
       "      <td>63</td>\n",
       "    </tr>\n",
       "    <tr>\n",
       "      <th>5</th>\n",
       "      <td>P6U8d2nfofqX</td>\n",
       "      <td>0.558542</td>\n",
       "      <td>0.954255</td>\n",
       "      <td>0.979167</td>\n",
       "      <td>poor_worker</td>\n",
       "      <td>48</td>\n",
       "    </tr>\n",
       "    <tr>\n",
       "      <th>6</th>\n",
       "      <td>jKVJzyBJhf7S</td>\n",
       "      <td>0.515345</td>\n",
       "      <td>0.936911</td>\n",
       "      <td>0.965517</td>\n",
       "      <td>poor_worker</td>\n",
       "      <td>58</td>\n",
       "    </tr>\n",
       "    <tr>\n",
       "      <th>7</th>\n",
       "      <td>9fmjZyLVM55p</td>\n",
       "      <td>0.512105</td>\n",
       "      <td>0.906871</td>\n",
       "      <td>0.964912</td>\n",
       "      <td>poor_worker</td>\n",
       "      <td>57</td>\n",
       "    </tr>\n",
       "    <tr>\n",
       "      <th>8</th>\n",
       "      <td>yfns2GZAUyHi</td>\n",
       "      <td>0.579107</td>\n",
       "      <td>0.958421</td>\n",
       "      <td>0.964286</td>\n",
       "      <td>poor_worker</td>\n",
       "      <td>56</td>\n",
       "    </tr>\n",
       "    <tr>\n",
       "      <th>9</th>\n",
       "      <td>zRgPszpFpmeU</td>\n",
       "      <td>0.615556</td>\n",
       "      <td>0.889090</td>\n",
       "      <td>0.962963</td>\n",
       "      <td>poor_worker</td>\n",
       "      <td>54</td>\n",
       "    </tr>\n",
       "    <tr>\n",
       "      <th>10</th>\n",
       "      <td>nC8SKRgJde8M</td>\n",
       "      <td>0.529630</td>\n",
       "      <td>0.954439</td>\n",
       "      <td>0.962963</td>\n",
       "      <td>poor_worker</td>\n",
       "      <td>54</td>\n",
       "    </tr>\n",
       "    <tr>\n",
       "      <th>11</th>\n",
       "      <td>49jqJKjqNFcp</td>\n",
       "      <td>0.539412</td>\n",
       "      <td>0.907148</td>\n",
       "      <td>0.960784</td>\n",
       "      <td>poor_worker</td>\n",
       "      <td>51</td>\n",
       "    </tr>\n",
       "    <tr>\n",
       "      <th>12</th>\n",
       "      <td>w77kkC3xZ9H3</td>\n",
       "      <td>0.505686</td>\n",
       "      <td>0.964170</td>\n",
       "      <td>0.960784</td>\n",
       "      <td>poor_worker</td>\n",
       "      <td>51</td>\n",
       "    </tr>\n",
       "    <tr>\n",
       "      <th>13</th>\n",
       "      <td>bTi2v5xJhrvw</td>\n",
       "      <td>0.601020</td>\n",
       "      <td>0.966241</td>\n",
       "      <td>0.959184</td>\n",
       "      <td>poor_worker</td>\n",
       "      <td>49</td>\n",
       "    </tr>\n",
       "    <tr>\n",
       "      <th>14</th>\n",
       "      <td>sKA7tzdgUHmX</td>\n",
       "      <td>0.584773</td>\n",
       "      <td>0.903524</td>\n",
       "      <td>0.954545</td>\n",
       "      <td>poor_worker</td>\n",
       "      <td>44</td>\n",
       "    </tr>\n",
       "    <tr>\n",
       "      <th>15</th>\n",
       "      <td>AvLH8dLaEqXQ</td>\n",
       "      <td>0.573902</td>\n",
       "      <td>0.882097</td>\n",
       "      <td>0.951220</td>\n",
       "      <td>poor_worker</td>\n",
       "      <td>41</td>\n",
       "    </tr>\n",
       "    <tr>\n",
       "      <th>16</th>\n",
       "      <td>cRau5SzoHvr4</td>\n",
       "      <td>0.505763</td>\n",
       "      <td>0.932222</td>\n",
       "      <td>0.949153</td>\n",
       "      <td>poor_worker</td>\n",
       "      <td>59</td>\n",
       "    </tr>\n",
       "    <tr>\n",
       "      <th>17</th>\n",
       "      <td>3naCJNKs4qWt</td>\n",
       "      <td>0.557778</td>\n",
       "      <td>0.930595</td>\n",
       "      <td>0.944444</td>\n",
       "      <td>poor_worker</td>\n",
       "      <td>54</td>\n",
       "    </tr>\n",
       "    <tr>\n",
       "      <th>18</th>\n",
       "      <td>pn5LxLXoKY6J</td>\n",
       "      <td>0.503333</td>\n",
       "      <td>0.853112</td>\n",
       "      <td>0.941176</td>\n",
       "      <td>poor_worker</td>\n",
       "      <td>51</td>\n",
       "    </tr>\n",
       "    <tr>\n",
       "      <th>19</th>\n",
       "      <td>cwn9QqjA9Qh4</td>\n",
       "      <td>0.559592</td>\n",
       "      <td>0.889051</td>\n",
       "      <td>0.938776</td>\n",
       "      <td>poor_worker</td>\n",
       "      <td>49</td>\n",
       "    </tr>\n",
       "    <tr>\n",
       "      <th>20</th>\n",
       "      <td>b4zjzq4pRTkB</td>\n",
       "      <td>0.532766</td>\n",
       "      <td>0.951120</td>\n",
       "      <td>0.936170</td>\n",
       "      <td>poor_worker</td>\n",
       "      <td>47</td>\n",
       "    </tr>\n",
       "    <tr>\n",
       "      <th>21</th>\n",
       "      <td>f3HmHtdMmGRh</td>\n",
       "      <td>0.546552</td>\n",
       "      <td>0.948875</td>\n",
       "      <td>0.931034</td>\n",
       "      <td>poor_worker</td>\n",
       "      <td>58</td>\n",
       "    </tr>\n",
       "    <tr>\n",
       "      <th>22</th>\n",
       "      <td>3Gu4TEuPpeX7</td>\n",
       "      <td>0.493860</td>\n",
       "      <td>0.905441</td>\n",
       "      <td>0.929825</td>\n",
       "      <td>poor_worker</td>\n",
       "      <td>57</td>\n",
       "    </tr>\n",
       "    <tr>\n",
       "      <th>23</th>\n",
       "      <td>LVnCnGmGa4Qr</td>\n",
       "      <td>0.541408</td>\n",
       "      <td>0.936841</td>\n",
       "      <td>0.929577</td>\n",
       "      <td>poor_worker</td>\n",
       "      <td>71</td>\n",
       "    </tr>\n",
       "    <tr>\n",
       "      <th>24</th>\n",
       "      <td>vYavrEkusn94</td>\n",
       "      <td>0.517561</td>\n",
       "      <td>0.863521</td>\n",
       "      <td>0.926829</td>\n",
       "      <td>poor_worker</td>\n",
       "      <td>41</td>\n",
       "    </tr>\n",
       "    <tr>\n",
       "      <th>25</th>\n",
       "      <td>ugafeU5f7vBU</td>\n",
       "      <td>0.491296</td>\n",
       "      <td>0.866824</td>\n",
       "      <td>0.925926</td>\n",
       "      <td>poor_worker</td>\n",
       "      <td>54</td>\n",
       "    </tr>\n",
       "    <tr>\n",
       "      <th>26</th>\n",
       "      <td>xpfCfB6oKhJV</td>\n",
       "      <td>0.563396</td>\n",
       "      <td>0.851119</td>\n",
       "      <td>0.924528</td>\n",
       "      <td>poor_worker</td>\n",
       "      <td>53</td>\n",
       "    </tr>\n",
       "    <tr>\n",
       "      <th>27</th>\n",
       "      <td>u9S6B8DAx7id</td>\n",
       "      <td>0.555897</td>\n",
       "      <td>0.867465</td>\n",
       "      <td>0.923077</td>\n",
       "      <td>poor_worker</td>\n",
       "      <td>39</td>\n",
       "    </tr>\n",
       "    <tr>\n",
       "      <th>28</th>\n",
       "      <td>76XR8vmAkZ4M</td>\n",
       "      <td>0.544783</td>\n",
       "      <td>0.951068</td>\n",
       "      <td>0.913043</td>\n",
       "      <td>poor_worker</td>\n",
       "      <td>46</td>\n",
       "    </tr>\n",
       "    <tr>\n",
       "      <th>29</th>\n",
       "      <td>HNQu73uNGJGv</td>\n",
       "      <td>0.557358</td>\n",
       "      <td>0.841497</td>\n",
       "      <td>0.905660</td>\n",
       "      <td>poor_worker</td>\n",
       "      <td>53</td>\n",
       "    </tr>\n",
       "    <tr>\n",
       "      <th>30</th>\n",
       "      <td>wxfaEdPYkATJ</td>\n",
       "      <td>0.520732</td>\n",
       "      <td>0.913222</td>\n",
       "      <td>0.902439</td>\n",
       "      <td>poor_worker</td>\n",
       "      <td>41</td>\n",
       "    </tr>\n",
       "    <tr>\n",
       "      <th>31</th>\n",
       "      <td>RrkKG74aLkkq</td>\n",
       "      <td>0.511250</td>\n",
       "      <td>0.900919</td>\n",
       "      <td>0.895833</td>\n",
       "      <td>poor_worker</td>\n",
       "      <td>48</td>\n",
       "    </tr>\n",
       "    <tr>\n",
       "      <th>32</th>\n",
       "      <td>dGt4Nhjy94FP</td>\n",
       "      <td>0.547778</td>\n",
       "      <td>0.801034</td>\n",
       "      <td>0.888889</td>\n",
       "      <td>poor_worker</td>\n",
       "      <td>45</td>\n",
       "    </tr>\n",
       "    <tr>\n",
       "      <th>33</th>\n",
       "      <td>C5MWMT67HW2J</td>\n",
       "      <td>0.540189</td>\n",
       "      <td>0.904872</td>\n",
       "      <td>0.886792</td>\n",
       "      <td>poor_worker</td>\n",
       "      <td>53</td>\n",
       "    </tr>\n",
       "    <tr>\n",
       "      <th>34</th>\n",
       "      <td>hZ6f5hjSsRVw</td>\n",
       "      <td>0.652075</td>\n",
       "      <td>0.874726</td>\n",
       "      <td>0.886792</td>\n",
       "      <td>poor_worker</td>\n",
       "      <td>53</td>\n",
       "    </tr>\n",
       "    <tr>\n",
       "      <th>35</th>\n",
       "      <td>5dsCEqo3wseF</td>\n",
       "      <td>0.497018</td>\n",
       "      <td>0.883149</td>\n",
       "      <td>0.877193</td>\n",
       "      <td>poor_worker</td>\n",
       "      <td>57</td>\n",
       "    </tr>\n",
       "    <tr>\n",
       "      <th>36</th>\n",
       "      <td>PBp48r7UYpqZ</td>\n",
       "      <td>0.563077</td>\n",
       "      <td>0.871346</td>\n",
       "      <td>0.861538</td>\n",
       "      <td>poor_worker</td>\n",
       "      <td>65</td>\n",
       "    </tr>\n",
       "    <tr>\n",
       "      <th>37</th>\n",
       "      <td>2wyEX4NRmLYX</td>\n",
       "      <td>0.538200</td>\n",
       "      <td>0.844796</td>\n",
       "      <td>0.840000</td>\n",
       "      <td>poor_worker</td>\n",
       "      <td>50</td>\n",
       "    </tr>\n",
       "    <tr>\n",
       "      <th>38</th>\n",
       "      <td>ETudjfB5KBrG</td>\n",
       "      <td>0.526613</td>\n",
       "      <td>0.843680</td>\n",
       "      <td>0.838710</td>\n",
       "      <td>poor_worker</td>\n",
       "      <td>62</td>\n",
       "    </tr>\n",
       "    <tr>\n",
       "      <th>39</th>\n",
       "      <td>XKusQCKHeVDu</td>\n",
       "      <td>0.552857</td>\n",
       "      <td>0.901694</td>\n",
       "      <td>0.836735</td>\n",
       "      <td>poor_worker</td>\n",
       "      <td>49</td>\n",
       "    </tr>\n",
       "  </tbody>\n",
       "</table>\n",
       "</div>"
      ],
      "text/plain": [
       "       worker_id  prob_task  prob_worker  performance worker_hability  task_id\n",
       "0   AuqkqAy4RZwV   0.537391     0.918534     1.000000     good_worker       46\n",
       "1   qY5rnzVUp9qt   0.604857     0.930933     1.000000     good_worker       35\n",
       "2   ijAes6s53tL7   0.563448     0.911642     1.000000     good_worker       58\n",
       "3   fB3KCrYAwjhN   0.572364     0.959231     1.000000     good_worker       55\n",
       "4   C7JbYz7P3iRF   0.623016     0.979580     0.984127     poor_worker       63\n",
       "5   P6U8d2nfofqX   0.558542     0.954255     0.979167     poor_worker       48\n",
       "6   jKVJzyBJhf7S   0.515345     0.936911     0.965517     poor_worker       58\n",
       "7   9fmjZyLVM55p   0.512105     0.906871     0.964912     poor_worker       57\n",
       "8   yfns2GZAUyHi   0.579107     0.958421     0.964286     poor_worker       56\n",
       "9   zRgPszpFpmeU   0.615556     0.889090     0.962963     poor_worker       54\n",
       "10  nC8SKRgJde8M   0.529630     0.954439     0.962963     poor_worker       54\n",
       "11  49jqJKjqNFcp   0.539412     0.907148     0.960784     poor_worker       51\n",
       "12  w77kkC3xZ9H3   0.505686     0.964170     0.960784     poor_worker       51\n",
       "13  bTi2v5xJhrvw   0.601020     0.966241     0.959184     poor_worker       49\n",
       "14  sKA7tzdgUHmX   0.584773     0.903524     0.954545     poor_worker       44\n",
       "15  AvLH8dLaEqXQ   0.573902     0.882097     0.951220     poor_worker       41\n",
       "16  cRau5SzoHvr4   0.505763     0.932222     0.949153     poor_worker       59\n",
       "17  3naCJNKs4qWt   0.557778     0.930595     0.944444     poor_worker       54\n",
       "18  pn5LxLXoKY6J   0.503333     0.853112     0.941176     poor_worker       51\n",
       "19  cwn9QqjA9Qh4   0.559592     0.889051     0.938776     poor_worker       49\n",
       "20  b4zjzq4pRTkB   0.532766     0.951120     0.936170     poor_worker       47\n",
       "21  f3HmHtdMmGRh   0.546552     0.948875     0.931034     poor_worker       58\n",
       "22  3Gu4TEuPpeX7   0.493860     0.905441     0.929825     poor_worker       57\n",
       "23  LVnCnGmGa4Qr   0.541408     0.936841     0.929577     poor_worker       71\n",
       "24  vYavrEkusn94   0.517561     0.863521     0.926829     poor_worker       41\n",
       "25  ugafeU5f7vBU   0.491296     0.866824     0.925926     poor_worker       54\n",
       "26  xpfCfB6oKhJV   0.563396     0.851119     0.924528     poor_worker       53\n",
       "27  u9S6B8DAx7id   0.555897     0.867465     0.923077     poor_worker       39\n",
       "28  76XR8vmAkZ4M   0.544783     0.951068     0.913043     poor_worker       46\n",
       "29  HNQu73uNGJGv   0.557358     0.841497     0.905660     poor_worker       53\n",
       "30  wxfaEdPYkATJ   0.520732     0.913222     0.902439     poor_worker       41\n",
       "31  RrkKG74aLkkq   0.511250     0.900919     0.895833     poor_worker       48\n",
       "32  dGt4Nhjy94FP   0.547778     0.801034     0.888889     poor_worker       45\n",
       "33  C5MWMT67HW2J   0.540189     0.904872     0.886792     poor_worker       53\n",
       "34  hZ6f5hjSsRVw   0.652075     0.874726     0.886792     poor_worker       53\n",
       "35  5dsCEqo3wseF   0.497018     0.883149     0.877193     poor_worker       57\n",
       "36  PBp48r7UYpqZ   0.563077     0.871346     0.861538     poor_worker       65\n",
       "37  2wyEX4NRmLYX   0.538200     0.844796     0.840000     poor_worker       50\n",
       "38  ETudjfB5KBrG   0.526613     0.843680     0.838710     poor_worker       62\n",
       "39  XKusQCKHeVDu   0.552857     0.901694     0.836735     poor_worker       49"
      ]
     },
     "execution_count": 134,
     "metadata": {},
     "output_type": "execute_result"
    }
   ],
   "source": [
    "perf._workers()"
   ]
  },
  {
   "cell_type": "code",
   "execution_count": 135,
   "metadata": {
    "scrolled": true
   },
   "outputs": [
    {
     "name": "stdout",
     "output_type": "stream",
     "text": [
      "Prediction Correct 1934 of 2075\n"
     ]
    },
    {
     "data": {
      "image/png": "[encoded data removed]",
      "text/plain": [
       "<Figure size 1296x288 with 1 Axes>"
      ]
     },
     "metadata": {},
     "output_type": "display_data"
    }
   ],
   "source": [
    "#Distribution performance\n",
    "plt.figure(figsize=[18, 4])\n",
    "sns.distplot(df_tw['performance'], kde=False, vertical=True, color=\"red\")\n",
    "print('Prediction Correct {} of {}'.format(df_tw['performance'].sum(), df_tw['performance'].count()))"
   ]
  },
  {
   "cell_type": "code",
   "execution_count": 137,
   "metadata": {
    "scrolled": false
   },
   "outputs": [
    {
     "data": {
      "text/plain": [
       "<matplotlib.axes._subplots.AxesSubplot at 0x1a2158b710>"
      ]
     },
     "execution_count": 137,
     "metadata": {},
     "output_type": "execute_result"
    },
    {
     "data": {
      "image/png": "[encoded data removed]",
      "text/plain": [
       "<Figure size 720x720 with 1 Axes>"
      ]
     },
     "metadata": {},
     "output_type": "display_data"
    }
   ],
   "source": [
    "plt.figure(figsize=[10, 10])\n",
    "sns.kdeplot(perf._workers()['performance'], perf._workers()['prob_worker'], cmap=\"Blues\", shade=True, shade_lowest=False)"
   ]
  },
  {
   "cell_type": "code",
   "execution_count": 139,
   "metadata": {},
   "outputs": [
    {
     "data": {
      "image/png": "[encoded data removed]",
      "text/plain": [
       "<Figure size 1296x288 with 1 Axes>"
      ]
     },
     "metadata": {},
     "output_type": "display_data"
    }
   ],
   "source": [
    "plt.figure(figsize=[18, 4])\n",
    "axis = range(len(perf._workers()))\n",
    "plt.bar(axis, perf._workers()['performance'], align='center', alpha=0.8, color='blue', label='Probability of Answer correct')\n",
    "plt.xticks(axis, perf._workers().index, rotation=90)\n",
    "plt.title('Workers Performance')\n",
    "plt.legend(loc='best')\n",
    "plt.show()"
   ]
  },
  {
   "cell_type": "code",
   "execution_count": 140,
   "metadata": {},
   "outputs": [
    {
     "data": {
      "text/html": [
       "<div>\n",
       "<style scoped>\n",
       "    .dataframe tbody tr th:only-of-type {\n",
       "        vertical-align: middle;\n",
       "    }\n",
       "\n",
       "    .dataframe tbody tr th {\n",
       "        vertical-align: top;\n",
       "    }\n",
       "\n",
       "    .dataframe thead th {\n",
       "        text-align: right;\n",
       "    }\n",
       "</style>\n",
       "<table border=\"1\" class=\"dataframe\">\n",
       "  <thead>\n",
       "    <tr style=\"text-align: right;\">\n",
       "      <th></th>\n",
       "      <th>prob_task</th>\n",
       "      <th>prob_worker</th>\n",
       "      <th>performance</th>\n",
       "      <th>task_id</th>\n",
       "    </tr>\n",
       "  </thead>\n",
       "  <tbody>\n",
       "    <tr>\n",
       "      <th>count</th>\n",
       "      <td>40.000000</td>\n",
       "      <td>40.000000</td>\n",
       "      <td>40.000000</td>\n",
       "      <td>40.000000</td>\n",
       "    </tr>\n",
       "    <tr>\n",
       "      <th>mean</th>\n",
       "      <td>0.548432</td>\n",
       "      <td>0.906282</td>\n",
       "      <td>0.932615</td>\n",
       "      <td>51.875000</td>\n",
       "    </tr>\n",
       "    <tr>\n",
       "      <th>std</th>\n",
       "      <td>0.036857</td>\n",
       "      <td>0.042362</td>\n",
       "      <td>0.044162</td>\n",
       "      <td>7.380458</td>\n",
       "    </tr>\n",
       "    <tr>\n",
       "      <th>min</th>\n",
       "      <td>0.491296</td>\n",
       "      <td>0.801034</td>\n",
       "      <td>0.836735</td>\n",
       "      <td>35.000000</td>\n",
       "    </tr>\n",
       "    <tr>\n",
       "      <th>25%</th>\n",
       "      <td>0.519939</td>\n",
       "      <td>0.873881</td>\n",
       "      <td>0.904855</td>\n",
       "      <td>47.750000</td>\n",
       "    </tr>\n",
       "    <tr>\n",
       "      <th>50%</th>\n",
       "      <td>0.545667</td>\n",
       "      <td>0.906156</td>\n",
       "      <td>0.937473</td>\n",
       "      <td>53.000000</td>\n",
       "    </tr>\n",
       "    <tr>\n",
       "      <th>75%</th>\n",
       "      <td>0.563409</td>\n",
       "      <td>0.939902</td>\n",
       "      <td>0.962963</td>\n",
       "      <td>57.000000</td>\n",
       "    </tr>\n",
       "    <tr>\n",
       "      <th>max</th>\n",
       "      <td>0.652075</td>\n",
       "      <td>0.979580</td>\n",
       "      <td>1.000000</td>\n",
       "      <td>71.000000</td>\n",
       "    </tr>\n",
       "  </tbody>\n",
       "</table>\n",
       "</div>"
      ],
      "text/plain": [
       "       prob_task  prob_worker  performance    task_id\n",
       "count  40.000000    40.000000    40.000000  40.000000\n",
       "mean    0.548432     0.906282     0.932615  51.875000\n",
       "std     0.036857     0.042362     0.044162   7.380458\n",
       "min     0.491296     0.801034     0.836735  35.000000\n",
       "25%     0.519939     0.873881     0.904855  47.750000\n",
       "50%     0.545667     0.906156     0.937473  53.000000\n",
       "75%     0.563409     0.939902     0.962963  57.000000\n",
       "max     0.652075     0.979580     1.000000  71.000000"
      ]
     },
     "execution_count": 140,
     "metadata": {},
     "output_type": "execute_result"
    }
   ],
   "source": [
    "perf._workers().describe()"
   ]
  },
  {
   "cell_type": "markdown",
   "metadata": {},
   "source": [
    "---\n",
    "### Get Accuracy (Make Module)"
   ]
  },
  {
   "cell_type": "code",
   "execution_count": 1,
   "metadata": {},
   "outputs": [],
   "source": [
    "import sys\n",
    "sys.path.insert(0, '/Users/pedrohserrano/crowdED/crowded')\n",
    "import simulate as cs\n",
    "import method as cm\n",
    "import make as mk\n",
    "\n",
    "PTT = .3\n",
    "\n",
    "def tasks_split(df, p=PTT):\n",
    "    _train = df.sample(frac=p, random_state=23)\n",
    "    _rest = df.loc[df.index.difference(_train.index)]\n",
    "    return _train, _rest\n",
    "\n",
    "\n",
    "def _update_progress(job_title, progress):\n",
    "    length = 20\n",
    "    block = int(round(length * progress))\n",
    "    msg = \"\\r{0}: [{1}] {2}%\".format(\n",
    "        job_title, \"#\" * block + \"-\" * (length - block), round(progress * 100, 2))\n",
    "    if progress >= 1:\n",
    "        msg += \" DONE\\r\\n\"\n",
    "    sys.stdout.write(msg)\n",
    "    sys.stdout.flush()\n",
    "\n",
    "def crowd_table(total_tasks=100, total_workers=30, p_hard_tasks=0.4, ptt=.3, wpt=5, nk=5, a=10, b=1):\n",
    "    df_tasks = cs.Tasks(nk).create(total_tasks, p_hard_tasks)\n",
    "    workers = cs.Workers(a,b).create(total_workers)\n",
    "    keys = df_tasks['true_answers'].unique()\n",
    "    tasks_train, tasks_rest = tasks_split(df_tasks, ptt)\n",
    "    df_tw = cs.AssignTasks(tasks_train, workers, wpt).create()\n",
    "    cp = cm.ComputeProbability(df_tw['prob_task'], df_tw['prob_worker'], keys)\n",
    "    df_tw['worker_answers'] = cm.WorkerAnswer(\n",
    "        cp.predict(), df_tw['true_answers'], keys).match()\n",
    "    df_tw['performance'] = cp.predict()\n",
    "    perf = cm.Performance(df_tw)\n",
    "    good_workers = workers.loc[perf.good_workers()]\n",
    "    df_tw_2 = cs.AssignTasks(tasks_rest, good_workers, wpt).create()\n",
    "    cp2 = cm.ComputeProbability(\n",
    "        df_tw_2['prob_task'], df_tw_2['prob_worker'], keys)\n",
    "    df_tw_2['worker_answers'] = cm.WorkerAnswer(\n",
    "        cp2.predict(), df_tw_2['true_answers'], keys).match()\n",
    "    df_tw_2['performance'] = cp2.predict()\n",
    "    df = df_tw.append(df_tw_2)\n",
    "    return df"
   ]
  },
  {
   "cell_type": "code",
   "execution_count": 2,
   "metadata": {},
   "outputs": [],
   "source": [
    "#create crowd table one stage"
   ]
  },
  {
   "cell_type": "code",
   "execution_count": 5,
   "metadata": {},
   "outputs": [
    {
     "ename": "ValueError",
     "evalue": "Domain error in arguments.",
     "output_type": "error",
     "traceback": [
      "\u001b[0;31m---------------------------------------------------------------------------\u001b[0m",
      "\u001b[0;31mValueError\u001b[0m                                Traceback (most recent call last)",
      "\u001b[0;32m<ipython-input-5-d979f988e5b2>\u001b[0m in \u001b[0;36m<module>\u001b[0;34m()\u001b[0m\n\u001b[0;32m----> 1\u001b[0;31m \u001b[0mcrowd_table\u001b[0m\u001b[0;34m(\u001b[0m\u001b[0mtotal_tasks\u001b[0m\u001b[0;34m=\u001b[0m\u001b[0;36m415\u001b[0m\u001b[0;34m,\u001b[0m \u001b[0mtotal_workers\u001b[0m\u001b[0;34m=\u001b[0m\u001b[0;36m40\u001b[0m\u001b[0;34m,\u001b[0m \u001b[0mp_hard_tasks\u001b[0m\u001b[0;34m=\u001b[0m\u001b[0;36m0.4\u001b[0m\u001b[0;34m,\u001b[0m \u001b[0mptt\u001b[0m\u001b[0;34m=\u001b[0m\u001b[0;36m.3\u001b[0m\u001b[0;34m,\u001b[0m \u001b[0mwpt\u001b[0m\u001b[0;34m=\u001b[0m\u001b[0;36m5\u001b[0m\u001b[0;34m,\u001b[0m \u001b[0mnk\u001b[0m\u001b[0;34m=\u001b[0m\u001b[0;36m5\u001b[0m\u001b[0;34m,\u001b[0m \u001b[0ma\u001b[0m\u001b[0;34m=\u001b[0m\u001b[0;36m28\u001b[0m\u001b[0;34m,\u001b[0m \u001b[0mb\u001b[0m\u001b[0;34m=\u001b[0m\u001b[0;36m3\u001b[0m\u001b[0;34m)\u001b[0m\u001b[0;34m\u001b[0m\u001b[0m\n\u001b[0m",
      "\u001b[0;32m<ipython-input-1-b0a6665013ae>\u001b[0m in \u001b[0;36mcrowd_table\u001b[0;34m(total_tasks, total_workers, p_hard_tasks, ptt, wpt, nk, a, b)\u001b[0m\n\u001b[1;32m     31\u001b[0m     \u001b[0mcp\u001b[0m \u001b[0;34m=\u001b[0m \u001b[0mcm\u001b[0m\u001b[0;34m.\u001b[0m\u001b[0mComputeProbability\u001b[0m\u001b[0;34m(\u001b[0m\u001b[0mdf_tw\u001b[0m\u001b[0;34m[\u001b[0m\u001b[0;34m'prob_task'\u001b[0m\u001b[0;34m]\u001b[0m\u001b[0;34m,\u001b[0m \u001b[0mdf_tw\u001b[0m\u001b[0;34m[\u001b[0m\u001b[0;34m'prob_worker'\u001b[0m\u001b[0;34m]\u001b[0m\u001b[0;34m,\u001b[0m \u001b[0mkeys\u001b[0m\u001b[0;34m)\u001b[0m\u001b[0;34m\u001b[0m\u001b[0m\n\u001b[1;32m     32\u001b[0m     df_tw['worker_answers'] = cm.WorkerAnswer(\n\u001b[0;32m---> 33\u001b[0;31m         cp.predict(), df_tw['true_answers'], keys).match()\n\u001b[0m\u001b[1;32m     34\u001b[0m     \u001b[0mdf_tw\u001b[0m\u001b[0;34m[\u001b[0m\u001b[0;34m'performance'\u001b[0m\u001b[0;34m]\u001b[0m \u001b[0;34m=\u001b[0m \u001b[0mcp\u001b[0m\u001b[0;34m.\u001b[0m\u001b[0mpredict\u001b[0m\u001b[0;34m(\u001b[0m\u001b[0;34m)\u001b[0m\u001b[0;34m\u001b[0m\u001b[0m\n\u001b[1;32m     35\u001b[0m     \u001b[0mperf\u001b[0m \u001b[0;34m=\u001b[0m \u001b[0mcm\u001b[0m\u001b[0;34m.\u001b[0m\u001b[0mPerformance\u001b[0m\u001b[0;34m(\u001b[0m\u001b[0mdf_tw\u001b[0m\u001b[0;34m)\u001b[0m\u001b[0;34m\u001b[0m\u001b[0m\n",
      "\u001b[0;32m~/crowdED/crowded/method.py\u001b[0m in \u001b[0;36mpredict\u001b[0;34m(self)\u001b[0m\n\u001b[1;32m     27\u001b[0m \u001b[0;34m\u001b[0m\u001b[0m\n\u001b[1;32m     28\u001b[0m     \u001b[0;32mdef\u001b[0m \u001b[0mpredict\u001b[0m\u001b[0;34m(\u001b[0m\u001b[0mself\u001b[0m\u001b[0;34m)\u001b[0m\u001b[0;34m:\u001b[0m\u001b[0;34m\u001b[0m\u001b[0m\n\u001b[0;32m---> 29\u001b[0;31m         \u001b[0;32mreturn\u001b[0m \u001b[0mpd\u001b[0m\u001b[0;34m.\u001b[0m\u001b[0mSeries\u001b[0m\u001b[0;34m(\u001b[0m\u001b[0;34m[\u001b[0m\u001b[0mbernoulli\u001b[0m\u001b[0;34m.\u001b[0m\u001b[0mrvs\u001b[0m\u001b[0;34m(\u001b[0m\u001b[0msize\u001b[0m\u001b[0;34m=\u001b[0m\u001b[0mself\u001b[0m\u001b[0;34m.\u001b[0m\u001b[0msize\u001b[0m\u001b[0;34m,\u001b[0m \u001b[0mp\u001b[0m\u001b[0;34m=\u001b[0m\u001b[0mprob\u001b[0m\u001b[0;34m)\u001b[0m\u001b[0;34m[\u001b[0m\u001b[0;36m0\u001b[0m\u001b[0;34m]\u001b[0m \u001b[0;32mfor\u001b[0m \u001b[0mprob\u001b[0m \u001b[0;32min\u001b[0m \u001b[0mself\u001b[0m\u001b[0;34m.\u001b[0m\u001b[0m_bayes_prob\u001b[0m\u001b[0;34m(\u001b[0m\u001b[0;34m)\u001b[0m\u001b[0;34m]\u001b[0m\u001b[0;34m)\u001b[0m\u001b[0;34m\u001b[0m\u001b[0m\n\u001b[0m\u001b[1;32m     30\u001b[0m \u001b[0;34m\u001b[0m\u001b[0m\n\u001b[1;32m     31\u001b[0m \u001b[0;32mclass\u001b[0m \u001b[0mWorkerAnswer\u001b[0m\u001b[0;34m(\u001b[0m\u001b[0mobject\u001b[0m\u001b[0;34m)\u001b[0m\u001b[0;34m:\u001b[0m\u001b[0;34m\u001b[0m\u001b[0m\n",
      "\u001b[0;32m~/crowdED/crowded/method.py\u001b[0m in \u001b[0;36m<listcomp>\u001b[0;34m(.0)\u001b[0m\n\u001b[1;32m     27\u001b[0m \u001b[0;34m\u001b[0m\u001b[0m\n\u001b[1;32m     28\u001b[0m     \u001b[0;32mdef\u001b[0m \u001b[0mpredict\u001b[0m\u001b[0;34m(\u001b[0m\u001b[0mself\u001b[0m\u001b[0;34m)\u001b[0m\u001b[0;34m:\u001b[0m\u001b[0;34m\u001b[0m\u001b[0m\n\u001b[0;32m---> 29\u001b[0;31m         \u001b[0;32mreturn\u001b[0m \u001b[0mpd\u001b[0m\u001b[0;34m.\u001b[0m\u001b[0mSeries\u001b[0m\u001b[0;34m(\u001b[0m\u001b[0;34m[\u001b[0m\u001b[0mbernoulli\u001b[0m\u001b[0;34m.\u001b[0m\u001b[0mrvs\u001b[0m\u001b[0;34m(\u001b[0m\u001b[0msize\u001b[0m\u001b[0;34m=\u001b[0m\u001b[0mself\u001b[0m\u001b[0;34m.\u001b[0m\u001b[0msize\u001b[0m\u001b[0;34m,\u001b[0m \u001b[0mp\u001b[0m\u001b[0;34m=\u001b[0m\u001b[0mprob\u001b[0m\u001b[0;34m)\u001b[0m\u001b[0;34m[\u001b[0m\u001b[0;36m0\u001b[0m\u001b[0;34m]\u001b[0m \u001b[0;32mfor\u001b[0m \u001b[0mprob\u001b[0m \u001b[0;32min\u001b[0m \u001b[0mself\u001b[0m\u001b[0;34m.\u001b[0m\u001b[0m_bayes_prob\u001b[0m\u001b[0;34m(\u001b[0m\u001b[0;34m)\u001b[0m\u001b[0;34m]\u001b[0m\u001b[0;34m)\u001b[0m\u001b[0;34m\u001b[0m\u001b[0m\n\u001b[0m\u001b[1;32m     30\u001b[0m \u001b[0;34m\u001b[0m\u001b[0m\n\u001b[1;32m     31\u001b[0m \u001b[0;32mclass\u001b[0m \u001b[0mWorkerAnswer\u001b[0m\u001b[0;34m(\u001b[0m\u001b[0mobject\u001b[0m\u001b[0;34m)\u001b[0m\u001b[0;34m:\u001b[0m\u001b[0;34m\u001b[0m\u001b[0m\n",
      "\u001b[0;32m~/anaconda3/envs/py36/lib/python3.6/site-packages/scipy/stats/_distn_infrastructure.py\u001b[0m in \u001b[0;36mrvs\u001b[0;34m(self, *args, **kwargs)\u001b[0m\n\u001b[1;32m   2807\u001b[0m         \"\"\"\n\u001b[1;32m   2808\u001b[0m         \u001b[0mkwargs\u001b[0m\u001b[0;34m[\u001b[0m\u001b[0;34m'discrete'\u001b[0m\u001b[0;34m]\u001b[0m \u001b[0;34m=\u001b[0m \u001b[0;32mTrue\u001b[0m\u001b[0;34m\u001b[0m\u001b[0m\n\u001b[0;32m-> 2809\u001b[0;31m         \u001b[0;32mreturn\u001b[0m \u001b[0msuper\u001b[0m\u001b[0;34m(\u001b[0m\u001b[0mrv_discrete\u001b[0m\u001b[0;34m,\u001b[0m \u001b[0mself\u001b[0m\u001b[0;34m)\u001b[0m\u001b[0;34m.\u001b[0m\u001b[0mrvs\u001b[0m\u001b[0;34m(\u001b[0m\u001b[0;34m*\u001b[0m\u001b[0margs\u001b[0m\u001b[0;34m,\u001b[0m \u001b[0;34m**\u001b[0m\u001b[0mkwargs\u001b[0m\u001b[0;34m)\u001b[0m\u001b[0;34m\u001b[0m\u001b[0m\n\u001b[0m\u001b[1;32m   2810\u001b[0m \u001b[0;34m\u001b[0m\u001b[0m\n\u001b[1;32m   2811\u001b[0m     \u001b[0;32mdef\u001b[0m \u001b[0mpmf\u001b[0m\u001b[0;34m(\u001b[0m\u001b[0mself\u001b[0m\u001b[0;34m,\u001b[0m \u001b[0mk\u001b[0m\u001b[0;34m,\u001b[0m \u001b[0;34m*\u001b[0m\u001b[0margs\u001b[0m\u001b[0;34m,\u001b[0m \u001b[0;34m**\u001b[0m\u001b[0mkwds\u001b[0m\u001b[0;34m)\u001b[0m\u001b[0;34m:\u001b[0m\u001b[0;34m\u001b[0m\u001b[0m\n",
      "\u001b[0;32m~/anaconda3/envs/py36/lib/python3.6/site-packages/scipy/stats/_distn_infrastructure.py\u001b[0m in \u001b[0;36mrvs\u001b[0;34m(self, *args, **kwds)\u001b[0m\n\u001b[1;32m    938\u001b[0m         \u001b[0mcond\u001b[0m \u001b[0;34m=\u001b[0m \u001b[0mlogical_and\u001b[0m\u001b[0;34m(\u001b[0m\u001b[0mself\u001b[0m\u001b[0;34m.\u001b[0m\u001b[0m_argcheck\u001b[0m\u001b[0;34m(\u001b[0m\u001b[0;34m*\u001b[0m\u001b[0margs\u001b[0m\u001b[0;34m)\u001b[0m\u001b[0;34m,\u001b[0m \u001b[0;34m(\u001b[0m\u001b[0mscale\u001b[0m \u001b[0;34m>=\u001b[0m \u001b[0;36m0\u001b[0m\u001b[0;34m)\u001b[0m\u001b[0;34m)\u001b[0m\u001b[0;34m\u001b[0m\u001b[0m\n\u001b[1;32m    939\u001b[0m         \u001b[0;32mif\u001b[0m \u001b[0;32mnot\u001b[0m \u001b[0mnp\u001b[0m\u001b[0;34m.\u001b[0m\u001b[0mall\u001b[0m\u001b[0;34m(\u001b[0m\u001b[0mcond\u001b[0m\u001b[0;34m)\u001b[0m\u001b[0;34m:\u001b[0m\u001b[0;34m\u001b[0m\u001b[0m\n\u001b[0;32m--> 940\u001b[0;31m             \u001b[0;32mraise\u001b[0m \u001b[0mValueError\u001b[0m\u001b[0;34m(\u001b[0m\u001b[0;34m\"Domain error in arguments.\"\u001b[0m\u001b[0;34m)\u001b[0m\u001b[0;34m\u001b[0m\u001b[0m\n\u001b[0m\u001b[1;32m    941\u001b[0m \u001b[0;34m\u001b[0m\u001b[0m\n\u001b[1;32m    942\u001b[0m         \u001b[0;32mif\u001b[0m \u001b[0mnp\u001b[0m\u001b[0;34m.\u001b[0m\u001b[0mall\u001b[0m\u001b[0;34m(\u001b[0m\u001b[0mscale\u001b[0m \u001b[0;34m==\u001b[0m \u001b[0;36m0\u001b[0m\u001b[0;34m)\u001b[0m\u001b[0;34m:\u001b[0m\u001b[0;34m\u001b[0m\u001b[0m\n",
      "\u001b[0;31mValueError\u001b[0m: Domain error in arguments."
     ]
    }
   ],
   "source": [
    "crowd_table(total_tasks=415, total_workers=40, p_hard_tasks=0.4, ptt=.3, wpt=5, nk=5, a=28, b=3)"
   ]
  },
  {
   "cell_type": "code",
   "execution_count": null,
   "metadata": {},
   "outputs": [],
   "source": []
  }
 ],
 "metadata": {
  "kernelspec": {
   "display_name": "Python 3",
   "language": "python",
   "name": "python3"
  },
  "language_info": {
   "codemirror_mode": {
    "name": "ipython",
    "version": 3
   },
   "file_extension": ".py",
   "mimetype": "text/x-python",
   "name": "python",
   "nbconvert_exporter": "python",
   "pygments_lexer": "ipython3",
   "version": "3.6.5"
  }
 },
 "nbformat": 4,
 "nbformat_minor": 2
}
