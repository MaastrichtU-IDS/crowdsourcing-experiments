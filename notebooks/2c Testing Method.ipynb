{
 "cells": [
  {
   "cell_type": "markdown",
   "metadata": {},
   "source": [
    "## Testing Method \n",
    "---"
   ]
  },
  {
   "cell_type": "code",
   "execution_count": 1,
   "metadata": {},
   "outputs": [],
   "source": [
    "import crowded.simulate as cs\n",
    "import crowded.method as cm\n",
    "from pycm import *"
   ]
  },
  {
   "cell_type": "markdown",
   "metadata": {},
   "source": [
    "#### Simulate the tasks"
   ]
  },
  {
   "cell_type": "code",
   "execution_count": 2,
   "metadata": {},
   "outputs": [
    {
     "data": {
      "text/html": [
       "<div>\n",
       "<style scoped>\n",
       "    .dataframe tbody tr th:only-of-type {\n",
       "        vertical-align: middle;\n",
       "    }\n",
       "\n",
       "    .dataframe tbody tr th {\n",
       "        vertical-align: top;\n",
       "    }\n",
       "\n",
       "    .dataframe thead th {\n",
       "        text-align: right;\n",
       "    }\n",
       "</style>\n",
       "<table border=\"1\" class=\"dataframe\">\n",
       "  <thead>\n",
       "    <tr style=\"text-align: right;\">\n",
       "      <th></th>\n",
       "      <th>task_id</th>\n",
       "      <th>true_answers</th>\n",
       "      <th>label_task</th>\n",
       "      <th>prob_task</th>\n",
       "    </tr>\n",
       "    <tr>\n",
       "      <th>id</th>\n",
       "      <th></th>\n",
       "      <th></th>\n",
       "      <th></th>\n",
       "      <th></th>\n",
       "    </tr>\n",
       "  </thead>\n",
       "  <tbody>\n",
       "    <tr>\n",
       "      <th>task_7pakEYVW65fP</th>\n",
       "      <td>task_7pakEYVW65fP</td>\n",
       "      <td>curve</td>\n",
       "      <td>easy_task</td>\n",
       "      <td>0.83</td>\n",
       "    </tr>\n",
       "    <tr>\n",
       "      <th>task_pRJZNMaMFqG4</th>\n",
       "      <td>task_pRJZNMaMFqG4</td>\n",
       "      <td>arc</td>\n",
       "      <td>hard_task</td>\n",
       "      <td>0.14</td>\n",
       "    </tr>\n",
       "    <tr>\n",
       "      <th>task_3usg497mHz3X</th>\n",
       "      <td>task_3usg497mHz3X</td>\n",
       "      <td>biases</td>\n",
       "      <td>easy_task</td>\n",
       "      <td>0.93</td>\n",
       "    </tr>\n",
       "    <tr>\n",
       "      <th>task_QGyCAiUQqnnv</th>\n",
       "      <td>task_QGyCAiUQqnnv</td>\n",
       "      <td>curve</td>\n",
       "      <td>easy_task</td>\n",
       "      <td>0.57</td>\n",
       "    </tr>\n",
       "    <tr>\n",
       "      <th>task_KF8zNhGNRc7b</th>\n",
       "      <td>task_KF8zNhGNRc7b</td>\n",
       "      <td>arc</td>\n",
       "      <td>easy_task</td>\n",
       "      <td>0.56</td>\n",
       "    </tr>\n",
       "  </tbody>\n",
       "</table>\n",
       "</div>"
      ],
      "text/plain": [
       "                             task_id true_answers label_task  prob_task\n",
       "id                                                                     \n",
       "task_7pakEYVW65fP  task_7pakEYVW65fP        curve  easy_task       0.83\n",
       "task_pRJZNMaMFqG4  task_pRJZNMaMFqG4          arc  hard_task       0.14\n",
       "task_3usg497mHz3X  task_3usg497mHz3X       biases  easy_task       0.93\n",
       "task_QGyCAiUQqnnv  task_QGyCAiUQqnnv        curve  easy_task       0.57\n",
       "task_KF8zNhGNRc7b  task_KF8zNhGNRc7b          arc  easy_task       0.56"
      ]
     },
     "execution_count": 2,
     "metadata": {},
     "output_type": "execute_result"
    }
   ],
   "source": [
    "total_tasks = 415 \n",
    "p_hard_tasks = 0.4\n",
    "number_of_valid_answers = 5\n",
    "df_tasks = cs.Tasks(number_of_valid_answers).create(total_tasks, p_hard_tasks)\n",
    "df_tasks.head()"
   ]
  },
  {
   "cell_type": "markdown",
   "metadata": {},
   "source": [
    "#### Simulate the workers"
   ]
  },
  {
   "cell_type": "code",
   "execution_count": 3,
   "metadata": {},
   "outputs": [
    {
     "data": {
      "text/html": [
       "<div>\n",
       "<style scoped>\n",
       "    .dataframe tbody tr th:only-of-type {\n",
       "        vertical-align: middle;\n",
       "    }\n",
       "\n",
       "    .dataframe tbody tr th {\n",
       "        vertical-align: top;\n",
       "    }\n",
       "\n",
       "    .dataframe thead th {\n",
       "        text-align: right;\n",
       "    }\n",
       "</style>\n",
       "<table border=\"1\" class=\"dataframe\">\n",
       "  <thead>\n",
       "    <tr style=\"text-align: right;\">\n",
       "      <th></th>\n",
       "      <th>prob_worker</th>\n",
       "      <th>worker_id</th>\n",
       "    </tr>\n",
       "    <tr>\n",
       "      <th>id</th>\n",
       "      <th></th>\n",
       "      <th></th>\n",
       "    </tr>\n",
       "  </thead>\n",
       "  <tbody>\n",
       "    <tr>\n",
       "      <th>ygGfzwWiBAYh</th>\n",
       "      <td>0.934760</td>\n",
       "      <td>ygGfzwWiBAYh</td>\n",
       "    </tr>\n",
       "    <tr>\n",
       "      <th>opxgSEdSfjF9</th>\n",
       "      <td>0.903603</td>\n",
       "      <td>opxgSEdSfjF9</td>\n",
       "    </tr>\n",
       "    <tr>\n",
       "      <th>i6WwJQjBprFo</th>\n",
       "      <td>0.895851</td>\n",
       "      <td>i6WwJQjBprFo</td>\n",
       "    </tr>\n",
       "    <tr>\n",
       "      <th>MQtfcjm74bYM</th>\n",
       "      <td>0.930487</td>\n",
       "      <td>MQtfcjm74bYM</td>\n",
       "    </tr>\n",
       "    <tr>\n",
       "      <th>K99ufooS9PFL</th>\n",
       "      <td>0.922409</td>\n",
       "      <td>K99ufooS9PFL</td>\n",
       "    </tr>\n",
       "  </tbody>\n",
       "</table>\n",
       "</div>"
      ],
      "text/plain": [
       "              prob_worker     worker_id\n",
       "id                                     \n",
       "ygGfzwWiBAYh     0.934760  ygGfzwWiBAYh\n",
       "opxgSEdSfjF9     0.903603  opxgSEdSfjF9\n",
       "i6WwJQjBprFo     0.895851  i6WwJQjBprFo\n",
       "MQtfcjm74bYM     0.930487  MQtfcjm74bYM\n",
       "K99ufooS9PFL     0.922409  K99ufooS9PFL"
      ]
     },
     "execution_count": 3,
     "metadata": {},
     "output_type": "execute_result"
    }
   ],
   "source": [
    "total_workers = 40 #50 #30\n",
    "workers = cs.Workers().create(total_workers)\n",
    "workers.head()"
   ]
  },
  {
   "cell_type": "markdown",
   "metadata": {},
   "source": [
    "#### Split the tasks"
   ]
  },
  {
   "cell_type": "code",
   "execution_count": 4,
   "metadata": {},
   "outputs": [],
   "source": [
    "#Tasks Split\n",
    "PTT = .3\n",
    "def tasks_split(df, p = PTT):\n",
    "    _train = df.sample(frac=p, random_state=23)\n",
    "    _rest = df.loc[df.index.difference(_train.index)]\n",
    "    return _train, _rest"
   ]
  },
  {
   "cell_type": "code",
   "execution_count": 5,
   "metadata": {},
   "outputs": [],
   "source": [
    "tasks_train, tasks_rest = tasks_split(df_tasks, .3)"
   ]
  },
  {
   "cell_type": "markdown",
   "metadata": {},
   "source": [
    "#### Assigning workers to tasks"
   ]
  },
  {
   "cell_type": "code",
   "execution_count": 6,
   "metadata": {},
   "outputs": [
    {
     "data": {
      "text/html": [
       "<div>\n",
       "<style scoped>\n",
       "    .dataframe tbody tr th:only-of-type {\n",
       "        vertical-align: middle;\n",
       "    }\n",
       "\n",
       "    .dataframe tbody tr th {\n",
       "        vertical-align: top;\n",
       "    }\n",
       "\n",
       "    .dataframe thead th {\n",
       "        text-align: right;\n",
       "    }\n",
       "</style>\n",
       "<table border=\"1\" class=\"dataframe\">\n",
       "  <thead>\n",
       "    <tr style=\"text-align: right;\">\n",
       "      <th></th>\n",
       "      <th>task_id</th>\n",
       "      <th>worker_id</th>\n",
       "      <th>true_answers</th>\n",
       "      <th>label_task</th>\n",
       "      <th>prob_task</th>\n",
       "      <th>prob_worker</th>\n",
       "    </tr>\n",
       "  </thead>\n",
       "  <tbody>\n",
       "    <tr>\n",
       "      <th>0</th>\n",
       "      <td>task_A653eUxUnDjM</td>\n",
       "      <td>abnKn3hMDavQ</td>\n",
       "      <td>biases</td>\n",
       "      <td>easy_task</td>\n",
       "      <td>0.6</td>\n",
       "      <td>0.890812</td>\n",
       "    </tr>\n",
       "    <tr>\n",
       "      <th>1</th>\n",
       "      <td>task_A653eUxUnDjM</td>\n",
       "      <td>9gax3iZjTxZH</td>\n",
       "      <td>biases</td>\n",
       "      <td>easy_task</td>\n",
       "      <td>0.6</td>\n",
       "      <td>0.865034</td>\n",
       "    </tr>\n",
       "    <tr>\n",
       "      <th>2</th>\n",
       "      <td>task_A653eUxUnDjM</td>\n",
       "      <td>79HeATJwVHee</td>\n",
       "      <td>biases</td>\n",
       "      <td>easy_task</td>\n",
       "      <td>0.6</td>\n",
       "      <td>0.861028</td>\n",
       "    </tr>\n",
       "    <tr>\n",
       "      <th>3</th>\n",
       "      <td>task_A653eUxUnDjM</td>\n",
       "      <td>unvPfM9LeD6X</td>\n",
       "      <td>biases</td>\n",
       "      <td>easy_task</td>\n",
       "      <td>0.6</td>\n",
       "      <td>0.968507</td>\n",
       "    </tr>\n",
       "    <tr>\n",
       "      <th>4</th>\n",
       "      <td>task_A653eUxUnDjM</td>\n",
       "      <td>MQtfcjm74bYM</td>\n",
       "      <td>biases</td>\n",
       "      <td>easy_task</td>\n",
       "      <td>0.6</td>\n",
       "      <td>0.930487</td>\n",
       "    </tr>\n",
       "  </tbody>\n",
       "</table>\n",
       "</div>"
      ],
      "text/plain": [
       "             task_id     worker_id true_answers label_task  prob_task  \\\n",
       "0  task_A653eUxUnDjM  abnKn3hMDavQ       biases  easy_task        0.6   \n",
       "1  task_A653eUxUnDjM  9gax3iZjTxZH       biases  easy_task        0.6   \n",
       "2  task_A653eUxUnDjM  79HeATJwVHee       biases  easy_task        0.6   \n",
       "3  task_A653eUxUnDjM  unvPfM9LeD6X       biases  easy_task        0.6   \n",
       "4  task_A653eUxUnDjM  MQtfcjm74bYM       biases  easy_task        0.6   \n",
       "\n",
       "   prob_worker  \n",
       "0     0.890812  \n",
       "1     0.865034  \n",
       "2     0.861028  \n",
       "3     0.968507  \n",
       "4     0.930487  "
      ]
     },
     "execution_count": 6,
     "metadata": {},
     "output_type": "execute_result"
    }
   ],
   "source": [
    "wpt = 5\n",
    "#workers per task always smaller than the number of workers\n",
    "df_tw = cs.AssignTasks(tasks_train, workers, wpt).create()\n",
    "df_tw.head()"
   ]
  },
  {
   "cell_type": "markdown",
   "metadata": {},
   "source": [
    "#### Compute the probability to assess the tasks"
   ]
  },
  {
   "cell_type": "code",
   "execution_count": 7,
   "metadata": {},
   "outputs": [
    {
     "data": {
      "text/plain": [
       "array(['curve', 'arc', 'biases', 'detail', 'energy'], dtype=object)"
      ]
     },
     "execution_count": 7,
     "metadata": {},
     "output_type": "execute_result"
    }
   ],
   "source": [
    "keys = df_tasks['true_answers'].unique()\n",
    "keys"
   ]
  },
  {
   "cell_type": "code",
   "execution_count": 8,
   "metadata": {},
   "outputs": [
    {
     "data": {
      "text/html": [
       "<div>\n",
       "<style scoped>\n",
       "    .dataframe tbody tr th:only-of-type {\n",
       "        vertical-align: middle;\n",
       "    }\n",
       "\n",
       "    .dataframe tbody tr th {\n",
       "        vertical-align: top;\n",
       "    }\n",
       "\n",
       "    .dataframe thead th {\n",
       "        text-align: right;\n",
       "    }\n",
       "</style>\n",
       "<table border=\"1\" class=\"dataframe\">\n",
       "  <thead>\n",
       "    <tr style=\"text-align: right;\">\n",
       "      <th></th>\n",
       "      <th>task_id</th>\n",
       "      <th>worker_id</th>\n",
       "      <th>true_answers</th>\n",
       "      <th>label_task</th>\n",
       "      <th>prob_task</th>\n",
       "      <th>prob_worker</th>\n",
       "      <th>worker_answers</th>\n",
       "      <th>performance</th>\n",
       "    </tr>\n",
       "  </thead>\n",
       "  <tbody>\n",
       "    <tr>\n",
       "      <th>0</th>\n",
       "      <td>task_A653eUxUnDjM</td>\n",
       "      <td>abnKn3hMDavQ</td>\n",
       "      <td>biases</td>\n",
       "      <td>easy_task</td>\n",
       "      <td>0.6</td>\n",
       "      <td>0.890812</td>\n",
       "      <td>biases</td>\n",
       "      <td>1</td>\n",
       "    </tr>\n",
       "    <tr>\n",
       "      <th>1</th>\n",
       "      <td>task_A653eUxUnDjM</td>\n",
       "      <td>9gax3iZjTxZH</td>\n",
       "      <td>biases</td>\n",
       "      <td>easy_task</td>\n",
       "      <td>0.6</td>\n",
       "      <td>0.865034</td>\n",
       "      <td>biases</td>\n",
       "      <td>1</td>\n",
       "    </tr>\n",
       "    <tr>\n",
       "      <th>2</th>\n",
       "      <td>task_A653eUxUnDjM</td>\n",
       "      <td>79HeATJwVHee</td>\n",
       "      <td>biases</td>\n",
       "      <td>easy_task</td>\n",
       "      <td>0.6</td>\n",
       "      <td>0.861028</td>\n",
       "      <td>biases</td>\n",
       "      <td>1</td>\n",
       "    </tr>\n",
       "    <tr>\n",
       "      <th>3</th>\n",
       "      <td>task_A653eUxUnDjM</td>\n",
       "      <td>unvPfM9LeD6X</td>\n",
       "      <td>biases</td>\n",
       "      <td>easy_task</td>\n",
       "      <td>0.6</td>\n",
       "      <td>0.968507</td>\n",
       "      <td>biases</td>\n",
       "      <td>1</td>\n",
       "    </tr>\n",
       "    <tr>\n",
       "      <th>4</th>\n",
       "      <td>task_A653eUxUnDjM</td>\n",
       "      <td>MQtfcjm74bYM</td>\n",
       "      <td>biases</td>\n",
       "      <td>easy_task</td>\n",
       "      <td>0.6</td>\n",
       "      <td>0.930487</td>\n",
       "      <td>biases</td>\n",
       "      <td>1</td>\n",
       "    </tr>\n",
       "  </tbody>\n",
       "</table>\n",
       "</div>"
      ],
      "text/plain": [
       "             task_id     worker_id true_answers label_task  prob_task  \\\n",
       "0  task_A653eUxUnDjM  abnKn3hMDavQ       biases  easy_task        0.6   \n",
       "1  task_A653eUxUnDjM  9gax3iZjTxZH       biases  easy_task        0.6   \n",
       "2  task_A653eUxUnDjM  79HeATJwVHee       biases  easy_task        0.6   \n",
       "3  task_A653eUxUnDjM  unvPfM9LeD6X       biases  easy_task        0.6   \n",
       "4  task_A653eUxUnDjM  MQtfcjm74bYM       biases  easy_task        0.6   \n",
       "\n",
       "   prob_worker worker_answers  performance  \n",
       "0     0.890812         biases            1  \n",
       "1     0.865034         biases            1  \n",
       "2     0.861028         biases            1  \n",
       "3     0.968507         biases            1  \n",
       "4     0.930487         biases            1  "
      ]
     },
     "execution_count": 8,
     "metadata": {},
     "output_type": "execute_result"
    }
   ],
   "source": [
    "cp = cm.ComputeProbability(df_tw['prob_task'], df_tw['prob_worker'], keys)\n",
    "df_tw['worker_answers'] = cm.WorkerAnswer(df_tw['true_answers'], cp.predict(), keys).match()\n",
    "df_tw['performance'] = cp.predict()\n",
    "df_tw.head()"
   ]
  },
  {
   "cell_type": "markdown",
   "metadata": {},
   "source": [
    "#### Assess the performance and get the good workers"
   ]
  },
  {
   "cell_type": "code",
   "execution_count": 9,
   "metadata": {},
   "outputs": [
    {
     "data": {
      "text/html": [
       "<div>\n",
       "<style scoped>\n",
       "    .dataframe tbody tr th:only-of-type {\n",
       "        vertical-align: middle;\n",
       "    }\n",
       "\n",
       "    .dataframe tbody tr th {\n",
       "        vertical-align: top;\n",
       "    }\n",
       "\n",
       "    .dataframe thead th {\n",
       "        text-align: right;\n",
       "    }\n",
       "</style>\n",
       "<table border=\"1\" class=\"dataframe\">\n",
       "  <thead>\n",
       "    <tr style=\"text-align: right;\">\n",
       "      <th></th>\n",
       "      <th>worker_id</th>\n",
       "      <th>prob_task</th>\n",
       "      <th>prob_worker</th>\n",
       "      <th>performance</th>\n",
       "      <th>worker_ability</th>\n",
       "      <th>task_id</th>\n",
       "    </tr>\n",
       "  </thead>\n",
       "  <tbody>\n",
       "    <tr>\n",
       "      <th>0</th>\n",
       "      <td>3XTg88TdcFyC</td>\n",
       "      <td>0.507000</td>\n",
       "      <td>0.907076</td>\n",
       "      <td>1.0</td>\n",
       "      <td>good_worker</td>\n",
       "      <td>20</td>\n",
       "    </tr>\n",
       "    <tr>\n",
       "      <th>1</th>\n",
       "      <td>9gax3iZjTxZH</td>\n",
       "      <td>0.499091</td>\n",
       "      <td>0.865034</td>\n",
       "      <td>1.0</td>\n",
       "      <td>good_worker</td>\n",
       "      <td>11</td>\n",
       "    </tr>\n",
       "    <tr>\n",
       "      <th>2</th>\n",
       "      <td>3oW8Syw9eYjT</td>\n",
       "      <td>0.593077</td>\n",
       "      <td>0.831122</td>\n",
       "      <td>1.0</td>\n",
       "      <td>good_worker</td>\n",
       "      <td>13</td>\n",
       "    </tr>\n",
       "    <tr>\n",
       "      <th>3</th>\n",
       "      <td>MQtfcjm74bYM</td>\n",
       "      <td>0.429167</td>\n",
       "      <td>0.930487</td>\n",
       "      <td>1.0</td>\n",
       "      <td>good_worker</td>\n",
       "      <td>12</td>\n",
       "    </tr>\n",
       "    <tr>\n",
       "      <th>4</th>\n",
       "      <td>abnKn3hMDavQ</td>\n",
       "      <td>0.672000</td>\n",
       "      <td>0.890812</td>\n",
       "      <td>1.0</td>\n",
       "      <td>good_worker</td>\n",
       "      <td>15</td>\n",
       "    </tr>\n",
       "  </tbody>\n",
       "</table>\n",
       "</div>"
      ],
      "text/plain": [
       "      worker_id  prob_task  prob_worker  performance worker_ability  task_id\n",
       "0  3XTg88TdcFyC   0.507000     0.907076          1.0    good_worker       20\n",
       "1  9gax3iZjTxZH   0.499091     0.865034          1.0    good_worker       11\n",
       "2  3oW8Syw9eYjT   0.593077     0.831122          1.0    good_worker       13\n",
       "3  MQtfcjm74bYM   0.429167     0.930487          1.0    good_worker       12\n",
       "4  abnKn3hMDavQ   0.672000     0.890812          1.0    good_worker       15"
      ]
     },
     "execution_count": 9,
     "metadata": {},
     "output_type": "execute_result"
    }
   ],
   "source": [
    "perf = cm.Performance(df_tw)\n",
    "df_workers = perf._workers()\n",
    "df_workers.head()"
   ]
  },
  {
   "cell_type": "code",
   "execution_count": 10,
   "metadata": {},
   "outputs": [
    {
     "data": {
      "text/html": [
       "<div>\n",
       "<style scoped>\n",
       "    .dataframe tbody tr th:only-of-type {\n",
       "        vertical-align: middle;\n",
       "    }\n",
       "\n",
       "    .dataframe tbody tr th {\n",
       "        vertical-align: top;\n",
       "    }\n",
       "\n",
       "    .dataframe thead th {\n",
       "        text-align: right;\n",
       "    }\n",
       "</style>\n",
       "<table border=\"1\" class=\"dataframe\">\n",
       "  <thead>\n",
       "    <tr style=\"text-align: right;\">\n",
       "      <th></th>\n",
       "      <th>prob_worker</th>\n",
       "      <th>worker_id</th>\n",
       "    </tr>\n",
       "    <tr>\n",
       "      <th>id</th>\n",
       "      <th></th>\n",
       "      <th></th>\n",
       "    </tr>\n",
       "  </thead>\n",
       "  <tbody>\n",
       "    <tr>\n",
       "      <th>3XTg88TdcFyC</th>\n",
       "      <td>0.907076</td>\n",
       "      <td>3XTg88TdcFyC</td>\n",
       "    </tr>\n",
       "    <tr>\n",
       "      <th>9gax3iZjTxZH</th>\n",
       "      <td>0.865034</td>\n",
       "      <td>9gax3iZjTxZH</td>\n",
       "    </tr>\n",
       "    <tr>\n",
       "      <th>MQtfcjm74bYM</th>\n",
       "      <td>0.930487</td>\n",
       "      <td>MQtfcjm74bYM</td>\n",
       "    </tr>\n",
       "    <tr>\n",
       "      <th>GQcXgBrYdPzN</th>\n",
       "      <td>0.899502</td>\n",
       "      <td>GQcXgBrYdPzN</td>\n",
       "    </tr>\n",
       "    <tr>\n",
       "      <th>FBm8JxTv8poS</th>\n",
       "      <td>0.947078</td>\n",
       "      <td>FBm8JxTv8poS</td>\n",
       "    </tr>\n",
       "    <tr>\n",
       "      <th>VZVRmbRWCzv7</th>\n",
       "      <td>0.919200</td>\n",
       "      <td>VZVRmbRWCzv7</td>\n",
       "    </tr>\n",
       "    <tr>\n",
       "      <th>79HeATJwVHee</th>\n",
       "      <td>0.861028</td>\n",
       "      <td>79HeATJwVHee</td>\n",
       "    </tr>\n",
       "    <tr>\n",
       "      <th>4oXMHP85SsJH</th>\n",
       "      <td>0.938163</td>\n",
       "      <td>4oXMHP85SsJH</td>\n",
       "    </tr>\n",
       "    <tr>\n",
       "      <th>ygGfzwWiBAYh</th>\n",
       "      <td>0.934760</td>\n",
       "      <td>ygGfzwWiBAYh</td>\n",
       "    </tr>\n",
       "    <tr>\n",
       "      <th>V49WLDPLgMVG</th>\n",
       "      <td>0.964094</td>\n",
       "      <td>V49WLDPLgMVG</td>\n",
       "    </tr>\n",
       "  </tbody>\n",
       "</table>\n",
       "</div>"
      ],
      "text/plain": [
       "              prob_worker     worker_id\n",
       "id                                     \n",
       "3XTg88TdcFyC     0.907076  3XTg88TdcFyC\n",
       "9gax3iZjTxZH     0.865034  9gax3iZjTxZH\n",
       "MQtfcjm74bYM     0.930487  MQtfcjm74bYM\n",
       "GQcXgBrYdPzN     0.899502  GQcXgBrYdPzN\n",
       "FBm8JxTv8poS     0.947078  FBm8JxTv8poS\n",
       "VZVRmbRWCzv7     0.919200  VZVRmbRWCzv7\n",
       "79HeATJwVHee     0.861028  79HeATJwVHee\n",
       "4oXMHP85SsJH     0.938163  4oXMHP85SsJH\n",
       "ygGfzwWiBAYh     0.934760  ygGfzwWiBAYh\n",
       "V49WLDPLgMVG     0.964094  V49WLDPLgMVG"
      ]
     },
     "execution_count": 10,
     "metadata": {},
     "output_type": "execute_result"
    }
   ],
   "source": [
    "good_workers = workers.loc[perf.good_workers()]\n",
    "good_workers"
   ]
  },
  {
   "cell_type": "markdown",
   "metadata": {},
   "source": [
    "#### Assign the good workers to the rest of the tasks"
   ]
  },
  {
   "cell_type": "code",
   "execution_count": 11,
   "metadata": {},
   "outputs": [
    {
     "data": {
      "text/html": [
       "<div>\n",
       "<style scoped>\n",
       "    .dataframe tbody tr th:only-of-type {\n",
       "        vertical-align: middle;\n",
       "    }\n",
       "\n",
       "    .dataframe tbody tr th {\n",
       "        vertical-align: top;\n",
       "    }\n",
       "\n",
       "    .dataframe thead th {\n",
       "        text-align: right;\n",
       "    }\n",
       "</style>\n",
       "<table border=\"1\" class=\"dataframe\">\n",
       "  <thead>\n",
       "    <tr style=\"text-align: right;\">\n",
       "      <th></th>\n",
       "      <th>task_id</th>\n",
       "      <th>worker_id</th>\n",
       "      <th>true_answers</th>\n",
       "      <th>label_task</th>\n",
       "      <th>prob_task</th>\n",
       "      <th>prob_worker</th>\n",
       "    </tr>\n",
       "  </thead>\n",
       "  <tbody>\n",
       "    <tr>\n",
       "      <th>0</th>\n",
       "      <td>task_27CC2rmAa5yS</td>\n",
       "      <td>V49WLDPLgMVG</td>\n",
       "      <td>energy</td>\n",
       "      <td>easy_task</td>\n",
       "      <td>0.92</td>\n",
       "      <td>0.964094</td>\n",
       "    </tr>\n",
       "    <tr>\n",
       "      <th>1</th>\n",
       "      <td>task_27CC2rmAa5yS</td>\n",
       "      <td>VZVRmbRWCzv7</td>\n",
       "      <td>energy</td>\n",
       "      <td>easy_task</td>\n",
       "      <td>0.92</td>\n",
       "      <td>0.919200</td>\n",
       "    </tr>\n",
       "    <tr>\n",
       "      <th>2</th>\n",
       "      <td>task_27CC2rmAa5yS</td>\n",
       "      <td>FBm8JxTv8poS</td>\n",
       "      <td>energy</td>\n",
       "      <td>easy_task</td>\n",
       "      <td>0.92</td>\n",
       "      <td>0.947078</td>\n",
       "    </tr>\n",
       "    <tr>\n",
       "      <th>3</th>\n",
       "      <td>task_27CC2rmAa5yS</td>\n",
       "      <td>GQcXgBrYdPzN</td>\n",
       "      <td>energy</td>\n",
       "      <td>easy_task</td>\n",
       "      <td>0.92</td>\n",
       "      <td>0.899502</td>\n",
       "    </tr>\n",
       "    <tr>\n",
       "      <th>4</th>\n",
       "      <td>task_27CC2rmAa5yS</td>\n",
       "      <td>3XTg88TdcFyC</td>\n",
       "      <td>energy</td>\n",
       "      <td>easy_task</td>\n",
       "      <td>0.92</td>\n",
       "      <td>0.907076</td>\n",
       "    </tr>\n",
       "  </tbody>\n",
       "</table>\n",
       "</div>"
      ],
      "text/plain": [
       "             task_id     worker_id true_answers label_task  prob_task  \\\n",
       "0  task_27CC2rmAa5yS  V49WLDPLgMVG       energy  easy_task       0.92   \n",
       "1  task_27CC2rmAa5yS  VZVRmbRWCzv7       energy  easy_task       0.92   \n",
       "2  task_27CC2rmAa5yS  FBm8JxTv8poS       energy  easy_task       0.92   \n",
       "3  task_27CC2rmAa5yS  GQcXgBrYdPzN       energy  easy_task       0.92   \n",
       "4  task_27CC2rmAa5yS  3XTg88TdcFyC       energy  easy_task       0.92   \n",
       "\n",
       "   prob_worker  \n",
       "0     0.964094  \n",
       "1     0.919200  \n",
       "2     0.947078  \n",
       "3     0.899502  \n",
       "4     0.907076  "
      ]
     },
     "execution_count": 11,
     "metadata": {},
     "output_type": "execute_result"
    }
   ],
   "source": [
    "wpt = 5\n",
    "#workers per task always smaller than the number of workers\n",
    "df_tw_2 = cs.AssignTasks(tasks_rest, good_workers, wpt).create()\n",
    "df_tw_2.head()"
   ]
  },
  {
   "cell_type": "markdown",
   "metadata": {},
   "source": [
    "#### Compute probability to the rest of the tasks"
   ]
  },
  {
   "cell_type": "code",
   "execution_count": 12,
   "metadata": {},
   "outputs": [
    {
     "data": {
      "text/html": [
       "<div>\n",
       "<style scoped>\n",
       "    .dataframe tbody tr th:only-of-type {\n",
       "        vertical-align: middle;\n",
       "    }\n",
       "\n",
       "    .dataframe tbody tr th {\n",
       "        vertical-align: top;\n",
       "    }\n",
       "\n",
       "    .dataframe thead th {\n",
       "        text-align: right;\n",
       "    }\n",
       "</style>\n",
       "<table border=\"1\" class=\"dataframe\">\n",
       "  <thead>\n",
       "    <tr style=\"text-align: right;\">\n",
       "      <th></th>\n",
       "      <th>task_id</th>\n",
       "      <th>worker_id</th>\n",
       "      <th>true_answers</th>\n",
       "      <th>label_task</th>\n",
       "      <th>prob_task</th>\n",
       "      <th>prob_worker</th>\n",
       "      <th>worker_answers</th>\n",
       "      <th>performance</th>\n",
       "    </tr>\n",
       "  </thead>\n",
       "  <tbody>\n",
       "    <tr>\n",
       "      <th>0</th>\n",
       "      <td>task_27CC2rmAa5yS</td>\n",
       "      <td>V49WLDPLgMVG</td>\n",
       "      <td>energy</td>\n",
       "      <td>easy_task</td>\n",
       "      <td>0.92</td>\n",
       "      <td>0.964094</td>\n",
       "      <td>energy</td>\n",
       "      <td>1</td>\n",
       "    </tr>\n",
       "    <tr>\n",
       "      <th>1</th>\n",
       "      <td>task_27CC2rmAa5yS</td>\n",
       "      <td>VZVRmbRWCzv7</td>\n",
       "      <td>energy</td>\n",
       "      <td>easy_task</td>\n",
       "      <td>0.92</td>\n",
       "      <td>0.919200</td>\n",
       "      <td>energy</td>\n",
       "      <td>1</td>\n",
       "    </tr>\n",
       "    <tr>\n",
       "      <th>2</th>\n",
       "      <td>task_27CC2rmAa5yS</td>\n",
       "      <td>FBm8JxTv8poS</td>\n",
       "      <td>energy</td>\n",
       "      <td>easy_task</td>\n",
       "      <td>0.92</td>\n",
       "      <td>0.947078</td>\n",
       "      <td>energy</td>\n",
       "      <td>1</td>\n",
       "    </tr>\n",
       "    <tr>\n",
       "      <th>3</th>\n",
       "      <td>task_27CC2rmAa5yS</td>\n",
       "      <td>GQcXgBrYdPzN</td>\n",
       "      <td>energy</td>\n",
       "      <td>easy_task</td>\n",
       "      <td>0.92</td>\n",
       "      <td>0.899502</td>\n",
       "      <td>energy</td>\n",
       "      <td>1</td>\n",
       "    </tr>\n",
       "    <tr>\n",
       "      <th>4</th>\n",
       "      <td>task_27CC2rmAa5yS</td>\n",
       "      <td>3XTg88TdcFyC</td>\n",
       "      <td>energy</td>\n",
       "      <td>easy_task</td>\n",
       "      <td>0.92</td>\n",
       "      <td>0.907076</td>\n",
       "      <td>energy</td>\n",
       "      <td>1</td>\n",
       "    </tr>\n",
       "  </tbody>\n",
       "</table>\n",
       "</div>"
      ],
      "text/plain": [
       "             task_id     worker_id true_answers label_task  prob_task  \\\n",
       "0  task_27CC2rmAa5yS  V49WLDPLgMVG       energy  easy_task       0.92   \n",
       "1  task_27CC2rmAa5yS  VZVRmbRWCzv7       energy  easy_task       0.92   \n",
       "2  task_27CC2rmAa5yS  FBm8JxTv8poS       energy  easy_task       0.92   \n",
       "3  task_27CC2rmAa5yS  GQcXgBrYdPzN       energy  easy_task       0.92   \n",
       "4  task_27CC2rmAa5yS  3XTg88TdcFyC       energy  easy_task       0.92   \n",
       "\n",
       "   prob_worker worker_answers  performance  \n",
       "0     0.964094         energy            1  \n",
       "1     0.919200         energy            1  \n",
       "2     0.947078         energy            1  \n",
       "3     0.899502         energy            1  \n",
       "4     0.907076         energy            1  "
      ]
     },
     "execution_count": 12,
     "metadata": {},
     "output_type": "execute_result"
    }
   ],
   "source": [
    "cp2 = cm.ComputeProbability(df_tw_2['prob_task'], df_tw_2['prob_worker'], keys)\n",
    "df_tw_2['worker_answers'] = cm.WorkerAnswer(df_tw_2['true_answers'], cp2.predict(), keys).match()\n",
    "df_tw_2['performance'] = cp2.predict()\n",
    "df_tw_2.head()"
   ]
  },
  {
   "cell_type": "markdown",
   "metadata": {},
   "source": [
    "#### Merge the data and get the real accuracy"
   ]
  },
  {
   "cell_type": "code",
   "execution_count": 13,
   "metadata": {},
   "outputs": [],
   "source": [
    "df = df_tw.append(df_tw_2)"
   ]
  },
  {
   "cell_type": "code",
   "execution_count": 14,
   "metadata": {},
   "outputs": [
    {
     "name": "stdout",
     "output_type": "stream",
     "text": [
      "Predict          arc      biases   curve    detail   energy   \n",
      "Actual\n",
      "arc              441      5        7        9        3        \n",
      "biases           5        379      3        6        2        \n",
      "curve            3        2        344      4        2        \n",
      "detail           4        0        5        358      3        \n",
      "energy           4        6        3        5        472      \n",
      "\n",
      "0.9609638554216867 None\n"
     ]
    }
   ],
   "source": [
    "mat = ConfusionMatrix(df['true_answers'].tolist(), df['worker_answers'].tolist())\n",
    "print(mat.Overall_ACC, mat.matrix())"
   ]
  },
  {
   "cell_type": "markdown",
   "metadata": {},
   "source": [
    "#### Compare with 1 stage"
   ]
  },
  {
   "cell_type": "code",
   "execution_count": 15,
   "metadata": {},
   "outputs": [],
   "source": [
    "df_tw1 = cs.AssignTasks(df_tasks, workers, wpt).create()\n",
    "cp1 = cm.ComputeProbability(df_tw1['prob_task'], df_tw1['prob_worker'], keys)\n",
    "df_tw1['worker_answers'] = cm.WorkerAnswer(df_tw1['true_answers'], cp1.predict(), keys).match()\n",
    "df_tw1['performance'] = cp1.predict()"
   ]
  },
  {
   "cell_type": "code",
   "execution_count": 16,
   "metadata": {},
   "outputs": [
    {
     "name": "stdout",
     "output_type": "stream",
     "text": [
      "Predict          arc      biases   curve    detail   energy   \n",
      "Actual\n",
      "arc              438      6        6        9        6        \n",
      "biases           7        375      2        7        4        \n",
      "curve            4        6        335      1        9        \n",
      "detail           3        7        5        353      2        \n",
      "energy           4        8        11       4        463      \n",
      "\n",
      "0.9465060240963855 None\n"
     ]
    }
   ],
   "source": [
    "mat = ConfusionMatrix(df_tw1['true_answers'].tolist(), df_tw1['worker_answers'].tolist())\n",
    "print(mat.Overall_ACC, mat.matrix())"
   ]
  },
  {
   "cell_type": "markdown",
   "metadata": {},
   "source": [
    "#####  The accuracy of 1 stage algorithm is lower than the 2 stages algorithm *"
   ]
  },
  {
   "cell_type": "markdown",
   "metadata": {},
   "source": [
    "---\n",
    "### Overall Accuracy (Create Crowded Module)"
   ]
  },
  {
   "cell_type": "code",
   "execution_count": 17,
   "metadata": {},
   "outputs": [],
   "source": [
    "import crowded.make as mk\n",
    "import pandas as pd\n",
    "import seaborn as sns\n",
    "import matplotlib.pyplot as plt\n",
    "%matplotlib inline"
   ]
  },
  {
   "cell_type": "code",
   "execution_count": 18,
   "metadata": {},
   "outputs": [],
   "source": [
    "total_tasks = 415 \n",
    "total_workers = 40 \n",
    "p_hard_tasks = 0.4\n",
    "PTT = .3\n",
    "wpt = 5\n",
    "NK = 5"
   ]
  },
  {
   "cell_type": "code",
   "execution_count": 19,
   "metadata": {},
   "outputs": [],
   "source": [
    "tasks = [100, 200, 300]\n",
    "workers = [20, 40, 60, 80]\n",
    "hard_t = [0.2, 0.8]\n",
    "prop = [0.2,0.8]\n",
    "wpt = [3,9]\n",
    "key = [3]"
   ]
  },
  {
   "cell_type": "code",
   "execution_count": 20,
   "metadata": {},
   "outputs": [],
   "source": [
    "def _combinations(tasks, workers, hard_t, prop, wpt, key):\n",
    "    table = []\n",
    "    for t in tasks:\n",
    "        for w in workers:\n",
    "            for h in hard_t:\n",
    "                for p in prop:\n",
    "                    for x in wpt:\n",
    "                        for k in key:\n",
    "                            table.append([t, w, h, p, x, k])\n",
    "    return table\n",
    "\n",
    "\n",
    "\n",
    "def simulate_scenarios(tasks, workers, hard_t, prop, wpt, key, stages=2):\n",
    "    sim = _combinations(tasks, workers, hard_t, prop, wpt, key)\n",
    "    for idx, l in enumerate(sim):\n",
    "        mk._update_progress(\"CrowdED simulation\", (idx + 1) / len(sim))\n",
    "        try:\n",
    "            if stages == 2:\n",
    "                df = mk.crowd_table(total_tasks=l[0], total_workers=l[1], p_hard_tasks=l[2], ptt=l[3], wpt=l[4], nk=l[5])\n",
    "            else:\n",
    "                df = mk.crowd_table_one_stage(total_tasks=l[0], total_workers=l[1], p_hard_tasks=l[2], ptt=l[3], wpt=l[4], nk=l[5])\n",
    "            mat = ConfusionMatrix(df['true_answers'].tolist(), df['worker_answers'].tolist())\n",
    "            l.insert(6, round(mat.Overall_ACC, 4))\n",
    "            l.insert(7, round(mat.CrossEntropy, 4))\n",
    "            l.insert(8, round(sum([i for i in cm.F1.values()]) / len([i for i in cm.F1.values()]), 4))\n",
    "        except Exception:\n",
    "            pass\n",
    "    return sim"
   ]
  },
  {
   "cell_type": "code",
   "execution_count": 21,
   "metadata": {},
   "outputs": [
    {
     "name": "stdout",
     "output_type": "stream",
     "text": [
      "CrowdED simulation: [####################] 100.0% DONE\n"
     ]
    }
   ],
   "source": [
    "simulations = pd.DataFrame(simulate_scenarios(tasks, workers, hard_t, prop, wpt, key)).fillna(0)"
   ]
  },
  {
   "cell_type": "code",
   "execution_count": 22,
   "metadata": {},
   "outputs": [],
   "source": [
    "simulations.columns = ['total_tasks', 'total_workers', 'proportion_hard_tasks','proportion_train_tasks', 'workers_per_task', 'total_keys','accuracy','cross_entropy']"
   ]
  },
  {
   "cell_type": "code",
   "execution_count": 23,
   "metadata": {},
   "outputs": [
    {
     "data": {
      "text/html": [
       "<div>\n",
       "<style scoped>\n",
       "    .dataframe tbody tr th:only-of-type {\n",
       "        vertical-align: middle;\n",
       "    }\n",
       "\n",
       "    .dataframe tbody tr th {\n",
       "        vertical-align: top;\n",
       "    }\n",
       "\n",
       "    .dataframe thead th {\n",
       "        text-align: right;\n",
       "    }\n",
       "</style>\n",
       "<table border=\"1\" class=\"dataframe\">\n",
       "  <thead>\n",
       "    <tr style=\"text-align: right;\">\n",
       "      <th></th>\n",
       "      <th>total_tasks</th>\n",
       "      <th>total_workers</th>\n",
       "      <th>proportion_hard_tasks</th>\n",
       "      <th>proportion_train_tasks</th>\n",
       "      <th>workers_per_task</th>\n",
       "      <th>total_keys</th>\n",
       "      <th>accuracy</th>\n",
       "      <th>cross_entropy</th>\n",
       "    </tr>\n",
       "  </thead>\n",
       "  <tbody>\n",
       "    <tr>\n",
       "      <th>17</th>\n",
       "      <td>100</td>\n",
       "      <td>60</td>\n",
       "      <td>0.2</td>\n",
       "      <td>0.2</td>\n",
       "      <td>9</td>\n",
       "      <td>3</td>\n",
       "      <td>0.9822</td>\n",
       "      <td>1.5840</td>\n",
       "    </tr>\n",
       "    <tr>\n",
       "      <th>56</th>\n",
       "      <td>200</td>\n",
       "      <td>80</td>\n",
       "      <td>0.2</td>\n",
       "      <td>0.2</td>\n",
       "      <td>3</td>\n",
       "      <td>3</td>\n",
       "      <td>0.9800</td>\n",
       "      <td>1.5826</td>\n",
       "    </tr>\n",
       "    <tr>\n",
       "      <th>57</th>\n",
       "      <td>200</td>\n",
       "      <td>80</td>\n",
       "      <td>0.2</td>\n",
       "      <td>0.2</td>\n",
       "      <td>9</td>\n",
       "      <td>3</td>\n",
       "      <td>0.9789</td>\n",
       "      <td>1.5460</td>\n",
       "    </tr>\n",
       "    <tr>\n",
       "      <th>81</th>\n",
       "      <td>300</td>\n",
       "      <td>60</td>\n",
       "      <td>0.2</td>\n",
       "      <td>0.2</td>\n",
       "      <td>9</td>\n",
       "      <td>3</td>\n",
       "      <td>0.9744</td>\n",
       "      <td>1.5771</td>\n",
       "    </tr>\n",
       "    <tr>\n",
       "      <th>0</th>\n",
       "      <td>100</td>\n",
       "      <td>20</td>\n",
       "      <td>0.2</td>\n",
       "      <td>0.2</td>\n",
       "      <td>3</td>\n",
       "      <td>3</td>\n",
       "      <td>0.9733</td>\n",
       "      <td>1.5568</td>\n",
       "    </tr>\n",
       "  </tbody>\n",
       "</table>\n",
       "</div>"
      ],
      "text/plain": [
       "    total_tasks  total_workers  proportion_hard_tasks  proportion_train_tasks  \\\n",
       "17          100             60                    0.2                     0.2   \n",
       "56          200             80                    0.2                     0.2   \n",
       "57          200             80                    0.2                     0.2   \n",
       "81          300             60                    0.2                     0.2   \n",
       "0           100             20                    0.2                     0.2   \n",
       "\n",
       "    workers_per_task  total_keys  accuracy  cross_entropy  \n",
       "17                 9           3    0.9822         1.5840  \n",
       "56                 3           3    0.9800         1.5826  \n",
       "57                 9           3    0.9789         1.5460  \n",
       "81                 9           3    0.9744         1.5771  \n",
       "0                  3           3    0.9733         1.5568  "
      ]
     },
     "execution_count": 23,
     "metadata": {},
     "output_type": "execute_result"
    }
   ],
   "source": [
    "simulations.sort_values('accuracy', ascending=False).head(5)"
   ]
  },
  {
   "cell_type": "code",
   "execution_count": 24,
   "metadata": {},
   "outputs": [
    {
     "name": "stdout",
     "output_type": "stream",
     "text": [
      "Percentage with accuracy 0: 18.75%\n",
      "Total Combinations: 96\n"
     ]
    }
   ],
   "source": [
    "print('Percentage with accuracy 0: {}%\\nTotal Combinations: {}'.format(\n",
    "    round(len(simulations[simulations['accuracy'] == 0])*100 / len(simulations),2),len(simulations)))"
   ]
  },
  {
   "cell_type": "code",
   "execution_count": 25,
   "metadata": {},
   "outputs": [
    {
     "name": "stderr",
     "output_type": "stream",
     "text": [
      "/Users/pedrohserrano/anaconda3/envs/py36/lib/python3.6/site-packages/matplotlib/axes/_axes.py:6462: UserWarning: The 'normed' kwarg is deprecated, and has been replaced by the 'density' kwarg.\n",
      "  warnings.warn(\"The 'normed' kwarg is deprecated, and has been \"\n"
     ]
    },
    {
     "data": {
      "image/png": "[encoded data removed]",
      "text/plain": [
       "<Figure size 1440x720 with 4 Axes>"
      ]
     },
     "metadata": {},
     "output_type": "display_data"
    }
   ],
   "source": [
    "plt.figure(figsize=[20, 10])\n",
    "plt.subplot(2,2,1)\n",
    "sns.distplot(simulations['accuracy'], color=\"r\")\n",
    "plt.title('Accuracy')\n",
    "plt.subplot(2,2,2)\n",
    "sns.distplot(simulations['total_workers'], color=\"r\")\n",
    "plt.title('Number of Workers')\n",
    "plt.subplot(2,2,3)\n",
    "sns.distplot(simulations['workers_per_task'], color=\"r\")\n",
    "plt.title('Number of Workers per Task')\n",
    "plt.subplot(2,2,4)\n",
    "sns.distplot(simulations['proportion_train_tasks'], color=\"r\")\n",
    "plt.title('Percentage of Training Set')\n",
    "plt.tight_layout()\n",
    "#plt.savefig('../reports/test-retest_density_grid.png')"
   ]
  },
  {
   "cell_type": "code",
   "execution_count": 26,
   "metadata": {},
   "outputs": [],
   "source": [
    "top_scenarios = simulations[simulations['accuracy'] >= simulations.quantile(.8)['accuracy']]"
   ]
  },
  {
   "cell_type": "code",
   "execution_count": 27,
   "metadata": {},
   "outputs": [
    {
     "name": "stderr",
     "output_type": "stream",
     "text": [
      "/Users/pedrohserrano/anaconda3/envs/py36/lib/python3.6/site-packages/matplotlib/axes/_axes.py:6462: UserWarning: The 'normed' kwarg is deprecated, and has been replaced by the 'density' kwarg.\n",
      "  warnings.warn(\"The 'normed' kwarg is deprecated, and has been \"\n"
     ]
    },
    {
     "data": {
      "image/png": "[encoded data removed]",
      "text/plain": [
       "<Figure size 1440x720 with 4 Axes>"
      ]
     },
     "metadata": {},
     "output_type": "display_data"
    }
   ],
   "source": [
    "plt.figure(figsize=[20, 10])\n",
    "plt.subplot(2,2,1)\n",
    "sns.distplot(top_scenarios['accuracy'], color=\"g\")\n",
    "plt.title('Accuracy')\n",
    "plt.subplot(2,2,2)\n",
    "sns.distplot(top_scenarios['total_workers'], color=\"g\")\n",
    "plt.title('Number of Workers')\n",
    "plt.subplot(2,2,3)\n",
    "sns.distplot(top_scenarios['workers_per_task'], color=\"g\")\n",
    "plt.title('Number of Workers per Task')\n",
    "plt.subplot(2,2,4)\n",
    "sns.distplot(top_scenarios['proportion_train_tasks'], color=\"g\")\n",
    "plt.title('Percentage of Training Set')\n",
    "plt.tight_layout()\n",
    "#plt.savefig('../reports/test-retest_density_grid.png')"
   ]
  },
  {
   "cell_type": "code",
   "execution_count": null,
   "metadata": {},
   "outputs": [],
   "source": []
  }
 ],
 "metadata": {
  "kernelspec": {
   "display_name": "Python 3",
   "language": "python",
   "name": "python3"
  },
  "language_info": {
   "codemirror_mode": {
    "name": "ipython",
    "version": 3
   },
   "file_extension": ".py",
   "mimetype": "text/x-python",
   "name": "python",
   "nbconvert_exporter": "python",
   "pygments_lexer": "ipython3",
   "version": "3.7.3"
  }
 },
 "nbformat": 4,
 "nbformat_minor": 2
}
