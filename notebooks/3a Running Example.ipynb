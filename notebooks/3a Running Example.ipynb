{
 "cells": [
  {
   "cell_type": "markdown",
   "metadata": {},
   "source": [
    "## Running Example"
   ]
  },
  {
   "cell_type": "code",
   "execution_count": 1,
   "metadata": {},
   "outputs": [],
   "source": [
    "import crowded.simulate as cs\n",
    "import crowded.method as cm\n",
    "import crowded.make as mk\n",
    "from pycm import *"
   ]
  },
  {
   "cell_type": "markdown",
   "metadata": {},
   "source": [
    "#### Simulate the tasks"
   ]
  },
  {
   "cell_type": "code",
   "execution_count": 2,
   "metadata": {},
   "outputs": [],
   "source": [
    "total_tasks = 524\n",
    "p_hard_tasks = 0.0\n",
    "number_of_valid_answers = 3 "
   ]
  },
  {
   "cell_type": "code",
   "execution_count": 3,
   "metadata": {},
   "outputs": [
    {
     "data": {
      "text/html": [
       "<div>\n",
       "<style scoped>\n",
       "    .dataframe tbody tr th:only-of-type {\n",
       "        vertical-align: middle;\n",
       "    }\n",
       "\n",
       "    .dataframe tbody tr th {\n",
       "        vertical-align: top;\n",
       "    }\n",
       "\n",
       "    .dataframe thead th {\n",
       "        text-align: right;\n",
       "    }\n",
       "</style>\n",
       "<table border=\"1\" class=\"dataframe\">\n",
       "  <thead>\n",
       "    <tr style=\"text-align: right;\">\n",
       "      <th></th>\n",
       "      <th>task_id</th>\n",
       "      <th>true_answers</th>\n",
       "      <th>label_task</th>\n",
       "      <th>prob_task</th>\n",
       "    </tr>\n",
       "    <tr>\n",
       "      <th>id</th>\n",
       "      <th></th>\n",
       "      <th></th>\n",
       "      <th></th>\n",
       "      <th></th>\n",
       "    </tr>\n",
       "  </thead>\n",
       "  <tbody>\n",
       "    <tr>\n",
       "      <th>task_PwGvSaUebMKm</th>\n",
       "      <td>task_PwGvSaUebMKm</td>\n",
       "      <td>galley</td>\n",
       "      <td>easy_task</td>\n",
       "      <td>0.52</td>\n",
       "    </tr>\n",
       "    <tr>\n",
       "      <th>task_7PNGwKRPQzrH</th>\n",
       "      <td>task_7PNGwKRPQzrH</td>\n",
       "      <td>feature</td>\n",
       "      <td>easy_task</td>\n",
       "      <td>0.71</td>\n",
       "    </tr>\n",
       "    <tr>\n",
       "      <th>task_GnhSH4XvywdX</th>\n",
       "      <td>task_GnhSH4XvywdX</td>\n",
       "      <td>galley</td>\n",
       "      <td>easy_task</td>\n",
       "      <td>0.83</td>\n",
       "    </tr>\n",
       "    <tr>\n",
       "      <th>task_8pgpkZHMnt8i</th>\n",
       "      <td>task_8pgpkZHMnt8i</td>\n",
       "      <td>galley</td>\n",
       "      <td>easy_task</td>\n",
       "      <td>0.61</td>\n",
       "    </tr>\n",
       "    <tr>\n",
       "      <th>task_QHpbyXrCF8gf</th>\n",
       "      <td>task_QHpbyXrCF8gf</td>\n",
       "      <td>galley</td>\n",
       "      <td>easy_task</td>\n",
       "      <td>0.74</td>\n",
       "    </tr>\n",
       "  </tbody>\n",
       "</table>\n",
       "</div>"
      ],
      "text/plain": [
       "                             task_id true_answers label_task  prob_task\n",
       "id                                                                     \n",
       "task_PwGvSaUebMKm  task_PwGvSaUebMKm       galley  easy_task       0.52\n",
       "task_7PNGwKRPQzrH  task_7PNGwKRPQzrH      feature  easy_task       0.71\n",
       "task_GnhSH4XvywdX  task_GnhSH4XvywdX       galley  easy_task       0.83\n",
       "task_8pgpkZHMnt8i  task_8pgpkZHMnt8i       galley  easy_task       0.61\n",
       "task_QHpbyXrCF8gf  task_QHpbyXrCF8gf       galley  easy_task       0.74"
      ]
     },
     "execution_count": 3,
     "metadata": {},
     "output_type": "execute_result"
    }
   ],
   "source": [
    "df_tasks = cs.Tasks(number_of_valid_answers).create(total_tasks, p_hard_tasks)\n",
    "df_tasks.head()"
   ]
  },
  {
   "cell_type": "code",
   "execution_count": 4,
   "metadata": {},
   "outputs": [
    {
     "name": "stdout",
     "output_type": "stream",
     "text": [
      "['galley' 'feature' 'warnings']\n"
     ]
    }
   ],
   "source": [
    "valid_answers = df_tasks['true_answers'].unique()\n",
    "print(valid_answers)"
   ]
  },
  {
   "cell_type": "markdown",
   "metadata": {},
   "source": [
    "#### Simulate the workers"
   ]
  },
  {
   "cell_type": "code",
   "execution_count": 5,
   "metadata": {},
   "outputs": [],
   "source": [
    "total_workers = 32"
   ]
  },
  {
   "cell_type": "code",
   "execution_count": 6,
   "metadata": {},
   "outputs": [
    {
     "data": {
      "text/html": [
       "<div>\n",
       "<style scoped>\n",
       "    .dataframe tbody tr th:only-of-type {\n",
       "        vertical-align: middle;\n",
       "    }\n",
       "\n",
       "    .dataframe tbody tr th {\n",
       "        vertical-align: top;\n",
       "    }\n",
       "\n",
       "    .dataframe thead th {\n",
       "        text-align: right;\n",
       "    }\n",
       "</style>\n",
       "<table border=\"1\" class=\"dataframe\">\n",
       "  <thead>\n",
       "    <tr style=\"text-align: right;\">\n",
       "      <th></th>\n",
       "      <th>prob_worker</th>\n",
       "      <th>worker_id</th>\n",
       "    </tr>\n",
       "    <tr>\n",
       "      <th>id</th>\n",
       "      <th></th>\n",
       "      <th></th>\n",
       "    </tr>\n",
       "  </thead>\n",
       "  <tbody>\n",
       "    <tr>\n",
       "      <th>BXTYFNeWk56s</th>\n",
       "      <td>0.958197</td>\n",
       "      <td>BXTYFNeWk56s</td>\n",
       "    </tr>\n",
       "    <tr>\n",
       "      <th>cY8LY4s5zSNt</th>\n",
       "      <td>0.910832</td>\n",
       "      <td>cY8LY4s5zSNt</td>\n",
       "    </tr>\n",
       "    <tr>\n",
       "      <th>hXXHb5VWjmMw</th>\n",
       "      <td>0.887818</td>\n",
       "      <td>hXXHb5VWjmMw</td>\n",
       "    </tr>\n",
       "    <tr>\n",
       "      <th>7ycLTDeApgvA</th>\n",
       "      <td>0.956558</td>\n",
       "      <td>7ycLTDeApgvA</td>\n",
       "    </tr>\n",
       "    <tr>\n",
       "      <th>zc9JFr7gSUsy</th>\n",
       "      <td>0.876866</td>\n",
       "      <td>zc9JFr7gSUsy</td>\n",
       "    </tr>\n",
       "  </tbody>\n",
       "</table>\n",
       "</div>"
      ],
      "text/plain": [
       "              prob_worker     worker_id\n",
       "id                                     \n",
       "BXTYFNeWk56s     0.958197  BXTYFNeWk56s\n",
       "cY8LY4s5zSNt     0.910832  cY8LY4s5zSNt\n",
       "hXXHb5VWjmMw     0.887818  hXXHb5VWjmMw\n",
       "7ycLTDeApgvA     0.956558  7ycLTDeApgvA\n",
       "zc9JFr7gSUsy     0.876866  zc9JFr7gSUsy"
      ]
     },
     "execution_count": 6,
     "metadata": {},
     "output_type": "execute_result"
    }
   ],
   "source": [
    "workers = cs.Workers().create(total_workers)\n",
    "workers.head()"
   ]
  },
  {
   "cell_type": "markdown",
   "metadata": {},
   "source": [
    "#### Split the tasks"
   ]
  },
  {
   "cell_type": "code",
   "execution_count": 7,
   "metadata": {},
   "outputs": [],
   "source": [
    "percentage_to_train = 0.3"
   ]
  },
  {
   "cell_type": "code",
   "execution_count": 8,
   "metadata": {},
   "outputs": [],
   "source": [
    "tasks_train, tasks_rest = mk.tasks_split(df_tasks, percentage_to_train)"
   ]
  },
  {
   "cell_type": "markdown",
   "metadata": {},
   "source": [
    "#### Assigning workers to tasks"
   ]
  },
  {
   "cell_type": "code",
   "execution_count": 9,
   "metadata": {},
   "outputs": [],
   "source": [
    "workers_per_task = 3"
   ]
  },
  {
   "cell_type": "code",
   "execution_count": 10,
   "metadata": {},
   "outputs": [
    {
     "data": {
      "text/html": [
       "<div>\n",
       "<style scoped>\n",
       "    .dataframe tbody tr th:only-of-type {\n",
       "        vertical-align: middle;\n",
       "    }\n",
       "\n",
       "    .dataframe tbody tr th {\n",
       "        vertical-align: top;\n",
       "    }\n",
       "\n",
       "    .dataframe thead th {\n",
       "        text-align: right;\n",
       "    }\n",
       "</style>\n",
       "<table border=\"1\" class=\"dataframe\">\n",
       "  <thead>\n",
       "    <tr style=\"text-align: right;\">\n",
       "      <th></th>\n",
       "      <th>task_id</th>\n",
       "      <th>worker_id</th>\n",
       "      <th>true_answers</th>\n",
       "      <th>label_task</th>\n",
       "      <th>prob_task</th>\n",
       "      <th>prob_worker</th>\n",
       "    </tr>\n",
       "  </thead>\n",
       "  <tbody>\n",
       "    <tr>\n",
       "      <th>0</th>\n",
       "      <td>task_dJyGi3gbUNCA</td>\n",
       "      <td>C5MhxTzVDspC</td>\n",
       "      <td>feature</td>\n",
       "      <td>easy_task</td>\n",
       "      <td>0.77</td>\n",
       "      <td>0.860240</td>\n",
       "    </tr>\n",
       "    <tr>\n",
       "      <th>1</th>\n",
       "      <td>task_dJyGi3gbUNCA</td>\n",
       "      <td>4cY7czUtbrgH</td>\n",
       "      <td>feature</td>\n",
       "      <td>easy_task</td>\n",
       "      <td>0.77</td>\n",
       "      <td>0.934127</td>\n",
       "    </tr>\n",
       "    <tr>\n",
       "      <th>2</th>\n",
       "      <td>task_dJyGi3gbUNCA</td>\n",
       "      <td>wMeg9LYuu6S6</td>\n",
       "      <td>feature</td>\n",
       "      <td>easy_task</td>\n",
       "      <td>0.77</td>\n",
       "      <td>0.797711</td>\n",
       "    </tr>\n",
       "    <tr>\n",
       "      <th>3</th>\n",
       "      <td>task_iCQSpxCjmrcj</td>\n",
       "      <td>eKTx3N9WDgNh</td>\n",
       "      <td>galley</td>\n",
       "      <td>easy_task</td>\n",
       "      <td>0.92</td>\n",
       "      <td>0.919626</td>\n",
       "    </tr>\n",
       "    <tr>\n",
       "      <th>4</th>\n",
       "      <td>task_iCQSpxCjmrcj</td>\n",
       "      <td>wMeg9LYuu6S6</td>\n",
       "      <td>galley</td>\n",
       "      <td>easy_task</td>\n",
       "      <td>0.92</td>\n",
       "      <td>0.797711</td>\n",
       "    </tr>\n",
       "  </tbody>\n",
       "</table>\n",
       "</div>"
      ],
      "text/plain": [
       "             task_id     worker_id true_answers label_task  prob_task  \\\n",
       "0  task_dJyGi3gbUNCA  C5MhxTzVDspC      feature  easy_task       0.77   \n",
       "1  task_dJyGi3gbUNCA  4cY7czUtbrgH      feature  easy_task       0.77   \n",
       "2  task_dJyGi3gbUNCA  wMeg9LYuu6S6      feature  easy_task       0.77   \n",
       "3  task_iCQSpxCjmrcj  eKTx3N9WDgNh       galley  easy_task       0.92   \n",
       "4  task_iCQSpxCjmrcj  wMeg9LYuu6S6       galley  easy_task       0.92   \n",
       "\n",
       "   prob_worker  \n",
       "0     0.860240  \n",
       "1     0.934127  \n",
       "2     0.797711  \n",
       "3     0.919626  \n",
       "4     0.797711  "
      ]
     },
     "execution_count": 10,
     "metadata": {},
     "output_type": "execute_result"
    }
   ],
   "source": [
    "df_tw = cs.AssignTasks(tasks_train, workers, workers_per_task).create()\n",
    "df_tw.head()"
   ]
  },
  {
   "cell_type": "markdown",
   "metadata": {},
   "source": [
    "#### Compute the probability to assess the tasks"
   ]
  },
  {
   "cell_type": "code",
   "execution_count": 11,
   "metadata": {},
   "outputs": [
    {
     "data": {
      "text/html": [
       "<div>\n",
       "<style scoped>\n",
       "    .dataframe tbody tr th:only-of-type {\n",
       "        vertical-align: middle;\n",
       "    }\n",
       "\n",
       "    .dataframe tbody tr th {\n",
       "        vertical-align: top;\n",
       "    }\n",
       "\n",
       "    .dataframe thead th {\n",
       "        text-align: right;\n",
       "    }\n",
       "</style>\n",
       "<table border=\"1\" class=\"dataframe\">\n",
       "  <thead>\n",
       "    <tr style=\"text-align: right;\">\n",
       "      <th></th>\n",
       "      <th>task_id</th>\n",
       "      <th>worker_id</th>\n",
       "      <th>true_answers</th>\n",
       "      <th>label_task</th>\n",
       "      <th>prob_task</th>\n",
       "      <th>prob_worker</th>\n",
       "      <th>worker_answers</th>\n",
       "      <th>performance</th>\n",
       "    </tr>\n",
       "  </thead>\n",
       "  <tbody>\n",
       "    <tr>\n",
       "      <th>0</th>\n",
       "      <td>task_dJyGi3gbUNCA</td>\n",
       "      <td>C5MhxTzVDspC</td>\n",
       "      <td>feature</td>\n",
       "      <td>easy_task</td>\n",
       "      <td>0.77</td>\n",
       "      <td>0.860240</td>\n",
       "      <td>feature</td>\n",
       "      <td>1</td>\n",
       "    </tr>\n",
       "    <tr>\n",
       "      <th>1</th>\n",
       "      <td>task_dJyGi3gbUNCA</td>\n",
       "      <td>4cY7czUtbrgH</td>\n",
       "      <td>feature</td>\n",
       "      <td>easy_task</td>\n",
       "      <td>0.77</td>\n",
       "      <td>0.934127</td>\n",
       "      <td>feature</td>\n",
       "      <td>1</td>\n",
       "    </tr>\n",
       "    <tr>\n",
       "      <th>2</th>\n",
       "      <td>task_dJyGi3gbUNCA</td>\n",
       "      <td>wMeg9LYuu6S6</td>\n",
       "      <td>feature</td>\n",
       "      <td>easy_task</td>\n",
       "      <td>0.77</td>\n",
       "      <td>0.797711</td>\n",
       "      <td>feature</td>\n",
       "      <td>1</td>\n",
       "    </tr>\n",
       "    <tr>\n",
       "      <th>3</th>\n",
       "      <td>task_iCQSpxCjmrcj</td>\n",
       "      <td>eKTx3N9WDgNh</td>\n",
       "      <td>galley</td>\n",
       "      <td>easy_task</td>\n",
       "      <td>0.92</td>\n",
       "      <td>0.919626</td>\n",
       "      <td>galley</td>\n",
       "      <td>1</td>\n",
       "    </tr>\n",
       "    <tr>\n",
       "      <th>4</th>\n",
       "      <td>task_iCQSpxCjmrcj</td>\n",
       "      <td>wMeg9LYuu6S6</td>\n",
       "      <td>galley</td>\n",
       "      <td>easy_task</td>\n",
       "      <td>0.92</td>\n",
       "      <td>0.797711</td>\n",
       "      <td>galley</td>\n",
       "      <td>1</td>\n",
       "    </tr>\n",
       "  </tbody>\n",
       "</table>\n",
       "</div>"
      ],
      "text/plain": [
       "             task_id     worker_id true_answers label_task  prob_task  \\\n",
       "0  task_dJyGi3gbUNCA  C5MhxTzVDspC      feature  easy_task       0.77   \n",
       "1  task_dJyGi3gbUNCA  4cY7czUtbrgH      feature  easy_task       0.77   \n",
       "2  task_dJyGi3gbUNCA  wMeg9LYuu6S6      feature  easy_task       0.77   \n",
       "3  task_iCQSpxCjmrcj  eKTx3N9WDgNh       galley  easy_task       0.92   \n",
       "4  task_iCQSpxCjmrcj  wMeg9LYuu6S6       galley  easy_task       0.92   \n",
       "\n",
       "   prob_worker worker_answers  performance  \n",
       "0     0.860240        feature            1  \n",
       "1     0.934127        feature            1  \n",
       "2     0.797711        feature            1  \n",
       "3     0.919626         galley            1  \n",
       "4     0.797711         galley            1  "
      ]
     },
     "execution_count": 11,
     "metadata": {},
     "output_type": "execute_result"
    }
   ],
   "source": [
    "cp = cm.ComputeProbability(df_tw['prob_task'], df_tw['prob_worker'], valid_answers)\n",
    "df_tw['worker_answers'] = cm.WorkerAnswer(df_tw['true_answers'], cp.predict(), valid_answers).match()\n",
    "df_tw['performance'] = cp.predict()\n",
    "df_tw.head()"
   ]
  },
  {
   "cell_type": "markdown",
   "metadata": {},
   "source": [
    "#### Assess the performance and get the good workers"
   ]
  },
  {
   "cell_type": "code",
   "execution_count": 12,
   "metadata": {},
   "outputs": [
    {
     "data": {
      "text/html": [
       "<div>\n",
       "<style scoped>\n",
       "    .dataframe tbody tr th:only-of-type {\n",
       "        vertical-align: middle;\n",
       "    }\n",
       "\n",
       "    .dataframe tbody tr th {\n",
       "        vertical-align: top;\n",
       "    }\n",
       "\n",
       "    .dataframe thead th {\n",
       "        text-align: right;\n",
       "    }\n",
       "</style>\n",
       "<table border=\"1\" class=\"dataframe\">\n",
       "  <thead>\n",
       "    <tr style=\"text-align: right;\">\n",
       "      <th></th>\n",
       "      <th>prob_worker</th>\n",
       "      <th>worker_id</th>\n",
       "    </tr>\n",
       "    <tr>\n",
       "      <th>id</th>\n",
       "      <th></th>\n",
       "      <th></th>\n",
       "    </tr>\n",
       "  </thead>\n",
       "  <tbody>\n",
       "    <tr>\n",
       "      <th>3hhdur8c6mgE</th>\n",
       "      <td>0.940222</td>\n",
       "      <td>3hhdur8c6mgE</td>\n",
       "    </tr>\n",
       "    <tr>\n",
       "      <th>okgctt4SxXB9</th>\n",
       "      <td>0.991034</td>\n",
       "      <td>okgctt4SxXB9</td>\n",
       "    </tr>\n",
       "    <tr>\n",
       "      <th>msxBBYBNbKNC</th>\n",
       "      <td>0.952057</td>\n",
       "      <td>msxBBYBNbKNC</td>\n",
       "    </tr>\n",
       "    <tr>\n",
       "      <th>ca6ivbyszVEv</th>\n",
       "      <td>0.953135</td>\n",
       "      <td>ca6ivbyszVEv</td>\n",
       "    </tr>\n",
       "    <tr>\n",
       "      <th>4cY7czUtbrgH</th>\n",
       "      <td>0.989063</td>\n",
       "      <td>4cY7czUtbrgH</td>\n",
       "    </tr>\n",
       "  </tbody>\n",
       "</table>\n",
       "</div>"
      ],
      "text/plain": [
       "              prob_worker     worker_id\n",
       "id                                     \n",
       "3hhdur8c6mgE     0.940222  3hhdur8c6mgE\n",
       "okgctt4SxXB9     0.991034  okgctt4SxXB9\n",
       "msxBBYBNbKNC     0.952057  msxBBYBNbKNC\n",
       "ca6ivbyszVEv     0.953135  ca6ivbyszVEv\n",
       "4cY7czUtbrgH     0.989063  4cY7czUtbrgH"
      ]
     },
     "execution_count": 12,
     "metadata": {},
     "output_type": "execute_result"
    }
   ],
   "source": [
    "perf = cm.Performance(df_tw)\n",
    "trained_workers = perf.trained_workers()\n",
    "trained_workers.head()"
   ]
  },
  {
   "cell_type": "markdown",
   "metadata": {},
   "source": [
    "#### Assign the trained workers to the rest of the tasks"
   ]
  },
  {
   "cell_type": "code",
   "execution_count": 13,
   "metadata": {},
   "outputs": [
    {
     "data": {
      "text/html": [
       "<div>\n",
       "<style scoped>\n",
       "    .dataframe tbody tr th:only-of-type {\n",
       "        vertical-align: middle;\n",
       "    }\n",
       "\n",
       "    .dataframe tbody tr th {\n",
       "        vertical-align: top;\n",
       "    }\n",
       "\n",
       "    .dataframe thead th {\n",
       "        text-align: right;\n",
       "    }\n",
       "</style>\n",
       "<table border=\"1\" class=\"dataframe\">\n",
       "  <thead>\n",
       "    <tr style=\"text-align: right;\">\n",
       "      <th></th>\n",
       "      <th>task_id</th>\n",
       "      <th>worker_id</th>\n",
       "      <th>true_answers</th>\n",
       "      <th>label_task</th>\n",
       "      <th>prob_task</th>\n",
       "      <th>prob_worker</th>\n",
       "    </tr>\n",
       "  </thead>\n",
       "  <tbody>\n",
       "    <tr>\n",
       "      <th>0</th>\n",
       "      <td>task_2572ceeyEuuK</td>\n",
       "      <td>MxLZS4CqSp9d</td>\n",
       "      <td>feature</td>\n",
       "      <td>easy_task</td>\n",
       "      <td>0.68</td>\n",
       "      <td>0.990189</td>\n",
       "    </tr>\n",
       "    <tr>\n",
       "      <th>1</th>\n",
       "      <td>task_2572ceeyEuuK</td>\n",
       "      <td>7ycLTDeApgvA</td>\n",
       "      <td>feature</td>\n",
       "      <td>easy_task</td>\n",
       "      <td>0.68</td>\n",
       "      <td>0.991252</td>\n",
       "    </tr>\n",
       "    <tr>\n",
       "      <th>2</th>\n",
       "      <td>task_2572ceeyEuuK</td>\n",
       "      <td>NVrSgwSN3u7m</td>\n",
       "      <td>feature</td>\n",
       "      <td>easy_task</td>\n",
       "      <td>0.68</td>\n",
       "      <td>0.985500</td>\n",
       "    </tr>\n",
       "    <tr>\n",
       "      <th>3</th>\n",
       "      <td>task_2GxL4r9qFyyd</td>\n",
       "      <td>6qrhoVsiGxU4</td>\n",
       "      <td>feature</td>\n",
       "      <td>easy_task</td>\n",
       "      <td>0.55</td>\n",
       "      <td>0.997735</td>\n",
       "    </tr>\n",
       "    <tr>\n",
       "      <th>4</th>\n",
       "      <td>task_2GxL4r9qFyyd</td>\n",
       "      <td>ca6ivbyszVEv</td>\n",
       "      <td>feature</td>\n",
       "      <td>easy_task</td>\n",
       "      <td>0.55</td>\n",
       "      <td>0.953135</td>\n",
       "    </tr>\n",
       "  </tbody>\n",
       "</table>\n",
       "</div>"
      ],
      "text/plain": [
       "             task_id     worker_id true_answers label_task  prob_task  \\\n",
       "0  task_2572ceeyEuuK  MxLZS4CqSp9d      feature  easy_task       0.68   \n",
       "1  task_2572ceeyEuuK  7ycLTDeApgvA      feature  easy_task       0.68   \n",
       "2  task_2572ceeyEuuK  NVrSgwSN3u7m      feature  easy_task       0.68   \n",
       "3  task_2GxL4r9qFyyd  6qrhoVsiGxU4      feature  easy_task       0.55   \n",
       "4  task_2GxL4r9qFyyd  ca6ivbyszVEv      feature  easy_task       0.55   \n",
       "\n",
       "   prob_worker  \n",
       "0     0.990189  \n",
       "1     0.991252  \n",
       "2     0.985500  \n",
       "3     0.997735  \n",
       "4     0.953135  "
      ]
     },
     "execution_count": 13,
     "metadata": {},
     "output_type": "execute_result"
    }
   ],
   "source": [
    "df_tw_2 = cs.AssignTasks(tasks_rest, trained_workers, workers_per_task).create()\n",
    "df_tw_2.head()"
   ]
  },
  {
   "cell_type": "markdown",
   "metadata": {},
   "source": [
    "#### Compute probability to the rest of the tasks"
   ]
  },
  {
   "cell_type": "code",
   "execution_count": 14,
   "metadata": {},
   "outputs": [
    {
     "data": {
      "text/html": [
       "<div>\n",
       "<style scoped>\n",
       "    .dataframe tbody tr th:only-of-type {\n",
       "        vertical-align: middle;\n",
       "    }\n",
       "\n",
       "    .dataframe tbody tr th {\n",
       "        vertical-align: top;\n",
       "    }\n",
       "\n",
       "    .dataframe thead th {\n",
       "        text-align: right;\n",
       "    }\n",
       "</style>\n",
       "<table border=\"1\" class=\"dataframe\">\n",
       "  <thead>\n",
       "    <tr style=\"text-align: right;\">\n",
       "      <th></th>\n",
       "      <th>task_id</th>\n",
       "      <th>worker_id</th>\n",
       "      <th>true_answers</th>\n",
       "      <th>label_task</th>\n",
       "      <th>prob_task</th>\n",
       "      <th>prob_worker</th>\n",
       "      <th>worker_answers</th>\n",
       "      <th>performance</th>\n",
       "    </tr>\n",
       "  </thead>\n",
       "  <tbody>\n",
       "    <tr>\n",
       "      <th>0</th>\n",
       "      <td>task_2572ceeyEuuK</td>\n",
       "      <td>MxLZS4CqSp9d</td>\n",
       "      <td>feature</td>\n",
       "      <td>easy_task</td>\n",
       "      <td>0.68</td>\n",
       "      <td>0.990189</td>\n",
       "      <td>feature</td>\n",
       "      <td>1</td>\n",
       "    </tr>\n",
       "    <tr>\n",
       "      <th>1</th>\n",
       "      <td>task_2572ceeyEuuK</td>\n",
       "      <td>7ycLTDeApgvA</td>\n",
       "      <td>feature</td>\n",
       "      <td>easy_task</td>\n",
       "      <td>0.68</td>\n",
       "      <td>0.991252</td>\n",
       "      <td>feature</td>\n",
       "      <td>1</td>\n",
       "    </tr>\n",
       "    <tr>\n",
       "      <th>2</th>\n",
       "      <td>task_2572ceeyEuuK</td>\n",
       "      <td>NVrSgwSN3u7m</td>\n",
       "      <td>feature</td>\n",
       "      <td>easy_task</td>\n",
       "      <td>0.68</td>\n",
       "      <td>0.985500</td>\n",
       "      <td>feature</td>\n",
       "      <td>1</td>\n",
       "    </tr>\n",
       "    <tr>\n",
       "      <th>3</th>\n",
       "      <td>task_2GxL4r9qFyyd</td>\n",
       "      <td>6qrhoVsiGxU4</td>\n",
       "      <td>feature</td>\n",
       "      <td>easy_task</td>\n",
       "      <td>0.55</td>\n",
       "      <td>0.997735</td>\n",
       "      <td>feature</td>\n",
       "      <td>1</td>\n",
       "    </tr>\n",
       "    <tr>\n",
       "      <th>4</th>\n",
       "      <td>task_2GxL4r9qFyyd</td>\n",
       "      <td>ca6ivbyszVEv</td>\n",
       "      <td>feature</td>\n",
       "      <td>easy_task</td>\n",
       "      <td>0.55</td>\n",
       "      <td>0.953135</td>\n",
       "      <td>feature</td>\n",
       "      <td>1</td>\n",
       "    </tr>\n",
       "  </tbody>\n",
       "</table>\n",
       "</div>"
      ],
      "text/plain": [
       "             task_id     worker_id true_answers label_task  prob_task  \\\n",
       "0  task_2572ceeyEuuK  MxLZS4CqSp9d      feature  easy_task       0.68   \n",
       "1  task_2572ceeyEuuK  7ycLTDeApgvA      feature  easy_task       0.68   \n",
       "2  task_2572ceeyEuuK  NVrSgwSN3u7m      feature  easy_task       0.68   \n",
       "3  task_2GxL4r9qFyyd  6qrhoVsiGxU4      feature  easy_task       0.55   \n",
       "4  task_2GxL4r9qFyyd  ca6ivbyszVEv      feature  easy_task       0.55   \n",
       "\n",
       "   prob_worker worker_answers  performance  \n",
       "0     0.990189        feature            1  \n",
       "1     0.991252        feature            1  \n",
       "2     0.985500        feature            1  \n",
       "3     0.997735        feature            1  \n",
       "4     0.953135        feature            1  "
      ]
     },
     "execution_count": 14,
     "metadata": {},
     "output_type": "execute_result"
    }
   ],
   "source": [
    "cp2 = cm.ComputeProbability(df_tw_2['prob_task'], df_tw_2['prob_worker'], valid_answers)\n",
    "df_tw_2['worker_answers'] = cm.WorkerAnswer(df_tw_2['true_answers'], cp2.predict(), valid_answers).match()\n",
    "df_tw_2['performance'] = cp2.predict()\n",
    "df_tw_2.head()"
   ]
  },
  {
   "cell_type": "markdown",
   "metadata": {},
   "source": [
    "#### Merge the data and get the overall accuracy"
   ]
  },
  {
   "cell_type": "code",
   "execution_count": 15,
   "metadata": {},
   "outputs": [],
   "source": [
    "df = df_tw.append(df_tw_2)"
   ]
  },
  {
   "cell_type": "code",
   "execution_count": 16,
   "metadata": {},
   "outputs": [],
   "source": [
    "matrix = ConfusionMatrix(df['true_answers'].tolist(), df['worker_answers'].tolist())"
   ]
  },
  {
   "cell_type": "code",
   "execution_count": 17,
   "metadata": {},
   "outputs": [
    {
     "name": "stdout",
     "output_type": "stream",
     "text": [
      "Predict          feature  galley   warnings \n",
      "Actual\n",
      "feature          459      5        1        \n",
      "galley           2        565      3        \n",
      "warnings         2        1        534      \n",
      "\n",
      "Accuracy of the simultaed experiment considering 2 Stages: 99.11%\n",
      "None\n"
     ]
    }
   ],
   "source": [
    "print('Accuracy of the simulated experiment considering 2 Stages: {}%\\n{}'.format(round(matrix.Overall_ACC*100,2), matrix.matrix()))"
   ]
  },
  {
   "cell_type": "markdown",
   "metadata": {},
   "source": [
    "#### Compare with NO stage"
   ]
  },
  {
   "cell_type": "code",
   "execution_count": 18,
   "metadata": {},
   "outputs": [],
   "source": [
    "df_tw1 = cs.AssignTasks(df_tasks, workers, workers_per_task).create()\n",
    "cp1 = cm.ComputeProbability(df_tw1['prob_task'], df_tw1['prob_worker'], valid_answers)\n",
    "df_tw1['worker_answers'] = cm.WorkerAnswer(df_tw1['true_answers'], cp1.predict(), valid_answers).match()\n",
    "df_tw1['performance'] = cp1.predict()"
   ]
  },
  {
   "cell_type": "code",
   "execution_count": 19,
   "metadata": {},
   "outputs": [],
   "source": [
    "matrix1 = ConfusionMatrix(df_tw1['true_answers'].tolist(), df_tw1['worker_answers'].tolist())"
   ]
  },
  {
   "cell_type": "code",
   "execution_count": 20,
   "metadata": {},
   "outputs": [
    {
     "name": "stdout",
     "output_type": "stream",
     "text": [
      "Predict          feature  galley   warnings \n",
      "Actual\n",
      "feature          446      9        10       \n",
      "galley           14       547      9        \n",
      "warnings         5        8        524      \n",
      "\n",
      "Accuracy of the simultaed experiment considering NO Stages: 96.5%\n",
      "None\n"
     ]
    }
   ],
   "source": [
    "print('Accuracy of the simulated experiment considering NO Stages: {}%\\n{}'.format(round(matrix1.Overall_ACC*100,2), matrix1.matrix()))"
   ]
  },
  {
   "cell_type": "markdown",
   "metadata": {},
   "source": [
    "#####  The accuracy of 1 stage algorithm is lower than the 2 stages algorithm *"
   ]
  }
 ],
 "metadata": {
  "kernelspec": {
   "display_name": "Python 3",
   "language": "python",
   "name": "python3"
  },
  "language_info": {
   "codemirror_mode": {
    "name": "ipython",
    "version": 3
   },
   "file_extension": ".py",
   "mimetype": "text/x-python",
   "name": "python",
   "nbconvert_exporter": "python",
   "pygments_lexer": "ipython3",
   "version": "3.7.3"
  }
 },
 "nbformat": 4,
 "nbformat_minor": 2
}
