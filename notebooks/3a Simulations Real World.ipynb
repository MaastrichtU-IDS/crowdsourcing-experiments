{
 "cells": [
  {
   "cell_type": "markdown",
   "metadata": {},
   "source": [
    "## Comparing real world experiments vs simulations"
   ]
  },
  {
   "cell_type": "code",
   "execution_count": 13,
   "metadata": {},
   "outputs": [],
   "source": [
    "import crowded.simulate as cs\n",
    "import crowded.method as cm\n",
    "import crowded.make as mk\n",
    "from pycm import *\n",
    "import pandas as pd\n",
    "import matplotlib.pyplot as plt\n",
    "import seaborn as sns\n",
    "%matplotlib inline"
   ]
  },
  {
   "cell_type": "markdown",
   "metadata": {},
   "source": [
    "#### GEO"
   ]
  },
  {
   "cell_type": "code",
   "execution_count": 2,
   "metadata": {},
   "outputs": [],
   "source": [
    "total_tasks = 1643\n",
    "p_hard_tasks = 0\n",
    "number_of_valid_answers = 9\n",
    "total_workers = 145\n",
    "workers_per_task = 3\n",
    "percentage_to_train = 0.3"
   ]
  },
  {
   "cell_type": "markdown",
   "metadata": {},
   "source": [
    "1 run"
   ]
  },
  {
   "cell_type": "code",
   "execution_count": 3,
   "metadata": {},
   "outputs": [
    {
     "name": "stdout",
     "output_type": "stream",
     "text": [
      "0.9801176709271657\n"
     ]
    }
   ],
   "source": [
    "df = mk.crowd_table(total_tasks, total_workers, p_hard_tasks, percentage_to_train,\n",
    "                        workers_per_task, number_of_valid_answers)\n",
    "matrix = ConfusionMatrix(list(df['true_answers']), list(df['worker_answers']))\n",
    "print(matrix.Overall_ACC)"
   ]
  },
  {
   "cell_type": "code",
   "execution_count": 4,
   "metadata": {},
   "outputs": [
    {
     "data": {
      "text/html": [
       "<div>\n",
       "<style scoped>\n",
       "    .dataframe tbody tr th:only-of-type {\n",
       "        vertical-align: middle;\n",
       "    }\n",
       "\n",
       "    .dataframe tbody tr th {\n",
       "        vertical-align: top;\n",
       "    }\n",
       "\n",
       "    .dataframe thead th {\n",
       "        text-align: right;\n",
       "    }\n",
       "</style>\n",
       "<table border=\"1\" class=\"dataframe\">\n",
       "  <thead>\n",
       "    <tr style=\"text-align: right;\">\n",
       "      <th></th>\n",
       "      <th>task_id</th>\n",
       "      <th>worker_id</th>\n",
       "      <th>true_answers</th>\n",
       "      <th>label_task</th>\n",
       "      <th>prob_task</th>\n",
       "      <th>prob_worker</th>\n",
       "      <th>worker_answers</th>\n",
       "      <th>performance</th>\n",
       "    </tr>\n",
       "  </thead>\n",
       "  <tbody>\n",
       "    <tr>\n",
       "      <th>0</th>\n",
       "      <td>task_JWHwThB9arc6</td>\n",
       "      <td>8jC2da5nWhdf</td>\n",
       "      <td>punch</td>\n",
       "      <td>easy_task</td>\n",
       "      <td>0.99</td>\n",
       "      <td>0.637995</td>\n",
       "      <td>punch</td>\n",
       "      <td>1</td>\n",
       "    </tr>\n",
       "    <tr>\n",
       "      <th>1</th>\n",
       "      <td>task_JWHwThB9arc6</td>\n",
       "      <td>zQxJHGe4LDmY</td>\n",
       "      <td>punch</td>\n",
       "      <td>easy_task</td>\n",
       "      <td>0.99</td>\n",
       "      <td>0.846660</td>\n",
       "      <td>punch</td>\n",
       "      <td>1</td>\n",
       "    </tr>\n",
       "    <tr>\n",
       "      <th>2</th>\n",
       "      <td>task_JWHwThB9arc6</td>\n",
       "      <td>tYDgCyqAAWW3</td>\n",
       "      <td>punch</td>\n",
       "      <td>easy_task</td>\n",
       "      <td>0.99</td>\n",
       "      <td>0.747435</td>\n",
       "      <td>punch</td>\n",
       "      <td>1</td>\n",
       "    </tr>\n",
       "    <tr>\n",
       "      <th>3</th>\n",
       "      <td>task_gWgmzHh8aWTy</td>\n",
       "      <td>YuFVWgspyTs7</td>\n",
       "      <td>filters</td>\n",
       "      <td>easy_task</td>\n",
       "      <td>0.57</td>\n",
       "      <td>0.586026</td>\n",
       "      <td>filters</td>\n",
       "      <td>1</td>\n",
       "    </tr>\n",
       "    <tr>\n",
       "      <th>4</th>\n",
       "      <td>task_gWgmzHh8aWTy</td>\n",
       "      <td>YsdrFfet4xDf</td>\n",
       "      <td>filters</td>\n",
       "      <td>easy_task</td>\n",
       "      <td>0.57</td>\n",
       "      <td>0.639410</td>\n",
       "      <td>filters</td>\n",
       "      <td>1</td>\n",
       "    </tr>\n",
       "  </tbody>\n",
       "</table>\n",
       "</div>"
      ],
      "text/plain": [
       "             task_id     worker_id true_answers label_task  prob_task  \\\n",
       "0  task_JWHwThB9arc6  8jC2da5nWhdf        punch  easy_task       0.99   \n",
       "1  task_JWHwThB9arc6  zQxJHGe4LDmY        punch  easy_task       0.99   \n",
       "2  task_JWHwThB9arc6  tYDgCyqAAWW3        punch  easy_task       0.99   \n",
       "3  task_gWgmzHh8aWTy  YuFVWgspyTs7      filters  easy_task       0.57   \n",
       "4  task_gWgmzHh8aWTy  YsdrFfet4xDf      filters  easy_task       0.57   \n",
       "\n",
       "   prob_worker worker_answers  performance  \n",
       "0     0.637995          punch            1  \n",
       "1     0.846660          punch            1  \n",
       "2     0.747435          punch            1  \n",
       "3     0.586026        filters            1  \n",
       "4     0.639410        filters            1  "
      ]
     },
     "execution_count": 4,
     "metadata": {},
     "output_type": "execute_result"
    }
   ],
   "source": [
    "df.head()"
   ]
  },
  {
   "cell_type": "markdown",
   "metadata": {},
   "source": [
    "----"
   ]
  },
  {
   "cell_type": "markdown",
   "metadata": {},
   "source": [
    "## Simulated 100 runs"
   ]
  },
  {
   "cell_type": "code",
   "execution_count": 5,
   "metadata": {},
   "outputs": [],
   "source": [
    "acc_table = pd.DataFrame()"
   ]
  },
  {
   "cell_type": "code",
   "execution_count": 6,
   "metadata": {},
   "outputs": [],
   "source": [
    "accuracy = []\n",
    "for i in range (100):\n",
    "    df = mk.crowd_table(total_tasks, total_workers, p_hard_tasks, percentage_to_train,\n",
    "                        workers_per_task, number_of_valid_answers)\n",
    "    matrix = ConfusionMatrix(list(df['true_answers']), list(df['worker_answers']))\n",
    "    accuracy.append(matrix.Overall_ACC)\n",
    "acc_table['2stages'] = accuracy"
   ]
  },
  {
   "cell_type": "code",
   "execution_count": 7,
   "metadata": {},
   "outputs": [
    {
     "data": {
      "text/plain": [
       "count    100.000000\n",
       "mean       0.978807\n",
       "std        0.002439\n",
       "min        0.972408\n",
       "25%        0.977480\n",
       "50%        0.978900\n",
       "75%        0.980523\n",
       "max        0.986001\n",
       "Name: 2stages, dtype: float64"
      ]
     },
     "execution_count": 7,
     "metadata": {},
     "output_type": "execute_result"
    }
   ],
   "source": [
    "acc_table['2stages'].describe()"
   ]
  },
  {
   "cell_type": "code",
   "execution_count": 8,
   "metadata": {},
   "outputs": [],
   "source": [
    "accuracy1 = []\n",
    "for i in range (100):\n",
    "    df = mk.crowd_table_one_stage(total_tasks, total_workers, p_hard_tasks, percentage_to_train,\n",
    "                        workers_per_task, number_of_valid_answers)\n",
    "    matrix = ConfusionMatrix(list(df['true_answers']), list(df['worker_answers']))\n",
    "    accuracy1.append(matrix.Overall_ACC)\n",
    "acc_table['nostages'] = accuracy1"
   ]
  },
  {
   "cell_type": "code",
   "execution_count": 9,
   "metadata": {},
   "outputs": [
    {
     "data": {
      "text/plain": [
       "count    100.000000\n",
       "mean       0.937935\n",
       "std        0.004901\n",
       "min        0.926354\n",
       "25%        0.934875\n",
       "50%        0.937918\n",
       "75%        0.940759\n",
       "max        0.949280\n",
       "Name: nostages, dtype: float64"
      ]
     },
     "execution_count": 9,
     "metadata": {},
     "output_type": "execute_result"
    }
   ],
   "source": [
    "acc_table['nostages'].describe()"
   ]
  },
  {
   "cell_type": "code",
   "execution_count": 14,
   "metadata": {},
   "outputs": [
    {
     "data": {
      "text/plain": [
       "<matplotlib.axes._subplots.AxesSubplot at 0x11e2c8128>"
      ]
     },
     "execution_count": 14,
     "metadata": {},
     "output_type": "execute_result"
    },
    {
     "data": {
      "image/png": "[encoded data removed]",
      "text/plain": [
       "<Figure size 864x432 with 1 Axes>"
      ]
     },
     "metadata": {
      "needs_background": "light"
     },
     "output_type": "display_data"
    }
   ],
   "source": [
    "plt.figure(figsize=[12, 6])\n",
    "sns.distplot(acc_table['nostages'], color='r', label='No stages')\n",
    "sns.distplot(acc_table['2stages'], color='dodgerblue', label='Two stages')"
   ]
  },
  {
   "cell_type": "markdown",
   "metadata": {},
   "source": [
    "---\n",
    "## ACRyLIQ experiment (languages)"
   ]
  },
  {
   "cell_type": "markdown",
   "metadata": {},
   "source": [
    "Languages 3 workers per task"
   ]
  },
  {
   "cell_type": "code",
   "execution_count": 42,
   "metadata": {},
   "outputs": [],
   "source": [
    "total_tasks = 25\n",
    "p_hard_tasks = 0\n",
    "number_of_valid_answers = 4\n",
    "total_workers = 60\n",
    "workers_per_task = 3\n",
    "percentage_to_train = 0.3"
   ]
  },
  {
   "cell_type": "code",
   "execution_count": 39,
   "metadata": {},
   "outputs": [],
   "source": [
    "accuracy = []\n",
    "for i in range (1000):\n",
    "    df = mk.crowd_table(total_tasks, total_workers, p_hard_tasks, percentage_to_train,\n",
    "                        workers_per_task, number_of_valid_answers)\n",
    "    matrix = ConfusionMatrix(list(df['true_answers']), list(df['worker_answers']))\n",
    "    accuracy.append(matrix.Overall_ACC)"
   ]
  },
  {
   "cell_type": "code",
   "execution_count": 40,
   "metadata": {},
   "outputs": [
    {
     "data": {
      "text/html": [
       "<div>\n",
       "<style scoped>\n",
       "    .dataframe tbody tr th:only-of-type {\n",
       "        vertical-align: middle;\n",
       "    }\n",
       "\n",
       "    .dataframe tbody tr th {\n",
       "        vertical-align: top;\n",
       "    }\n",
       "\n",
       "    .dataframe thead th {\n",
       "        text-align: right;\n",
       "    }\n",
       "</style>\n",
       "<table border=\"1\" class=\"dataframe\">\n",
       "  <thead>\n",
       "    <tr style=\"text-align: right;\">\n",
       "      <th></th>\n",
       "      <th>0</th>\n",
       "    </tr>\n",
       "  </thead>\n",
       "  <tbody>\n",
       "    <tr>\n",
       "      <th>count</th>\n",
       "      <td>1000.000000</td>\n",
       "    </tr>\n",
       "    <tr>\n",
       "      <th>mean</th>\n",
       "      <td>0.959440</td>\n",
       "    </tr>\n",
       "    <tr>\n",
       "      <th>std</th>\n",
       "      <td>0.021856</td>\n",
       "    </tr>\n",
       "    <tr>\n",
       "      <th>min</th>\n",
       "      <td>0.866667</td>\n",
       "    </tr>\n",
       "    <tr>\n",
       "      <th>25%</th>\n",
       "      <td>0.946667</td>\n",
       "    </tr>\n",
       "    <tr>\n",
       "      <th>50%</th>\n",
       "      <td>0.960000</td>\n",
       "    </tr>\n",
       "    <tr>\n",
       "      <th>75%</th>\n",
       "      <td>0.973333</td>\n",
       "    </tr>\n",
       "    <tr>\n",
       "      <th>max</th>\n",
       "      <td>1.000000</td>\n",
       "    </tr>\n",
       "  </tbody>\n",
       "</table>\n",
       "</div>"
      ],
      "text/plain": [
       "                 0\n",
       "count  1000.000000\n",
       "mean      0.959440\n",
       "std       0.021856\n",
       "min       0.866667\n",
       "25%       0.946667\n",
       "50%       0.960000\n",
       "75%       0.973333\n",
       "max       1.000000"
      ]
     },
     "execution_count": 40,
     "metadata": {},
     "output_type": "execute_result"
    }
   ],
   "source": [
    "pd.DataFrame(accuracy).describe()"
   ]
  },
  {
   "cell_type": "code",
   "execution_count": 43,
   "metadata": {},
   "outputs": [],
   "source": [
    "accuracy = []\n",
    "for i in range (1000):\n",
    "    df = mk.crowd_table_one_stage(total_tasks, total_workers, p_hard_tasks, percentage_to_train,\n",
    "                        workers_per_task, number_of_valid_answers)\n",
    "    matrix = ConfusionMatrix(list(df['true_answers']), list(df['worker_answers']))\n",
    "    accuracy.append(matrix.Overall_ACC)"
   ]
  },
  {
   "cell_type": "code",
   "execution_count": 44,
   "metadata": {},
   "outputs": [
    {
     "data": {
      "text/html": [
       "<div>\n",
       "<style scoped>\n",
       "    .dataframe tbody tr th:only-of-type {\n",
       "        vertical-align: middle;\n",
       "    }\n",
       "\n",
       "    .dataframe tbody tr th {\n",
       "        vertical-align: top;\n",
       "    }\n",
       "\n",
       "    .dataframe thead th {\n",
       "        text-align: right;\n",
       "    }\n",
       "</style>\n",
       "<table border=\"1\" class=\"dataframe\">\n",
       "  <thead>\n",
       "    <tr style=\"text-align: right;\">\n",
       "      <th></th>\n",
       "      <th>0</th>\n",
       "    </tr>\n",
       "  </thead>\n",
       "  <tbody>\n",
       "    <tr>\n",
       "      <th>count</th>\n",
       "      <td>1000.000000</td>\n",
       "    </tr>\n",
       "    <tr>\n",
       "      <th>mean</th>\n",
       "      <td>0.894347</td>\n",
       "    </tr>\n",
       "    <tr>\n",
       "      <th>std</th>\n",
       "      <td>0.035766</td>\n",
       "    </tr>\n",
       "    <tr>\n",
       "      <th>min</th>\n",
       "      <td>0.773333</td>\n",
       "    </tr>\n",
       "    <tr>\n",
       "      <th>25%</th>\n",
       "      <td>0.866667</td>\n",
       "    </tr>\n",
       "    <tr>\n",
       "      <th>50%</th>\n",
       "      <td>0.893333</td>\n",
       "    </tr>\n",
       "    <tr>\n",
       "      <th>75%</th>\n",
       "      <td>0.920000</td>\n",
       "    </tr>\n",
       "    <tr>\n",
       "      <th>max</th>\n",
       "      <td>0.986667</td>\n",
       "    </tr>\n",
       "  </tbody>\n",
       "</table>\n",
       "</div>"
      ],
      "text/plain": [
       "                 0\n",
       "count  1000.000000\n",
       "mean      0.894347\n",
       "std       0.035766\n",
       "min       0.773333\n",
       "25%       0.866667\n",
       "50%       0.893333\n",
       "75%       0.920000\n",
       "max       0.986667"
      ]
     },
     "execution_count": 44,
     "metadata": {},
     "output_type": "execute_result"
    }
   ],
   "source": [
    "pd.DataFrame(accuracy).describe()"
   ]
  },
  {
   "cell_type": "markdown",
   "metadata": {},
   "source": [
    "Languages 5 workers per task"
   ]
  },
  {
   "cell_type": "markdown",
   "metadata": {},
   "source": [
    "Languages 7 workers per task"
   ]
  },
  {
   "cell_type": "code",
   "execution_count": 48,
   "metadata": {},
   "outputs": [],
   "source": [
    "workers_per_task = 7"
   ]
  },
  {
   "cell_type": "code",
   "execution_count": 49,
   "metadata": {},
   "outputs": [],
   "source": [
    "accuracy = []\n",
    "for i in range (1000):\n",
    "    df = mk.crowd_table(total_tasks, total_workers, p_hard_tasks, percentage_to_train,\n",
    "                        workers_per_task, number_of_valid_answers)\n",
    "    matrix = ConfusionMatrix(list(df['true_answers']), list(df['worker_answers']))\n",
    "    accuracy.append(matrix.Overall_ACC)"
   ]
  },
  {
   "cell_type": "code",
   "execution_count": 40,
   "metadata": {},
   "outputs": [
    {
     "data": {
      "text/html": [
       "<div>\n",
       "<style scoped>\n",
       "    .dataframe tbody tr th:only-of-type {\n",
       "        vertical-align: middle;\n",
       "    }\n",
       "\n",
       "    .dataframe tbody tr th {\n",
       "        vertical-align: top;\n",
       "    }\n",
       "\n",
       "    .dataframe thead th {\n",
       "        text-align: right;\n",
       "    }\n",
       "</style>\n",
       "<table border=\"1\" class=\"dataframe\">\n",
       "  <thead>\n",
       "    <tr style=\"text-align: right;\">\n",
       "      <th></th>\n",
       "      <th>0</th>\n",
       "    </tr>\n",
       "  </thead>\n",
       "  <tbody>\n",
       "    <tr>\n",
       "      <th>count</th>\n",
       "      <td>1000.000000</td>\n",
       "    </tr>\n",
       "    <tr>\n",
       "      <th>mean</th>\n",
       "      <td>0.959440</td>\n",
       "    </tr>\n",
       "    <tr>\n",
       "      <th>std</th>\n",
       "      <td>0.021856</td>\n",
       "    </tr>\n",
       "    <tr>\n",
       "      <th>min</th>\n",
       "      <td>0.866667</td>\n",
       "    </tr>\n",
       "    <tr>\n",
       "      <th>25%</th>\n",
       "      <td>0.946667</td>\n",
       "    </tr>\n",
       "    <tr>\n",
       "      <th>50%</th>\n",
       "      <td>0.960000</td>\n",
       "    </tr>\n",
       "    <tr>\n",
       "      <th>75%</th>\n",
       "      <td>0.973333</td>\n",
       "    </tr>\n",
       "    <tr>\n",
       "      <th>max</th>\n",
       "      <td>1.000000</td>\n",
       "    </tr>\n",
       "  </tbody>\n",
       "</table>\n",
       "</div>"
      ],
      "text/plain": [
       "                 0\n",
       "count  1000.000000\n",
       "mean      0.959440\n",
       "std       0.021856\n",
       "min       0.866667\n",
       "25%       0.946667\n",
       "50%       0.960000\n",
       "75%       0.973333\n",
       "max       1.000000"
      ]
     },
     "execution_count": 40,
     "metadata": {},
     "output_type": "execute_result"
    }
   ],
   "source": [
    "pd.DataFrame(accuracy).describe()"
   ]
  },
  {
   "cell_type": "code",
   "execution_count": 43,
   "metadata": {},
   "outputs": [],
   "source": [
    "accuracy = []\n",
    "for i in range (1000):\n",
    "    df = mk.crowd_table_one_stage(total_tasks, total_workers, p_hard_tasks, percentage_to_train,\n",
    "                        workers_per_task, number_of_valid_answers)\n",
    "    matrix = ConfusionMatrix(list(df['true_answers']), list(df['worker_answers']))\n",
    "    accuracy.append(matrix.Overall_ACC)"
   ]
  },
  {
   "cell_type": "code",
   "execution_count": 44,
   "metadata": {},
   "outputs": [
    {
     "data": {
      "text/html": [
       "<div>\n",
       "<style scoped>\n",
       "    .dataframe tbody tr th:only-of-type {\n",
       "        vertical-align: middle;\n",
       "    }\n",
       "\n",
       "    .dataframe tbody tr th {\n",
       "        vertical-align: top;\n",
       "    }\n",
       "\n",
       "    .dataframe thead th {\n",
       "        text-align: right;\n",
       "    }\n",
       "</style>\n",
       "<table border=\"1\" class=\"dataframe\">\n",
       "  <thead>\n",
       "    <tr style=\"text-align: right;\">\n",
       "      <th></th>\n",
       "      <th>0</th>\n",
       "    </tr>\n",
       "  </thead>\n",
       "  <tbody>\n",
       "    <tr>\n",
       "      <th>count</th>\n",
       "      <td>1000.000000</td>\n",
       "    </tr>\n",
       "    <tr>\n",
       "      <th>mean</th>\n",
       "      <td>0.894347</td>\n",
       "    </tr>\n",
       "    <tr>\n",
       "      <th>std</th>\n",
       "      <td>0.035766</td>\n",
       "    </tr>\n",
       "    <tr>\n",
       "      <th>min</th>\n",
       "      <td>0.773333</td>\n",
       "    </tr>\n",
       "    <tr>\n",
       "      <th>25%</th>\n",
       "      <td>0.866667</td>\n",
       "    </tr>\n",
       "    <tr>\n",
       "      <th>50%</th>\n",
       "      <td>0.893333</td>\n",
       "    </tr>\n",
       "    <tr>\n",
       "      <th>75%</th>\n",
       "      <td>0.920000</td>\n",
       "    </tr>\n",
       "    <tr>\n",
       "      <th>max</th>\n",
       "      <td>0.986667</td>\n",
       "    </tr>\n",
       "  </tbody>\n",
       "</table>\n",
       "</div>"
      ],
      "text/plain": [
       "                 0\n",
       "count  1000.000000\n",
       "mean      0.894347\n",
       "std       0.035766\n",
       "min       0.773333\n",
       "25%       0.866667\n",
       "50%       0.893333\n",
       "75%       0.920000\n",
       "max       0.986667"
      ]
     },
     "execution_count": 44,
     "metadata": {},
     "output_type": "execute_result"
    }
   ],
   "source": [
    "pd.DataFrame(accuracy).describe()"
   ]
  },
  {
   "cell_type": "code",
   "execution_count": null,
   "metadata": {},
   "outputs": [],
   "source": []
  }
 ],
 "metadata": {
  "kernelspec": {
   "display_name": "Python 3",
   "language": "python",
   "name": "python3"
  },
  "language_info": {
   "codemirror_mode": {
    "name": "ipython",
    "version": 3
   },
   "file_extension": ".py",
   "mimetype": "text/x-python",
   "name": "python",
   "nbconvert_exporter": "python",
   "pygments_lexer": "ipython3",
   "version": "3.7.3"
  }
 },
 "nbformat": 4,
 "nbformat_minor": 2
}
