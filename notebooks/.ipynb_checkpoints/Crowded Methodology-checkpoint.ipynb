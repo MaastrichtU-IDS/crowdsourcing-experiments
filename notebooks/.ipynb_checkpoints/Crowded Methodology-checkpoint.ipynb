{
 "cells": [
  {
   "cell_type": "markdown",
   "metadata": {},
   "source": [
    "## CrowdED: Crowdsourcing task optimization\n",
    "---\n",
    "The research question we aim to answer is: \"Can we a-priori estimate optimal workers and tasks' assignment to obtain maximum accuracy on all tasks?\"\n",
    "\n",
    "*This notebook takes step by step the construction of the crowdED module*"
   ]
  },
  {
   "cell_type": "code",
   "execution_count": 1,
   "metadata": {},
   "outputs": [],
   "source": [
    "import matplotlib.pyplot as plt\n",
    "import seaborn as sns\n",
    "import warnings\n",
    "warnings.filterwarnings('ignore')\n",
    "%matplotlib inline"
   ]
  },
  {
   "cell_type": "markdown",
   "metadata": {},
   "source": [
    "---"
   ]
  },
  {
   "cell_type": "markdown",
   "metadata": {},
   "source": [
    "### Tasks Generator Module"
   ]
  },
  {
   "cell_type": "markdown",
   "metadata": {},
   "source": [
    "In our simulation, the task is that the worker has to choose one out of the five given answers. Here, we simulate the true answer for each worker-task pair."
   ]
  },
  {
   "cell_type": "markdown",
   "metadata": {},
   "source": [
    "It is needed one of the keys for the answer"
   ]
  },
  {
   "cell_type": "code",
   "execution_count": 2,
   "metadata": {},
   "outputs": [],
   "source": [
    "import sys\n",
    "import numpy as np\n",
    "import pandas as pd\n",
    "import shortuuid as uid\n",
    "import crowded.key_words as kw\n",
    "\n",
    "KEYS = 7\n",
    "HARD = 0.3\n",
    "LEN = 12\n",
    "N = 10\n",
    "\n",
    "class Tasks(object):\n",
    "    def __init__(self, keys=KEYS, length=LEN):\n",
    "        \"\"\"\n",
    "        :param keys: number of valid answers expected to be assessed\n",
    "        :type keys: python list or numpy array of any stringable objects\n",
    "        :param length: length of the identifier\n",
    "        :type length: int\n",
    "        \"\"\"\n",
    "        self.length = length\n",
    "        self.keys = keys\n",
    "\n",
    "    def _generate_tasks(self, n=N):\n",
    "        \"\"\"\n",
    "        :param n: number of tasks to be generated (default value: 10)\n",
    "        :type n: int\n",
    "        \"\"\"\n",
    "        return ['task_' + uid.ShortUUID().random(length=self.length) for i in range(n)]\n",
    "\n",
    "    def _random_words(self):\n",
    "        return [i for i in np.random.choice(kw.words(), self.keys, replace=False)]\n",
    "\n",
    "    def _true_answer(self, n=N):\n",
    "        \"\"\"\n",
    "        :param n: number of true answers to be generated (default value: 10)\n",
    "        :type n: int\n",
    "        \"\"\"\n",
    "        return [answer for answer in np.random.choice(self._random_words(), n)]\n",
    "\n",
    "    def create(self, n=N, h=HARD):\n",
    "        \"\"\"\n",
    "        :param n: number of tasks to be generated (default value: 10)\n",
    "        :type n: int\n",
    "        :param h: proportion of hard tasks a priori selected for the experiment (default value: 0.2)\n",
    "        :type h: float\n",
    "        \"\"\"\n",
    "        e = 1 - h\n",
    "        cut_tasks = 0.5\n",
    "        tasks = self._generate_tasks(n)\n",
    "        probs_tasks = []\n",
    "        easy_tasks = [task for task in np.random.choice(\n",
    "            tasks, int(round(e * n, 0)), replace=False)]\n",
    "        hard_tasks = [task for task in set(tasks) - set(easy_tasks)]\n",
    "        df = pd.DataFrame()\n",
    "        df['task_id'] = tasks\n",
    "        df['true_answers'] = self._true_answer(n)\n",
    "        df['label_task'] = ['hard_task' if tasks[i]\n",
    "                            in hard_tasks else 'easy_task' for i in range(n)]\n",
    "        for i in df['label_task']:\n",
    "            if i == 'easy_task':  # uniform from .75 to 1\n",
    "                probs_tasks.append(np.random.choice(\n",
    "                    (np.arange(cut_tasks, 1, 0.01)), 1))\n",
    "            elif i == 'hard_task':  # uniform from .5 to .75\n",
    "                probs_tasks.append(np.random.choice(\n",
    "                    (np.arange(0.01, cut_tasks, 0.01)), 1))\n",
    "            else:\n",
    "                probs_tasks.append(1)\n",
    "\n",
    "        df['prob_task'] = [item for prob in probs_tasks for item in prob]\n",
    "        return df"
   ]
  },
  {
   "cell_type": "markdown",
   "metadata": {},
   "source": [
    "### Tasks Generation Module"
   ]
  },
  {
   "cell_type": "code",
   "execution_count": 3,
   "metadata": {},
   "outputs": [],
   "source": [
    "total_tasks = 415\n",
    "p_hard_tasks = 0.4\n",
    "number_of_valid_answers = 5"
   ]
  },
  {
   "cell_type": "code",
   "execution_count": 4,
   "metadata": {},
   "outputs": [
    {
     "data": {
      "text/html": [
       "<div>\n",
       "<style scoped>\n",
       "    .dataframe tbody tr th:only-of-type {\n",
       "        vertical-align: middle;\n",
       "    }\n",
       "\n",
       "    .dataframe tbody tr th {\n",
       "        vertical-align: top;\n",
       "    }\n",
       "\n",
       "    .dataframe thead th {\n",
       "        text-align: right;\n",
       "    }\n",
       "</style>\n",
       "<table border=\"1\" class=\"dataframe\">\n",
       "  <thead>\n",
       "    <tr style=\"text-align: right;\">\n",
       "      <th></th>\n",
       "      <th>task_id</th>\n",
       "      <th>true_answers</th>\n",
       "      <th>label_task</th>\n",
       "      <th>prob_task</th>\n",
       "    </tr>\n",
       "  </thead>\n",
       "  <tbody>\n",
       "    <tr>\n",
       "      <th>0</th>\n",
       "      <td>task_mxAzDeWXz5Uj</td>\n",
       "      <td>folds</td>\n",
       "      <td>hard_task</td>\n",
       "      <td>0.20</td>\n",
       "    </tr>\n",
       "    <tr>\n",
       "      <th>1</th>\n",
       "      <td>task_kWDSN7DUo7wa</td>\n",
       "      <td>clicks</td>\n",
       "      <td>hard_task</td>\n",
       "      <td>0.20</td>\n",
       "    </tr>\n",
       "    <tr>\n",
       "      <th>2</th>\n",
       "      <td>task_jCVKkVboLJFb</td>\n",
       "      <td>folds</td>\n",
       "      <td>hard_task</td>\n",
       "      <td>0.44</td>\n",
       "    </tr>\n",
       "    <tr>\n",
       "      <th>3</th>\n",
       "      <td>task_aNFXhj9xCRTi</td>\n",
       "      <td>clicks</td>\n",
       "      <td>easy_task</td>\n",
       "      <td>0.96</td>\n",
       "    </tr>\n",
       "    <tr>\n",
       "      <th>4</th>\n",
       "      <td>task_sgB522bUqgoB</td>\n",
       "      <td>cruise</td>\n",
       "      <td>hard_task</td>\n",
       "      <td>0.42</td>\n",
       "    </tr>\n",
       "  </tbody>\n",
       "</table>\n",
       "</div>"
      ],
      "text/plain": [
       "             task_id true_answers label_task  prob_task\n",
       "0  task_mxAzDeWXz5Uj        folds  hard_task       0.20\n",
       "1  task_kWDSN7DUo7wa       clicks  hard_task       0.20\n",
       "2  task_jCVKkVboLJFb        folds  hard_task       0.44\n",
       "3  task_aNFXhj9xCRTi       clicks  easy_task       0.96\n",
       "4  task_sgB522bUqgoB       cruise  hard_task       0.42"
      ]
     },
     "execution_count": 4,
     "metadata": {},
     "output_type": "execute_result"
    }
   ],
   "source": [
    "df_tasks = Tasks(number_of_valid_answers).create(total_tasks, p_hard_tasks)\n",
    "df_tasks.head()"
   ]
  },
  {
   "cell_type": "markdown",
   "metadata": {},
   "source": [
    "### Workers and Distribution Module"
   ]
  },
  {
   "cell_type": "code",
   "execution_count": 5,
   "metadata": {},
   "outputs": [],
   "source": [
    "import sys\n",
    "import pandas as pd\n",
    "import shortuuid as uid\n",
    "from scipy.stats import beta\n",
    "\n",
    "LEN = 12\n",
    "N = 10\n",
    "a = 28\n",
    "b = 3\n",
    "\n",
    "class Workers(object):\n",
    "    def __init__(self, alpha=a, beta=b, length=LEN):\n",
    "        \"\"\"\n",
    "        :param alpha: parameter alpha of a beta distribution (default value: 28)\n",
    "        :type alpha: float\n",
    "        :param beta: parameter beta of a beta distribution (default value: 3)\n",
    "        :type beta: float\n",
    "        :param length: number of workers to be created (default value:10)\n",
    "        :type length: type\n",
    "        \"\"\"\n",
    "        self.length = length\n",
    "        self.alpha = alpha\n",
    "        self.beta = beta\n",
    "\n",
    "    def create(self, n=N):\n",
    "        df = pd.DataFrame(\n",
    "            {'worker_id': [uid.ShortUUID().random(self.length) for i in range(n)],\n",
    "             'prob_worker': beta.rvs(self.alpha, self.beta, size=n)})\n",
    "        return df"
   ]
  },
  {
   "cell_type": "markdown",
   "metadata": {},
   "source": [
    "### Workers Generation"
   ]
  },
  {
   "cell_type": "code",
   "execution_count": 6,
   "metadata": {},
   "outputs": [],
   "source": [
    "total_workers = 40"
   ]
  },
  {
   "cell_type": "code",
   "execution_count": 7,
   "metadata": {},
   "outputs": [
    {
     "data": {
      "text/html": [
       "<div>\n",
       "<style scoped>\n",
       "    .dataframe tbody tr th:only-of-type {\n",
       "        vertical-align: middle;\n",
       "    }\n",
       "\n",
       "    .dataframe tbody tr th {\n",
       "        vertical-align: top;\n",
       "    }\n",
       "\n",
       "    .dataframe thead th {\n",
       "        text-align: right;\n",
       "    }\n",
       "</style>\n",
       "<table border=\"1\" class=\"dataframe\">\n",
       "  <thead>\n",
       "    <tr style=\"text-align: right;\">\n",
       "      <th></th>\n",
       "      <th>prob_worker</th>\n",
       "      <th>worker_id</th>\n",
       "    </tr>\n",
       "  </thead>\n",
       "  <tbody>\n",
       "    <tr>\n",
       "      <th>0</th>\n",
       "      <td>0.895679</td>\n",
       "      <td>PoRxnxWCB2mc</td>\n",
       "    </tr>\n",
       "    <tr>\n",
       "      <th>1</th>\n",
       "      <td>0.902518</td>\n",
       "      <td>CLbPWMp9mu5g</td>\n",
       "    </tr>\n",
       "    <tr>\n",
       "      <th>2</th>\n",
       "      <td>0.969116</td>\n",
       "      <td>CoRnDJEjCw7K</td>\n",
       "    </tr>\n",
       "    <tr>\n",
       "      <th>3</th>\n",
       "      <td>0.920916</td>\n",
       "      <td>MZujWgeEEd6q</td>\n",
       "    </tr>\n",
       "    <tr>\n",
       "      <th>4</th>\n",
       "      <td>0.806406</td>\n",
       "      <td>32XsnBvPwHKw</td>\n",
       "    </tr>\n",
       "  </tbody>\n",
       "</table>\n",
       "</div>"
      ],
      "text/plain": [
       "   prob_worker     worker_id\n",
       "0     0.895679  PoRxnxWCB2mc\n",
       "1     0.902518  CLbPWMp9mu5g\n",
       "2     0.969116  CoRnDJEjCw7K\n",
       "3     0.920916  MZujWgeEEd6q\n",
       "4     0.806406  32XsnBvPwHKw"
      ]
     },
     "execution_count": 7,
     "metadata": {},
     "output_type": "execute_result"
    }
   ],
   "source": [
    "df_workers = Workers().create(total_workers)\n",
    "df_workers.head()"
   ]
  },
  {
   "cell_type": "markdown",
   "metadata": {},
   "source": [
    "---\n",
    "In this step, we first calculate the exact probabilities of getting the answer right for each worker and each task."
   ]
  },
  {
   "cell_type": "markdown",
   "metadata": {},
   "source": [
    "Since the ability is unknown before the task is undertaken, we use a beta distribution to model the distribution of worker ability. Its probability density function $f(x|a, v)$ is given by "
   ]
  },
  {
   "cell_type": "markdown",
   "metadata": {},
   "source": [
    "$$\n",
    "f(x|a,v) = Beta (\\frac{a}{\\min(a,1-a)v}, \\frac{(1-a)}{\\min(a,1-a)v})\n",
    "$$"
   ]
  },
  {
   "cell_type": "markdown",
   "metadata": {},
   "source": [
    "Here a ∈ (0, 1) is the normalized value of the average ability of the workers in the crowdsourcing platform.  \n",
    "v ∈ (0, 1) is a parameter that determines the variance in worker ability  \n",
    "[Paper](https://aaai.org/ocs/index.php/HCOMP/HCOMP16/paper/viewFile/14047/13632)  "
   ]
  },
  {
   "cell_type": "code",
   "execution_count": 8,
   "metadata": {},
   "outputs": [
    {
     "name": "stdout",
     "output_type": "stream",
     "text": [
      "Mean probability 0.9029813460673075\n"
     ]
    },
    {
     "data": {
      "image/png": "[encoded data removed]",
      "text/plain": [
       "<Figure size 432x288 with 1 Axes>"
      ]
     },
     "metadata": {},
     "output_type": "display_data"
    }
   ],
   "source": [
    "data_beta = beta.rvs(28, 3, size=10000)\n",
    "sns.distplot(data_beta, kde=False, bins=100)\n",
    "print('Mean probability {}'.format(np.mean(data_beta)))"
   ]
  },
  {
   "cell_type": "markdown",
   "metadata": {},
   "source": [
    "In general we have good workers, on average the 90% of chances to getting the answer right"
   ]
  },
  {
   "cell_type": "markdown",
   "metadata": {},
   "source": [
    "---"
   ]
  },
  {
   "cell_type": "markdown",
   "metadata": {},
   "source": [
    "#### Summary of aggregated probabilities"
   ]
  },
  {
   "cell_type": "code",
   "execution_count": 9,
   "metadata": {},
   "outputs": [
    {
     "data": {
      "text/html": [
       "<div>\n",
       "<style scoped>\n",
       "    .dataframe tbody tr th:only-of-type {\n",
       "        vertical-align: middle;\n",
       "    }\n",
       "\n",
       "    .dataframe tbody tr th {\n",
       "        vertical-align: top;\n",
       "    }\n",
       "\n",
       "    .dataframe thead tr th {\n",
       "        text-align: left;\n",
       "    }\n",
       "\n",
       "    .dataframe thead tr:last-of-type th {\n",
       "        text-align: right;\n",
       "    }\n",
       "</style>\n",
       "<table border=\"1\" class=\"dataframe\">\n",
       "  <thead>\n",
       "    <tr>\n",
       "      <th></th>\n",
       "      <th colspan=\"2\" halign=\"left\">prob_task</th>\n",
       "    </tr>\n",
       "    <tr>\n",
       "      <th></th>\n",
       "      <th>mean</th>\n",
       "      <th>count</th>\n",
       "    </tr>\n",
       "    <tr>\n",
       "      <th>label_task</th>\n",
       "      <th></th>\n",
       "      <th></th>\n",
       "    </tr>\n",
       "  </thead>\n",
       "  <tbody>\n",
       "    <tr>\n",
       "      <th>easy_task</th>\n",
       "      <td>0.734337</td>\n",
       "      <td>249</td>\n",
       "    </tr>\n",
       "    <tr>\n",
       "      <th>hard_task</th>\n",
       "      <td>0.249217</td>\n",
       "      <td>166</td>\n",
       "    </tr>\n",
       "  </tbody>\n",
       "</table>\n",
       "</div>"
      ],
      "text/plain": [
       "           prob_task      \n",
       "                mean count\n",
       "label_task                \n",
       "easy_task   0.734337   249\n",
       "hard_task   0.249217   166"
      ]
     },
     "execution_count": 9,
     "metadata": {},
     "output_type": "execute_result"
    }
   ],
   "source": [
    "df_tasks.groupby('label_task').agg(['mean','count'])"
   ]
  },
  {
   "cell_type": "code",
   "execution_count": 10,
   "metadata": {},
   "outputs": [
    {
     "data": {
      "text/html": [
       "<div>\n",
       "<style scoped>\n",
       "    .dataframe tbody tr th:only-of-type {\n",
       "        vertical-align: middle;\n",
       "    }\n",
       "\n",
       "    .dataframe tbody tr th {\n",
       "        vertical-align: top;\n",
       "    }\n",
       "\n",
       "    .dataframe thead th {\n",
       "        text-align: right;\n",
       "    }\n",
       "</style>\n",
       "<table border=\"1\" class=\"dataframe\">\n",
       "  <thead>\n",
       "    <tr style=\"text-align: right;\">\n",
       "      <th></th>\n",
       "      <th>prob_worker</th>\n",
       "    </tr>\n",
       "  </thead>\n",
       "  <tbody>\n",
       "    <tr>\n",
       "      <th>count</th>\n",
       "      <td>40.000000</td>\n",
       "    </tr>\n",
       "    <tr>\n",
       "      <th>mean</th>\n",
       "      <td>0.892749</td>\n",
       "    </tr>\n",
       "    <tr>\n",
       "      <th>std</th>\n",
       "      <td>0.059548</td>\n",
       "    </tr>\n",
       "    <tr>\n",
       "      <th>min</th>\n",
       "      <td>0.767366</td>\n",
       "    </tr>\n",
       "    <tr>\n",
       "      <th>25%</th>\n",
       "      <td>0.861885</td>\n",
       "    </tr>\n",
       "    <tr>\n",
       "      <th>50%</th>\n",
       "      <td>0.902979</td>\n",
       "    </tr>\n",
       "    <tr>\n",
       "      <th>75%</th>\n",
       "      <td>0.932875</td>\n",
       "    </tr>\n",
       "    <tr>\n",
       "      <th>max</th>\n",
       "      <td>0.981417</td>\n",
       "    </tr>\n",
       "  </tbody>\n",
       "</table>\n",
       "</div>"
      ],
      "text/plain": [
       "       prob_worker\n",
       "count    40.000000\n",
       "mean      0.892749\n",
       "std       0.059548\n",
       "min       0.767366\n",
       "25%       0.861885\n",
       "50%       0.902979\n",
       "75%       0.932875\n",
       "max       0.981417"
      ]
     },
     "execution_count": 10,
     "metadata": {},
     "output_type": "execute_result"
    }
   ],
   "source": [
    "df_workers.describe()"
   ]
  },
  {
   "cell_type": "markdown",
   "metadata": {},
   "source": [
    "--- "
   ]
  },
  {
   "cell_type": "markdown",
   "metadata": {},
   "source": [
    "### Creating a task-worker assignation"
   ]
  },
  {
   "cell_type": "markdown",
   "metadata": {},
   "source": [
    "this function has to eat btw the 2 df result from the previous functions"
   ]
  },
  {
   "cell_type": "code",
   "execution_count": 11,
   "metadata": {},
   "outputs": [],
   "source": [
    "import pandas as pd\n",
    "import numpy as np\n",
    "\n",
    "WPT = 3\n",
    "\n",
    "class AssignTasks(object):\n",
    "    def __init__(self, tasks, workers, wpt=WPT):\n",
    "        \"\"\"\n",
    "        :param tasks: table created usings Tasks().create() object\n",
    "        :type tasks: pandas dataframe\n",
    "        :param workers: table created using Workers().create object\n",
    "        :type workers: pandas dataframe\n",
    "        :param wpt: number of workers per task for the simulation\n",
    "        \"param type: integer\n",
    "        \"\"\"\n",
    "        self.wpt = wpt\n",
    "        self.tasks = tasks\n",
    "        self.workers = workers\n",
    "\n",
    "    def _worker_assign(self):\n",
    "        if self.wpt > len(self.workers):\n",
    "            raise Exception(\n",
    "                'Number of workers per task must be smaller than the number of workers!')\n",
    "        return [worker for i in [np.random.choice(self.workers.worker_id, self.wpt, replace=False) for task in self.tasks.task_id] for worker in i]\n",
    "\n",
    "    def _task_asssign(self):\n",
    "        if self.wpt % 2 == 0:\n",
    "            raise Exception('Number of workers per task must be odd!')\n",
    "        return [item for k in [[self.tasks.task_id[i]] * self.wpt for i in range(len(self.tasks.task_id))] for item in k]\n",
    "    \n",
    "    def create(self):\n",
    "        df = pd.DataFrame({'task_id': self._task_asssign(),\n",
    "                           'worker_id': self._worker_assign()})\n",
    "        df = pd.merge(df, self.tasks, on='task_id', how='left')\n",
    "        df = pd.merge(df, self.workers, on='worker_id', how='left')\n",
    "        return df"
   ]
  },
  {
   "cell_type": "code",
   "execution_count": 12,
   "metadata": {},
   "outputs": [],
   "source": [
    "wpt = 5 #workers per task always smaller than the number of workers"
   ]
  },
  {
   "cell_type": "code",
   "execution_count": 13,
   "metadata": {},
   "outputs": [
    {
     "data": {
      "text/html": [
       "<div>\n",
       "<style scoped>\n",
       "    .dataframe tbody tr th:only-of-type {\n",
       "        vertical-align: middle;\n",
       "    }\n",
       "\n",
       "    .dataframe tbody tr th {\n",
       "        vertical-align: top;\n",
       "    }\n",
       "\n",
       "    .dataframe thead th {\n",
       "        text-align: right;\n",
       "    }\n",
       "</style>\n",
       "<table border=\"1\" class=\"dataframe\">\n",
       "  <thead>\n",
       "    <tr style=\"text-align: right;\">\n",
       "      <th></th>\n",
       "      <th>task_id</th>\n",
       "      <th>worker_id</th>\n",
       "      <th>true_answers</th>\n",
       "      <th>label_task</th>\n",
       "      <th>prob_task</th>\n",
       "      <th>prob_worker</th>\n",
       "    </tr>\n",
       "  </thead>\n",
       "  <tbody>\n",
       "    <tr>\n",
       "      <th>0</th>\n",
       "      <td>task_mxAzDeWXz5Uj</td>\n",
       "      <td>XjGX2g7RbhqA</td>\n",
       "      <td>folds</td>\n",
       "      <td>hard_task</td>\n",
       "      <td>0.2</td>\n",
       "      <td>0.935943</td>\n",
       "    </tr>\n",
       "    <tr>\n",
       "      <th>1</th>\n",
       "      <td>task_mxAzDeWXz5Uj</td>\n",
       "      <td>2jXzD7cJ5QzA</td>\n",
       "      <td>folds</td>\n",
       "      <td>hard_task</td>\n",
       "      <td>0.2</td>\n",
       "      <td>0.892761</td>\n",
       "    </tr>\n",
       "    <tr>\n",
       "      <th>2</th>\n",
       "      <td>task_mxAzDeWXz5Uj</td>\n",
       "      <td>3QktdYBsaGAC</td>\n",
       "      <td>folds</td>\n",
       "      <td>hard_task</td>\n",
       "      <td>0.2</td>\n",
       "      <td>0.811139</td>\n",
       "    </tr>\n",
       "    <tr>\n",
       "      <th>3</th>\n",
       "      <td>task_mxAzDeWXz5Uj</td>\n",
       "      <td>AGfq8KnhEYxy</td>\n",
       "      <td>folds</td>\n",
       "      <td>hard_task</td>\n",
       "      <td>0.2</td>\n",
       "      <td>0.767366</td>\n",
       "    </tr>\n",
       "    <tr>\n",
       "      <th>4</th>\n",
       "      <td>task_mxAzDeWXz5Uj</td>\n",
       "      <td>nzh8TjaJVZ3Y</td>\n",
       "      <td>folds</td>\n",
       "      <td>hard_task</td>\n",
       "      <td>0.2</td>\n",
       "      <td>0.859198</td>\n",
       "    </tr>\n",
       "  </tbody>\n",
       "</table>\n",
       "</div>"
      ],
      "text/plain": [
       "             task_id     worker_id true_answers label_task  prob_task  \\\n",
       "0  task_mxAzDeWXz5Uj  XjGX2g7RbhqA        folds  hard_task        0.2   \n",
       "1  task_mxAzDeWXz5Uj  2jXzD7cJ5QzA        folds  hard_task        0.2   \n",
       "2  task_mxAzDeWXz5Uj  3QktdYBsaGAC        folds  hard_task        0.2   \n",
       "3  task_mxAzDeWXz5Uj  AGfq8KnhEYxy        folds  hard_task        0.2   \n",
       "4  task_mxAzDeWXz5Uj  nzh8TjaJVZ3Y        folds  hard_task        0.2   \n",
       "\n",
       "   prob_worker  \n",
       "0     0.935943  \n",
       "1     0.892761  \n",
       "2     0.811139  \n",
       "3     0.767366  \n",
       "4     0.859198  "
      ]
     },
     "execution_count": 13,
     "metadata": {},
     "output_type": "execute_result"
    }
   ],
   "source": [
    "df_tw = AssignTasks(df_tasks, df_workers, wpt).create()\n",
    "df_tw.head()"
   ]
  },
  {
   "cell_type": "code",
   "execution_count": 14,
   "metadata": {},
   "outputs": [
    {
     "data": {
      "text/plain": [
       "worker_id\n",
       "CoRnDJEjCw7K    67\n",
       "GZVwLxjcLXLK    67\n",
       "tHCHrZveR7Zt    65\n",
       "3QktdYBsaGAC    62\n",
       "pTW3D953e786    62\n",
       "Name: tasks, dtype: int64"
      ]
     },
     "execution_count": 14,
     "metadata": {},
     "output_type": "execute_result"
    }
   ],
   "source": [
    "#aggregation of the tasks\n",
    "_agg = df_tw.groupby('worker_id').agg('count')['task_id']\n",
    "_agg.name = 'tasks'\n",
    "_agg.sort_values(ascending=False).head()"
   ]
  },
  {
   "cell_type": "markdown",
   "metadata": {},
   "source": [
    "---\n",
    "### Probabilities of getting the answer right"
   ]
  },
  {
   "cell_type": "markdown",
   "metadata": {},
   "source": [
    "w = worker answer correct  \n",
    "T = Having knowledge to do the task\n",
    "\n",
    "\n",
    "$$\n",
    "P(w~|~T) = \\frac{P(T~|~w) P(w)}{P(T~|~w) P(w) + P(T~|~w^c) P(w^c)}\n",
    "$$\n",
    "\n",
    "[Bayes for conditional probability example](http://www.stat.yale.edu/Courses/1997-98/101/condprob.htm)"
   ]
  },
  {
   "cell_type": "markdown",
   "metadata": {},
   "source": [
    "Class propuse:  \n",
    "Based on two vectors (pandas series same lenght) of probabilities create a conditional probability  \n",
    "one vector for person, another for activity in this case workers and tasks\n",
    "This new conditional prob is the prior probability for a Bernoulli likelihood  \n",
    "Then the predicion will tell if the answer was right or not  "
   ]
  },
  {
   "cell_type": "markdown",
   "metadata": {},
   "source": [
    "The Bernoulli is the posterior function to modelate the action"
   ]
  },
  {
   "cell_type": "code",
   "execution_count": 15,
   "metadata": {},
   "outputs": [],
   "source": [
    "keys = df_tasks['true_answers'].unique()"
   ]
  },
  {
   "cell_type": "code",
   "execution_count": 16,
   "metadata": {},
   "outputs": [
    {
     "data": {
      "text/plain": [
       "array(['folds', 'clicks', 'cruise', 'wrenches', 'tasks'], dtype=object)"
      ]
     },
     "execution_count": 16,
     "metadata": {},
     "output_type": "execute_result"
    }
   ],
   "source": [
    "keys"
   ]
  },
  {
   "cell_type": "code",
   "execution_count": 17,
   "metadata": {},
   "outputs": [],
   "source": [
    "import pandas as pd\n",
    "from scipy.stats import bernoulli\n",
    "\n",
    "class ComputeProbability(object):\n",
    "    def __init__(self, series1, series2, keys, size=1):\n",
    "        self.size = size\n",
    "        self.series1 = series1\n",
    "        self.series2 = series2\n",
    "        self.keys = keys\n",
    "        \n",
    "    def _random_selection(self):\n",
    "        return 1/len(self.keys)\n",
    "    \n",
    "    def _bayes_prob(self):\n",
    "        if len(self.series1) != len(self.series2):\n",
    "            raise Exception(\"Probability series expected to be the same size\")\n",
    "        return (self.series1 * self.series2) / (self.series1 * self.series2 + self._random_selection() * (1 - self.series2))\n",
    "    \n",
    "    def predict(self):\n",
    "        return self._bayes_prob().apply(lambda prob: bernoulli.rvs(size=self.size, p=prob)[0])"
   ]
  },
  {
   "cell_type": "code",
   "execution_count": 18,
   "metadata": {},
   "outputs": [],
   "source": [
    "cp = ComputeProbability(df_tw['prob_task'], df_tw['prob_worker'], keys)"
   ]
  },
  {
   "cell_type": "code",
   "execution_count": 19,
   "metadata": {},
   "outputs": [],
   "source": [
    "import numpy as np\n",
    "\n",
    "class WorkerAnswer(object):\n",
    "    def __init__(self, series1, series2, keys):\n",
    "        \"\"\"\n",
    "        series1 = vector of true answers\n",
    "        series2 = vector of 1 and 0\n",
    "        key = vector of odd number of strings\n",
    "        \"\"\"\n",
    "        self.series1 = series1\n",
    "        self.series2 = series2\n",
    "        self.keys = keys\n",
    "    \n",
    "    def match(self):\n",
    "        answers = []\n",
    "        for idx, i in enumerate(self.series2):\n",
    "            if i == 1:\n",
    "                answers.append(self.series1.loc[idx])\n",
    "            else:\n",
    "                answers.append(np.random.choice([i for i in set(self.keys)-set(self.series1.loc[idx])], 1)[0])\n",
    "\n",
    "        return answers "
   ]
  },
  {
   "cell_type": "code",
   "execution_count": 20,
   "metadata": {},
   "outputs": [],
   "source": [
    "worker_answer = WorkerAnswer(df_tw['true_answers'], cp.predict(), keys)"
   ]
  },
  {
   "cell_type": "code",
   "execution_count": 21,
   "metadata": {},
   "outputs": [],
   "source": [
    "df_tw['worker_answers'] = worker_answer.match()"
   ]
  },
  {
   "cell_type": "code",
   "execution_count": 22,
   "metadata": {},
   "outputs": [
    {
     "data": {
      "text/html": [
       "<div>\n",
       "<style scoped>\n",
       "    .dataframe tbody tr th:only-of-type {\n",
       "        vertical-align: middle;\n",
       "    }\n",
       "\n",
       "    .dataframe tbody tr th {\n",
       "        vertical-align: top;\n",
       "    }\n",
       "\n",
       "    .dataframe thead th {\n",
       "        text-align: right;\n",
       "    }\n",
       "</style>\n",
       "<table border=\"1\" class=\"dataframe\">\n",
       "  <thead>\n",
       "    <tr style=\"text-align: right;\">\n",
       "      <th></th>\n",
       "      <th>task_id</th>\n",
       "      <th>worker_id</th>\n",
       "      <th>true_answers</th>\n",
       "      <th>label_task</th>\n",
       "      <th>prob_task</th>\n",
       "      <th>prob_worker</th>\n",
       "      <th>worker_answers</th>\n",
       "    </tr>\n",
       "  </thead>\n",
       "  <tbody>\n",
       "    <tr>\n",
       "      <th>0</th>\n",
       "      <td>task_mxAzDeWXz5Uj</td>\n",
       "      <td>XjGX2g7RbhqA</td>\n",
       "      <td>folds</td>\n",
       "      <td>hard_task</td>\n",
       "      <td>0.2</td>\n",
       "      <td>0.935943</td>\n",
       "      <td>folds</td>\n",
       "    </tr>\n",
       "    <tr>\n",
       "      <th>1</th>\n",
       "      <td>task_mxAzDeWXz5Uj</td>\n",
       "      <td>2jXzD7cJ5QzA</td>\n",
       "      <td>folds</td>\n",
       "      <td>hard_task</td>\n",
       "      <td>0.2</td>\n",
       "      <td>0.892761</td>\n",
       "      <td>folds</td>\n",
       "    </tr>\n",
       "    <tr>\n",
       "      <th>2</th>\n",
       "      <td>task_mxAzDeWXz5Uj</td>\n",
       "      <td>3QktdYBsaGAC</td>\n",
       "      <td>folds</td>\n",
       "      <td>hard_task</td>\n",
       "      <td>0.2</td>\n",
       "      <td>0.811139</td>\n",
       "      <td>folds</td>\n",
       "    </tr>\n",
       "    <tr>\n",
       "      <th>3</th>\n",
       "      <td>task_mxAzDeWXz5Uj</td>\n",
       "      <td>AGfq8KnhEYxy</td>\n",
       "      <td>folds</td>\n",
       "      <td>hard_task</td>\n",
       "      <td>0.2</td>\n",
       "      <td>0.767366</td>\n",
       "      <td>clicks</td>\n",
       "    </tr>\n",
       "    <tr>\n",
       "      <th>4</th>\n",
       "      <td>task_mxAzDeWXz5Uj</td>\n",
       "      <td>nzh8TjaJVZ3Y</td>\n",
       "      <td>folds</td>\n",
       "      <td>hard_task</td>\n",
       "      <td>0.2</td>\n",
       "      <td>0.859198</td>\n",
       "      <td>folds</td>\n",
       "    </tr>\n",
       "  </tbody>\n",
       "</table>\n",
       "</div>"
      ],
      "text/plain": [
       "             task_id     worker_id true_answers label_task  prob_task  \\\n",
       "0  task_mxAzDeWXz5Uj  XjGX2g7RbhqA        folds  hard_task        0.2   \n",
       "1  task_mxAzDeWXz5Uj  2jXzD7cJ5QzA        folds  hard_task        0.2   \n",
       "2  task_mxAzDeWXz5Uj  3QktdYBsaGAC        folds  hard_task        0.2   \n",
       "3  task_mxAzDeWXz5Uj  AGfq8KnhEYxy        folds  hard_task        0.2   \n",
       "4  task_mxAzDeWXz5Uj  nzh8TjaJVZ3Y        folds  hard_task        0.2   \n",
       "\n",
       "   prob_worker worker_answers  \n",
       "0     0.935943          folds  \n",
       "1     0.892761          folds  \n",
       "2     0.811139          folds  \n",
       "3     0.767366         clicks  \n",
       "4     0.859198          folds  "
      ]
     },
     "execution_count": 22,
     "metadata": {},
     "output_type": "execute_result"
    }
   ],
   "source": [
    "df_tw.head()"
   ]
  },
  {
   "cell_type": "markdown",
   "metadata": {},
   "source": [
    "---\n",
    "### Confusion Matrix for the answers\n",
    "\n",
    "Based on [pycm](https://github.com/sepandhaghighi/pycm) analysis"
   ]
  },
  {
   "cell_type": "code",
   "execution_count": 23,
   "metadata": {},
   "outputs": [],
   "source": [
    "from pycm import *"
   ]
  },
  {
   "cell_type": "code",
   "execution_count": 24,
   "metadata": {},
   "outputs": [],
   "source": [
    "cm = ConfusionMatrix(df_tw['true_answers'].tolist(), df_tw['worker_answers'].tolist())"
   ]
  },
  {
   "cell_type": "code",
   "execution_count": 25,
   "metadata": {},
   "outputs": [
    {
     "name": "stdout",
     "output_type": "stream",
     "text": [
      "Predict          clicks   cruise   folds    tasks    wrenches \n",
      "Actual\n",
      "clicks           371      3        5        7        4        \n",
      "cruise           5        437      4        8        6        \n",
      "folds            6        7        370      9        3        \n",
      "tasks            1        4        3        345      7        \n",
      "wrenches         2        8        7        8        445      \n",
      "\n"
     ]
    }
   ],
   "source": [
    "cm.matrix()"
   ]
  },
  {
   "cell_type": "code",
   "execution_count": 26,
   "metadata": {},
   "outputs": [
    {
     "data": {
      "text/plain": [
       "0.948433734939759"
      ]
     },
     "execution_count": 26,
     "metadata": {},
     "output_type": "execute_result"
    }
   ],
   "source": [
    "cm.Overall_ACC"
   ]
  },
  {
   "cell_type": "code",
   "execution_count": 27,
   "metadata": {},
   "outputs": [
    {
     "data": {
      "text/plain": [
       "2.314676548971512"
      ]
     },
     "execution_count": 27,
     "metadata": {},
     "output_type": "execute_result"
    }
   ],
   "source": [
    "cm.CrossEntropy"
   ]
  },
  {
   "cell_type": "code",
   "execution_count": 28,
   "metadata": {},
   "outputs": [
    {
     "data": {
      "text/plain": [
       "{'clicks': 0.9840963855421687,\n",
       " 'cruise': 0.9783132530120482,\n",
       " 'folds': 0.9787951807228915,\n",
       " 'tasks': 0.9773493975903614,\n",
       " 'wrenches': 0.9783132530120482}"
      ]
     },
     "execution_count": 28,
     "metadata": {},
     "output_type": "execute_result"
    }
   ],
   "source": [
    "cm.ACC"
   ]
  },
  {
   "cell_type": "code",
   "execution_count": 29,
   "metadata": {},
   "outputs": [
    {
     "data": {
      "text/plain": [
       "{'clicks': 0.008308605341246333,\n",
       " 'cruise': 0.013622291021671784,\n",
       " 'folds': 0.01130952380952377,\n",
       " 'tasks': 0.01865889212827987,\n",
       " 'wrenches': 0.012461059190031154}"
      ]
     },
     "execution_count": 29,
     "metadata": {},
     "output_type": "execute_result"
    }
   ],
   "source": [
    "cm.FPR #False positive rate (FPR), Fall-out, probability of false alarm "
   ]
  },
  {
   "cell_type": "code",
   "execution_count": 30,
   "metadata": {},
   "outputs": [
    {
     "data": {
      "text/plain": [
       "{'clicks': 0.9512820512820512,\n",
       " 'cruise': 0.95,\n",
       " 'folds': 0.9367088607594937,\n",
       " 'tasks': 0.9583333333333334,\n",
       " 'wrenches': 0.9468085106382979}"
      ]
     },
     "execution_count": 30,
     "metadata": {},
     "output_type": "execute_result"
    }
   ],
   "source": [
    "cm.TPR #True positive rate (TPR), Recall, Sensitivity, probability of detection "
   ]
  },
  {
   "cell_type": "code",
   "execution_count": 31,
   "metadata": {},
   "outputs": [
    {
     "data": {
      "text/plain": [
       "0.9486265512026353"
      ]
     },
     "execution_count": 31,
     "metadata": {},
     "output_type": "execute_result"
    }
   ],
   "source": [
    "np.mean([i for i in cm.TPR.values()])"
   ]
  },
  {
   "cell_type": "code",
   "execution_count": 32,
   "metadata": {},
   "outputs": [
    {
     "data": {
      "text/plain": [
       "{'clicks': 0.9916913946587537,\n",
       " 'cruise': 0.9863777089783282,\n",
       " 'folds': 0.9886904761904762,\n",
       " 'tasks': 0.9813411078717201,\n",
       " 'wrenches': 0.9875389408099688}"
      ]
     },
     "execution_count": 32,
     "metadata": {},
     "output_type": "execute_result"
    }
   ],
   "source": [
    "cm.TNR #Specificity (SPC), Selectivity, True negative rate (TNR) "
   ]
  },
  {
   "cell_type": "code",
   "execution_count": 33,
   "metadata": {},
   "outputs": [
    {
     "data": {
      "text/plain": [
       "{'clicks': 0.9636363636363636,\n",
       " 'cruise': 0.9520697167755992,\n",
       " 'folds': 0.9511568123393316,\n",
       " 'tasks': 0.9151193633952255,\n",
       " 'wrenches': 0.956989247311828}"
      ]
     },
     "execution_count": 33,
     "metadata": {},
     "output_type": "execute_result"
    }
   ],
   "source": [
    "cm.PPV #PPV(Precision or positive predictive value)   "
   ]
  },
  {
   "cell_type": "code",
   "execution_count": 34,
   "metadata": {},
   "outputs": [
    {
     "data": {
      "text/plain": [
       "0.9477943006916696"
      ]
     },
     "execution_count": 34,
     "metadata": {},
     "output_type": "execute_result"
    }
   ],
   "source": [
    "np.mean([i for i in cm.PPV.values()])"
   ]
  },
  {
   "cell_type": "code",
   "execution_count": 35,
   "metadata": {},
   "outputs": [
    {
     "data": {
      "text/plain": [
       "{'clicks': 0.011242603550295827,\n",
       " 'cruise': 0.01423267326732669,\n",
       " 'folds': 0.014827995255041526,\n",
       " 'tasks': 0.00883392226148405,\n",
       " 'wrenches': 0.01552795031055898}"
      ]
     },
     "execution_count": 35,
     "metadata": {},
     "output_type": "execute_result"
    }
   ],
   "source": [
    "cm.FOR"
   ]
  },
  {
   "cell_type": "code",
   "execution_count": 36,
   "metadata": {},
   "outputs": [
    {
     "data": {
      "text/plain": [
       "{'clicks': 0.9574193548387097,\n",
       " 'cruise': 0.9510337323177367,\n",
       " 'folds': 0.9438775510204082,\n",
       " 'tasks': 0.9362279511533242,\n",
       " 'wrenches': 0.9518716577540107}"
      ]
     },
     "execution_count": 36,
     "metadata": {},
     "output_type": "execute_result"
    }
   ],
   "source": [
    "cm.F1"
   ]
  },
  {
   "cell_type": "code",
   "execution_count": 37,
   "metadata": {},
   "outputs": [
    {
     "data": {
      "text/plain": [
       "0.9480860494168379"
      ]
     },
     "execution_count": 37,
     "metadata": {},
     "output_type": "execute_result"
    }
   ],
   "source": [
    "sum([i for i in cm.F1.values()])/len([i for i in cm.F1.values()])"
   ]
  },
  {
   "cell_type": "markdown",
   "metadata": {},
   "source": [
    "Comparing with Turicreate library"
   ]
  },
  {
   "cell_type": "code",
   "execution_count": 38,
   "metadata": {},
   "outputs": [],
   "source": [
    "import turicreate as tc\n",
    "sf_tw = tc.SFrame(data=df_tw)\n",
    "conf_matrix = tc.evaluation.confusion_matrix(sf_tw['true_answers'], sf_tw['worker_answers'])"
   ]
  },
  {
   "cell_type": "code",
   "execution_count": 39,
   "metadata": {},
   "outputs": [
    {
     "name": "stdout",
     "output_type": "stream",
     "text": [
      "+--------------+-----------------+-------+\n",
      "| target_label | predicted_label | count |\n",
      "+--------------+-----------------+-------+\n",
      "|    tasks     |      folds      |   3   |\n",
      "|    clicks    |      clicks     |  371  |\n",
      "|    clicks    |      tasks      |   7   |\n",
      "|    tasks     |      cruise     |   4   |\n",
      "|    cruise    |      tasks      |   8   |\n",
      "|   wrenches   |      folds      |   7   |\n",
      "|    cruise    |      clicks     |   5   |\n",
      "|    tasks     |      tasks      |  345  |\n",
      "|    clicks    |      folds      |   5   |\n",
      "|   wrenches   |      cruise     |   8   |\n",
      "|   wrenches   |      clicks     |   2   |\n",
      "|   wrenches   |      tasks      |   8   |\n",
      "|    folds     |     wrenches    |   3   |\n",
      "|    folds     |      folds      |  370  |\n",
      "|    tasks     |     wrenches    |   7   |\n",
      "|    folds     |      clicks     |   6   |\n",
      "|    clicks    |      cruise     |   3   |\n",
      "|   wrenches   |     wrenches    |  445  |\n",
      "|    clicks    |     wrenches    |   4   |\n",
      "|    folds     |      cruise     |   7   |\n",
      "|    cruise    |      cruise     |  437  |\n",
      "|    folds     |      tasks      |   9   |\n",
      "|    tasks     |      clicks     |   1   |\n",
      "|    cruise    |      folds      |   4   |\n",
      "|    cruise    |     wrenches    |   6   |\n",
      "+--------------+-----------------+-------+\n",
      "[25 rows x 3 columns]\n",
      "\n"
     ]
    }
   ],
   "source": [
    "conf_matrix.print_rows(25,)"
   ]
  },
  {
   "cell_type": "code",
   "execution_count": 40,
   "metadata": {},
   "outputs": [],
   "source": [
    "accuracy = conf_matrix[conf_matrix['target_label'] == conf_matrix['predicted_label']]['count'].sum() / conf_matrix['count'].sum()"
   ]
  },
  {
   "cell_type": "code",
   "execution_count": 41,
   "metadata": {},
   "outputs": [
    {
     "name": "stdout",
     "output_type": "stream",
     "text": [
      "0.948433734939759\n"
     ]
    }
   ],
   "source": [
    "print(accuracy)"
   ]
  },
  {
   "cell_type": "markdown",
   "metadata": {},
   "source": [
    "---\n",
    "### Measuring Performance and split the good workers from the rest"
   ]
  },
  {
   "cell_type": "markdown",
   "metadata": {},
   "source": [
    "Next we measure the performance of the worker. The performance is calculate as the number of times a worker answers right (in comparison with the true answer) over the total number of workers per task.  \n",
    "\n",
    "The range of the performance value spans from 0 to 1. The values close to 1 indicate that the majority of the workers had consensus. The values close to 0 indicate that there was no consensus."
   ]
  },
  {
   "cell_type": "code",
   "execution_count": 42,
   "metadata": {},
   "outputs": [],
   "source": [
    "df_tw['performance'] = cp.predict()"
   ]
  },
  {
   "cell_type": "code",
   "execution_count": 43,
   "metadata": {},
   "outputs": [],
   "source": [
    "import pandas as pd\n",
    "\n",
    "IDX = 'worker_id'\n",
    "\n",
    "class Performance(object):\n",
    "    def __init__ (self, df_tw):\n",
    "        \"\"\"\n",
    "        :df_tw: dataframe of assigned tasks to workers\n",
    "        \"\"\"\n",
    "        self.df_tw = df_tw\n",
    "        \n",
    "    def _agg(self):\n",
    "        df = self.df_tw.groupby(IDX).agg('count')['task_id']\n",
    "        df.index.name = 'tasks'\n",
    "        return df\n",
    "    \n",
    "    def _workers(self):\n",
    "        df = self.df_tw.groupby(self.df_tw[IDX]).mean().sort_values('performance', ascending=False)\n",
    "        df['worker_ability'] = ['good_worker' if i >= df['performance'].mean() else 'poor_worker' for i in df['performance']]\n",
    "        return df.reset_index().join(self._agg(), on=IDX, how='left')\n",
    "    \n",
    "    def good_workers(self):\n",
    "        _good = self._workers()[(self._workers()['worker_ability'] == 'good_worker') & ((self._workers()['prob_task'] < self._workers()['prob_task'].median()))]\n",
    "        return [i for i in _good[IDX]]\n",
    "    \n",
    "    def trained_workers(self):\n",
    "        _w = self._workers()\n",
    "        _w.index = _w['worker_id']\n",
    "        dfw = _w.loc[self.good_workers()]\n",
    "        dfw['alpha'] = round(dfw['performance']*dfw['task_id'],0)\n",
    "        dfw['beta'] = dfw['task_id'] - dfw['alpha']\n",
    "        dfw['alpha'] = [int(i + 28) for i in dfw['alpha']]\n",
    "        dfw['beta'] = 1#[int(i + 1) for i in dfw['beta']]\n",
    "        df = pd.DataFrame(\n",
    "            {'worker_id': self.good_workers(),\n",
    "             'prob_worker': [beta.rvs(a, b, size=1)[0] for a, b in zip(dfw['alpha'], dfw['beta'])]})\n",
    "        df.index = df['worker_id']\n",
    "        df.index.name = 'id'\n",
    "        return df"
   ]
  },
  {
   "cell_type": "code",
   "execution_count": 44,
   "metadata": {},
   "outputs": [],
   "source": [
    "perf = Performance(df_tw)"
   ]
  },
  {
   "cell_type": "code",
   "execution_count": 45,
   "metadata": {},
   "outputs": [
    {
     "data": {
      "text/html": [
       "<div>\n",
       "<style scoped>\n",
       "    .dataframe tbody tr th:only-of-type {\n",
       "        vertical-align: middle;\n",
       "    }\n",
       "\n",
       "    .dataframe tbody tr th {\n",
       "        vertical-align: top;\n",
       "    }\n",
       "\n",
       "    .dataframe thead th {\n",
       "        text-align: right;\n",
       "    }\n",
       "</style>\n",
       "<table border=\"1\" class=\"dataframe\">\n",
       "  <thead>\n",
       "    <tr style=\"text-align: right;\">\n",
       "      <th></th>\n",
       "      <th>prob_worker</th>\n",
       "      <th>worker_id</th>\n",
       "    </tr>\n",
       "    <tr>\n",
       "      <th>id</th>\n",
       "      <th></th>\n",
       "      <th></th>\n",
       "    </tr>\n",
       "  </thead>\n",
       "  <tbody>\n",
       "    <tr>\n",
       "      <th>CoRnDJEjCw7K</th>\n",
       "      <td>0.997653</td>\n",
       "      <td>CoRnDJEjCw7K</td>\n",
       "    </tr>\n",
       "    <tr>\n",
       "      <th>L954QqQBj76d</th>\n",
       "      <td>0.998245</td>\n",
       "      <td>L954QqQBj76d</td>\n",
       "    </tr>\n",
       "    <tr>\n",
       "      <th>pTW3D953e786</th>\n",
       "      <td>0.992366</td>\n",
       "      <td>pTW3D953e786</td>\n",
       "    </tr>\n",
       "    <tr>\n",
       "      <th>TiVYe7L2rXQ3</th>\n",
       "      <td>0.992371</td>\n",
       "      <td>TiVYe7L2rXQ3</td>\n",
       "    </tr>\n",
       "    <tr>\n",
       "      <th>67GBTsZoYLFy</th>\n",
       "      <td>0.983683</td>\n",
       "      <td>67GBTsZoYLFy</td>\n",
       "    </tr>\n",
       "    <tr>\n",
       "      <th>nc7Lqc8pzdCQ</th>\n",
       "      <td>0.976466</td>\n",
       "      <td>nc7Lqc8pzdCQ</td>\n",
       "    </tr>\n",
       "    <tr>\n",
       "      <th>L4C8U6msjiAL</th>\n",
       "      <td>0.976135</td>\n",
       "      <td>L4C8U6msjiAL</td>\n",
       "    </tr>\n",
       "    <tr>\n",
       "      <th>HnSdqyaeq24i</th>\n",
       "      <td>0.992090</td>\n",
       "      <td>HnSdqyaeq24i</td>\n",
       "    </tr>\n",
       "    <tr>\n",
       "      <th>GqBhX6cyJrfP</th>\n",
       "      <td>0.974393</td>\n",
       "      <td>GqBhX6cyJrfP</td>\n",
       "    </tr>\n",
       "    <tr>\n",
       "      <th>xMKkgnvwo2ve</th>\n",
       "      <td>0.993675</td>\n",
       "      <td>xMKkgnvwo2ve</td>\n",
       "    </tr>\n",
       "    <tr>\n",
       "      <th>54VEoPbmwsHL</th>\n",
       "      <td>0.999112</td>\n",
       "      <td>54VEoPbmwsHL</td>\n",
       "    </tr>\n",
       "  </tbody>\n",
       "</table>\n",
       "</div>"
      ],
      "text/plain": [
       "              prob_worker     worker_id\n",
       "id                                     \n",
       "CoRnDJEjCw7K     0.997653  CoRnDJEjCw7K\n",
       "L954QqQBj76d     0.998245  L954QqQBj76d\n",
       "pTW3D953e786     0.992366  pTW3D953e786\n",
       "TiVYe7L2rXQ3     0.992371  TiVYe7L2rXQ3\n",
       "67GBTsZoYLFy     0.983683  67GBTsZoYLFy\n",
       "nc7Lqc8pzdCQ     0.976466  nc7Lqc8pzdCQ\n",
       "L4C8U6msjiAL     0.976135  L4C8U6msjiAL\n",
       "HnSdqyaeq24i     0.992090  HnSdqyaeq24i\n",
       "GqBhX6cyJrfP     0.974393  GqBhX6cyJrfP\n",
       "xMKkgnvwo2ve     0.993675  xMKkgnvwo2ve\n",
       "54VEoPbmwsHL     0.999112  54VEoPbmwsHL"
      ]
     },
     "execution_count": 45,
     "metadata": {},
     "output_type": "execute_result"
    }
   ],
   "source": [
    "perf.trained_workers()"
   ]
  },
  {
   "cell_type": "code",
   "execution_count": 46,
   "metadata": {
    "scrolled": true
   },
   "outputs": [
    {
     "name": "stdout",
     "output_type": "stream",
     "text": [
      "Prediction Correct 1913 of 2075\n"
     ]
    },
    {
     "data": {
      "image/png": "[encoded data removed]",
      "text/plain": [
       "<Figure size 1296x288 with 1 Axes>"
      ]
     },
     "metadata": {},
     "output_type": "display_data"
    }
   ],
   "source": [
    "#Distribution performance\n",
    "plt.figure(figsize=[18, 4])\n",
    "sns.distplot(df_tw['performance'], kde=False, vertical=True, color=\"red\")\n",
    "print('Prediction Correct {} of {}'.format(df_tw['performance'].sum(), df_tw['performance'].count()))"
   ]
  },
  {
   "cell_type": "code",
   "execution_count": 47,
   "metadata": {
    "scrolled": false
   },
   "outputs": [
    {
     "data": {
      "text/plain": [
       "<matplotlib.axes._subplots.AxesSubplot at 0x10c95d0b8>"
      ]
     },
     "execution_count": 47,
     "metadata": {},
     "output_type": "execute_result"
    },
    {
     "data": {
      "image/png": "[encoded data removed]",
      "text/plain": [
       "<Figure size 720x720 with 1 Axes>"
      ]
     },
     "metadata": {},
     "output_type": "display_data"
    }
   ],
   "source": [
    "plt.figure(figsize=[10, 10])\n",
    "sns.kdeplot(perf._workers()['performance'], perf._workers()['prob_worker'], cmap=\"Blues\", shade=True, shade_lowest=False)"
   ]
  },
  {
   "cell_type": "code",
   "execution_count": 48,
   "metadata": {},
   "outputs": [
    {
     "data": {
      "image/png": "[encoded data removed]",
      "text/plain": [
       "<Figure size 1296x288 with 1 Axes>"
      ]
     },
     "metadata": {},
     "output_type": "display_data"
    }
   ],
   "source": [
    "plt.figure(figsize=[18, 4])\n",
    "axis = range(len(perf._workers()))\n",
    "plt.bar(axis, perf._workers()['performance'], align='center', alpha=0.8, color='blue', label='Probability of Answer correct')\n",
    "plt.xticks(axis, perf._workers()['worker_id'], rotation=90)\n",
    "plt.title('Workers Performance')\n",
    "plt.legend(loc='best')\n",
    "plt.show()"
   ]
  },
  {
   "cell_type": "code",
   "execution_count": 49,
   "metadata": {},
   "outputs": [
    {
     "data": {
      "text/html": [
       "<div>\n",
       "<style scoped>\n",
       "    .dataframe tbody tr th:only-of-type {\n",
       "        vertical-align: middle;\n",
       "    }\n",
       "\n",
       "    .dataframe tbody tr th {\n",
       "        vertical-align: top;\n",
       "    }\n",
       "\n",
       "    .dataframe thead th {\n",
       "        text-align: right;\n",
       "    }\n",
       "</style>\n",
       "<table border=\"1\" class=\"dataframe\">\n",
       "  <thead>\n",
       "    <tr style=\"text-align: right;\">\n",
       "      <th></th>\n",
       "      <th>prob_task</th>\n",
       "      <th>prob_worker</th>\n",
       "      <th>performance</th>\n",
       "      <th>task_id</th>\n",
       "    </tr>\n",
       "  </thead>\n",
       "  <tbody>\n",
       "    <tr>\n",
       "      <th>count</th>\n",
       "      <td>40.000000</td>\n",
       "      <td>40.000000</td>\n",
       "      <td>40.000000</td>\n",
       "      <td>40.000000</td>\n",
       "    </tr>\n",
       "    <tr>\n",
       "      <th>mean</th>\n",
       "      <td>0.540652</td>\n",
       "      <td>0.892749</td>\n",
       "      <td>0.920878</td>\n",
       "      <td>51.875000</td>\n",
       "    </tr>\n",
       "    <tr>\n",
       "      <th>std</th>\n",
       "      <td>0.036465</td>\n",
       "      <td>0.059548</td>\n",
       "      <td>0.051333</td>\n",
       "      <td>7.275486</td>\n",
       "    </tr>\n",
       "    <tr>\n",
       "      <th>min</th>\n",
       "      <td>0.418571</td>\n",
       "      <td>0.767366</td>\n",
       "      <td>0.775000</td>\n",
       "      <td>39.000000</td>\n",
       "    </tr>\n",
       "    <tr>\n",
       "      <th>25%</th>\n",
       "      <td>0.525649</td>\n",
       "      <td>0.861885</td>\n",
       "      <td>0.898214</td>\n",
       "      <td>47.000000</td>\n",
       "    </tr>\n",
       "    <tr>\n",
       "      <th>50%</th>\n",
       "      <td>0.536637</td>\n",
       "      <td>0.902979</td>\n",
       "      <td>0.928480</td>\n",
       "      <td>51.000000</td>\n",
       "    </tr>\n",
       "    <tr>\n",
       "      <th>75%</th>\n",
       "      <td>0.565952</td>\n",
       "      <td>0.932875</td>\n",
       "      <td>0.958281</td>\n",
       "      <td>55.250000</td>\n",
       "    </tr>\n",
       "    <tr>\n",
       "      <th>max</th>\n",
       "      <td>0.636596</td>\n",
       "      <td>0.981417</td>\n",
       "      <td>1.000000</td>\n",
       "      <td>67.000000</td>\n",
       "    </tr>\n",
       "  </tbody>\n",
       "</table>\n",
       "</div>"
      ],
      "text/plain": [
       "       prob_task  prob_worker  performance    task_id\n",
       "count  40.000000    40.000000    40.000000  40.000000\n",
       "mean    0.540652     0.892749     0.920878  51.875000\n",
       "std     0.036465     0.059548     0.051333   7.275486\n",
       "min     0.418571     0.767366     0.775000  39.000000\n",
       "25%     0.525649     0.861885     0.898214  47.000000\n",
       "50%     0.536637     0.902979     0.928480  51.000000\n",
       "75%     0.565952     0.932875     0.958281  55.250000\n",
       "max     0.636596     0.981417     1.000000  67.000000"
      ]
     },
     "execution_count": 49,
     "metadata": {},
     "output_type": "execute_result"
    }
   ],
   "source": [
    "perf._workers().describe()"
   ]
  },
  {
   "cell_type": "markdown",
   "metadata": {},
   "source": [
    "---\n",
    "### Get Accuracy (Make Module)"
   ]
  },
  {
   "cell_type": "code",
   "execution_count": 50,
   "metadata": {},
   "outputs": [],
   "source": [
    "import sys\n",
    "sys.path.insert(0, '/Users/pedrohserrano/crowdED/crowded')\n",
    "import simulate as cs\n",
    "import method as cm\n",
    "import make as mk\n",
    "\n",
    "PTT = .3\n",
    "\n",
    "def tasks_split(df, p=PTT):\n",
    "    _train = df.sample(frac=p, random_state=23)\n",
    "    _rest = df.loc[df.index.difference(_train.index)]\n",
    "    return _train, _rest\n",
    "\n",
    "\n",
    "def _update_progress(job_title, progress):\n",
    "    length = 20\n",
    "    block = int(round(length * progress))\n",
    "    msg = \"\\r{0}: [{1}] {2}%\".format(\n",
    "        job_title, \"#\" * block + \"-\" * (length - block), round(progress * 100, 2))\n",
    "    if progress >= 1:\n",
    "        msg += \" DONE\\r\\n\"\n",
    "    sys.stdout.write(msg)\n",
    "    sys.stdout.flush()\n",
    "\n",
    "def crowd_table(total_tasks=100, total_workers=30, p_hard_tasks=0.4, ptt=.3, wpt=5, nk=5, a=28, b=3):\n",
    "    #Defining the experiment parameters\n",
    "    df_tasks = cs.Tasks(nk).create(total_tasks, p_hard_tasks)\n",
    "    workers = cs.Workers(a,b).create(total_workers)\n",
    "    keys = df_tasks['true_answers'].unique()\n",
    "    tasks_train, tasks_rest = tasks_split(df_tasks, ptt)\n",
    "    #Compute Method for Training set\n",
    "    df_tw = cs.AssignTasks(tasks_train, workers, wpt).create()\n",
    "    cp = cm.ComputeProbability(df_tw['prob_task'], df_tw['prob_worker'], keys)\n",
    "    df_tw['worker_answers'] = cm.WorkerAnswer(df_tw['true_answers'], cp.predict(), keys).match()\n",
    "    df_tw['performance'] = cp.predict()\n",
    "    #Select the good workers from training phase\n",
    "    perf = cm.Performance(df_tw)\n",
    "    trained_workers = perf.trained_workers()\n",
    "    #Compute Method for the rest of the set\n",
    "    df_tw_2 = cs.AssignTasks(tasks_rest, trained_workers, wpt).create()\n",
    "    cp2 = cm.ComputeProbability(df_tw_2['prob_task'], df_tw_2['prob_worker'], keys)\n",
    "    df_tw_2['worker_answers'] = cm.WorkerAnswer(df_tw_2['true_answers'], cp2.predict(), keys).match()\n",
    "    df_tw_2['performance'] = cp2.predict()\n",
    "    #Append two sets in one final set\n",
    "    df = df_tw.append(df_tw_2)\n",
    "    return df\n",
    "\n",
    "def crowd_table_one_stage(total_tasks=100, total_workers=30, p_hard_tasks=0.4, ptt=.3, wpt=5, nk=5, a=28, b=3):\n",
    "    #Defining the experiment parameters\n",
    "    df_tasks = cs.Tasks(nk).create(total_tasks, p_hard_tasks)\n",
    "    workers = cs.Workers(a,b).create(total_workers)\n",
    "    keys = df_tasks['true_answers'].unique()\n",
    "    #Compute Method\n",
    "    df_tw = cs.AssignTasks(df_tasks, workers, wpt).create()\n",
    "    cp = cm.ComputeProbability(df_tw['prob_task'], df_tw['prob_worker'], keys)\n",
    "    df_tw['worker_answers'] = cm.WorkerAnswer(df_tw['true_answers'], cp.predict(), keys).match()\n",
    "    df_tw['performance'] = cp.predict()\n",
    "    return df_tw"
   ]
  },
  {
   "cell_type": "code",
   "execution_count": 51,
   "metadata": {},
   "outputs": [],
   "source": [
    "from pycm import *"
   ]
  },
  {
   "cell_type": "code",
   "execution_count": 52,
   "metadata": {},
   "outputs": [
    {
     "name": "stdout",
     "output_type": "stream",
     "text": [
      "Predict          billet   charts   hooks    phase    wraps    \n",
      "Actual\n",
      "billet           403      3        1        3        5        \n",
      "charts           4        360      2        3        1        \n",
      "hooks            2        1        406      3        3        \n",
      "phase            3        6        5        449      2        \n",
      "wraps            2        5        1        7        395      \n",
      "\n"
     ]
    },
    {
     "data": {
      "text/plain": [
       "0.9701204819277108"
      ]
     },
     "execution_count": 52,
     "metadata": {},
     "output_type": "execute_result"
    }
   ],
   "source": [
    "df = crowd_table(total_tasks=415, total_workers=40, p_hard_tasks=0.4, ptt=0.3, wpt=5, nk=5, a=28, b=3)\n",
    "cm2 = ConfusionMatrix(df['true_answers'].tolist(), df['worker_answers'].tolist())\n",
    "cm2.matrix()\n",
    "cm2.Overall_ACC"
   ]
  },
  {
   "cell_type": "code",
   "execution_count": 53,
   "metadata": {},
   "outputs": [
    {
     "name": "stdout",
     "output_type": "stream",
     "text": [
      "Predict          complainthunt     idea     pain     problem  \n",
      "Actual\n",
      "complaint        352      5        2        3        3        \n",
      "hunt             4        333      4        3        6        \n",
      "idea             8        8        414      5        5        \n",
      "pain             5        8        4        385      13       \n",
      "problem          8        5        6        10       476      \n",
      "\n"
     ]
    },
    {
     "data": {
      "text/plain": [
       "0.944578313253012"
      ]
     },
     "execution_count": 53,
     "metadata": {},
     "output_type": "execute_result"
    }
   ],
   "source": [
    "df1 = crowd_table_one_stage(total_tasks=415, total_workers=40, p_hard_tasks=0.4, ptt=0.3, wpt=5, nk=5, a=28, b=3)\n",
    "cm1 = ConfusionMatrix(df1['true_answers'].tolist(), df1['worker_answers'].tolist())\n",
    "cm1.matrix()\n",
    "cm1.Overall_ACC"
   ]
  },
  {
   "cell_type": "code",
   "execution_count": null,
   "metadata": {},
   "outputs": [],
   "source": []
  }
 ],
 "metadata": {
  "kernelspec": {
   "display_name": "Python 3",
   "language": "python",
   "name": "python3"
  },
  "language_info": {
   "codemirror_mode": {
    "name": "ipython",
    "version": 3
   },
   "file_extension": ".py",
   "mimetype": "text/x-python",
   "name": "python",
   "nbconvert_exporter": "python",
   "pygments_lexer": "ipython3",
   "version": "3.6.5"
  }
 },
 "nbformat": 4,
 "nbformat_minor": 2
}
