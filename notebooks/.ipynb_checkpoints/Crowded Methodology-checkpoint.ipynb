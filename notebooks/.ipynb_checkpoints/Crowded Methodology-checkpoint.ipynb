{
 "cells": [
  {
   "cell_type": "markdown",
   "metadata": {},
   "source": [
    "## CrowdED: Crowdsourcing task optimization\n",
    "---\n",
    "The research question we aim to answer is: \"Can we a-priori estimate optimal workers and tasks' assignment to obtain maximum accuracy on all tasks?\"\n",
    "\n",
    "*This notebook takes step by step the construction of the crowdED module*"
   ]
  },
  {
   "cell_type": "code",
   "execution_count": 1,
   "metadata": {},
   "outputs": [],
   "source": [
    "import matplotlib.pyplot as plt\n",
    "import seaborn as sns\n",
    "import warnings\n",
    "warnings.filterwarnings('ignore')\n",
    "%matplotlib inline"
   ]
  },
  {
   "cell_type": "markdown",
   "metadata": {},
   "source": [
    "---"
   ]
  },
  {
   "cell_type": "markdown",
   "metadata": {},
   "source": [
    "### Tasks Generator Module"
   ]
  },
  {
   "cell_type": "markdown",
   "metadata": {},
   "source": [
    "In our simulation, the task is that the worker has to choose one out of the five given answers. Here, we simulate the true answer for each worker-task pair."
   ]
  },
  {
   "cell_type": "markdown",
   "metadata": {},
   "source": [
    "It is needed one of the keys for the answer"
   ]
  },
  {
   "cell_type": "code",
   "execution_count": 2,
   "metadata": {},
   "outputs": [],
   "source": [
    "import sys\n",
    "import numpy as np\n",
    "import pandas as pd\n",
    "import shortuuid as uid\n",
    "import crowded.key_words as kw\n",
    "\n",
    "KEYS = 7\n",
    "HARD = 0.3\n",
    "LEN = 12\n",
    "N = 10\n",
    "\n",
    "class Tasks(object):\n",
    "    def __init__(self, keys=KEYS, length=LEN):\n",
    "        \"\"\"\n",
    "        :param keys: number of valid answers expected to be assessed\n",
    "        :type keys: python list or numpy array of any stringable objects\n",
    "        :param length: length of the identifier\n",
    "        :type length: int\n",
    "        \"\"\"\n",
    "        self.length = length\n",
    "        self.keys = keys\n",
    "\n",
    "    def _generate_tasks(self, n=N):\n",
    "        \"\"\"\n",
    "        :param n: number of tasks to be generated (default value: 10)\n",
    "        :type n: int\n",
    "        \"\"\"\n",
    "        return ['task_' + uid.ShortUUID().random(length=self.length) for i in range(n)]\n",
    "\n",
    "    def _random_words(self):\n",
    "        return [i for i in np.random.choice(kw.words(), self.keys, replace=False)]\n",
    "\n",
    "    def _true_answer(self, n=N):\n",
    "        \"\"\"\n",
    "        :param n: number of true answers to be generated (default value: 10)\n",
    "        :type n: int\n",
    "        \"\"\"\n",
    "        return [answer for answer in np.random.choice(self._random_words(), n)]\n",
    "\n",
    "    def create(self, n=N, h=HARD):\n",
    "        \"\"\"\n",
    "        :param n: number of tasks to be generated (default value: 10)\n",
    "        :type n: int\n",
    "        :param h: proportion of hard tasks a priori selected for the experiment (default value: 0.2)\n",
    "        :type h: float\n",
    "        \"\"\"\n",
    "        e = 1 - h\n",
    "        cut_tasks = 0.5\n",
    "        tasks = self._generate_tasks(n)\n",
    "        probs_tasks = []\n",
    "        easy_tasks = [task for task in np.random.choice(\n",
    "            tasks, int(round(e * n, 0)), replace=False)]\n",
    "        hard_tasks = [task for task in set(tasks) - set(easy_tasks)]\n",
    "        df = pd.DataFrame()\n",
    "        df['task_id'] = tasks\n",
    "        df['true_answers'] = self._true_answer(n)\n",
    "        df['label_task'] = ['hard_task' if tasks[i]\n",
    "                            in hard_tasks else 'easy_task' for i in range(n)]\n",
    "        for i in df['label_task']:\n",
    "            if i == 'easy_task':  # uniform from .75 to 1\n",
    "                probs_tasks.append(np.random.choice(\n",
    "                    (np.arange(cut_tasks, 1, 0.01)), 1))\n",
    "            elif i == 'hard_task':  # uniform from .5 to .75\n",
    "                probs_tasks.append(np.random.choice(\n",
    "                    (np.arange(0.01, cut_tasks, 0.01)), 1))\n",
    "            else:\n",
    "                probs_tasks.append(1)\n",
    "\n",
    "        df['prob_task'] = [item for prob in probs_tasks for item in prob]\n",
    "        return df"
   ]
  },
  {
   "cell_type": "markdown",
   "metadata": {},
   "source": [
    "### Tasks Generation Module"
   ]
  },
  {
   "cell_type": "code",
   "execution_count": 3,
   "metadata": {},
   "outputs": [],
   "source": [
    "total_tasks = 415\n",
    "p_hard_tasks = 0.4\n",
    "number_of_valid_answers = 5"
   ]
  },
  {
   "cell_type": "code",
   "execution_count": 4,
   "metadata": {},
   "outputs": [
    {
     "data": {
      "text/html": [
       "<div>\n",
       "<style scoped>\n",
       "    .dataframe tbody tr th:only-of-type {\n",
       "        vertical-align: middle;\n",
       "    }\n",
       "\n",
       "    .dataframe tbody tr th {\n",
       "        vertical-align: top;\n",
       "    }\n",
       "\n",
       "    .dataframe thead th {\n",
       "        text-align: right;\n",
       "    }\n",
       "</style>\n",
       "<table border=\"1\" class=\"dataframe\">\n",
       "  <thead>\n",
       "    <tr style=\"text-align: right;\">\n",
       "      <th></th>\n",
       "      <th>task_id</th>\n",
       "      <th>true_answers</th>\n",
       "      <th>label_task</th>\n",
       "      <th>prob_task</th>\n",
       "    </tr>\n",
       "  </thead>\n",
       "  <tbody>\n",
       "    <tr>\n",
       "      <th>0</th>\n",
       "      <td>task_inwP9R4V7kDF</td>\n",
       "      <td>bone</td>\n",
       "      <td>easy_task</td>\n",
       "      <td>0.65</td>\n",
       "    </tr>\n",
       "    <tr>\n",
       "      <th>1</th>\n",
       "      <td>task_PJLBe6Uh553v</td>\n",
       "      <td>tolerance</td>\n",
       "      <td>easy_task</td>\n",
       "      <td>0.54</td>\n",
       "    </tr>\n",
       "    <tr>\n",
       "      <th>2</th>\n",
       "      <td>task_ZgDVtfBPZbJp</td>\n",
       "      <td>tolerance</td>\n",
       "      <td>hard_task</td>\n",
       "      <td>0.12</td>\n",
       "    </tr>\n",
       "    <tr>\n",
       "      <th>3</th>\n",
       "      <td>task_FpYgEJvrua8p</td>\n",
       "      <td>escape</td>\n",
       "      <td>hard_task</td>\n",
       "      <td>0.32</td>\n",
       "    </tr>\n",
       "    <tr>\n",
       "      <th>4</th>\n",
       "      <td>task_S8rS5QyutxcV</td>\n",
       "      <td>escape</td>\n",
       "      <td>easy_task</td>\n",
       "      <td>0.51</td>\n",
       "    </tr>\n",
       "  </tbody>\n",
       "</table>\n",
       "</div>"
      ],
      "text/plain": [
       "             task_id true_answers label_task  prob_task\n",
       "0  task_inwP9R4V7kDF         bone  easy_task       0.65\n",
       "1  task_PJLBe6Uh553v    tolerance  easy_task       0.54\n",
       "2  task_ZgDVtfBPZbJp    tolerance  hard_task       0.12\n",
       "3  task_FpYgEJvrua8p       escape  hard_task       0.32\n",
       "4  task_S8rS5QyutxcV       escape  easy_task       0.51"
      ]
     },
     "execution_count": 4,
     "metadata": {},
     "output_type": "execute_result"
    }
   ],
   "source": [
    "df_tasks = Tasks(number_of_valid_answers).create(total_tasks, p_hard_tasks)\n",
    "df_tasks.head()"
   ]
  },
  {
   "cell_type": "markdown",
   "metadata": {},
   "source": [
    "### Workers and Distribution Module"
   ]
  },
  {
   "cell_type": "code",
   "execution_count": 5,
   "metadata": {},
   "outputs": [],
   "source": [
    "import sys\n",
    "import pandas as pd\n",
    "import shortuuid as uid\n",
    "from scipy.stats import beta\n",
    "\n",
    "LEN = 12\n",
    "N = 10\n",
    "a = 28\n",
    "b = 3\n",
    "\n",
    "class Workers(object):\n",
    "    def __init__(self, alpha=a, beta=b, length=LEN):\n",
    "        \"\"\"\n",
    "        :param alpha: parameter alpha of a beta distribution (default value: 28)\n",
    "        :type alpha: float\n",
    "        :param beta: parameter beta of a beta distribution (default value: 3)\n",
    "        :type beta: float\n",
    "        :param length: number of workers to be created (default value:10)\n",
    "        :type length: type\n",
    "        \"\"\"\n",
    "        self.length = length\n",
    "        self.alpha = alpha\n",
    "        self.beta = beta\n",
    "\n",
    "    def create(self, n=N):\n",
    "        df = pd.DataFrame(\n",
    "            {'worker_id': [uid.ShortUUID().random(self.length) for i in range(n)],\n",
    "             'prob_worker': beta.rvs(self.alpha, self.beta, size=n)})\n",
    "        return df"
   ]
  },
  {
   "cell_type": "markdown",
   "metadata": {},
   "source": [
    "### Workers Generation"
   ]
  },
  {
   "cell_type": "code",
   "execution_count": 6,
   "metadata": {},
   "outputs": [],
   "source": [
    "total_workers = 40"
   ]
  },
  {
   "cell_type": "code",
   "execution_count": 7,
   "metadata": {},
   "outputs": [
    {
     "data": {
      "text/html": [
       "<div>\n",
       "<style scoped>\n",
       "    .dataframe tbody tr th:only-of-type {\n",
       "        vertical-align: middle;\n",
       "    }\n",
       "\n",
       "    .dataframe tbody tr th {\n",
       "        vertical-align: top;\n",
       "    }\n",
       "\n",
       "    .dataframe thead th {\n",
       "        text-align: right;\n",
       "    }\n",
       "</style>\n",
       "<table border=\"1\" class=\"dataframe\">\n",
       "  <thead>\n",
       "    <tr style=\"text-align: right;\">\n",
       "      <th></th>\n",
       "      <th>prob_worker</th>\n",
       "      <th>worker_id</th>\n",
       "    </tr>\n",
       "  </thead>\n",
       "  <tbody>\n",
       "    <tr>\n",
       "      <th>0</th>\n",
       "      <td>0.966797</td>\n",
       "      <td>3PuDgo3tWPCr</td>\n",
       "    </tr>\n",
       "    <tr>\n",
       "      <th>1</th>\n",
       "      <td>0.883317</td>\n",
       "      <td>sFqmBvj8VeVM</td>\n",
       "    </tr>\n",
       "    <tr>\n",
       "      <th>2</th>\n",
       "      <td>0.841031</td>\n",
       "      <td>36xmwRSJRygj</td>\n",
       "    </tr>\n",
       "    <tr>\n",
       "      <th>3</th>\n",
       "      <td>0.942650</td>\n",
       "      <td>K5LwQw832H2j</td>\n",
       "    </tr>\n",
       "    <tr>\n",
       "      <th>4</th>\n",
       "      <td>0.955835</td>\n",
       "      <td>hXNWBukj2kf8</td>\n",
       "    </tr>\n",
       "  </tbody>\n",
       "</table>\n",
       "</div>"
      ],
      "text/plain": [
       "   prob_worker     worker_id\n",
       "0     0.966797  3PuDgo3tWPCr\n",
       "1     0.883317  sFqmBvj8VeVM\n",
       "2     0.841031  36xmwRSJRygj\n",
       "3     0.942650  K5LwQw832H2j\n",
       "4     0.955835  hXNWBukj2kf8"
      ]
     },
     "execution_count": 7,
     "metadata": {},
     "output_type": "execute_result"
    }
   ],
   "source": [
    "df_workers = Workers().create(total_workers)\n",
    "df_workers.head()"
   ]
  },
  {
   "cell_type": "markdown",
   "metadata": {},
   "source": [
    "---\n",
    "In this step, we first calculate the exact probabilities of getting the answer right for each worker and each task."
   ]
  },
  {
   "cell_type": "markdown",
   "metadata": {},
   "source": [
    "Since the ability is unknown before the task is undertaken, we use a beta distribution to model the distribution of worker ability. Its probability density function $f(x|a, v)$ is given by "
   ]
  },
  {
   "cell_type": "markdown",
   "metadata": {},
   "source": [
    "$$\n",
    "f(x|a,v) = Beta (\\frac{a}{\\min(a,1-a)v}, \\frac{(1-a)}{\\min(a,1-a)v})\n",
    "$$"
   ]
  },
  {
   "cell_type": "markdown",
   "metadata": {},
   "source": [
    "Here a ∈ (0, 1) is the normalized value of the average ability of the workers in the crowdsourcing platform.  \n",
    "v ∈ (0, 1) is a parameter that determines the variance in worker ability  \n",
    "[Paper](https://aaai.org/ocs/index.php/HCOMP/HCOMP16/paper/viewFile/14047/13632)  "
   ]
  },
  {
   "cell_type": "code",
   "execution_count": 8,
   "metadata": {},
   "outputs": [
    {
     "name": "stdout",
     "output_type": "stream",
     "text": [
      "Mean probability 0.9030286516758202\n"
     ]
    },
    {
     "data": {
      "image/png": "[encoded data removed]",
      "text/plain": [
       "<Figure size 432x288 with 1 Axes>"
      ]
     },
     "metadata": {},
     "output_type": "display_data"
    }
   ],
   "source": [
    "data_beta = beta.rvs(28, 3, size=10000)\n",
    "sns.distplot(data_beta, kde=False, bins=100)\n",
    "print('Mean probability {}'.format(np.mean(data_beta)))"
   ]
  },
  {
   "cell_type": "markdown",
   "metadata": {},
   "source": [
    "In general we have good workers, on average the 90% of chances to getting the answer right"
   ]
  },
  {
   "cell_type": "markdown",
   "metadata": {},
   "source": [
    "---"
   ]
  },
  {
   "cell_type": "markdown",
   "metadata": {},
   "source": [
    "#### Summary of aggregated probabilities"
   ]
  },
  {
   "cell_type": "code",
   "execution_count": 9,
   "metadata": {},
   "outputs": [
    {
     "data": {
      "text/html": [
       "<div>\n",
       "<style scoped>\n",
       "    .dataframe tbody tr th:only-of-type {\n",
       "        vertical-align: middle;\n",
       "    }\n",
       "\n",
       "    .dataframe tbody tr th {\n",
       "        vertical-align: top;\n",
       "    }\n",
       "\n",
       "    .dataframe thead tr th {\n",
       "        text-align: left;\n",
       "    }\n",
       "\n",
       "    .dataframe thead tr:last-of-type th {\n",
       "        text-align: right;\n",
       "    }\n",
       "</style>\n",
       "<table border=\"1\" class=\"dataframe\">\n",
       "  <thead>\n",
       "    <tr>\n",
       "      <th></th>\n",
       "      <th colspan=\"2\" halign=\"left\">prob_task</th>\n",
       "    </tr>\n",
       "    <tr>\n",
       "      <th></th>\n",
       "      <th>mean</th>\n",
       "      <th>count</th>\n",
       "    </tr>\n",
       "    <tr>\n",
       "      <th>label_task</th>\n",
       "      <th></th>\n",
       "      <th></th>\n",
       "    </tr>\n",
       "  </thead>\n",
       "  <tbody>\n",
       "    <tr>\n",
       "      <th>easy_task</th>\n",
       "      <td>0.733173</td>\n",
       "      <td>249</td>\n",
       "    </tr>\n",
       "    <tr>\n",
       "      <th>hard_task</th>\n",
       "      <td>0.251566</td>\n",
       "      <td>166</td>\n",
       "    </tr>\n",
       "  </tbody>\n",
       "</table>\n",
       "</div>"
      ],
      "text/plain": [
       "           prob_task      \n",
       "                mean count\n",
       "label_task                \n",
       "easy_task   0.733173   249\n",
       "hard_task   0.251566   166"
      ]
     },
     "execution_count": 9,
     "metadata": {},
     "output_type": "execute_result"
    }
   ],
   "source": [
    "df_tasks.groupby('label_task').agg(['mean','count'])"
   ]
  },
  {
   "cell_type": "code",
   "execution_count": 10,
   "metadata": {},
   "outputs": [
    {
     "data": {
      "text/html": [
       "<div>\n",
       "<style scoped>\n",
       "    .dataframe tbody tr th:only-of-type {\n",
       "        vertical-align: middle;\n",
       "    }\n",
       "\n",
       "    .dataframe tbody tr th {\n",
       "        vertical-align: top;\n",
       "    }\n",
       "\n",
       "    .dataframe thead th {\n",
       "        text-align: right;\n",
       "    }\n",
       "</style>\n",
       "<table border=\"1\" class=\"dataframe\">\n",
       "  <thead>\n",
       "    <tr style=\"text-align: right;\">\n",
       "      <th></th>\n",
       "      <th>prob_worker</th>\n",
       "    </tr>\n",
       "  </thead>\n",
       "  <tbody>\n",
       "    <tr>\n",
       "      <th>count</th>\n",
       "      <td>40.000000</td>\n",
       "    </tr>\n",
       "    <tr>\n",
       "      <th>mean</th>\n",
       "      <td>0.907075</td>\n",
       "    </tr>\n",
       "    <tr>\n",
       "      <th>std</th>\n",
       "      <td>0.049765</td>\n",
       "    </tr>\n",
       "    <tr>\n",
       "      <th>min</th>\n",
       "      <td>0.726705</td>\n",
       "    </tr>\n",
       "    <tr>\n",
       "      <th>25%</th>\n",
       "      <td>0.881331</td>\n",
       "    </tr>\n",
       "    <tr>\n",
       "      <th>50%</th>\n",
       "      <td>0.918096</td>\n",
       "    </tr>\n",
       "    <tr>\n",
       "      <th>75%</th>\n",
       "      <td>0.929196</td>\n",
       "    </tr>\n",
       "    <tr>\n",
       "      <th>max</th>\n",
       "      <td>0.990704</td>\n",
       "    </tr>\n",
       "  </tbody>\n",
       "</table>\n",
       "</div>"
      ],
      "text/plain": [
       "       prob_worker\n",
       "count    40.000000\n",
       "mean      0.907075\n",
       "std       0.049765\n",
       "min       0.726705\n",
       "25%       0.881331\n",
       "50%       0.918096\n",
       "75%       0.929196\n",
       "max       0.990704"
      ]
     },
     "execution_count": 10,
     "metadata": {},
     "output_type": "execute_result"
    }
   ],
   "source": [
    "df_workers.describe()"
   ]
  },
  {
   "cell_type": "markdown",
   "metadata": {},
   "source": [
    "--- "
   ]
  },
  {
   "cell_type": "markdown",
   "metadata": {},
   "source": [
    "### Creating a task-worker assignation"
   ]
  },
  {
   "cell_type": "markdown",
   "metadata": {},
   "source": [
    "this function has to eat btw the 2 df result from the previous functions"
   ]
  },
  {
   "cell_type": "code",
   "execution_count": 11,
   "metadata": {},
   "outputs": [],
   "source": [
    "import pandas as pd\n",
    "import numpy as np\n",
    "\n",
    "WPT = 3\n",
    "\n",
    "class AssignTasks(object):\n",
    "    def __init__(self, tasks, workers, wpt=WPT):\n",
    "        \"\"\"\n",
    "        :param tasks: table created usings Tasks().create() object\n",
    "        :type tasks: pandas dataframe\n",
    "        :param workers: table created using Workers().create object\n",
    "        :type workers: pandas dataframe\n",
    "        :param wpt: number of workers per task for the simulation\n",
    "        \"param type: integer\n",
    "        \"\"\"\n",
    "        self.wpt = wpt\n",
    "        self.tasks = tasks\n",
    "        self.workers = workers\n",
    "\n",
    "    def _worker_assign(self):\n",
    "        if self.wpt > len(self.workers):\n",
    "            raise Exception(\n",
    "                'Number of workers per task must be smaller than the number of workers!')\n",
    "        return [worker for i in [np.random.choice(self.workers.worker_id, self.wpt, replace=False) for task in self.tasks.task_id] for worker in i]\n",
    "\n",
    "    def _task_asssign(self):\n",
    "        if self.wpt % 2 == 0:\n",
    "            raise Exception('Number of workers per task must be odd!')\n",
    "        return [item for k in [[self.tasks.task_id[i]] * self.wpt for i in range(len(self.tasks.task_id))] for item in k]\n",
    "    \n",
    "    def create(self):\n",
    "        df = pd.DataFrame({'task_id': self._task_asssign(),\n",
    "                           'worker_id': self._worker_assign()})\n",
    "        df = pd.merge(df, self.tasks, on='task_id', how='left')\n",
    "        df = pd.merge(df, self.workers, on='worker_id', how='left')\n",
    "        return df"
   ]
  },
  {
   "cell_type": "code",
   "execution_count": 12,
   "metadata": {},
   "outputs": [],
   "source": [
    "wpt = 5 #workers per task always smaller than the number of workers"
   ]
  },
  {
   "cell_type": "code",
   "execution_count": 13,
   "metadata": {},
   "outputs": [
    {
     "data": {
      "text/html": [
       "<div>\n",
       "<style scoped>\n",
       "    .dataframe tbody tr th:only-of-type {\n",
       "        vertical-align: middle;\n",
       "    }\n",
       "\n",
       "    .dataframe tbody tr th {\n",
       "        vertical-align: top;\n",
       "    }\n",
       "\n",
       "    .dataframe thead th {\n",
       "        text-align: right;\n",
       "    }\n",
       "</style>\n",
       "<table border=\"1\" class=\"dataframe\">\n",
       "  <thead>\n",
       "    <tr style=\"text-align: right;\">\n",
       "      <th></th>\n",
       "      <th>task_id</th>\n",
       "      <th>worker_id</th>\n",
       "      <th>true_answers</th>\n",
       "      <th>label_task</th>\n",
       "      <th>prob_task</th>\n",
       "      <th>prob_worker</th>\n",
       "    </tr>\n",
       "  </thead>\n",
       "  <tbody>\n",
       "    <tr>\n",
       "      <th>0</th>\n",
       "      <td>task_inwP9R4V7kDF</td>\n",
       "      <td>3PuDgo3tWPCr</td>\n",
       "      <td>bone</td>\n",
       "      <td>easy_task</td>\n",
       "      <td>0.65</td>\n",
       "      <td>0.966797</td>\n",
       "    </tr>\n",
       "    <tr>\n",
       "      <th>1</th>\n",
       "      <td>task_inwP9R4V7kDF</td>\n",
       "      <td>CyCJGyKGW7fW</td>\n",
       "      <td>bone</td>\n",
       "      <td>easy_task</td>\n",
       "      <td>0.65</td>\n",
       "      <td>0.917800</td>\n",
       "    </tr>\n",
       "    <tr>\n",
       "      <th>2</th>\n",
       "      <td>task_inwP9R4V7kDF</td>\n",
       "      <td>62bPoXjSyrWz</td>\n",
       "      <td>bone</td>\n",
       "      <td>easy_task</td>\n",
       "      <td>0.65</td>\n",
       "      <td>0.918934</td>\n",
       "    </tr>\n",
       "    <tr>\n",
       "      <th>3</th>\n",
       "      <td>task_inwP9R4V7kDF</td>\n",
       "      <td>ST5V6kjFeN62</td>\n",
       "      <td>bone</td>\n",
       "      <td>easy_task</td>\n",
       "      <td>0.65</td>\n",
       "      <td>0.924603</td>\n",
       "    </tr>\n",
       "    <tr>\n",
       "      <th>4</th>\n",
       "      <td>task_inwP9R4V7kDF</td>\n",
       "      <td>dXLXmXbHkp8o</td>\n",
       "      <td>bone</td>\n",
       "      <td>easy_task</td>\n",
       "      <td>0.65</td>\n",
       "      <td>0.919728</td>\n",
       "    </tr>\n",
       "  </tbody>\n",
       "</table>\n",
       "</div>"
      ],
      "text/plain": [
       "             task_id     worker_id true_answers label_task  prob_task  \\\n",
       "0  task_inwP9R4V7kDF  3PuDgo3tWPCr         bone  easy_task       0.65   \n",
       "1  task_inwP9R4V7kDF  CyCJGyKGW7fW         bone  easy_task       0.65   \n",
       "2  task_inwP9R4V7kDF  62bPoXjSyrWz         bone  easy_task       0.65   \n",
       "3  task_inwP9R4V7kDF  ST5V6kjFeN62         bone  easy_task       0.65   \n",
       "4  task_inwP9R4V7kDF  dXLXmXbHkp8o         bone  easy_task       0.65   \n",
       "\n",
       "   prob_worker  \n",
       "0     0.966797  \n",
       "1     0.917800  \n",
       "2     0.918934  \n",
       "3     0.924603  \n",
       "4     0.919728  "
      ]
     },
     "execution_count": 13,
     "metadata": {},
     "output_type": "execute_result"
    }
   ],
   "source": [
    "df_tw = AssignTasks(df_tasks, df_workers, wpt).create()\n",
    "df_tw.head()"
   ]
  },
  {
   "cell_type": "code",
   "execution_count": 14,
   "metadata": {},
   "outputs": [],
   "source": [
    "#aggregation of the tasks\n",
    "_agg = df_tw.groupby('worker_id').agg('count')['task_id']\n",
    "_agg.name = 'tasks'"
   ]
  },
  {
   "cell_type": "code",
   "execution_count": 15,
   "metadata": {},
   "outputs": [
    {
     "data": {
      "text/plain": [
       "worker_id\n",
       "Yg62M8TgF48V    67\n",
       "oD75xR4huEbK    65\n",
       "36xmwRSJRygj    65\n",
       "sFqmBvj8VeVM    62\n",
       "DZqBhu8AbEc7    61\n",
       "Name: tasks, dtype: int64"
      ]
     },
     "execution_count": 15,
     "metadata": {},
     "output_type": "execute_result"
    }
   ],
   "source": [
    "_agg.sort_values(ascending=False).head()"
   ]
  },
  {
   "cell_type": "markdown",
   "metadata": {},
   "source": [
    "---\n",
    "### Probabilities of getting the answer right"
   ]
  },
  {
   "cell_type": "markdown",
   "metadata": {},
   "source": [
    "w = worker answer correct  \n",
    "T = Having knowledge to do the task\n",
    "\n",
    "\n",
    "$$\n",
    "P(w~|~T) = \\frac{P(T~|~w) P(w)}{P(T~|~w) P(w) + P(T~|~w^c) P(w^c)}\n",
    "$$\n",
    "\n",
    "[Bayes for conditional probability example](http://www.stat.yale.edu/Courses/1997-98/101/condprob.htm)"
   ]
  },
  {
   "cell_type": "markdown",
   "metadata": {},
   "source": [
    "Class propuse:  \n",
    "Based on two vectors (pandas series same lenght) of probabilities create a conditional probability  \n",
    "one vector for person, another for activity in this case workers and tasks\n",
    "This new conditional prob is the prior probability for a Bernoulli likelihood  \n",
    "Then the predicion will tell if the answer was right or not  "
   ]
  },
  {
   "cell_type": "markdown",
   "metadata": {},
   "source": [
    "The Bernoulli is the posterior function to modelate the action"
   ]
  },
  {
   "cell_type": "code",
   "execution_count": 16,
   "metadata": {},
   "outputs": [],
   "source": [
    "keys = df_tasks['true_answers'].unique()"
   ]
  },
  {
   "cell_type": "code",
   "execution_count": 17,
   "metadata": {},
   "outputs": [
    {
     "data": {
      "text/plain": [
       "array(['bone', 'tolerance', 'escape', 'nod', 'accessories'], dtype=object)"
      ]
     },
     "execution_count": 17,
     "metadata": {},
     "output_type": "execute_result"
    }
   ],
   "source": [
    "keys"
   ]
  },
  {
   "cell_type": "code",
   "execution_count": 18,
   "metadata": {},
   "outputs": [],
   "source": [
    "import pandas as pd\n",
    "from scipy.stats import bernoulli\n",
    "\n",
    "class ComputeProbability(object):\n",
    "    def __init__(self, series1, series2, keys, size=1):\n",
    "        self.size = size\n",
    "        self.series1 = series1\n",
    "        self.series2 = series2\n",
    "        self.keys = keys\n",
    "        \n",
    "    def _random_selection(self):\n",
    "        return 1/len(self.keys)\n",
    "    \n",
    "    def _bayes_prob(self):\n",
    "        if len(self.series1) != len(self.series2):\n",
    "            raise Exception(\"Probability series expected to be the same size\")\n",
    "        return (self.series1 * self.series2) / (self.series1 * self.series2 + self._random_selection() * (1 - self.series2))\n",
    "    \n",
    "    def predict(self):\n",
    "        return self._bayes_prob().apply(lambda prob: bernoulli.rvs(size=self.size, p=prob)[0])"
   ]
  },
  {
   "cell_type": "code",
   "execution_count": 19,
   "metadata": {},
   "outputs": [],
   "source": [
    "cp = ComputeProbability(df_tw['prob_task'], df_tw['prob_worker'], keys)"
   ]
  },
  {
   "cell_type": "code",
   "execution_count": 20,
   "metadata": {},
   "outputs": [],
   "source": [
    "import numpy as np\n",
    "\n",
    "class WorkerAnswer(object):\n",
    "    def __init__(self, series1, series2, keys):\n",
    "        \"\"\"\n",
    "        series1 = vector of true answers\n",
    "        series2 = vector of 1 and 0\n",
    "        key = vector of odd number of strings\n",
    "        \"\"\"\n",
    "        self.series1 = series1\n",
    "        self.series2 = series2\n",
    "        self.keys = keys\n",
    "    \n",
    "    def match(self):\n",
    "        answers = []\n",
    "        for idx, i in enumerate(self.series2):\n",
    "            if i == 1:\n",
    "                answers.append(self.series1.loc[idx])\n",
    "            else:\n",
    "                answers.append(np.random.choice([i for i in set(self.keys)-set(self.series1.loc[idx])], 1)[0])\n",
    "\n",
    "        return answers "
   ]
  },
  {
   "cell_type": "code",
   "execution_count": 21,
   "metadata": {},
   "outputs": [],
   "source": [
    "worker_answer = WorkerAnswer(df_tw['true_answers'], cp.predict(), keys)"
   ]
  },
  {
   "cell_type": "code",
   "execution_count": 22,
   "metadata": {},
   "outputs": [],
   "source": [
    "df_tw['worker_answers'] = worker_answer.match()"
   ]
  },
  {
   "cell_type": "code",
   "execution_count": 23,
   "metadata": {},
   "outputs": [
    {
     "data": {
      "text/html": [
       "<div>\n",
       "<style scoped>\n",
       "    .dataframe tbody tr th:only-of-type {\n",
       "        vertical-align: middle;\n",
       "    }\n",
       "\n",
       "    .dataframe tbody tr th {\n",
       "        vertical-align: top;\n",
       "    }\n",
       "\n",
       "    .dataframe thead th {\n",
       "        text-align: right;\n",
       "    }\n",
       "</style>\n",
       "<table border=\"1\" class=\"dataframe\">\n",
       "  <thead>\n",
       "    <tr style=\"text-align: right;\">\n",
       "      <th></th>\n",
       "      <th>task_id</th>\n",
       "      <th>worker_id</th>\n",
       "      <th>true_answers</th>\n",
       "      <th>label_task</th>\n",
       "      <th>prob_task</th>\n",
       "      <th>prob_worker</th>\n",
       "      <th>worker_answers</th>\n",
       "    </tr>\n",
       "  </thead>\n",
       "  <tbody>\n",
       "    <tr>\n",
       "      <th>0</th>\n",
       "      <td>task_inwP9R4V7kDF</td>\n",
       "      <td>3PuDgo3tWPCr</td>\n",
       "      <td>bone</td>\n",
       "      <td>easy_task</td>\n",
       "      <td>0.65</td>\n",
       "      <td>0.966797</td>\n",
       "      <td>bone</td>\n",
       "    </tr>\n",
       "    <tr>\n",
       "      <th>1</th>\n",
       "      <td>task_inwP9R4V7kDF</td>\n",
       "      <td>CyCJGyKGW7fW</td>\n",
       "      <td>bone</td>\n",
       "      <td>easy_task</td>\n",
       "      <td>0.65</td>\n",
       "      <td>0.917800</td>\n",
       "      <td>bone</td>\n",
       "    </tr>\n",
       "    <tr>\n",
       "      <th>2</th>\n",
       "      <td>task_inwP9R4V7kDF</td>\n",
       "      <td>62bPoXjSyrWz</td>\n",
       "      <td>bone</td>\n",
       "      <td>easy_task</td>\n",
       "      <td>0.65</td>\n",
       "      <td>0.918934</td>\n",
       "      <td>bone</td>\n",
       "    </tr>\n",
       "    <tr>\n",
       "      <th>3</th>\n",
       "      <td>task_inwP9R4V7kDF</td>\n",
       "      <td>ST5V6kjFeN62</td>\n",
       "      <td>bone</td>\n",
       "      <td>easy_task</td>\n",
       "      <td>0.65</td>\n",
       "      <td>0.924603</td>\n",
       "      <td>bone</td>\n",
       "    </tr>\n",
       "    <tr>\n",
       "      <th>4</th>\n",
       "      <td>task_inwP9R4V7kDF</td>\n",
       "      <td>dXLXmXbHkp8o</td>\n",
       "      <td>bone</td>\n",
       "      <td>easy_task</td>\n",
       "      <td>0.65</td>\n",
       "      <td>0.919728</td>\n",
       "      <td>bone</td>\n",
       "    </tr>\n",
       "  </tbody>\n",
       "</table>\n",
       "</div>"
      ],
      "text/plain": [
       "             task_id     worker_id true_answers label_task  prob_task  \\\n",
       "0  task_inwP9R4V7kDF  3PuDgo3tWPCr         bone  easy_task       0.65   \n",
       "1  task_inwP9R4V7kDF  CyCJGyKGW7fW         bone  easy_task       0.65   \n",
       "2  task_inwP9R4V7kDF  62bPoXjSyrWz         bone  easy_task       0.65   \n",
       "3  task_inwP9R4V7kDF  ST5V6kjFeN62         bone  easy_task       0.65   \n",
       "4  task_inwP9R4V7kDF  dXLXmXbHkp8o         bone  easy_task       0.65   \n",
       "\n",
       "   prob_worker worker_answers  \n",
       "0     0.966797           bone  \n",
       "1     0.917800           bone  \n",
       "2     0.918934           bone  \n",
       "3     0.924603           bone  \n",
       "4     0.919728           bone  "
      ]
     },
     "execution_count": 23,
     "metadata": {},
     "output_type": "execute_result"
    }
   ],
   "source": [
    "df_tw.head()"
   ]
  },
  {
   "cell_type": "markdown",
   "metadata": {},
   "source": [
    "---\n",
    "### Confusion Matrix for the answers\n",
    "\n",
    "Based on [pycm](https://github.com/sepandhaghighi/pycm) analysis"
   ]
  },
  {
   "cell_type": "code",
   "execution_count": 24,
   "metadata": {},
   "outputs": [],
   "source": [
    "from pycm import *"
   ]
  },
  {
   "cell_type": "code",
   "execution_count": 25,
   "metadata": {},
   "outputs": [],
   "source": [
    "cm = ConfusionMatrix(df_tw['true_answers'].tolist(), df_tw['worker_answers'].tolist())"
   ]
  },
  {
   "cell_type": "code",
   "execution_count": 26,
   "metadata": {},
   "outputs": [
    {
     "name": "stdout",
     "output_type": "stream",
     "text": [
      "Predict          accessoriesbone     escape   nod      tolerance\n",
      "Actual\n",
      "accessories      331      6        4        8        6        \n",
      "bone             11       418      6        13       12       \n",
      "escape           5        7        379      8        6        \n",
      "nod              4        8        4        410      4        \n",
      "tolerance        8        4        6        2        405      \n",
      "\n"
     ]
    }
   ],
   "source": [
    "cm.matrix()"
   ]
  },
  {
   "cell_type": "code",
   "execution_count": 27,
   "metadata": {},
   "outputs": [
    {
     "data": {
      "text/plain": [
       "0.9363855421686746"
      ]
     },
     "execution_count": 27,
     "metadata": {},
     "output_type": "execute_result"
    }
   ],
   "source": [
    "cm.Overall_ACC"
   ]
  },
  {
   "cell_type": "code",
   "execution_count": 28,
   "metadata": {},
   "outputs": [
    {
     "data": {
      "text/plain": [
       "2.3171822766584524"
      ]
     },
     "execution_count": 28,
     "metadata": {},
     "output_type": "execute_result"
    }
   ],
   "source": [
    "cm.CrossEntropy"
   ]
  },
  {
   "cell_type": "code",
   "execution_count": 29,
   "metadata": {},
   "outputs": [
    {
     "data": {
      "text/plain": [
       "{'accessories': 0.9749397590361446,\n",
       " 'bone': 0.967710843373494,\n",
       " 'escape': 0.9778313253012049,\n",
       " 'nod': 0.9754216867469879,\n",
       " 'tolerance': 0.9768674698795181}"
      ]
     },
     "execution_count": 29,
     "metadata": {},
     "output_type": "execute_result"
    }
   ],
   "source": [
    "cm.ACC"
   ]
  },
  {
   "cell_type": "code",
   "execution_count": 30,
   "metadata": {},
   "outputs": [
    {
     "data": {
      "text/plain": [
       "{'accessories': 0.016279069767441867,\n",
       " 'bone': 0.015479876160990669,\n",
       " 'escape': 0.0119760479041916,\n",
       " 'nod': 0.018844984802431575,\n",
       " 'tolerance': 0.016969696969696968}"
      ]
     },
     "execution_count": 30,
     "metadata": {},
     "output_type": "execute_result"
    }
   ],
   "source": [
    "cm.FPR #False positive rate (FPR), Fall-out, probability of false alarm "
   ]
  },
  {
   "cell_type": "code",
   "execution_count": 31,
   "metadata": {},
   "outputs": [
    {
     "data": {
      "text/plain": [
       "{'accessories': 0.9323943661971831,\n",
       " 'bone': 0.908695652173913,\n",
       " 'escape': 0.9358024691358025,\n",
       " 'nod': 0.9534883720930233,\n",
       " 'tolerance': 0.9529411764705882}"
      ]
     },
     "execution_count": 31,
     "metadata": {},
     "output_type": "execute_result"
    }
   ],
   "source": [
    "cm.TPR #True positive rate (TPR), Recall, Sensitivity, probability of detection "
   ]
  },
  {
   "cell_type": "code",
   "execution_count": 32,
   "metadata": {},
   "outputs": [
    {
     "data": {
      "text/plain": [
       "0.9366644072141019"
      ]
     },
     "execution_count": 32,
     "metadata": {},
     "output_type": "execute_result"
    }
   ],
   "source": [
    "np.mean([i for i in cm.TPR.values()])"
   ]
  },
  {
   "cell_type": "code",
   "execution_count": 33,
   "metadata": {},
   "outputs": [
    {
     "data": {
      "text/plain": [
       "{'accessories': 0.9837209302325581,\n",
       " 'bone': 0.9845201238390093,\n",
       " 'escape': 0.9880239520958084,\n",
       " 'nod': 0.9811550151975684,\n",
       " 'tolerance': 0.983030303030303}"
      ]
     },
     "execution_count": 33,
     "metadata": {},
     "output_type": "execute_result"
    }
   ],
   "source": [
    "cm.TNR #Specificity (SPC), Selectivity, True negative rate (TNR) "
   ]
  },
  {
   "cell_type": "code",
   "execution_count": 34,
   "metadata": {},
   "outputs": [
    {
     "data": {
      "text/plain": [
       "{'accessories': 0.9220055710306406,\n",
       " 'bone': 0.9435665914221218,\n",
       " 'escape': 0.949874686716792,\n",
       " 'nod': 0.9297052154195011,\n",
       " 'tolerance': 0.9353348729792148}"
      ]
     },
     "execution_count": 34,
     "metadata": {},
     "output_type": "execute_result"
    }
   ],
   "source": [
    "cm.PPV #PPV(Precision or positive predictive value)   "
   ]
  },
  {
   "cell_type": "code",
   "execution_count": 35,
   "metadata": {},
   "outputs": [
    {
     "data": {
      "text/plain": [
       "0.936097387513654"
      ]
     },
     "execution_count": 35,
     "metadata": {},
     "output_type": "execute_result"
    }
   ],
   "source": [
    "np.mean([i for i in cm.PPV.values()])"
   ]
  },
  {
   "cell_type": "code",
   "execution_count": 36,
   "metadata": {},
   "outputs": [
    {
     "data": {
      "text/plain": [
       "{'accessories': 0.013986013986013957,\n",
       " 'bone': 0.02573529411764708,\n",
       " 'escape': 0.015513126491646823,\n",
       " 'nod': 0.012239902080783405,\n",
       " 'tolerance': 0.01218026796589522}"
      ]
     },
     "execution_count": 36,
     "metadata": {},
     "output_type": "execute_result"
    }
   ],
   "source": [
    "cm.FOR"
   ]
  },
  {
   "cell_type": "code",
   "execution_count": 37,
   "metadata": {},
   "outputs": [
    {
     "data": {
      "text/plain": [
       "{'accessories': 0.927170868347339,\n",
       " 'bone': 0.9258028792912514,\n",
       " 'escape': 0.9427860696517413,\n",
       " 'nod': 0.9414466130884042,\n",
       " 'tolerance': 0.9440559440559441}"
      ]
     },
     "execution_count": 37,
     "metadata": {},
     "output_type": "execute_result"
    }
   ],
   "source": [
    "cm.F1"
   ]
  },
  {
   "cell_type": "code",
   "execution_count": 38,
   "metadata": {},
   "outputs": [
    {
     "data": {
      "text/plain": [
       "0.936252474886936"
      ]
     },
     "execution_count": 38,
     "metadata": {},
     "output_type": "execute_result"
    }
   ],
   "source": [
    "sum([i for i in cm.F1.values()])/len([i for i in cm.F1.values()])"
   ]
  },
  {
   "cell_type": "markdown",
   "metadata": {},
   "source": [
    "Comparing with Turicreate library"
   ]
  },
  {
   "cell_type": "code",
   "execution_count": 39,
   "metadata": {},
   "outputs": [],
   "source": [
    "import turicreate as tc\n",
    "sf_tw = tc.SFrame(data=df_tw)\n",
    "conf_matrix = tc.evaluation.confusion_matrix(sf_tw['true_answers'], sf_tw['worker_answers'])"
   ]
  },
  {
   "cell_type": "code",
   "execution_count": 40,
   "metadata": {},
   "outputs": [
    {
     "name": "stdout",
     "output_type": "stream",
     "text": [
      "+--------------+-----------------+-------+\n",
      "| target_label | predicted_label | count |\n",
      "+--------------+-----------------+-------+\n",
      "|  tolerance   |       bone      |   4   |\n",
      "|     nod      |    tolerance    |   4   |\n",
      "|     bone     |       nod       |   13  |\n",
      "|     bone     |       bone      |  418  |\n",
      "| accessories  |      escape     |   4   |\n",
      "|     nod      |   accessories   |   4   |\n",
      "|    escape    |    tolerance    |   6   |\n",
      "|    escape    |   accessories   |   5   |\n",
      "|     bone     |    tolerance    |   12  |\n",
      "|     nod      |       bone      |   8   |\n",
      "| accessories  |    tolerance    |   6   |\n",
      "| accessories  |   accessories   |  331  |\n",
      "|     nod      |       nod       |  410  |\n",
      "|  tolerance   |   accessories   |   8   |\n",
      "|  tolerance   |      escape     |   6   |\n",
      "| accessories  |       bone      |   6   |\n",
      "|     bone     |   accessories   |   11  |\n",
      "|  tolerance   |    tolerance    |  405  |\n",
      "|    escape    |       bone      |   7   |\n",
      "| accessories  |       nod       |   8   |\n",
      "|     bone     |      escape     |   6   |\n",
      "|  tolerance   |       nod       |   2   |\n",
      "|    escape    |      escape     |  379  |\n",
      "|    escape    |       nod       |   8   |\n",
      "|     nod      |      escape     |   4   |\n",
      "+--------------+-----------------+-------+\n",
      "[25 rows x 3 columns]\n",
      "\n"
     ]
    }
   ],
   "source": [
    "conf_matrix.print_rows(25,)"
   ]
  },
  {
   "cell_type": "code",
   "execution_count": 41,
   "metadata": {},
   "outputs": [],
   "source": [
    "accuracy = conf_matrix[conf_matrix['target_label'] == conf_matrix['predicted_label']]['count'].sum() / conf_matrix['count'].sum()"
   ]
  },
  {
   "cell_type": "code",
   "execution_count": 42,
   "metadata": {},
   "outputs": [
    {
     "name": "stdout",
     "output_type": "stream",
     "text": [
      "0.9363855421686746\n"
     ]
    }
   ],
   "source": [
    "print(accuracy)"
   ]
  },
  {
   "cell_type": "markdown",
   "metadata": {},
   "source": [
    "---\n",
    "### Measuring Performance and split the good workers from the rest"
   ]
  },
  {
   "cell_type": "markdown",
   "metadata": {},
   "source": [
    "Next we measure the performance of the worker. The performance is calculate as the number of times a worker answers right (in comparison with the true answer) over the total number of workers per task.  \n",
    "\n",
    "The range of the performance value spans from 0 to 1. The values close to 1 indicate that the majority of the workers had consensus. The values close to 0 indicate that there was no consensus."
   ]
  },
  {
   "cell_type": "code",
   "execution_count": 43,
   "metadata": {},
   "outputs": [],
   "source": [
    "df_tw['performance'] = cp.predict()"
   ]
  },
  {
   "cell_type": "code",
   "execution_count": 44,
   "metadata": {},
   "outputs": [],
   "source": [
    "import pandas as pd\n",
    "\n",
    "IDX = 'worker_id'\n",
    "\n",
    "class Performance(object):\n",
    "    def __init__ (self, df_tw):\n",
    "        \"\"\"\n",
    "        :df_tw: dataframe of assigned tasks to workers\n",
    "        \"\"\"\n",
    "        self.df_tw = df_tw\n",
    "        \n",
    "    def _agg(self):\n",
    "        df = self.df_tw.groupby(IDX).agg('count')['task_id']\n",
    "        df.index.name = 'tasks'\n",
    "        return df\n",
    "    \n",
    "    def _workers(self):\n",
    "        df = self.df_tw.groupby(self.df_tw[IDX]).mean().sort_values('performance', ascending=False)\n",
    "        df['worker_ability'] = ['good_worker' if i >= df['performance'].mean() else 'poor_worker' for i in df['performance']]\n",
    "        return df.reset_index().join(self._agg(), on=IDX, how='left')\n",
    "    \n",
    "    def good_workers(self):\n",
    "        _good = self._workers()[(self._workers()['worker_ability'] == 'good_worker') & ((self._workers()['prob_task'] < self._workers()['prob_task'].median()))]\n",
    "        return [i for i in _good[IDX]]"
   ]
  },
  {
   "cell_type": "code",
   "execution_count": 45,
   "metadata": {},
   "outputs": [],
   "source": [
    "perf = Performance(df_tw)"
   ]
  },
  {
   "cell_type": "code",
   "execution_count": 46,
   "metadata": {},
   "outputs": [
    {
     "data": {
      "text/html": [
       "<div>\n",
       "<style scoped>\n",
       "    .dataframe tbody tr th:only-of-type {\n",
       "        vertical-align: middle;\n",
       "    }\n",
       "\n",
       "    .dataframe tbody tr th {\n",
       "        vertical-align: top;\n",
       "    }\n",
       "\n",
       "    .dataframe thead th {\n",
       "        text-align: right;\n",
       "    }\n",
       "</style>\n",
       "<table border=\"1\" class=\"dataframe\">\n",
       "  <thead>\n",
       "    <tr style=\"text-align: right;\">\n",
       "      <th></th>\n",
       "      <th>prob_worker</th>\n",
       "      <th>worker_id</th>\n",
       "    </tr>\n",
       "    <tr>\n",
       "      <th>worker_id</th>\n",
       "      <th></th>\n",
       "      <th></th>\n",
       "    </tr>\n",
       "  </thead>\n",
       "  <tbody>\n",
       "    <tr>\n",
       "      <th>afn7fBY4sVsG</th>\n",
       "      <td>0.911089</td>\n",
       "      <td>afn7fBY4sVsG</td>\n",
       "    </tr>\n",
       "    <tr>\n",
       "      <th>YietCCwq2jym</th>\n",
       "      <td>0.986177</td>\n",
       "      <td>YietCCwq2jym</td>\n",
       "    </tr>\n",
       "    <tr>\n",
       "      <th>oFv9CSP5QEA3</th>\n",
       "      <td>0.974996</td>\n",
       "      <td>oFv9CSP5QEA3</td>\n",
       "    </tr>\n",
       "    <tr>\n",
       "      <th>KLFXtxccZ5Li</th>\n",
       "      <td>0.990704</td>\n",
       "      <td>KLFXtxccZ5Li</td>\n",
       "    </tr>\n",
       "    <tr>\n",
       "      <th>eEdKczc25mB7</th>\n",
       "      <td>0.961179</td>\n",
       "      <td>eEdKczc25mB7</td>\n",
       "    </tr>\n",
       "    <tr>\n",
       "      <th>oD75xR4huEbK</th>\n",
       "      <td>0.931137</td>\n",
       "      <td>oD75xR4huEbK</td>\n",
       "    </tr>\n",
       "    <tr>\n",
       "      <th>ioHfdmLSfBVc</th>\n",
       "      <td>0.873090</td>\n",
       "      <td>ioHfdmLSfBVc</td>\n",
       "    </tr>\n",
       "    <tr>\n",
       "      <th>J269knZaEMme</th>\n",
       "      <td>0.881275</td>\n",
       "      <td>J269knZaEMme</td>\n",
       "    </tr>\n",
       "    <tr>\n",
       "      <th>2DJEKhYHUChU</th>\n",
       "      <td>0.922159</td>\n",
       "      <td>2DJEKhYHUChU</td>\n",
       "    </tr>\n",
       "    <tr>\n",
       "      <th>K5LwQw832H2j</th>\n",
       "      <td>0.942650</td>\n",
       "      <td>K5LwQw832H2j</td>\n",
       "    </tr>\n",
       "    <tr>\n",
       "      <th>QYWNGdACYN5g</th>\n",
       "      <td>0.865835</td>\n",
       "      <td>QYWNGdACYN5g</td>\n",
       "    </tr>\n",
       "    <tr>\n",
       "      <th>ST5V6kjFeN62</th>\n",
       "      <td>0.924603</td>\n",
       "      <td>ST5V6kjFeN62</td>\n",
       "    </tr>\n",
       "    <tr>\n",
       "      <th>gBx5hjfDNE8k</th>\n",
       "      <td>0.915213</td>\n",
       "      <td>gBx5hjfDNE8k</td>\n",
       "    </tr>\n",
       "    <tr>\n",
       "      <th>pd9nTXjbPG77</th>\n",
       "      <td>0.878658</td>\n",
       "      <td>pd9nTXjbPG77</td>\n",
       "    </tr>\n",
       "  </tbody>\n",
       "</table>\n",
       "</div>"
      ],
      "text/plain": [
       "              prob_worker     worker_id\n",
       "worker_id                              \n",
       "afn7fBY4sVsG     0.911089  afn7fBY4sVsG\n",
       "YietCCwq2jym     0.986177  YietCCwq2jym\n",
       "oFv9CSP5QEA3     0.974996  oFv9CSP5QEA3\n",
       "KLFXtxccZ5Li     0.990704  KLFXtxccZ5Li\n",
       "eEdKczc25mB7     0.961179  eEdKczc25mB7\n",
       "oD75xR4huEbK     0.931137  oD75xR4huEbK\n",
       "ioHfdmLSfBVc     0.873090  ioHfdmLSfBVc\n",
       "J269knZaEMme     0.881275  J269knZaEMme\n",
       "2DJEKhYHUChU     0.922159  2DJEKhYHUChU\n",
       "K5LwQw832H2j     0.942650  K5LwQw832H2j\n",
       "QYWNGdACYN5g     0.865835  QYWNGdACYN5g\n",
       "ST5V6kjFeN62     0.924603  ST5V6kjFeN62\n",
       "gBx5hjfDNE8k     0.915213  gBx5hjfDNE8k\n",
       "pd9nTXjbPG77     0.878658  pd9nTXjbPG77"
      ]
     },
     "execution_count": 46,
     "metadata": {},
     "output_type": "execute_result"
    }
   ],
   "source": [
    "df_workers.index = df_workers['worker_id']\n",
    "df_workers.loc[perf.good_workers()]"
   ]
  },
  {
   "cell_type": "code",
   "execution_count": 47,
   "metadata": {
    "scrolled": true
   },
   "outputs": [
    {
     "name": "stdout",
     "output_type": "stream",
     "text": [
      "Prediction Correct 1907 of 2075\n"
     ]
    },
    {
     "data": {
      "image/png": "[encoded data removed]",
      "text/plain": [
       "<Figure size 1296x288 with 1 Axes>"
      ]
     },
     "metadata": {},
     "output_type": "display_data"
    }
   ],
   "source": [
    "#Distribution performance\n",
    "plt.figure(figsize=[18, 4])\n",
    "sns.distplot(df_tw['performance'], kde=False, vertical=True, color=\"red\")\n",
    "print('Prediction Correct {} of {}'.format(df_tw['performance'].sum(), df_tw['performance'].count()))"
   ]
  },
  {
   "cell_type": "code",
   "execution_count": 48,
   "metadata": {
    "scrolled": false
   },
   "outputs": [
    {
     "data": {
      "text/plain": [
       "<matplotlib.axes._subplots.AxesSubplot at 0x1172a7d30>"
      ]
     },
     "execution_count": 48,
     "metadata": {},
     "output_type": "execute_result"
    },
    {
     "data": {
      "image/png": "[encoded data removed]",
      "text/plain": [
       "<Figure size 720x720 with 1 Axes>"
      ]
     },
     "metadata": {},
     "output_type": "display_data"
    }
   ],
   "source": [
    "plt.figure(figsize=[10, 10])\n",
    "sns.kdeplot(perf._workers()['performance'], perf._workers()['prob_worker'], cmap=\"Blues\", shade=True, shade_lowest=False)"
   ]
  },
  {
   "cell_type": "code",
   "execution_count": 49,
   "metadata": {},
   "outputs": [
    {
     "data": {
      "image/png": "[encoded data removed]",
      "text/plain": [
       "<Figure size 1296x288 with 1 Axes>"
      ]
     },
     "metadata": {},
     "output_type": "display_data"
    }
   ],
   "source": [
    "plt.figure(figsize=[18, 4])\n",
    "axis = range(len(perf._workers()))\n",
    "plt.bar(axis, perf._workers()['performance'], align='center', alpha=0.8, color='blue', label='Probability of Answer correct')\n",
    "plt.xticks(axis, perf._workers()['worker_id'], rotation=90)\n",
    "plt.title('Workers Performance')\n",
    "plt.legend(loc='best')\n",
    "plt.show()"
   ]
  },
  {
   "cell_type": "code",
   "execution_count": 50,
   "metadata": {},
   "outputs": [
    {
     "data": {
      "text/html": [
       "<div>\n",
       "<style scoped>\n",
       "    .dataframe tbody tr th:only-of-type {\n",
       "        vertical-align: middle;\n",
       "    }\n",
       "\n",
       "    .dataframe tbody tr th {\n",
       "        vertical-align: top;\n",
       "    }\n",
       "\n",
       "    .dataframe thead th {\n",
       "        text-align: right;\n",
       "    }\n",
       "</style>\n",
       "<table border=\"1\" class=\"dataframe\">\n",
       "  <thead>\n",
       "    <tr style=\"text-align: right;\">\n",
       "      <th></th>\n",
       "      <th>prob_task</th>\n",
       "      <th>prob_worker</th>\n",
       "      <th>performance</th>\n",
       "      <th>task_id</th>\n",
       "    </tr>\n",
       "  </thead>\n",
       "  <tbody>\n",
       "    <tr>\n",
       "      <th>count</th>\n",
       "      <td>40.000000</td>\n",
       "      <td>40.000000</td>\n",
       "      <td>40.000000</td>\n",
       "      <td>40.00000</td>\n",
       "    </tr>\n",
       "    <tr>\n",
       "      <th>mean</th>\n",
       "      <td>0.538913</td>\n",
       "      <td>0.907075</td>\n",
       "      <td>0.920573</td>\n",
       "      <td>51.87500</td>\n",
       "    </tr>\n",
       "    <tr>\n",
       "      <th>std</th>\n",
       "      <td>0.035356</td>\n",
       "      <td>0.049765</td>\n",
       "      <td>0.053490</td>\n",
       "      <td>7.61977</td>\n",
       "    </tr>\n",
       "    <tr>\n",
       "      <th>min</th>\n",
       "      <td>0.482444</td>\n",
       "      <td>0.726705</td>\n",
       "      <td>0.785714</td>\n",
       "      <td>34.00000</td>\n",
       "    </tr>\n",
       "    <tr>\n",
       "      <th>25%</th>\n",
       "      <td>0.508767</td>\n",
       "      <td>0.881331</td>\n",
       "      <td>0.878182</td>\n",
       "      <td>47.00000</td>\n",
       "    </tr>\n",
       "    <tr>\n",
       "      <th>50%</th>\n",
       "      <td>0.532846</td>\n",
       "      <td>0.918096</td>\n",
       "      <td>0.924038</td>\n",
       "      <td>52.00000</td>\n",
       "    </tr>\n",
       "    <tr>\n",
       "      <th>75%</th>\n",
       "      <td>0.562444</td>\n",
       "      <td>0.929196</td>\n",
       "      <td>0.961154</td>\n",
       "      <td>57.00000</td>\n",
       "    </tr>\n",
       "    <tr>\n",
       "      <th>max</th>\n",
       "      <td>0.604776</td>\n",
       "      <td>0.990704</td>\n",
       "      <td>1.000000</td>\n",
       "      <td>67.00000</td>\n",
       "    </tr>\n",
       "  </tbody>\n",
       "</table>\n",
       "</div>"
      ],
      "text/plain": [
       "       prob_task  prob_worker  performance   task_id\n",
       "count  40.000000    40.000000    40.000000  40.00000\n",
       "mean    0.538913     0.907075     0.920573  51.87500\n",
       "std     0.035356     0.049765     0.053490   7.61977\n",
       "min     0.482444     0.726705     0.785714  34.00000\n",
       "25%     0.508767     0.881331     0.878182  47.00000\n",
       "50%     0.532846     0.918096     0.924038  52.00000\n",
       "75%     0.562444     0.929196     0.961154  57.00000\n",
       "max     0.604776     0.990704     1.000000  67.00000"
      ]
     },
     "execution_count": 50,
     "metadata": {},
     "output_type": "execute_result"
    }
   ],
   "source": [
    "perf._workers().describe()"
   ]
  },
  {
   "cell_type": "markdown",
   "metadata": {},
   "source": [
    "---\n",
    "### Get Accuracy (Make Module)"
   ]
  },
  {
   "cell_type": "code",
   "execution_count": 1,
   "metadata": {},
   "outputs": [],
   "source": [
    "import sys\n",
    "sys.path.insert(0, '/Users/pedrohserrano/crowdED/crowded')\n",
    "import simulate as cs\n",
    "import method as cm\n",
    "import make as mk\n",
    "\n",
    "PTT = .3\n",
    "\n",
    "def tasks_split(df, p=PTT):\n",
    "    _train = df.sample(frac=p, random_state=23)\n",
    "    _rest = df.loc[df.index.difference(_train.index)]\n",
    "    return _train, _rest\n",
    "\n",
    "\n",
    "def _update_progress(job_title, progress):\n",
    "    length = 20\n",
    "    block = int(round(length * progress))\n",
    "    msg = \"\\r{0}: [{1}] {2}%\".format(\n",
    "        job_title, \"#\" * block + \"-\" * (length - block), round(progress * 100, 2))\n",
    "    if progress >= 1:\n",
    "        msg += \" DONE\\r\\n\"\n",
    "    sys.stdout.write(msg)\n",
    "    sys.stdout.flush()\n",
    "\n",
    "def crowd_table(total_tasks=100, total_workers=30, p_hard_tasks=0.4, ptt=.3, wpt=5, nk=5, a=28, b=3):\n",
    "    #Defining the experiment parameters\n",
    "    df_tasks = cs.Tasks(nk).create(total_tasks, p_hard_tasks)\n",
    "    workers = cs.Workers(a,b).create(total_workers)\n",
    "    keys = df_tasks['true_answers'].unique()\n",
    "    tasks_train, tasks_rest = tasks_split(df_tasks, ptt)\n",
    "    #Compute Method for Training set\n",
    "    df_tw = cs.AssignTasks(tasks_train, workers, wpt).create()\n",
    "    cp = cm.ComputeProbability(df_tw['prob_task'], df_tw['prob_worker'], keys)\n",
    "    df_tw['worker_answers'] = cm.WorkerAnswer(df_tw['true_answers'], cp.predict(), keys).match()\n",
    "    df_tw['performance'] = cp.predict()\n",
    "    #Select the good workers from training phase\n",
    "    perf = cm.Performance(df_tw)\n",
    "    good_workers = workers.loc[perf.good_workers()]\n",
    "    #Compute Method for the rest of the set\n",
    "    df_tw_2 = cs.AssignTasks(tasks_rest, good_workers, wpt).create()\n",
    "    cp2 = cm.ComputeProbability(df_tw_2['prob_task'], df_tw_2['prob_worker'], keys)\n",
    "    df_tw_2['worker_answers'] = cm.WorkerAnswer(df_tw_2['true_answers'], cp2.predict(), keys).match()\n",
    "    df_tw_2['performance'] = cp2.predict()\n",
    "    #Append two sets in one final set\n",
    "    df = df_tw.append(df_tw_2)\n",
    "    return df\n",
    "\n",
    "def crowd_table_one_stage(total_tasks=100, total_workers=30, p_hard_tasks=0.4, ptt=.3, wpt=5, nk=5, a=28, b=3):\n",
    "    #Defining the experiment parameters\n",
    "    df_tasks = cs.Tasks(nk).create(total_tasks, p_hard_tasks)\n",
    "    workers = cs.Workers(a,b).create(total_workers)\n",
    "    keys = df_tasks['true_answers'].unique()\n",
    "    #Compute Method\n",
    "    df_tw = cs.AssignTasks(df_tasks, workers, wpt).create()\n",
    "    cp = cm.ComputeProbability(df_tw['prob_task'], df_tw['prob_worker'], keys)\n",
    "    df_tw['worker_answers'] = cm.WorkerAnswer(df_tw['true_answers'], cp.predict(), keys).match()\n",
    "    df_tw['performance'] = cp.predict()\n",
    "    return df_tw"
   ]
  },
  {
   "cell_type": "code",
   "execution_count": 2,
   "metadata": {},
   "outputs": [],
   "source": [
    "from pycm import *"
   ]
  },
  {
   "cell_type": "code",
   "execution_count": 11,
   "metadata": {},
   "outputs": [
    {
     "name": "stdout",
     "output_type": "stream",
     "text": [
      "Predict          brothers environmentsmeans    quart    scissors \n",
      "Actual\n",
      "brothers         407      6        3        9        5        \n",
      "environments     9        357      4        6        9        \n",
      "means            9        2        479      6        9        \n",
      "quart            5        8        6        363      8        \n",
      "scissors         4        6        1        3        351      \n",
      "\n"
     ]
    },
    {
     "data": {
      "text/plain": [
       "0.9431325301204819"
      ]
     },
     "execution_count": 11,
     "metadata": {},
     "output_type": "execute_result"
    }
   ],
   "source": [
    "df = crowd_table(total_tasks=415, total_workers=40, p_hard_tasks=0.4, ptt=0.3, wpt=5, nk=5, a=28, b=3)\n",
    "cm2 = ConfusionMatrix(df['true_answers'].tolist(), df['worker_answers'].tolist())\n",
    "cm2.matrix()\n",
    "cm2.Overall_ACC"
   ]
  },
  {
   "cell_type": "code",
   "execution_count": 12,
   "metadata": {},
   "outputs": [
    {
     "name": "stdout",
     "output_type": "stream",
     "text": [
      "Predict          benches  educationkeys     latitude orange   \n",
      "Actual\n",
      "benches          435      6        7        9        8        \n",
      "education        8        381      6        9        1        \n",
      "keys             9        6        380      7        8        \n",
      "latitude         5        5        8        383      9        \n",
      "orange           5        7        6        9        358      \n",
      "\n"
     ]
    },
    {
     "data": {
      "text/plain": [
       "0.9334939759036145"
      ]
     },
     "execution_count": 12,
     "metadata": {},
     "output_type": "execute_result"
    }
   ],
   "source": [
    "df1 = crowd_table_one_stage(total_tasks=415, total_workers=40, p_hard_tasks=0.4, ptt=0.3, wpt=5, nk=5, a=28, b=3)\n",
    "cm1 = ConfusionMatrix(df1['true_answers'].tolist(), df1['worker_answers'].tolist())\n",
    "cm1.matrix()\n",
    "cm1.Overall_ACC"
   ]
  },
  {
   "cell_type": "code",
   "execution_count": null,
   "metadata": {},
   "outputs": [],
   "source": []
  }
 ],
 "metadata": {
  "kernelspec": {
   "display_name": "Python 3",
   "language": "python",
   "name": "python3"
  },
  "language_info": {
   "codemirror_mode": {
    "name": "ipython",
    "version": 3
   },
   "file_extension": ".py",
   "mimetype": "text/x-python",
   "name": "python",
   "nbconvert_exporter": "python",
   "pygments_lexer": "ipython3",
   "version": "3.6.5"
  }
 },
 "nbformat": 4,
 "nbformat_minor": 2
}
