{
 "cells": [
  {
   "cell_type": "markdown",
   "metadata": {},
   "source": [
    "## Testing Method Module\n",
    "---"
   ]
  },
  {
   "cell_type": "code",
   "execution_count": 1,
   "metadata": {},
   "outputs": [],
   "source": [
    "#import crowded.simulate as cs\n",
    "#import crowded.method as cm\n",
    "import time, sys\n",
    "sys.path.insert(0, '/Users/pedrohserrano/crowdED/crowded')\n",
    "import simulate as cs\n",
    "import method as cm\n",
    "import make as mk\n",
    "from pycm import *\n",
    "import pandas as pd"
   ]
  },
  {
   "cell_type": "markdown",
   "metadata": {},
   "source": [
    "#### Simulate the tasks"
   ]
  },
  {
   "cell_type": "code",
   "execution_count": 2,
   "metadata": {},
   "outputs": [
    {
     "data": {
      "text/html": [
       "<div>\n",
       "<style scoped>\n",
       "    .dataframe tbody tr th:only-of-type {\n",
       "        vertical-align: middle;\n",
       "    }\n",
       "\n",
       "    .dataframe tbody tr th {\n",
       "        vertical-align: top;\n",
       "    }\n",
       "\n",
       "    .dataframe thead th {\n",
       "        text-align: right;\n",
       "    }\n",
       "</style>\n",
       "<table border=\"1\" class=\"dataframe\">\n",
       "  <thead>\n",
       "    <tr style=\"text-align: right;\">\n",
       "      <th></th>\n",
       "      <th>task_id</th>\n",
       "      <th>true_answers</th>\n",
       "      <th>label_task</th>\n",
       "      <th>prob_task</th>\n",
       "    </tr>\n",
       "    <tr>\n",
       "      <th>task_id</th>\n",
       "      <th></th>\n",
       "      <th></th>\n",
       "      <th></th>\n",
       "      <th></th>\n",
       "    </tr>\n",
       "  </thead>\n",
       "  <tbody>\n",
       "    <tr>\n",
       "      <th>task_rMrKPk9JLATQ</th>\n",
       "      <td>task_rMrKPk9JLATQ</td>\n",
       "      <td>notes</td>\n",
       "      <td>hard_task</td>\n",
       "      <td>0.30</td>\n",
       "    </tr>\n",
       "    <tr>\n",
       "      <th>task_vnzwja8ynWAU</th>\n",
       "      <td>task_vnzwja8ynWAU</td>\n",
       "      <td>slot</td>\n",
       "      <td>hard_task</td>\n",
       "      <td>0.12</td>\n",
       "    </tr>\n",
       "    <tr>\n",
       "      <th>task_YBHvtgM55gMY</th>\n",
       "      <td>task_YBHvtgM55gMY</td>\n",
       "      <td>slot</td>\n",
       "      <td>hard_task</td>\n",
       "      <td>0.25</td>\n",
       "    </tr>\n",
       "    <tr>\n",
       "      <th>task_eUAw3NtoBCdm</th>\n",
       "      <td>task_eUAw3NtoBCdm</td>\n",
       "      <td>slot</td>\n",
       "      <td>easy_task</td>\n",
       "      <td>0.89</td>\n",
       "    </tr>\n",
       "    <tr>\n",
       "      <th>task_6FGWAqeAeMsi</th>\n",
       "      <td>task_6FGWAqeAeMsi</td>\n",
       "      <td>slot</td>\n",
       "      <td>hard_task</td>\n",
       "      <td>0.26</td>\n",
       "    </tr>\n",
       "  </tbody>\n",
       "</table>\n",
       "</div>"
      ],
      "text/plain": [
       "                             task_id true_answers label_task  prob_task\n",
       "task_id                                                                \n",
       "task_rMrKPk9JLATQ  task_rMrKPk9JLATQ        notes  hard_task       0.30\n",
       "task_vnzwja8ynWAU  task_vnzwja8ynWAU         slot  hard_task       0.12\n",
       "task_YBHvtgM55gMY  task_YBHvtgM55gMY         slot  hard_task       0.25\n",
       "task_eUAw3NtoBCdm  task_eUAw3NtoBCdm         slot  easy_task       0.89\n",
       "task_6FGWAqeAeMsi  task_6FGWAqeAeMsi         slot  hard_task       0.26"
      ]
     },
     "execution_count": 2,
     "metadata": {},
     "output_type": "execute_result"
    }
   ],
   "source": [
    "total_tasks = 415 \n",
    "p_hard_tasks = 0.4\n",
    "number_of_valid_answers = 5\n",
    "df_tasks = cs.Tasks(number_of_valid_answers).create(total_tasks, p_hard_tasks)\n",
    "df_tasks.head()"
   ]
  },
  {
   "cell_type": "markdown",
   "metadata": {},
   "source": [
    "#### Simulate the workers"
   ]
  },
  {
   "cell_type": "code",
   "execution_count": 3,
   "metadata": {},
   "outputs": [
    {
     "data": {
      "text/html": [
       "<div>\n",
       "<style scoped>\n",
       "    .dataframe tbody tr th:only-of-type {\n",
       "        vertical-align: middle;\n",
       "    }\n",
       "\n",
       "    .dataframe tbody tr th {\n",
       "        vertical-align: top;\n",
       "    }\n",
       "\n",
       "    .dataframe thead th {\n",
       "        text-align: right;\n",
       "    }\n",
       "</style>\n",
       "<table border=\"1\" class=\"dataframe\">\n",
       "  <thead>\n",
       "    <tr style=\"text-align: right;\">\n",
       "      <th></th>\n",
       "      <th>prob_worker</th>\n",
       "      <th>worker_id</th>\n",
       "    </tr>\n",
       "    <tr>\n",
       "      <th>worker_id</th>\n",
       "      <th></th>\n",
       "      <th></th>\n",
       "    </tr>\n",
       "  </thead>\n",
       "  <tbody>\n",
       "    <tr>\n",
       "      <th>P5BXhUuwDgNr</th>\n",
       "      <td>0.961699</td>\n",
       "      <td>P5BXhUuwDgNr</td>\n",
       "    </tr>\n",
       "    <tr>\n",
       "      <th>cQ2ANmRBvuE8</th>\n",
       "      <td>0.883109</td>\n",
       "      <td>cQ2ANmRBvuE8</td>\n",
       "    </tr>\n",
       "    <tr>\n",
       "      <th>6A7QbkyqyEF5</th>\n",
       "      <td>0.925251</td>\n",
       "      <td>6A7QbkyqyEF5</td>\n",
       "    </tr>\n",
       "    <tr>\n",
       "      <th>bscQC7V7Uvm6</th>\n",
       "      <td>0.969707</td>\n",
       "      <td>bscQC7V7Uvm6</td>\n",
       "    </tr>\n",
       "    <tr>\n",
       "      <th>yAygvzPrLTnN</th>\n",
       "      <td>0.948989</td>\n",
       "      <td>yAygvzPrLTnN</td>\n",
       "    </tr>\n",
       "  </tbody>\n",
       "</table>\n",
       "</div>"
      ],
      "text/plain": [
       "              prob_worker     worker_id\n",
       "worker_id                              \n",
       "P5BXhUuwDgNr     0.961699  P5BXhUuwDgNr\n",
       "cQ2ANmRBvuE8     0.883109  cQ2ANmRBvuE8\n",
       "6A7QbkyqyEF5     0.925251  6A7QbkyqyEF5\n",
       "bscQC7V7Uvm6     0.969707  bscQC7V7Uvm6\n",
       "yAygvzPrLTnN     0.948989  yAygvzPrLTnN"
      ]
     },
     "execution_count": 3,
     "metadata": {},
     "output_type": "execute_result"
    }
   ],
   "source": [
    "total_workers = 40 #50 #30\n",
    "workers = cs.Workers().create(total_workers)\n",
    "workers.head()"
   ]
  },
  {
   "cell_type": "markdown",
   "metadata": {},
   "source": [
    "#### Split the tasks"
   ]
  },
  {
   "cell_type": "code",
   "execution_count": 4,
   "metadata": {},
   "outputs": [],
   "source": [
    "#Tasks Split\n",
    "PTT = .3\n",
    "def tasks_split(df, p = PTT):\n",
    "    _train = df.sample(frac=p, random_state=23)\n",
    "    _rest = df.loc[df.index.difference(_train.index)]\n",
    "    return _train, _rest"
   ]
  },
  {
   "cell_type": "code",
   "execution_count": 5,
   "metadata": {},
   "outputs": [],
   "source": [
    "tasks_train, tasks_rest = tasks_split(df_tasks, .3)"
   ]
  },
  {
   "cell_type": "markdown",
   "metadata": {},
   "source": [
    "#### Assigning workers to tasks"
   ]
  },
  {
   "cell_type": "code",
   "execution_count": 6,
   "metadata": {},
   "outputs": [
    {
     "data": {
      "text/html": [
       "<div>\n",
       "<style scoped>\n",
       "    .dataframe tbody tr th:only-of-type {\n",
       "        vertical-align: middle;\n",
       "    }\n",
       "\n",
       "    .dataframe tbody tr th {\n",
       "        vertical-align: top;\n",
       "    }\n",
       "\n",
       "    .dataframe thead th {\n",
       "        text-align: right;\n",
       "    }\n",
       "</style>\n",
       "<table border=\"1\" class=\"dataframe\">\n",
       "  <thead>\n",
       "    <tr style=\"text-align: right;\">\n",
       "      <th></th>\n",
       "      <th>task_id</th>\n",
       "      <th>worker_id</th>\n",
       "      <th>true_answers</th>\n",
       "      <th>label_task</th>\n",
       "      <th>prob_task</th>\n",
       "      <th>prob_worker</th>\n",
       "    </tr>\n",
       "  </thead>\n",
       "  <tbody>\n",
       "    <tr>\n",
       "      <th>0</th>\n",
       "      <td>task_ZT5QGG8xnxGC</td>\n",
       "      <td>X74dpW7xKmMy</td>\n",
       "      <td>notes</td>\n",
       "      <td>easy_task</td>\n",
       "      <td>0.86</td>\n",
       "      <td>0.983675</td>\n",
       "    </tr>\n",
       "    <tr>\n",
       "      <th>1</th>\n",
       "      <td>task_ZT5QGG8xnxGC</td>\n",
       "      <td>L5KTXFDr4tBm</td>\n",
       "      <td>notes</td>\n",
       "      <td>easy_task</td>\n",
       "      <td>0.86</td>\n",
       "      <td>0.923747</td>\n",
       "    </tr>\n",
       "    <tr>\n",
       "      <th>2</th>\n",
       "      <td>task_ZT5QGG8xnxGC</td>\n",
       "      <td>CQnVbYnRiunG</td>\n",
       "      <td>notes</td>\n",
       "      <td>easy_task</td>\n",
       "      <td>0.86</td>\n",
       "      <td>0.840299</td>\n",
       "    </tr>\n",
       "    <tr>\n",
       "      <th>3</th>\n",
       "      <td>task_ZT5QGG8xnxGC</td>\n",
       "      <td>fDCUjL4PTqio</td>\n",
       "      <td>notes</td>\n",
       "      <td>easy_task</td>\n",
       "      <td>0.86</td>\n",
       "      <td>0.938620</td>\n",
       "    </tr>\n",
       "    <tr>\n",
       "      <th>4</th>\n",
       "      <td>task_ZT5QGG8xnxGC</td>\n",
       "      <td>WBBVJg52Zxbq</td>\n",
       "      <td>notes</td>\n",
       "      <td>easy_task</td>\n",
       "      <td>0.86</td>\n",
       "      <td>0.957909</td>\n",
       "    </tr>\n",
       "  </tbody>\n",
       "</table>\n",
       "</div>"
      ],
      "text/plain": [
       "             task_id     worker_id true_answers label_task  prob_task  \\\n",
       "0  task_ZT5QGG8xnxGC  X74dpW7xKmMy        notes  easy_task       0.86   \n",
       "1  task_ZT5QGG8xnxGC  L5KTXFDr4tBm        notes  easy_task       0.86   \n",
       "2  task_ZT5QGG8xnxGC  CQnVbYnRiunG        notes  easy_task       0.86   \n",
       "3  task_ZT5QGG8xnxGC  fDCUjL4PTqio        notes  easy_task       0.86   \n",
       "4  task_ZT5QGG8xnxGC  WBBVJg52Zxbq        notes  easy_task       0.86   \n",
       "\n",
       "   prob_worker  \n",
       "0     0.983675  \n",
       "1     0.923747  \n",
       "2     0.840299  \n",
       "3     0.938620  \n",
       "4     0.957909  "
      ]
     },
     "execution_count": 6,
     "metadata": {},
     "output_type": "execute_result"
    }
   ],
   "source": [
    "wpt = 5\n",
    "#workers per task always smaller than the number of workers\n",
    "df_tw = cs.AssignTasks(tasks_train, workers, wpt).create()\n",
    "df_tw.head()"
   ]
  },
  {
   "cell_type": "markdown",
   "metadata": {},
   "source": [
    "#### Compute the probability to assess the tasks"
   ]
  },
  {
   "cell_type": "code",
   "execution_count": 7,
   "metadata": {},
   "outputs": [
    {
     "data": {
      "text/plain": [
       "array(['notes', 'slot', 'recovery', 'tastes', 'fashion'], dtype=object)"
      ]
     },
     "execution_count": 7,
     "metadata": {},
     "output_type": "execute_result"
    }
   ],
   "source": [
    "keys = df_tasks['true_answers'].unique()\n",
    "keys"
   ]
  },
  {
   "cell_type": "code",
   "execution_count": 8,
   "metadata": {},
   "outputs": [
    {
     "data": {
      "text/html": [
       "<div>\n",
       "<style scoped>\n",
       "    .dataframe tbody tr th:only-of-type {\n",
       "        vertical-align: middle;\n",
       "    }\n",
       "\n",
       "    .dataframe tbody tr th {\n",
       "        vertical-align: top;\n",
       "    }\n",
       "\n",
       "    .dataframe thead th {\n",
       "        text-align: right;\n",
       "    }\n",
       "</style>\n",
       "<table border=\"1\" class=\"dataframe\">\n",
       "  <thead>\n",
       "    <tr style=\"text-align: right;\">\n",
       "      <th></th>\n",
       "      <th>task_id</th>\n",
       "      <th>worker_id</th>\n",
       "      <th>true_answers</th>\n",
       "      <th>label_task</th>\n",
       "      <th>prob_task</th>\n",
       "      <th>prob_worker</th>\n",
       "      <th>worker_answers</th>\n",
       "      <th>performance</th>\n",
       "    </tr>\n",
       "  </thead>\n",
       "  <tbody>\n",
       "    <tr>\n",
       "      <th>0</th>\n",
       "      <td>task_ZT5QGG8xnxGC</td>\n",
       "      <td>X74dpW7xKmMy</td>\n",
       "      <td>notes</td>\n",
       "      <td>easy_task</td>\n",
       "      <td>0.86</td>\n",
       "      <td>0.983675</td>\n",
       "      <td>notes</td>\n",
       "      <td>1</td>\n",
       "    </tr>\n",
       "    <tr>\n",
       "      <th>1</th>\n",
       "      <td>task_ZT5QGG8xnxGC</td>\n",
       "      <td>L5KTXFDr4tBm</td>\n",
       "      <td>notes</td>\n",
       "      <td>easy_task</td>\n",
       "      <td>0.86</td>\n",
       "      <td>0.923747</td>\n",
       "      <td>notes</td>\n",
       "      <td>1</td>\n",
       "    </tr>\n",
       "    <tr>\n",
       "      <th>2</th>\n",
       "      <td>task_ZT5QGG8xnxGC</td>\n",
       "      <td>CQnVbYnRiunG</td>\n",
       "      <td>notes</td>\n",
       "      <td>easy_task</td>\n",
       "      <td>0.86</td>\n",
       "      <td>0.840299</td>\n",
       "      <td>notes</td>\n",
       "      <td>1</td>\n",
       "    </tr>\n",
       "    <tr>\n",
       "      <th>3</th>\n",
       "      <td>task_ZT5QGG8xnxGC</td>\n",
       "      <td>fDCUjL4PTqio</td>\n",
       "      <td>notes</td>\n",
       "      <td>easy_task</td>\n",
       "      <td>0.86</td>\n",
       "      <td>0.938620</td>\n",
       "      <td>notes</td>\n",
       "      <td>1</td>\n",
       "    </tr>\n",
       "    <tr>\n",
       "      <th>4</th>\n",
       "      <td>task_ZT5QGG8xnxGC</td>\n",
       "      <td>WBBVJg52Zxbq</td>\n",
       "      <td>notes</td>\n",
       "      <td>easy_task</td>\n",
       "      <td>0.86</td>\n",
       "      <td>0.957909</td>\n",
       "      <td>notes</td>\n",
       "      <td>1</td>\n",
       "    </tr>\n",
       "  </tbody>\n",
       "</table>\n",
       "</div>"
      ],
      "text/plain": [
       "             task_id     worker_id true_answers label_task  prob_task  \\\n",
       "0  task_ZT5QGG8xnxGC  X74dpW7xKmMy        notes  easy_task       0.86   \n",
       "1  task_ZT5QGG8xnxGC  L5KTXFDr4tBm        notes  easy_task       0.86   \n",
       "2  task_ZT5QGG8xnxGC  CQnVbYnRiunG        notes  easy_task       0.86   \n",
       "3  task_ZT5QGG8xnxGC  fDCUjL4PTqio        notes  easy_task       0.86   \n",
       "4  task_ZT5QGG8xnxGC  WBBVJg52Zxbq        notes  easy_task       0.86   \n",
       "\n",
       "   prob_worker worker_answers  performance  \n",
       "0     0.983675          notes            1  \n",
       "1     0.923747          notes            1  \n",
       "2     0.840299          notes            1  \n",
       "3     0.938620          notes            1  \n",
       "4     0.957909          notes            1  "
      ]
     },
     "execution_count": 8,
     "metadata": {},
     "output_type": "execute_result"
    }
   ],
   "source": [
    "cp = cm.ComputeProbability(df_tw['prob_task'], df_tw['prob_worker'], keys)\n",
    "df_tw['worker_answers'] = cm.WorkerAnswer(df_tw['true_answers'], cp.predict(), keys).match()\n",
    "df_tw['performance'] = cp.predict()\n",
    "df_tw.head()"
   ]
  },
  {
   "cell_type": "markdown",
   "metadata": {},
   "source": [
    "#### Assess the performance and get the good workers"
   ]
  },
  {
   "cell_type": "code",
   "execution_count": 9,
   "metadata": {},
   "outputs": [
    {
     "data": {
      "text/html": [
       "<div>\n",
       "<style scoped>\n",
       "    .dataframe tbody tr th:only-of-type {\n",
       "        vertical-align: middle;\n",
       "    }\n",
       "\n",
       "    .dataframe tbody tr th {\n",
       "        vertical-align: top;\n",
       "    }\n",
       "\n",
       "    .dataframe thead th {\n",
       "        text-align: right;\n",
       "    }\n",
       "</style>\n",
       "<table border=\"1\" class=\"dataframe\">\n",
       "  <thead>\n",
       "    <tr style=\"text-align: right;\">\n",
       "      <th></th>\n",
       "      <th>worker_id</th>\n",
       "      <th>prob_task</th>\n",
       "      <th>prob_worker</th>\n",
       "      <th>performance</th>\n",
       "      <th>worker_ability</th>\n",
       "      <th>task_id</th>\n",
       "    </tr>\n",
       "  </thead>\n",
       "  <tbody>\n",
       "    <tr>\n",
       "      <th>0</th>\n",
       "      <td>X74dpW7xKmMy</td>\n",
       "      <td>0.496429</td>\n",
       "      <td>0.983675</td>\n",
       "      <td>1.0</td>\n",
       "      <td>good_worker</td>\n",
       "      <td>14</td>\n",
       "    </tr>\n",
       "    <tr>\n",
       "      <th>1</th>\n",
       "      <td>RyFNiicxckey</td>\n",
       "      <td>0.532857</td>\n",
       "      <td>0.987884</td>\n",
       "      <td>1.0</td>\n",
       "      <td>good_worker</td>\n",
       "      <td>14</td>\n",
       "    </tr>\n",
       "    <tr>\n",
       "      <th>2</th>\n",
       "      <td>yAygvzPrLTnN</td>\n",
       "      <td>0.675833</td>\n",
       "      <td>0.948989</td>\n",
       "      <td>1.0</td>\n",
       "      <td>good_worker</td>\n",
       "      <td>12</td>\n",
       "    </tr>\n",
       "    <tr>\n",
       "      <th>3</th>\n",
       "      <td>ocjumcMYdgJF</td>\n",
       "      <td>0.554444</td>\n",
       "      <td>0.972627</td>\n",
       "      <td>1.0</td>\n",
       "      <td>good_worker</td>\n",
       "      <td>18</td>\n",
       "    </tr>\n",
       "    <tr>\n",
       "      <th>4</th>\n",
       "      <td>kP5Tn6ivA8VH</td>\n",
       "      <td>0.603333</td>\n",
       "      <td>0.846569</td>\n",
       "      <td>1.0</td>\n",
       "      <td>good_worker</td>\n",
       "      <td>21</td>\n",
       "    </tr>\n",
       "  </tbody>\n",
       "</table>\n",
       "</div>"
      ],
      "text/plain": [
       "      worker_id  prob_task  prob_worker  performance worker_ability  task_id\n",
       "0  X74dpW7xKmMy   0.496429     0.983675          1.0    good_worker       14\n",
       "1  RyFNiicxckey   0.532857     0.987884          1.0    good_worker       14\n",
       "2  yAygvzPrLTnN   0.675833     0.948989          1.0    good_worker       12\n",
       "3  ocjumcMYdgJF   0.554444     0.972627          1.0    good_worker       18\n",
       "4  kP5Tn6ivA8VH   0.603333     0.846569          1.0    good_worker       21"
      ]
     },
     "execution_count": 9,
     "metadata": {},
     "output_type": "execute_result"
    }
   ],
   "source": [
    "perf = cm.Performance(df_tw)\n",
    "df_workers = perf._workers()\n",
    "df_workers.head()"
   ]
  },
  {
   "cell_type": "code",
   "execution_count": 10,
   "metadata": {},
   "outputs": [
    {
     "data": {
      "text/html": [
       "<div>\n",
       "<style scoped>\n",
       "    .dataframe tbody tr th:only-of-type {\n",
       "        vertical-align: middle;\n",
       "    }\n",
       "\n",
       "    .dataframe tbody tr th {\n",
       "        vertical-align: top;\n",
       "    }\n",
       "\n",
       "    .dataframe thead th {\n",
       "        text-align: right;\n",
       "    }\n",
       "</style>\n",
       "<table border=\"1\" class=\"dataframe\">\n",
       "  <thead>\n",
       "    <tr style=\"text-align: right;\">\n",
       "      <th></th>\n",
       "      <th>prob_worker</th>\n",
       "      <th>worker_id</th>\n",
       "    </tr>\n",
       "    <tr>\n",
       "      <th>worker_id</th>\n",
       "      <th></th>\n",
       "      <th></th>\n",
       "    </tr>\n",
       "  </thead>\n",
       "  <tbody>\n",
       "    <tr>\n",
       "      <th>X74dpW7xKmMy</th>\n",
       "      <td>0.983675</td>\n",
       "      <td>X74dpW7xKmMy</td>\n",
       "    </tr>\n",
       "    <tr>\n",
       "      <th>gKHB57JPazzP</th>\n",
       "      <td>0.944357</td>\n",
       "      <td>gKHB57JPazzP</td>\n",
       "    </tr>\n",
       "    <tr>\n",
       "      <th>fDCUjL4PTqio</th>\n",
       "      <td>0.938620</td>\n",
       "      <td>fDCUjL4PTqio</td>\n",
       "    </tr>\n",
       "    <tr>\n",
       "      <th>6UjHABqWvvQL</th>\n",
       "      <td>0.877641</td>\n",
       "      <td>6UjHABqWvvQL</td>\n",
       "    </tr>\n",
       "    <tr>\n",
       "      <th>WBBVJg52Zxbq</th>\n",
       "      <td>0.957909</td>\n",
       "      <td>WBBVJg52Zxbq</td>\n",
       "    </tr>\n",
       "    <tr>\n",
       "      <th>P5BXhUuwDgNr</th>\n",
       "      <td>0.961699</td>\n",
       "      <td>P5BXhUuwDgNr</td>\n",
       "    </tr>\n",
       "    <tr>\n",
       "      <th>7NSUwiG4QCCR</th>\n",
       "      <td>0.954569</td>\n",
       "      <td>7NSUwiG4QCCR</td>\n",
       "    </tr>\n",
       "    <tr>\n",
       "      <th>AeLS39WMajp8</th>\n",
       "      <td>0.893302</td>\n",
       "      <td>AeLS39WMajp8</td>\n",
       "    </tr>\n",
       "    <tr>\n",
       "      <th>D9xEZpkVhKin</th>\n",
       "      <td>0.924944</td>\n",
       "      <td>D9xEZpkVhKin</td>\n",
       "    </tr>\n",
       "    <tr>\n",
       "      <th>L5KTXFDr4tBm</th>\n",
       "      <td>0.923747</td>\n",
       "      <td>L5KTXFDr4tBm</td>\n",
       "    </tr>\n",
       "  </tbody>\n",
       "</table>\n",
       "</div>"
      ],
      "text/plain": [
       "              prob_worker     worker_id\n",
       "worker_id                              \n",
       "X74dpW7xKmMy     0.983675  X74dpW7xKmMy\n",
       "gKHB57JPazzP     0.944357  gKHB57JPazzP\n",
       "fDCUjL4PTqio     0.938620  fDCUjL4PTqio\n",
       "6UjHABqWvvQL     0.877641  6UjHABqWvvQL\n",
       "WBBVJg52Zxbq     0.957909  WBBVJg52Zxbq\n",
       "P5BXhUuwDgNr     0.961699  P5BXhUuwDgNr\n",
       "7NSUwiG4QCCR     0.954569  7NSUwiG4QCCR\n",
       "AeLS39WMajp8     0.893302  AeLS39WMajp8\n",
       "D9xEZpkVhKin     0.924944  D9xEZpkVhKin\n",
       "L5KTXFDr4tBm     0.923747  L5KTXFDr4tBm"
      ]
     },
     "execution_count": 10,
     "metadata": {},
     "output_type": "execute_result"
    }
   ],
   "source": [
    "good_workers = workers.loc[perf.good_workers()]\n",
    "good_workers"
   ]
  },
  {
   "cell_type": "markdown",
   "metadata": {},
   "source": [
    "#### Check in case there's undone tasks (no concensus achieved)"
   ]
  },
  {
   "cell_type": "code",
   "execution_count": 11,
   "metadata": {},
   "outputs": [],
   "source": [
    "tasks = df_tw.groupby('task_id').mean().sort_values('performance', ascending=False)"
   ]
  },
  {
   "cell_type": "code",
   "execution_count": 12,
   "metadata": {},
   "outputs": [
    {
     "name": "stdout",
     "output_type": "stream",
     "text": [
      "There is 1 tasks without concesus\n"
     ]
    }
   ],
   "source": [
    "undone = tasks[tasks['performance'] < 0.5]\n",
    "if len(undone) > 0:\n",
    "    #paste undone to tasks_rest\n",
    "    print('There is {} tasks without concesus'.format(len(undone)))"
   ]
  },
  {
   "cell_type": "markdown",
   "metadata": {},
   "source": [
    "#### Assign the good workers to the rest of the tasks"
   ]
  },
  {
   "cell_type": "code",
   "execution_count": 13,
   "metadata": {},
   "outputs": [
    {
     "data": {
      "text/html": [
       "<div>\n",
       "<style scoped>\n",
       "    .dataframe tbody tr th:only-of-type {\n",
       "        vertical-align: middle;\n",
       "    }\n",
       "\n",
       "    .dataframe tbody tr th {\n",
       "        vertical-align: top;\n",
       "    }\n",
       "\n",
       "    .dataframe thead th {\n",
       "        text-align: right;\n",
       "    }\n",
       "</style>\n",
       "<table border=\"1\" class=\"dataframe\">\n",
       "  <thead>\n",
       "    <tr style=\"text-align: right;\">\n",
       "      <th></th>\n",
       "      <th>task_id</th>\n",
       "      <th>worker_id</th>\n",
       "      <th>true_answers</th>\n",
       "      <th>label_task</th>\n",
       "      <th>prob_task</th>\n",
       "      <th>prob_worker</th>\n",
       "    </tr>\n",
       "  </thead>\n",
       "  <tbody>\n",
       "    <tr>\n",
       "      <th>0</th>\n",
       "      <td>task_2EUytNKmRNCM</td>\n",
       "      <td>D9xEZpkVhKin</td>\n",
       "      <td>recovery</td>\n",
       "      <td>easy_task</td>\n",
       "      <td>0.73</td>\n",
       "      <td>0.924944</td>\n",
       "    </tr>\n",
       "    <tr>\n",
       "      <th>1</th>\n",
       "      <td>task_2EUytNKmRNCM</td>\n",
       "      <td>L5KTXFDr4tBm</td>\n",
       "      <td>recovery</td>\n",
       "      <td>easy_task</td>\n",
       "      <td>0.73</td>\n",
       "      <td>0.923747</td>\n",
       "    </tr>\n",
       "    <tr>\n",
       "      <th>2</th>\n",
       "      <td>task_2EUytNKmRNCM</td>\n",
       "      <td>7NSUwiG4QCCR</td>\n",
       "      <td>recovery</td>\n",
       "      <td>easy_task</td>\n",
       "      <td>0.73</td>\n",
       "      <td>0.954569</td>\n",
       "    </tr>\n",
       "    <tr>\n",
       "      <th>3</th>\n",
       "      <td>task_2EUytNKmRNCM</td>\n",
       "      <td>AeLS39WMajp8</td>\n",
       "      <td>recovery</td>\n",
       "      <td>easy_task</td>\n",
       "      <td>0.73</td>\n",
       "      <td>0.893302</td>\n",
       "    </tr>\n",
       "    <tr>\n",
       "      <th>4</th>\n",
       "      <td>task_2EUytNKmRNCM</td>\n",
       "      <td>6UjHABqWvvQL</td>\n",
       "      <td>recovery</td>\n",
       "      <td>easy_task</td>\n",
       "      <td>0.73</td>\n",
       "      <td>0.877641</td>\n",
       "    </tr>\n",
       "  </tbody>\n",
       "</table>\n",
       "</div>"
      ],
      "text/plain": [
       "             task_id     worker_id true_answers label_task  prob_task  \\\n",
       "0  task_2EUytNKmRNCM  D9xEZpkVhKin     recovery  easy_task       0.73   \n",
       "1  task_2EUytNKmRNCM  L5KTXFDr4tBm     recovery  easy_task       0.73   \n",
       "2  task_2EUytNKmRNCM  7NSUwiG4QCCR     recovery  easy_task       0.73   \n",
       "3  task_2EUytNKmRNCM  AeLS39WMajp8     recovery  easy_task       0.73   \n",
       "4  task_2EUytNKmRNCM  6UjHABqWvvQL     recovery  easy_task       0.73   \n",
       "\n",
       "   prob_worker  \n",
       "0     0.924944  \n",
       "1     0.923747  \n",
       "2     0.954569  \n",
       "3     0.893302  \n",
       "4     0.877641  "
      ]
     },
     "execution_count": 13,
     "metadata": {},
     "output_type": "execute_result"
    }
   ],
   "source": [
    "wpt = 5\n",
    "#workers per task always smaller than the number of workers\n",
    "df_tw_2 = cs.AssignTasks(tasks_rest, good_workers, wpt).create()\n",
    "df_tw_2.head()"
   ]
  },
  {
   "cell_type": "markdown",
   "metadata": {},
   "source": [
    "#### Compute probability to the rest of the tasks"
   ]
  },
  {
   "cell_type": "code",
   "execution_count": 14,
   "metadata": {},
   "outputs": [
    {
     "data": {
      "text/html": [
       "<div>\n",
       "<style scoped>\n",
       "    .dataframe tbody tr th:only-of-type {\n",
       "        vertical-align: middle;\n",
       "    }\n",
       "\n",
       "    .dataframe tbody tr th {\n",
       "        vertical-align: top;\n",
       "    }\n",
       "\n",
       "    .dataframe thead th {\n",
       "        text-align: right;\n",
       "    }\n",
       "</style>\n",
       "<table border=\"1\" class=\"dataframe\">\n",
       "  <thead>\n",
       "    <tr style=\"text-align: right;\">\n",
       "      <th></th>\n",
       "      <th>task_id</th>\n",
       "      <th>worker_id</th>\n",
       "      <th>true_answers</th>\n",
       "      <th>label_task</th>\n",
       "      <th>prob_task</th>\n",
       "      <th>prob_worker</th>\n",
       "      <th>worker_answers</th>\n",
       "      <th>performance</th>\n",
       "    </tr>\n",
       "  </thead>\n",
       "  <tbody>\n",
       "    <tr>\n",
       "      <th>0</th>\n",
       "      <td>task_2EUytNKmRNCM</td>\n",
       "      <td>D9xEZpkVhKin</td>\n",
       "      <td>recovery</td>\n",
       "      <td>easy_task</td>\n",
       "      <td>0.73</td>\n",
       "      <td>0.924944</td>\n",
       "      <td>recovery</td>\n",
       "      <td>1</td>\n",
       "    </tr>\n",
       "    <tr>\n",
       "      <th>1</th>\n",
       "      <td>task_2EUytNKmRNCM</td>\n",
       "      <td>L5KTXFDr4tBm</td>\n",
       "      <td>recovery</td>\n",
       "      <td>easy_task</td>\n",
       "      <td>0.73</td>\n",
       "      <td>0.923747</td>\n",
       "      <td>recovery</td>\n",
       "      <td>1</td>\n",
       "    </tr>\n",
       "    <tr>\n",
       "      <th>2</th>\n",
       "      <td>task_2EUytNKmRNCM</td>\n",
       "      <td>7NSUwiG4QCCR</td>\n",
       "      <td>recovery</td>\n",
       "      <td>easy_task</td>\n",
       "      <td>0.73</td>\n",
       "      <td>0.954569</td>\n",
       "      <td>recovery</td>\n",
       "      <td>1</td>\n",
       "    </tr>\n",
       "    <tr>\n",
       "      <th>3</th>\n",
       "      <td>task_2EUytNKmRNCM</td>\n",
       "      <td>AeLS39WMajp8</td>\n",
       "      <td>recovery</td>\n",
       "      <td>easy_task</td>\n",
       "      <td>0.73</td>\n",
       "      <td>0.893302</td>\n",
       "      <td>recovery</td>\n",
       "      <td>1</td>\n",
       "    </tr>\n",
       "    <tr>\n",
       "      <th>4</th>\n",
       "      <td>task_2EUytNKmRNCM</td>\n",
       "      <td>6UjHABqWvvQL</td>\n",
       "      <td>recovery</td>\n",
       "      <td>easy_task</td>\n",
       "      <td>0.73</td>\n",
       "      <td>0.877641</td>\n",
       "      <td>recovery</td>\n",
       "      <td>1</td>\n",
       "    </tr>\n",
       "  </tbody>\n",
       "</table>\n",
       "</div>"
      ],
      "text/plain": [
       "             task_id     worker_id true_answers label_task  prob_task  \\\n",
       "0  task_2EUytNKmRNCM  D9xEZpkVhKin     recovery  easy_task       0.73   \n",
       "1  task_2EUytNKmRNCM  L5KTXFDr4tBm     recovery  easy_task       0.73   \n",
       "2  task_2EUytNKmRNCM  7NSUwiG4QCCR     recovery  easy_task       0.73   \n",
       "3  task_2EUytNKmRNCM  AeLS39WMajp8     recovery  easy_task       0.73   \n",
       "4  task_2EUytNKmRNCM  6UjHABqWvvQL     recovery  easy_task       0.73   \n",
       "\n",
       "   prob_worker worker_answers  performance  \n",
       "0     0.924944       recovery            1  \n",
       "1     0.923747       recovery            1  \n",
       "2     0.954569       recovery            1  \n",
       "3     0.893302       recovery            1  \n",
       "4     0.877641       recovery            1  "
      ]
     },
     "execution_count": 14,
     "metadata": {},
     "output_type": "execute_result"
    }
   ],
   "source": [
    "cp2 = cm.ComputeProbability(df_tw_2['prob_task'], df_tw_2['prob_worker'], keys)\n",
    "df_tw_2['worker_answers'] = cm.WorkerAnswer(df_tw_2['true_answers'], cp2.predict(), keys).match()\n",
    "df_tw_2['performance'] = cp2.predict()\n",
    "df_tw_2.head()"
   ]
  },
  {
   "cell_type": "markdown",
   "metadata": {},
   "source": [
    "#### Merge the data and get the real accuracy"
   ]
  },
  {
   "cell_type": "code",
   "execution_count": 15,
   "metadata": {},
   "outputs": [],
   "source": [
    "df = df_tw.append(df_tw_2)"
   ]
  },
  {
   "cell_type": "code",
   "execution_count": 16,
   "metadata": {},
   "outputs": [
    {
     "name": "stdout",
     "output_type": "stream",
     "text": [
      "Predict          fashion  notes    recovery slot     tastes   \n",
      "Actual\n",
      "fashion          391      4        2        3        5        \n",
      "notes            5        422      0        2        6        \n",
      "recovery         3        3        390      3        6        \n",
      "slot             1        3        3        414      4        \n",
      "tastes           6        3        8        0        388      \n",
      "\n",
      "0.9662650602409638 None\n"
     ]
    }
   ],
   "source": [
    "from pycm import *\n",
    "mat = ConfusionMatrix(df['true_answers'].tolist(), df['worker_answers'].tolist())\n",
    "print(mat.Overall_ACC, mat.matrix())"
   ]
  },
  {
   "cell_type": "markdown",
   "metadata": {},
   "source": [
    "#### Compare with 1 stage"
   ]
  },
  {
   "cell_type": "code",
   "execution_count": 17,
   "metadata": {},
   "outputs": [],
   "source": [
    "df_tw1 = cs.AssignTasks(df_tasks, workers, wpt).create()\n",
    "cp1 = cm.ComputeProbability(df_tw1['prob_task'], df_tw1['prob_worker'], keys)\n",
    "df_tw1['worker_answers'] = cm.WorkerAnswer(df_tw1['true_answers'], cp1.predict(), keys).match()\n",
    "df_tw1['performance'] = cp1.predict()"
   ]
  },
  {
   "cell_type": "code",
   "execution_count": 18,
   "metadata": {},
   "outputs": [
    {
     "name": "stdout",
     "output_type": "stream",
     "text": [
      "Predict          fashion  notes    recovery slot     tastes   \n",
      "Actual\n",
      "fashion          392      1        4        2        6        \n",
      "notes            4        410      7        9        5        \n",
      "recovery         4        3        389      9        0        \n",
      "slot             5        10       6        401      3        \n",
      "tastes           5        9        4        5        382      \n",
      "\n",
      "0.9513253012048193 None\n"
     ]
    }
   ],
   "source": [
    "mat = ConfusionMatrix(df_tw1['true_answers'].tolist(), df_tw1['worker_answers'].tolist())\n",
    "print(mat.Overall_ACC, mat.matrix())"
   ]
  },
  {
   "cell_type": "markdown",
   "metadata": {},
   "source": [
    "#####  The accuracy of 1 stage algorithm is lower than the 2 stages algorithm *"
   ]
  },
  {
   "cell_type": "markdown",
   "metadata": {},
   "source": [
    "---\n",
    "### Overall Accuracy"
   ]
  },
  {
   "cell_type": "code",
   "execution_count": 3,
   "metadata": {},
   "outputs": [],
   "source": [
    "total_tasks = 415 \n",
    "total_workers = 40 \n",
    "p_hard_tasks = 0.4\n",
    "PTT = .3\n",
    "wpt = 5\n",
    "NK = 5\n",
    "a = 8"
   ]
  },
  {
   "cell_type": "code",
   "execution_count": 1,
   "metadata": {},
   "outputs": [],
   "source": [
    "#import crowded.make as mk"
   ]
  },
  {
   "cell_type": "code",
   "execution_count": 25,
   "metadata": {},
   "outputs": [],
   "source": [
    "import time, sys\n",
    "sys.path.insert(0, '/Users/pedrohserrano/crowdED/crowded')\n",
    "import simulate as cs\n",
    "import method as cm\n",
    "import make as mk\n",
    "from pycm import *\n",
    "import pandas as pd"
   ]
  },
  {
   "cell_type": "code",
   "execution_count": 26,
   "metadata": {},
   "outputs": [],
   "source": [
    "tasks = [60, 100, 140]\n",
    "workers = [30, 50, 80, 100]\n",
    "hard_t = [0.2, 0.8]\n",
    "prop = [0.2,0.8]\n",
    "wpt = [5]\n",
    "key = [3]"
   ]
  },
  {
   "cell_type": "code",
   "execution_count": 36,
   "metadata": {},
   "outputs": [],
   "source": [
    "def _combinations(tasks, workers, hard_t, prop, wpt, key):\n",
    "    table = []\n",
    "    for t in tasks:\n",
    "        for w in workers:\n",
    "            for h in hard_t:\n",
    "                for p in prop:\n",
    "                    for x in wpt:\n",
    "                        for k in key:\n",
    "                            table.append([t, w, h, p, x, k])\n",
    "    return table\n",
    "\n",
    "\n",
    "\n",
    "def get_accuracy(tasks, workers, hard_t, prop, wpt, key, stages=2):\n",
    "    sim = _combinations(tasks, workers, hard_t, prop, wpt, key)\n",
    "    for idx, l in enumerate(sim):\n",
    "        mk._update_progress(\"CrowdED simulation\", idx / len(sim))\n",
    "        try:\n",
    "            if stages == 2:\n",
    "                df = mk.crowd_table(total_tasks=l[0], total_workers=l[1], p_hard_tasks=l[2], ptt=l[3], wpt=l[4], nk=l[5])\n",
    "            else:\n",
    "                df = mk.crowd_table_one_stage(total_tasks=l[0], total_workers=l[1], p_hard_tasks=l[2], ptt=l[3], wpt=l[4], nk=l[5])\n",
    "            mat = ConfusionMatrix(df['true_answers'].tolist(), df['worker_answers'].tolist())\n",
    "            l.insert(6, round(mat.Overall_ACC, 4))\n",
    "            l.insert(7, round(mat.CrossEntropy, 4))\n",
    "            l.insert(8, round(sum([i for i in cm.F1.values()]) / len([i for i in cm.F1.values()]), 4))\n",
    "        except Exception:\n",
    "            pass\n",
    "    return sim"
   ]
  },
  {
   "cell_type": "code",
   "execution_count": 39,
   "metadata": {},
   "outputs": [],
   "source": [
    "sim = _combinations(tasks, workers, hard_t, prop, wpt, key)"
   ]
  },
  {
   "cell_type": "code",
   "execution_count": 43,
   "metadata": {},
   "outputs": [
    {
     "data": {
      "text/plain": [
       "60"
      ]
     },
     "execution_count": 43,
     "metadata": {},
     "output_type": "execute_result"
    }
   ],
   "source": [
    "sim[0][0]"
   ]
  },
  {
   "cell_type": "code",
   "execution_count": null,
   "metadata": {},
   "outputs": [],
   "source": [
    "    \n",
    "    for idx, l in enumerate(sim):\n",
    "        mk._update_progress(\"CrowdED simulation\", idx / len(sim))\n",
    "        try:\n",
    "            if stages == 2:\n",
    "                df = mk.crowd_table(total_tasks=l[0], total_workers=l[1], p_hard_tasks=l[2], ptt=l[3], wpt=l[4], nk=l[5])\n",
    "            else:\n",
    "                df = mk.crowd_table_one_stage(total_tasks=l[0], total_workers=l[1], p_hard_tasks=l[2], ptt=l[3], wpt=l[4], nk=l[5])\n",
    "            mat = ConfusionMatrix(df['true_answers'].tolist(), df['worker_answers'].tolist())\n",
    "            l.insert(6, round(mat.Overall_ACC, 4))\n",
    "            l.insert(7, round(mat.CrossEntropy, 4))\n",
    "            l.insert(8, round(sum([i for i in cm.F1.values()]) / len([i for i in cm.F1.values()]), 4))\n",
    "        except Exception:\n",
    "            pass"
   ]
  },
  {
   "cell_type": "code",
   "execution_count": null,
   "metadata": {},
   "outputs": [],
   "source": [
    "mk.crowd_table(total_tasks=sim[0][0], total_workers=sim[0][1], p_hard_tasks=sim[0][2], ptt=sim[0][3], wpt=sim[0][0], nk=sim[0][0])"
   ]
  },
  {
   "cell_type": "code",
   "execution_count": null,
   "metadata": {},
   "outputs": [],
   "source": []
  },
  {
   "cell_type": "code",
   "execution_count": 37,
   "metadata": {},
   "outputs": [
    {
     "name": "stdout",
     "output_type": "stream",
     "text": [
      "CrowdED simulation: [####################] 97.92%"
     ]
    }
   ],
   "source": [
    "simulations = pd.DataFrame(get_accuracy(tasks, workers, hard_t, prop, wpt, key)).fillna(0)"
   ]
  },
  {
   "cell_type": "markdown",
   "metadata": {},
   "source": [
    "the accuracy os not being inserted"
   ]
  },
  {
   "cell_type": "code",
   "execution_count": 30,
   "metadata": {},
   "outputs": [],
   "source": [
    "#simulations.columns = ['total_tasks', 'total_workers', 'proportion_hard_tasks','proportion_train_tasks', 'workers_per_task', 'total_keys','accuracy','cross_entropy','f1']"
   ]
  },
  {
   "cell_type": "code",
   "execution_count": 33,
   "metadata": {},
   "outputs": [],
   "source": [
    "#simulations.columns"
   ]
  },
  {
   "cell_type": "code",
   "execution_count": 38,
   "metadata": {},
   "outputs": [
    {
     "data": {
      "text/html": [
       "<div>\n",
       "<style scoped>\n",
       "    .dataframe tbody tr th:only-of-type {\n",
       "        vertical-align: middle;\n",
       "    }\n",
       "\n",
       "    .dataframe tbody tr th {\n",
       "        vertical-align: top;\n",
       "    }\n",
       "\n",
       "    .dataframe thead th {\n",
       "        text-align: right;\n",
       "    }\n",
       "</style>\n",
       "<table border=\"1\" class=\"dataframe\">\n",
       "  <thead>\n",
       "    <tr style=\"text-align: right;\">\n",
       "      <th></th>\n",
       "      <th>0</th>\n",
       "      <th>1</th>\n",
       "      <th>2</th>\n",
       "      <th>3</th>\n",
       "      <th>4</th>\n",
       "      <th>5</th>\n",
       "    </tr>\n",
       "  </thead>\n",
       "  <tbody>\n",
       "    <tr>\n",
       "      <th>0</th>\n",
       "      <td>60</td>\n",
       "      <td>30</td>\n",
       "      <td>0.2</td>\n",
       "      <td>0.2</td>\n",
       "      <td>5</td>\n",
       "      <td>3</td>\n",
       "    </tr>\n",
       "    <tr>\n",
       "      <th>1</th>\n",
       "      <td>60</td>\n",
       "      <td>30</td>\n",
       "      <td>0.2</td>\n",
       "      <td>0.8</td>\n",
       "      <td>5</td>\n",
       "      <td>3</td>\n",
       "    </tr>\n",
       "    <tr>\n",
       "      <th>2</th>\n",
       "      <td>60</td>\n",
       "      <td>30</td>\n",
       "      <td>0.8</td>\n",
       "      <td>0.2</td>\n",
       "      <td>5</td>\n",
       "      <td>3</td>\n",
       "    </tr>\n",
       "    <tr>\n",
       "      <th>3</th>\n",
       "      <td>60</td>\n",
       "      <td>30</td>\n",
       "      <td>0.8</td>\n",
       "      <td>0.8</td>\n",
       "      <td>5</td>\n",
       "      <td>3</td>\n",
       "    </tr>\n",
       "    <tr>\n",
       "      <th>4</th>\n",
       "      <td>60</td>\n",
       "      <td>50</td>\n",
       "      <td>0.2</td>\n",
       "      <td>0.2</td>\n",
       "      <td>5</td>\n",
       "      <td>3</td>\n",
       "    </tr>\n",
       "  </tbody>\n",
       "</table>\n",
       "</div>"
      ],
      "text/plain": [
       "    0   1    2    3  4  5\n",
       "0  60  30  0.2  0.2  5  3\n",
       "1  60  30  0.2  0.8  5  3\n",
       "2  60  30  0.8  0.2  5  3\n",
       "3  60  30  0.8  0.8  5  3\n",
       "4  60  50  0.2  0.2  5  3"
      ]
     },
     "execution_count": 38,
     "metadata": {},
     "output_type": "execute_result"
    }
   ],
   "source": [
    "simulations.head()"
   ]
  },
  {
   "cell_type": "code",
   "execution_count": 24,
   "metadata": {},
   "outputs": [],
   "source": [
    "#simulations[simulations['accuracy'] == 0]"
   ]
  },
  {
   "cell_type": "code",
   "execution_count": 3,
   "metadata": {},
   "outputs": [],
   "source": [
    "#simulations.to_csv('../data/df_crowded.csv', index=False)"
   ]
  },
  {
   "cell_type": "markdown",
   "metadata": {},
   "source": [
    "--- \n",
    "### Read the experiment"
   ]
  },
  {
   "cell_type": "code",
   "execution_count": 6,
   "metadata": {},
   "outputs": [],
   "source": [
    "df_sim = pd.read_csv('../../crowdED/data/20181014_19:07 - simulations.csv')"
   ]
  },
  {
   "cell_type": "code",
   "execution_count": 10,
   "metadata": {},
   "outputs": [
    {
     "data": {
      "text/html": [
       "<div>\n",
       "<style scoped>\n",
       "    .dataframe tbody tr th:only-of-type {\n",
       "        vertical-align: middle;\n",
       "    }\n",
       "\n",
       "    .dataframe tbody tr th {\n",
       "        vertical-align: top;\n",
       "    }\n",
       "\n",
       "    .dataframe thead th {\n",
       "        text-align: right;\n",
       "    }\n",
       "</style>\n",
       "<table border=\"1\" class=\"dataframe\">\n",
       "  <thead>\n",
       "    <tr style=\"text-align: right;\">\n",
       "      <th></th>\n",
       "      <th>total_tasks</th>\n",
       "      <th>total_workers</th>\n",
       "      <th>proportion_hard_tasks</th>\n",
       "      <th>proportion_train_tasks</th>\n",
       "      <th>workers_per_task</th>\n",
       "      <th>total_keys</th>\n",
       "      <th>accuracy</th>\n",
       "    </tr>\n",
       "  </thead>\n",
       "  <tbody>\n",
       "    <tr>\n",
       "      <th>2882</th>\n",
       "      <td>80</td>\n",
       "      <td>70</td>\n",
       "      <td>0.2</td>\n",
       "      <td>0.2</td>\n",
       "      <td>3</td>\n",
       "      <td>7</td>\n",
       "      <td>1.0000</td>\n",
       "    </tr>\n",
       "    <tr>\n",
       "      <th>482</th>\n",
       "      <td>60</td>\n",
       "      <td>50</td>\n",
       "      <td>0.2</td>\n",
       "      <td>0.2</td>\n",
       "      <td>3</td>\n",
       "      <td>7</td>\n",
       "      <td>1.0000</td>\n",
       "    </tr>\n",
       "    <tr>\n",
       "      <th>481</th>\n",
       "      <td>60</td>\n",
       "      <td>50</td>\n",
       "      <td>0.2</td>\n",
       "      <td>0.2</td>\n",
       "      <td>3</td>\n",
       "      <td>5</td>\n",
       "      <td>1.0000</td>\n",
       "    </tr>\n",
       "    <tr>\n",
       "      <th>992</th>\n",
       "      <td>60</td>\n",
       "      <td>70</td>\n",
       "      <td>0.2</td>\n",
       "      <td>0.6</td>\n",
       "      <td>3</td>\n",
       "      <td>7</td>\n",
       "      <td>0.9944</td>\n",
       "    </tr>\n",
       "    <tr>\n",
       "      <th>527</th>\n",
       "      <td>60</td>\n",
       "      <td>50</td>\n",
       "      <td>0.2</td>\n",
       "      <td>0.8</td>\n",
       "      <td>3</td>\n",
       "      <td>7</td>\n",
       "      <td>0.9944</td>\n",
       "    </tr>\n",
       "  </tbody>\n",
       "</table>\n",
       "</div>"
      ],
      "text/plain": [
       "      total_tasks  total_workers  proportion_hard_tasks  \\\n",
       "2882           80             70                    0.2   \n",
       "482            60             50                    0.2   \n",
       "481            60             50                    0.2   \n",
       "992            60             70                    0.2   \n",
       "527            60             50                    0.2   \n",
       "\n",
       "      proportion_train_tasks  workers_per_task  total_keys  accuracy  \n",
       "2882                     0.2                 3           7    1.0000  \n",
       "482                      0.2                 3           7    1.0000  \n",
       "481                      0.2                 3           5    1.0000  \n",
       "992                      0.6                 3           7    0.9944  \n",
       "527                      0.8                 3           7    0.9944  "
      ]
     },
     "execution_count": 10,
     "metadata": {},
     "output_type": "execute_result"
    }
   ],
   "source": [
    "df_sim.sort_values('accuracy', ascending=False).head(5)"
   ]
  },
  {
   "cell_type": "code",
   "execution_count": 4,
   "metadata": {},
   "outputs": [
    {
     "data": {
      "text/plain": [
       "0.03420138888888889"
      ]
     },
     "execution_count": 4,
     "metadata": {},
     "output_type": "execute_result"
    }
   ],
   "source": [
    "len(df_sim[df_sim['accuracy'] == 0]) / len(df_sim)"
   ]
  },
  {
   "cell_type": "code",
   "execution_count": 12,
   "metadata": {},
   "outputs": [
    {
     "data": {
      "text/plain": [
       "23040"
      ]
     },
     "execution_count": 12,
     "metadata": {},
     "output_type": "execute_result"
    }
   ],
   "source": [
    "len(df_sim)"
   ]
  },
  {
   "cell_type": "code",
   "execution_count": 18,
   "metadata": {},
   "outputs": [],
   "source": [
    "import seaborn as sns"
   ]
  },
  {
   "cell_type": "code",
   "execution_count": 11,
   "metadata": {},
   "outputs": [
    {
     "data": {
      "text/plain": [
       "<matplotlib.axes._subplots.AxesSubplot at 0x1a15fd3518>"
      ]
     },
     "execution_count": 11,
     "metadata": {},
     "output_type": "execute_result"
    },
    {
     "data": {
      "image/png": "[encoded data removed]",
      "text/plain": [
       "<Figure size 432x288 with 1 Axes>"
      ]
     },
     "metadata": {},
     "output_type": "display_data"
    }
   ],
   "source": [
    "sns.kdeplot(df_sim['accuracy'], shade=True, color=\"r\")"
   ]
  },
  {
   "cell_type": "code",
   "execution_count": 14,
   "metadata": {},
   "outputs": [
    {
     "data": {
      "text/plain": [
       "Index(['total_tasks', 'total_workers', 'proportion_hard_tasks',\n",
       "       'proportion_train_tasks', 'workers_per_task', 'total_keys', 'alpha',\n",
       "       'accuracy'],\n",
       "      dtype='object')"
      ]
     },
     "execution_count": 14,
     "metadata": {},
     "output_type": "execute_result"
    }
   ],
   "source": [
    "df_sim.columns\n"
   ]
  },
  {
   "cell_type": "code",
   "execution_count": 11,
   "metadata": {},
   "outputs": [],
   "source": [
    "#df_sim.sort_values('accuracy', ascending=False)"
   ]
  },
  {
   "cell_type": "code",
   "execution_count": 12,
   "metadata": {},
   "outputs": [],
   "source": [
    "#sns.kdeplot(df_sim['total_tasks'])"
   ]
  },
  {
   "cell_type": "code",
   "execution_count": 13,
   "metadata": {},
   "outputs": [],
   "source": [
    "top = df_sim.sort_values('accuracy', ascending=False).head(100)"
   ]
  },
  {
   "cell_type": "code",
   "execution_count": 16,
   "metadata": {},
   "outputs": [
    {
     "data": {
      "text/plain": [
       "15360"
      ]
     },
     "execution_count": 16,
     "metadata": {},
     "output_type": "execute_result"
    }
   ],
   "source": [
    "len(df_sim)"
   ]
  },
  {
   "cell_type": "code",
   "execution_count": 15,
   "metadata": {},
   "outputs": [],
   "source": [
    "#top"
   ]
  },
  {
   "cell_type": "code",
   "execution_count": 13,
   "metadata": {},
   "outputs": [
    {
     "data": {
      "text/plain": [
       "<matplotlib.axes._subplots.AxesSubplot at 0x115d43b70>"
      ]
     },
     "execution_count": 13,
     "metadata": {},
     "output_type": "execute_result"
    },
    {
     "data": {
      "image/png": "[encoded data removed]",
      "text/plain": [
       "<Figure size 432x288 with 1 Axes>"
      ]
     },
     "metadata": {},
     "output_type": "display_data"
    }
   ],
   "source": [
    "sns.kdeplot(top['total_tasks'])"
   ]
  },
  {
   "cell_type": "code",
   "execution_count": 14,
   "metadata": {},
   "outputs": [
    {
     "data": {
      "text/plain": [
       "<matplotlib.axes._subplots.AxesSubplot at 0x11898fc88>"
      ]
     },
     "execution_count": 14,
     "metadata": {},
     "output_type": "execute_result"
    },
    {
     "data": {
      "image/png": "[encoded data removed]",
      "text/plain": [
       "<Figure size 432x288 with 1 Axes>"
      ]
     },
     "metadata": {},
     "output_type": "display_data"
    }
   ],
   "source": [
    "sns.kdeplot(top['total_workers'])"
   ]
  },
  {
   "cell_type": "code",
   "execution_count": 32,
   "metadata": {},
   "outputs": [
    {
     "data": {
      "text/plain": [
       "<matplotlib.axes._subplots.AxesSubplot at 0x1a21c5e4e0>"
      ]
     },
     "execution_count": 32,
     "metadata": {},
     "output_type": "execute_result"
    },
    {
     "data": {
      "image/png": "[encoded data removed]",
      "text/plain": [
       "<Figure size 432x288 with 1 Axes>"
      ]
     },
     "metadata": {},
     "output_type": "display_data"
    }
   ],
   "source": [
    "sns.kdeplot(top['total_tasks'], top['total_workers'])"
   ]
  },
  {
   "cell_type": "code",
   "execution_count": 20,
   "metadata": {},
   "outputs": [
    {
     "data": {
      "text/plain": [
       "<matplotlib.axes._subplots.AxesSubplot at 0x1a1ac7f2e8>"
      ]
     },
     "execution_count": 20,
     "metadata": {},
     "output_type": "execute_result"
    },
    {
     "data": {
      "image/png": "[encoded data removed]",
      "text/plain": [
       "<Figure size 432x288 with 1 Axes>"
      ]
     },
     "metadata": {},
     "output_type": "display_data"
    }
   ],
   "source": [
    "sns.kdeplot((top['total_workers']/top['total_tasks']), top['proportion_train_tasks'])"
   ]
  },
  {
   "cell_type": "code",
   "execution_count": null,
   "metadata": {},
   "outputs": [],
   "source": [
    "4 per 10 the best is train 20% od tasks"
   ]
  },
  {
   "cell_type": "code",
   "execution_count": null,
   "metadata": {},
   "outputs": [],
   "source": []
  },
  {
   "cell_type": "code",
   "execution_count": 33,
   "metadata": {},
   "outputs": [
    {
     "data": {
      "text/plain": [
       "<matplotlib.axes._subplots.AxesSubplot at 0x1a223def60>"
      ]
     },
     "execution_count": 33,
     "metadata": {},
     "output_type": "execute_result"
    },
    {
     "data": {
      "image/png": "[encoded data removed]",
      "text/plain": [
       "<Figure size 432x288 with 1 Axes>"
      ]
     },
     "metadata": {},
     "output_type": "display_data"
    }
   ],
   "source": [
    "sns.kdeplot(top['proportion_hard_tasks'],top['proportion_train_tasks'])"
   ]
  },
  {
   "cell_type": "code",
   "execution_count": 31,
   "metadata": {},
   "outputs": [
    {
     "data": {
      "text/plain": [
       "<matplotlib.axes._subplots.AxesSubplot at 0x1a222556d8>"
      ]
     },
     "execution_count": 31,
     "metadata": {},
     "output_type": "execute_result"
    },
    {
     "data": {
      "image/png": "[encoded data removed]",
      "text/plain": [
       "<Figure size 432x288 with 1 Axes>"
      ]
     },
     "metadata": {},
     "output_type": "display_data"
    }
   ],
   "source": [
    "sns.kdeplot(top['workers_per_task'],top['total_keys'])"
   ]
  },
  {
   "cell_type": "code",
   "execution_count": 30,
   "metadata": {},
   "outputs": [
    {
     "data": {
      "text/plain": [
       "<matplotlib.axes._subplots.AxesSubplot at 0x1a21ea4e80>"
      ]
     },
     "execution_count": 30,
     "metadata": {},
     "output_type": "execute_result"
    },
    {
     "data": {
      "image/png": "[encoded data removed]",
      "text/plain": [
       "<Figure size 432x288 with 1 Axes>"
      ]
     },
     "metadata": {},
     "output_type": "display_data"
    }
   ],
   "source": [
    "sns.kdeplot(top['alpha'])"
   ]
  },
  {
   "cell_type": "code",
   "execution_count": null,
   "metadata": {},
   "outputs": [],
   "source": []
  }
 ],
 "metadata": {
  "kernelspec": {
   "display_name": "Python 3",
   "language": "python",
   "name": "python3"
  },
  "language_info": {
   "codemirror_mode": {
    "name": "ipython",
    "version": 3
   },
   "file_extension": ".py",
   "mimetype": "text/x-python",
   "name": "python",
   "nbconvert_exporter": "python",
   "pygments_lexer": "ipython3",
   "version": "3.6.5"
  }
 },
 "nbformat": 4,
 "nbformat_minor": 2
}
